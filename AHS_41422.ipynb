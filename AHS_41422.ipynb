{
 "cells": [
  {
   "cell_type": "markdown",
   "metadata": {},
   "source": [
    "## DS 5110\n",
    "## 5.11: Final Project Assignment\n",
    "### Anahita Sharma (ahs3zq), Anna Landi (aol4h), Zach Jacokes (zj6nw)"
   ]
  },
  {
   "cell_type": "code",
   "execution_count": 1,
   "metadata": {},
   "outputs": [],
   "source": [
    "import numpy as np\n",
    "import pandas as pd\n",
    "import re\n",
    "import os\n",
    "from pyspark.sql import SparkSession"
   ]
  },
  {
   "cell_type": "code",
   "execution_count": 2,
   "metadata": {},
   "outputs": [],
   "source": [
    "spark = SparkSession.builder.getOrCreate()\n",
    "sc = spark.sparkContext"
   ]
  },
  {
   "cell_type": "markdown",
   "metadata": {},
   "source": [
    "## Data Cleaning"
   ]
  },
  {
   "cell_type": "code",
   "execution_count": 3,
   "metadata": {},
   "outputs": [
    {
     "data": {
      "text/html": [
       "<div>\n",
       "<style scoped>\n",
       "    .dataframe tbody tr th:only-of-type {\n",
       "        vertical-align: middle;\n",
       "    }\n",
       "\n",
       "    .dataframe tbody tr th {\n",
       "        vertical-align: top;\n",
       "    }\n",
       "\n",
       "    .dataframe thead th {\n",
       "        text-align: right;\n",
       "    }\n",
       "</style>\n",
       "<table border=\"1\" class=\"dataframe\">\n",
       "  <thead>\n",
       "    <tr style=\"text-align: right;\">\n",
       "      <th></th>\n",
       "      <th>Group</th>\n",
       "      <th>1: Local ED / 2: Regional ED</th>\n",
       "    </tr>\n",
       "  </thead>\n",
       "  <tbody>\n",
       "    <tr>\n",
       "      <th>0</th>\n",
       "      <td>Sex</td>\n",
       "      <td>1: Female / 2: Male</td>\n",
       "    </tr>\n",
       "    <tr>\n",
       "      <th>1</th>\n",
       "      <td>Age</td>\n",
       "      <td>Age (Years)</td>\n",
       "    </tr>\n",
       "    <tr>\n",
       "      <th>2</th>\n",
       "      <td>Patients number per hour</td>\n",
       "      <td>Patients number/hous</td>\n",
       "    </tr>\n",
       "    <tr>\n",
       "      <th>3</th>\n",
       "      <td>Arrival mode</td>\n",
       "      <td>1: Walking / 2: 119 use / 3: Private car / 4: ...</td>\n",
       "    </tr>\n",
       "    <tr>\n",
       "      <th>4</th>\n",
       "      <td>Injury</td>\n",
       "      <td>1: Non-injury / 2: Injury</td>\n",
       "    </tr>\n",
       "    <tr>\n",
       "      <th>5</th>\n",
       "      <td>Mental</td>\n",
       "      <td>1: Alert / 2: Verval response / 3: Pain respon...</td>\n",
       "    </tr>\n",
       "    <tr>\n",
       "      <th>6</th>\n",
       "      <td>Pain</td>\n",
       "      <td>1: Pain / 2: Non-pain</td>\n",
       "    </tr>\n",
       "    <tr>\n",
       "      <th>7</th>\n",
       "      <td>NRS_pain</td>\n",
       "      <td>Numeric rating scales of pain</td>\n",
       "    </tr>\n",
       "    <tr>\n",
       "      <th>8</th>\n",
       "      <td>SBP</td>\n",
       "      <td>Systolid blood pressure</td>\n",
       "    </tr>\n",
       "    <tr>\n",
       "      <th>9</th>\n",
       "      <td>DBP</td>\n",
       "      <td>Diastolic blood pressure</td>\n",
       "    </tr>\n",
       "    <tr>\n",
       "      <th>10</th>\n",
       "      <td>HR</td>\n",
       "      <td>Heart rate</td>\n",
       "    </tr>\n",
       "    <tr>\n",
       "      <th>11</th>\n",
       "      <td>RR</td>\n",
       "      <td>Respiration rate</td>\n",
       "    </tr>\n",
       "    <tr>\n",
       "      <th>12</th>\n",
       "      <td>BT</td>\n",
       "      <td>Body temperature</td>\n",
       "    </tr>\n",
       "    <tr>\n",
       "      <th>13</th>\n",
       "      <td>Saturation</td>\n",
       "      <td>Saturation to use pulse oxmeter</td>\n",
       "    </tr>\n",
       "    <tr>\n",
       "      <th>14</th>\n",
       "      <td>KTAS_RN</td>\n",
       "      <td>KTAS result of nuses in ED</td>\n",
       "    </tr>\n",
       "    <tr>\n",
       "      <th>15</th>\n",
       "      <td>Disposition</td>\n",
       "      <td>1: Discharge / 2: Ward admission / 3: ICU admi...</td>\n",
       "    </tr>\n",
       "    <tr>\n",
       "      <th>16</th>\n",
       "      <td>KTAS_expert</td>\n",
       "      <td>KTAS result of experts</td>\n",
       "    </tr>\n",
       "    <tr>\n",
       "      <th>17</th>\n",
       "      <td>Error_group</td>\n",
       "      <td>1: Vital sign / 2: Physical exam / 3: Psychatr...</td>\n",
       "    </tr>\n",
       "    <tr>\n",
       "      <th>18</th>\n",
       "      <td>Length of stay_min</td>\n",
       "      <td>Length of stay (minutes)</td>\n",
       "    </tr>\n",
       "    <tr>\n",
       "      <th>19</th>\n",
       "      <td>KTAS duration_min</td>\n",
       "      <td>KTAS duration (minutes)</td>\n",
       "    </tr>\n",
       "    <tr>\n",
       "      <th>20</th>\n",
       "      <td>Mistriage</td>\n",
       "      <td>0: Correct / 1: Over triage / 2: Under triage</td>\n",
       "    </tr>\n",
       "  </tbody>\n",
       "</table>\n",
       "</div>"
      ],
      "text/plain": [
       "                       Group  \\\n",
       "0                        Sex   \n",
       "1                       Age    \n",
       "2   Patients number per hour   \n",
       "3               Arrival mode   \n",
       "4                     Injury   \n",
       "5                    Mental    \n",
       "6                      Pain    \n",
       "7                   NRS_pain   \n",
       "8                        SBP   \n",
       "9                        DBP   \n",
       "10                        HR   \n",
       "11                        RR   \n",
       "12                        BT   \n",
       "13                Saturation   \n",
       "14                   KTAS_RN   \n",
       "15               Disposition   \n",
       "16               KTAS_expert   \n",
       "17               Error_group   \n",
       "18        Length of stay_min   \n",
       "19         KTAS duration_min   \n",
       "20                 Mistriage   \n",
       "\n",
       "                         1: Local ED / 2: Regional ED  \n",
       "0                                 1: Female / 2: Male  \n",
       "1                                         Age (Years)  \n",
       "2                                Patients number/hous  \n",
       "3   1: Walking / 2: 119 use / 3: Private car / 4: ...  \n",
       "4                           1: Non-injury / 2: Injury  \n",
       "5   1: Alert / 2: Verval response / 3: Pain respon...  \n",
       "6                               1: Pain / 2: Non-pain  \n",
       "7                       Numeric rating scales of pain  \n",
       "8                             Systolid blood pressure  \n",
       "9                            Diastolic blood pressure  \n",
       "10                                         Heart rate  \n",
       "11                                   Respiration rate  \n",
       "12                                   Body temperature  \n",
       "13                    Saturation to use pulse oxmeter  \n",
       "14                         KTAS result of nuses in ED  \n",
       "15  1: Discharge / 2: Ward admission / 3: ICU admi...  \n",
       "16                             KTAS result of experts  \n",
       "17  1: Vital sign / 2: Physical exam / 3: Psychatr...  \n",
       "18                           Length of stay (minutes)  \n",
       "19                            KTAS duration (minutes)  \n",
       "20      0: Correct / 1: Over triage / 2: Under triage  "
      ]
     },
     "execution_count": 3,
     "metadata": {},
     "output_type": "execute_result"
    }
   ],
   "source": [
    "pd.read_csv(\"/project/ds5559/group2_triage/ds5110_final_project/data_dictionary.csv\")"
   ]
  },
  {
   "cell_type": "code",
   "execution_count": 4,
   "metadata": {},
   "outputs": [
    {
     "data": {
      "text/plain": [
       "['Group,Sex,Age,Patients number per hour,Arrival mode,Injury,Chief_complain,Mental,Pain,NRS_pain,SBP,DBP,HR,RR,BT,Saturation,KTAS_RN,Diagnosis in ED,Disposition,KTAS_expert,Error_group,Length of stay_min,KTAS duration_min,mistriage',\n",
       " '2,2,71,3,3,2,right ocular pain,1,1,2,160,100,84,18,36.6,100,2,Corneal abrasion,1,4,2,86,5.00,1',\n",
       " '1,1,56,12,3,2,right forearm burn,1,1,2,137,75,60,20,36.5,,4,\"Burn of hand, firts degree dorsum\",1,5,4,64,3.95,1',\n",
       " '2,1,68,8,2,2,\"arm pain, Lt\",1,1,2,130,80,102,20,36.6,98,4,\"Fracture of surgical neck of humerus, closed\",2,5,4,862,1.00,1',\n",
       " '1,2,71,8,1,1,ascites tapping,1,1,3,139,94,88,20,36.5,,4,Alcoholic liver cirrhosis with ascites,1,5,6,108,9.83,1']"
      ]
     },
     "execution_count": 4,
     "metadata": {},
     "output_type": "execute_result"
    }
   ],
   "source": [
    "encounters = sc.textFile(\"/project/ds5559/group2_triage/ds5110_final_project/triage_data.csv\")\n",
    "encounters.take(5)"
   ]
  },
  {
   "cell_type": "code",
   "execution_count": 5,
   "metadata": {},
   "outputs": [
    {
     "name": "stdout",
     "output_type": "stream",
     "text": [
      "+-----+---+---+------------------------+------------+------+--------------------+------+----+--------+---+---+---+---+----+----------+-------+--------------------+-----------+-----------+-----------+------------------+-----------------+---------+\n",
      "|Group|Sex|Age|Patients number per hour|Arrival mode|Injury|      Chief_complain|Mental|Pain|NRS_pain|SBP|DBP| HR| RR|  BT|Saturation|KTAS_RN|     Diagnosis in ED|Disposition|KTAS_expert|Error_group|Length of stay_min|KTAS duration_min|mistriage|\n",
      "+-----+---+---+------------------------+------------+------+--------------------+------+----+--------+---+---+---+---+----+----------+-------+--------------------+-----------+-----------+-----------+------------------+-----------------+---------+\n",
      "|    2|  2| 71|                       3|           3|     2|   right ocular pain|     1|   1|       2|160|100| 84| 18|36.6|       100|      2|    Corneal abrasion|          1|          4|          2|                86|             5.00|        1|\n",
      "|    1|  1| 56|                      12|           3|     2|  right forearm burn|     1|   1|       2|137| 75| 60| 20|36.5|      null|      4|Burn of hand, fir...|          1|          5|          4|                64|             3.95|        1|\n",
      "|    2|  1| 68|                       8|           2|     2|        arm pain, Lt|     1|   1|       2|130| 80|102| 20|36.6|        98|      4|Fracture of surgi...|          2|          5|          4|               862|             1.00|        1|\n",
      "|    1|  2| 71|                       8|           1|     1|     ascites tapping|     1|   1|       3|139| 94| 88| 20|36.5|      null|      4|Alcoholic liver c...|          1|          5|          6|               108|             9.83|        1|\n",
      "|    1|  2| 58|                       4|           3|     1|     distension, abd|     1|   1|       3| 91| 67| 93| 18|36.5|      null|      4|             Ascites|          1|          5|          8|               109|             6.60|        1|\n",
      "|    2|  1| 54|                       6|           4|     1|               fever|     1|   1|       3|140| 90| 94| 20|38.1|        98|      3|  Fever, unspecified|          2|          4|          1|              9246|             2.00|        1|\n",
      "|    2|  2| 49|                      11|           3|     1|With chest discom...|     1|   1|       3|110| 70| 70| 20|36.2|        98|      2|Angina pectoris, ...|          1|          3|          2|               400|             3.00|        1|\n",
      "|    1|  2| 78|                      14|           3|     1|         pain, chest|     1|   1|       3|169| 86| 80| 20|  36|      null|      2|Acute coronary sy...|          1|          3|          2|               247|            10.23|        1|\n",
      "|    1|  2| 32|                      10|           3|     1| LBP - Low back pain|     1|   1|       3|140| 75| 91| 20|36.6|      null|      4|Herniated disc di...|          1|          5|          4|                59|             3.23|        1|\n",
      "|    2|  1| 38|                       6|           3|     1|      Eczema, Eyelid|     1|   1|       3|130| 80| 80| 20|36.3|        97|      4|         Ocular pain|          1|          5|          4|               185|             4.00|        1|\n",
      "+-----+---+---+------------------------+------------+------+--------------------+------+----+--------+---+---+---+---+----+----------+-------+--------------------+-----------+-----------+-----------+------------------+-----------------+---------+\n",
      "only showing top 10 rows\n",
      "\n"
     ]
    }
   ],
   "source": [
    "spark.read.csv(\"/project/ds5559/group2_triage/ds5110_final_project/triage_data.csv\", header = True).show(10)"
   ]
  },
  {
   "cell_type": "code",
   "execution_count": 6,
   "metadata": {},
   "outputs": [],
   "source": [
    "header = encounters.first()\n",
    "encounters_no_header = encounters.filter(lambda x: header != x)"
   ]
  },
  {
   "cell_type": "code",
   "execution_count": 7,
   "metadata": {},
   "outputs": [
    {
     "data": {
      "text/plain": [
       "'Group,Sex,Age,Patients number per hour,Arrival mode,Injury,Chief_complain,Mental,Pain,NRS_pain,SBP,DBP,HR,RR,BT,Saturation,KTAS_RN,Diagnosis in ED,Disposition,KTAS_expert,Error_group,Length of stay_min,KTAS duration_min,mistriage'"
      ]
     },
     "execution_count": 7,
     "metadata": {},
     "output_type": "execute_result"
    }
   ],
   "source": [
    "header"
   ]
  },
  {
   "cell_type": "code",
   "execution_count": 8,
   "metadata": {},
   "outputs": [
    {
     "data": {
      "text/plain": [
       "['2,2,71,3,3,2,right ocular pain,1,1,2,160,100,84,18,36.6,100,2,Corneal abrasion,1,4,2,86,5.00,1',\n",
       " '1,1,56,12,3,2,right forearm burn,1,1,2,137,75,60,20,36.5,,4,\"Burn of hand, firts degree dorsum\",1,5,4,64,3.95,1',\n",
       " '2,1,68,8,2,2,\"arm pain, Lt\",1,1,2,130,80,102,20,36.6,98,4,\"Fracture of surgical neck of humerus, closed\",2,5,4,862,1.00,1',\n",
       " '1,2,71,8,1,1,ascites tapping,1,1,3,139,94,88,20,36.5,,4,Alcoholic liver cirrhosis with ascites,1,5,6,108,9.83,1',\n",
       " '1,2,58,4,3,1,\"distension, abd\",1,1,3,91,67,93,18,36.5,,4,Ascites,1,5,8,109,6.60,1']"
      ]
     },
     "execution_count": 8,
     "metadata": {},
     "output_type": "execute_result"
    }
   ],
   "source": [
    "encounters_no_header.take(5)"
   ]
  },
  {
   "cell_type": "code",
   "execution_count": 9,
   "metadata": {},
   "outputs": [
    {
     "data": {
      "text/plain": [
       "6"
      ]
     },
     "execution_count": 9,
     "metadata": {},
     "output_type": "execute_result"
    }
   ],
   "source": [
    "index_cc = header.split(\",\").index(\"Chief_complain\")\n",
    "index_cc"
   ]
  },
  {
   "cell_type": "code",
   "execution_count": 10,
   "metadata": {},
   "outputs": [
    {
     "data": {
      "text/plain": [
       "['2,2,71,3,3,2,right ocular pain,1,1,2,160,100,84,18,36.6,100,2,corneal abrasion,1,4,2,86,5.00,1',\n",
       " '1,1,56,12,3,2,right forearm burn,1,1,2,137,75,60,20,36.5,,4,\"burn of hand, firts degree dorsum\",1,5,4,64,3.95,1',\n",
       " '2,1,68,8,2,2,\"arm pain, lt\",1,1,2,130,80,102,20,36.6,98,4,\"fracture of surgical neck of humerus, closed\",2,5,4,862,1.00,1',\n",
       " '1,2,71,8,1,1,ascites tapping,1,1,3,139,94,88,20,36.5,,4,alcoholic liver cirrhosis with ascites,1,5,6,108,9.83,1',\n",
       " '1,2,58,4,3,1,\"distension, abd\",1,1,3,91,67,93,18,36.5,,4,ascites,1,5,8,109,6.60,1']"
      ]
     },
     "execution_count": 10,
     "metadata": {},
     "output_type": "execute_result"
    }
   ],
   "source": [
    "encounters_lower = encounters_no_header.map(lambda x: x.lower())\n",
    "encounters_lower.take(5)"
   ]
  },
  {
   "cell_type": "code",
   "execution_count": 11,
   "metadata": {},
   "outputs": [
    {
     "data": {
      "text/plain": [
       "['2,2,71,3,3,2,right ocular pain,1,1,2,160,100,84,18,36.6,100,2,corneal abrasion,1,4,2,86,5.00,1',\n",
       " '1,1,56,12,3,2,right forearm burn,1,1,2,137,75,60,20,36.5,,4,\"burn of hand, firts degree dorsum\",1,5,4,64,3.95,1',\n",
       " '2,1,68,8,2,2,\"arm pain, lt\",1,1,2,130,80,102,20,36.6,98,4,\"fracture of surgical neck of humerus, closed\",2,5,4,862,1.00,1',\n",
       " '1,2,71,8,1,1,ascites tapping,1,1,3,139,94,88,20,36.5,,4,alcoholic liver cirrhosis with ascites,1,5,6,108,9.83,1',\n",
       " '1,2,58,4,3,1,\"distension, abd\",1,1,3,91,67,93,18,36.5,,4,ascites,1,5,8,109,6.60,1',\n",
       " '2,1,54,6,4,1,fever,1,1,3,140,90,94,20,38.1,98,3,\"fever, unspecified\",2,4,1,9246,2.00,1',\n",
       " '2,2,49,11,3,1,with chest discomfort,1,1,3,110,70,70,20,36.2,98,2,\"angina pectoris, unspecified\",1,3,2,400,3.00,1',\n",
       " '1,2,78,14,3,1,\"pain, chest\",1,1,3,169,86,80,20,36,,2,acute coronary syndrome,1,3,2,247,10.23,1',\n",
       " '1,2,32,10,3,1,lbp - low back pain,1,1,3,140,75,91,20,36.6,,4,herniated disc disease of lumbar spine with radiculopathy,1,5,4,59,3.23,1',\n",
       " '2,1,38,6,3,1,\"eczema, eyelid\",1,1,3,130,80,80,20,36.3,97,4,ocular pain,1,5,4,185,4.00,1',\n",
       " '1,2,43,3,3,1,acute epigastric pain,1,1,3,148,104,72,16,36.5,,3,acute gastritis,1,4,4,176,7.53,1',\n",
       " '1,2,45,3,3,1,\"pain, leg\",1,1,3,141,81,86,18,36.6,,4,gout site unspecified,1,5,4,45,7.15,1',\n",
       " '2,1,53,10,3,1,epigastric pain,1,1,3,120,80,106,20,36.2,98,3,infectious or septic colitis,1,4,4,8067,5.00,1',\n",
       " '1,2,55,9,3,1,abd pain,1,1,3,121,78,80,20,36.4,,2,acute peritonitis,2,4,4,217,8.00,1',\n",
       " '1,2,58,4,3,1,headache,1,1,3,135,82,106,20,37.6,,3,infective endocarditis,2,4,4,1318,9.88,1',\n",
       " '2,1,65,12,4,1,headache,1,1,3,140,100,80,20,36.0,98,3,\"subarachnoid haemorrhage, unspecified\",2,4,4,153,3.00,1',\n",
       " '1,2,69,11,2,1,설사,1,1,4,121,76,85,20,37.4,,3,acute gastroenteritis,1,4,1,363,10.53,1',\n",
       " '2,2,53,12,2,2,open wound,1,1,4,130,80,100,20,36.4,97,2,\"open wound of other parts of head, face\",2,3,2,613,4.00,1',\n",
       " '2,1,20,10,3,1,ruq pain,1,1,4,100,60,90,20,36.4,98,2,hepatitis nos,1,3,4,745,4.00,1',\n",
       " '1,2,38,3,2,1,gingival swelling,1,1,4,133,93,109,16,36.5,,3,odontogenic infection,1,4,4,349,12.45,1',\n",
       " '2,1,79,3,4,2,chin pain,1,1,4,110,70,80,20,36.2,98,3,\"closed fracture of humerus, nos\",2,4,4,8199,3.00,1',\n",
       " '1,2,20,12,3,2,finger injury,1,1,5,140,62,68,20,36.5,,3,dislocation of finger,1,4,2,105,10.23,1',\n",
       " '1,1,24,4,3,1,skin rash,1,1,5,110,66,125,20,37,,2,anaphylaxis,1,3,2,118,9.48,1',\n",
       " '2,2,59,8,4,1,rt. side motor weakness,1,1,5,140,80,88,20,36.5,97,2,\"intracranial haemorrhage (nontraumatic), unspecified\",2,3,2,143,4.00,1',\n",
       " '1,2,77,6,2,1,lt. hip joint pain,1,1,5,124,72,94,16,37.1,,3,\"fracture of femur, intertrochanter closed\",5,4,2,599,5.50,1',\n",
       " '1,2,37,6,2,2,face laceration,2,1,5,118,79,76,20,36.8,,3,acute intoxication of alcohol,1,4,4,553,8.78,1',\n",
       " '2,1,62,2,3,1,throat pain,1,1,6,140,90,98,22,36.8,98,2,acute epiglottitis without obstruction,2,3,4,1242,4.00,1',\n",
       " '2,2,74,12,4,2,chest wall pain right,1,1,8,80,50,98,22,36.1,98,1,\"multiple fracture of involving three ribs,closed\",2,2,1,207,4.00,1']"
      ]
     },
     "execution_count": 11,
     "metadata": {},
     "output_type": "execute_result"
    }
   ],
   "source": [
    "encounters_lower.take(28)"
   ]
  },
  {
   "cell_type": "code",
   "execution_count": 12,
   "metadata": {},
   "outputs": [
    {
     "data": {
      "text/plain": [
       "['2,2,71,3,3,2,right ocular pain,1,1,2,160,100,84,18,36.6,100,2,corneal abrasion,1,4,2,86,5.00,1',\n",
       " '1,1,56,12,3,2,right forearm burn,1,1,2,137,75,60,20,36.5,,4,\"burn of hand;firts degree dorsum\",1,5,4,64,3.95,1',\n",
       " '2,1,68,8,2,2,\"arm pain, lt\",1,1,2,130,80,102,20,36.6,98,4,\"fracture of surgical neck of humerus;closed\",2,5,4,862,1.00,1',\n",
       " '1,2,71,8,1,1,ascites tapping,1,1,3,139,94,88,20,36.5,,4,alcoholic liver cirrhosis with ascites,1,5,6,108,9.83,1',\n",
       " '1,2,58,4,3,1,\"distension;abd\",1,1,3,91,67,93,18,36.5,,4,ascites,1,5,8,109,6.60,1',\n",
       " '2,1,54,6,4,1,fever,1,1,3,140,90,94,20,38.1,98,3,\"fever;unspecified\",2,4,1,9246,2.00,1',\n",
       " '2,2,49,11,3,1,with chest discomfort,1,1,3,110,70,70,20,36.2,98,2,\"angina pectoris;unspecified\",1,3,2,400,3.00,1',\n",
       " '1,2,78,14,3,1,\"pain;chest\",1,1,3,169,86,80,20,36,,2,acute coronary syndrome,1,3,2,247,10.23,1',\n",
       " '1,2,32,10,3,1,lbp - low back pain,1,1,3,140,75,91,20,36.6,,4,herniated disc disease of lumbar spine with radiculopathy,1,5,4,59,3.23,1',\n",
       " '2,1,38,6,3,1,\"eczema;eyelid\",1,1,3,130,80,80,20,36.3,97,4,ocular pain,1,5,4,185,4.00,1',\n",
       " '1,2,43,3,3,1,acute epigastric pain,1,1,3,148,104,72,16,36.5,,3,acute gastritis,1,4,4,176,7.53,1',\n",
       " '1,2,45,3,3,1,\"pain;leg\",1,1,3,141,81,86,18,36.6,,4,gout site unspecified,1,5,4,45,7.15,1',\n",
       " '2,1,53,10,3,1,epigastric pain,1,1,3,120,80,106,20,36.2,98,3,infectious or septic colitis,1,4,4,8067,5.00,1',\n",
       " '1,2,55,9,3,1,abd pain,1,1,3,121,78,80,20,36.4,,2,acute peritonitis,2,4,4,217,8.00,1',\n",
       " '1,2,58,4,3,1,headache,1,1,3,135,82,106,20,37.6,,3,infective endocarditis,2,4,4,1318,9.88,1',\n",
       " '2,1,65,12,4,1,headache,1,1,3,140,100,80,20,36.0,98,3,\"subarachnoid haemorrhage;unspecified\",2,4,4,153,3.00,1',\n",
       " '1,2,69,11,2,1,설사,1,1,4,121,76,85,20,37.4,,3,acute gastroenteritis,1,4,1,363,10.53,1',\n",
       " '2,2,53,12,2,2,open wound,1,1,4,130,80,100,20,36.4,97,2,\"open wound of other parts of head;face\",2,3,2,613,4.00,1',\n",
       " '2,1,20,10,3,1,ruq pain,1,1,4,100,60,90,20,36.4,98,2,hepatitis nos,1,3,4,745,4.00,1',\n",
       " '1,2,38,3,2,1,gingival swelling,1,1,4,133,93,109,16,36.5,,3,odontogenic infection,1,4,4,349,12.45,1',\n",
       " '2,1,79,3,4,2,chin pain,1,1,4,110,70,80,20,36.2,98,3,\"closed fracture of humerus;nos\",2,4,4,8199,3.00,1',\n",
       " '1,2,20,12,3,2,finger injury,1,1,5,140,62,68,20,36.5,,3,dislocation of finger,1,4,2,105,10.23,1',\n",
       " '1,1,24,4,3,1,skin rash,1,1,5,110,66,125,20,37,,2,anaphylaxis,1,3,2,118,9.48,1',\n",
       " '2,2,59,8,4,1,rt. side motor weakness,1,1,5,140,80,88,20,36.5,97,2,\"intracranial haemorrhage (nontraumatic);unspecified\",2,3,2,143,4.00,1',\n",
       " '1,2,77,6,2,1,lt. hip joint pain,1,1,5,124,72,94,16,37.1,,3,\"fracture of femur;intertrochanter closed\",5,4,2,599,5.50,1',\n",
       " '1,2,37,6,2,2,face laceration,2,1,5,118,79,76,20,36.8,,3,acute intoxication of alcohol,1,4,4,553,8.78,1',\n",
       " '2,1,62,2,3,1,throat pain,1,1,6,140,90,98,22,36.8,98,2,acute epiglottitis without obstruction,2,3,4,1242,4.00,1',\n",
       " '2,2,74,12,4,2,chest wall pain right,1,1,8,80,50,98,22,36.1,98,1,\"multiple fracture of involving three ribs;closed\",2,2,1,207,4.00,1']"
      ]
     },
     "execution_count": 12,
     "metadata": {},
     "output_type": "execute_result"
    }
   ],
   "source": [
    "encounters_comma = encounters_lower.map(lambda row: re.sub('(\".*)(,\\s*)(.*\")', r'\\1;\\3', row))\n",
    "encounters_comma.take(28)"
   ]
  },
  {
   "cell_type": "code",
   "execution_count": 13,
   "metadata": {},
   "outputs": [
    {
     "data": {
      "text/plain": [
       "['2,2,71,3,3,2,right ocular pain,1,1,2,160,100,84,18,366,100,2,corneal abrasion,1,4,2,86,500,1',\n",
       " '1,1,56,12,3,2,right forearm burn,1,1,2,137,75,60,20,365,,4,burn of hand;firts degree dorsum,1,5,4,64,395,1',\n",
       " '2,1,68,8,2,2,arm pain, lt,1,1,2,130,80,102,20,366,98,4,fracture of surgical neck of humerus;closed,2,5,4,862,100,1',\n",
       " '1,2,71,8,1,1,ascites tapping,1,1,3,139,94,88,20,365,,4,alcoholic liver cirrhosis with ascites,1,5,6,108,983,1',\n",
       " '1,2,58,4,3,1,distension;abd,1,1,3,91,67,93,18,365,,4,ascites,1,5,8,109,660,1',\n",
       " '2,1,54,6,4,1,fever,1,1,3,140,90,94,20,381,98,3,fever;unspecified,2,4,1,9246,200,1',\n",
       " '2,2,49,11,3,1,with chest discomfort,1,1,3,110,70,70,20,362,98,2,angina pectoris;unspecified,1,3,2,400,300,1',\n",
       " '1,2,78,14,3,1,pain;chest,1,1,3,169,86,80,20,36,,2,acute coronary syndrome,1,3,2,247,1023,1',\n",
       " '1,2,32,10,3,1,lbp  low back pain,1,1,3,140,75,91,20,366,,4,herniated disc disease of lumbar spine with radiculopathy,1,5,4,59,323,1',\n",
       " '2,1,38,6,3,1,eczema;eyelid,1,1,3,130,80,80,20,363,97,4,ocular pain,1,5,4,185,400,1',\n",
       " '1,2,43,3,3,1,acute epigastric pain,1,1,3,148,104,72,16,365,,3,acute gastritis,1,4,4,176,753,1',\n",
       " '1,2,45,3,3,1,pain;leg,1,1,3,141,81,86,18,366,,4,gout site unspecified,1,5,4,45,715,1',\n",
       " '2,1,53,10,3,1,epigastric pain,1,1,3,120,80,106,20,362,98,3,infectious or septic colitis,1,4,4,8067,500,1',\n",
       " '1,2,55,9,3,1,abd pain,1,1,3,121,78,80,20,364,,2,acute peritonitis,2,4,4,217,800,1',\n",
       " '1,2,58,4,3,1,headache,1,1,3,135,82,106,20,376,,3,infective endocarditis,2,4,4,1318,988,1',\n",
       " '2,1,65,12,4,1,headache,1,1,3,140,100,80,20,360,98,3,subarachnoid haemorrhage;unspecified,2,4,4,153,300,1',\n",
       " '1,2,69,11,2,1,,1,1,4,121,76,85,20,374,,3,acute gastroenteritis,1,4,1,363,1053,1',\n",
       " '2,2,53,12,2,2,open wound,1,1,4,130,80,100,20,364,97,2,open wound of other parts of head;face,2,3,2,613,400,1',\n",
       " '2,1,20,10,3,1,ruq pain,1,1,4,100,60,90,20,364,98,2,hepatitis nos,1,3,4,745,400,1',\n",
       " '1,2,38,3,2,1,gingival swelling,1,1,4,133,93,109,16,365,,3,odontogenic infection,1,4,4,349,1245,1',\n",
       " '2,1,79,3,4,2,chin pain,1,1,4,110,70,80,20,362,98,3,closed fracture of humerus;nos,2,4,4,8199,300,1',\n",
       " '1,2,20,12,3,2,finger injury,1,1,5,140,62,68,20,365,,3,dislocation of finger,1,4,2,105,1023,1',\n",
       " '1,1,24,4,3,1,skin rash,1,1,5,110,66,125,20,37,,2,anaphylaxis,1,3,2,118,948,1',\n",
       " '2,2,59,8,4,1,rt side motor weakness,1,1,5,140,80,88,20,365,97,2,intracranial haemorrhage nontraumatic;unspecified,2,3,2,143,400,1',\n",
       " '1,2,77,6,2,1,lt hip joint pain,1,1,5,124,72,94,16,371,,3,fracture of femur;intertrochanter closed,5,4,2,599,550,1']"
      ]
     },
     "execution_count": 13,
     "metadata": {},
     "output_type": "execute_result"
    }
   ],
   "source": [
    "encounters_english = encounters_comma.map(lambda row: re.sub(\"[^a-zA-Z0-9,;\\s]\", \"\", row))\n",
    "encounters_english.take(25)"
   ]
  },
  {
   "cell_type": "code",
   "execution_count": 14,
   "metadata": {},
   "outputs": [
    {
     "data": {
      "text/plain": [
       "24"
      ]
     },
     "execution_count": 14,
     "metadata": {},
     "output_type": "execute_result"
    }
   ],
   "source": [
    "len(encounters_english.first().split(\",\"))"
   ]
  },
  {
   "cell_type": "code",
   "execution_count": 15,
   "metadata": {},
   "outputs": [
    {
     "data": {
      "text/plain": [
       "[['2',\n",
       "  '2',\n",
       "  '71',\n",
       "  '3',\n",
       "  '3',\n",
       "  '2',\n",
       "  'right ocular pain',\n",
       "  '1',\n",
       "  '1',\n",
       "  '2',\n",
       "  '160',\n",
       "  '100',\n",
       "  '84',\n",
       "  '18',\n",
       "  '366',\n",
       "  '100',\n",
       "  '2',\n",
       "  'corneal abrasion',\n",
       "  '1',\n",
       "  '4',\n",
       "  '2',\n",
       "  '86',\n",
       "  '500',\n",
       "  '1'],\n",
       " ['1',\n",
       "  '1',\n",
       "  '56',\n",
       "  '12',\n",
       "  '3',\n",
       "  '2',\n",
       "  'right forearm burn',\n",
       "  '1',\n",
       "  '1',\n",
       "  '2',\n",
       "  '137',\n",
       "  '75',\n",
       "  '60',\n",
       "  '20',\n",
       "  '365',\n",
       "  '',\n",
       "  '4',\n",
       "  'burn of hand;firts degree dorsum',\n",
       "  '1',\n",
       "  '5',\n",
       "  '4',\n",
       "  '64',\n",
       "  '395',\n",
       "  '1']]"
      ]
     },
     "execution_count": 15,
     "metadata": {},
     "output_type": "execute_result"
    }
   ],
   "source": [
    "encounters_split = encounters_english.map(lambda x: re.sub(\"  \", \"-\", x)) \\\n",
    "                                     .map(lambda x: re.sub(\", ,\", \",,\", x)) \\\n",
    "                                     .map(lambda x: re.sub(\", \", \";\", x)) \\\n",
    "                                     .map(lambda x: x.rstrip()) \\\n",
    "                                     .map(lambda x: x.split(\",\"))\n",
    "encounters_split.take(2)"
   ]
  },
  {
   "cell_type": "code",
   "execution_count": 16,
   "metadata": {},
   "outputs": [
    {
     "data": {
      "text/plain": [
       "'1,1,70,10,3,1,목이 아픔,1,1,3,176,103,73,16,36.8,,5,hyperventilation,1,4,4,161,4.97,2'"
      ]
     },
     "execution_count": 16,
     "metadata": {},
     "output_type": "execute_result"
    }
   ],
   "source": [
    "encounters_comma.take(66)[65]"
   ]
  },
  {
   "cell_type": "code",
   "execution_count": 17,
   "metadata": {},
   "outputs": [
    {
     "data": {
      "text/plain": [
       "'1,1,70,10,3,1, ,1,1,3,176,103,73,16,368,,5,hyperventilation,1,4,4,161,497,2'"
      ]
     },
     "execution_count": 17,
     "metadata": {},
     "output_type": "execute_result"
    }
   ],
   "source": [
    "encounters_english.take(66)[65]"
   ]
  },
  {
   "cell_type": "code",
   "execution_count": 18,
   "metadata": {},
   "outputs": [
    {
     "data": {
      "text/plain": [
       "['1',\n",
       " '1',\n",
       " '70',\n",
       " '10',\n",
       " '3',\n",
       " '1',\n",
       " '',\n",
       " '1',\n",
       " '1',\n",
       " '3',\n",
       " '176',\n",
       " '103',\n",
       " '73',\n",
       " '16',\n",
       " '368',\n",
       " '',\n",
       " '5',\n",
       " 'hyperventilation',\n",
       " '1',\n",
       " '4',\n",
       " '4',\n",
       " '161',\n",
       " '497',\n",
       " '2']"
      ]
     },
     "execution_count": 18,
     "metadata": {},
     "output_type": "execute_result"
    }
   ],
   "source": [
    "encounters_split.take(66)[65]"
   ]
  },
  {
   "cell_type": "code",
   "execution_count": 19,
   "metadata": {},
   "outputs": [
    {
     "data": {
      "text/plain": [
       "24"
      ]
     },
     "execution_count": 19,
     "metadata": {},
     "output_type": "execute_result"
    }
   ],
   "source": [
    "len(encounters_split.take(66)[65])"
   ]
  },
  {
   "cell_type": "code",
   "execution_count": 20,
   "metadata": {},
   "outputs": [
    {
     "name": "stdout",
     "output_type": "stream",
     "text": [
      "+-----+---+---+------------------------+------------+------+------------------+------+----+--------+---+---+---+---+---+----------+-------+-------------------------------------------+-----------+-----------+-----------+------------------+-----------------+---------+\n",
      "|Group|Sex|Age|Patients number per hour|Arrival mode|Injury|Chief_complain    |Mental|Pain|NRS_pain|SBP|DBP|HR |RR |BT |Saturation|KTAS_RN|Diagnosis in ED                            |Disposition|KTAS_expert|Error_group|Length of stay_min|KTAS duration_min|mistriage|\n",
      "+-----+---+---+------------------------+------------+------+------------------+------+----+--------+---+---+---+---+---+----------+-------+-------------------------------------------+-----------+-----------+-----------+------------------+-----------------+---------+\n",
      "|2    |2  |71 |3                       |3           |2     |right ocular pain |1     |1   |2       |160|100|84 |18 |366|100       |2      |corneal abrasion                           |1          |4          |2          |86                |500              |1        |\n",
      "|1    |1  |56 |12                      |3           |2     |right forearm burn|1     |1   |2       |137|75 |60 |20 |365|          |4      |burn of hand;firts degree dorsum           |1          |5          |4          |64                |395              |1        |\n",
      "|2    |1  |68 |8                       |2           |2     |arm pain;lt       |1     |1   |2       |130|80 |102|20 |366|98        |4      |fracture of surgical neck of humerus;closed|2          |5          |4          |862               |100              |1        |\n",
      "|1    |2  |71 |8                       |1           |1     |ascites tapping   |1     |1   |3       |139|94 |88 |20 |365|          |4      |alcoholic liver cirrhosis with ascites     |1          |5          |6          |108               |983              |1        |\n",
      "|1    |2  |58 |4                       |3           |1     |distension;abd    |1     |1   |3       |91 |67 |93 |18 |365|          |4      |ascites                                    |1          |5          |8          |109               |660              |1        |\n",
      "+-----+---+---+------------------------+------------+------+------------------+------+----+--------+---+---+---+---+---+----------+-------+-------------------------------------------+-----------+-----------+-----------+------------------+-----------------+---------+\n",
      "only showing top 5 rows\n",
      "\n"
     ]
    }
   ],
   "source": [
    "df = encounters_split.toDF(header.split(\",\"))\n",
    "df.show(5, truncate = False)"
   ]
  },
  {
   "cell_type": "markdown",
   "metadata": {},
   "source": [
    "## Exploratory Data Analysis"
   ]
  },
  {
   "cell_type": "code",
   "execution_count": 21,
   "metadata": {},
   "outputs": [
    {
     "data": {
      "text/plain": [
       "1267"
      ]
     },
     "execution_count": 21,
     "metadata": {},
     "output_type": "execute_result"
    }
   ],
   "source": [
    "# Number of rows in the dataset\n",
    "num_rows = df.count()\n",
    "num_rows"
   ]
  },
  {
   "cell_type": "code",
   "execution_count": 22,
   "metadata": {},
   "outputs": [
    {
     "data": {
      "text/plain": [
       "24"
      ]
     },
     "execution_count": 22,
     "metadata": {},
     "output_type": "execute_result"
    }
   ],
   "source": [
    "# Number of columns in the dataset\n",
    "len(df.columns)"
   ]
  },
  {
   "cell_type": "code",
   "execution_count": 23,
   "metadata": {},
   "outputs": [
    {
     "name": "stdout",
     "output_type": "stream",
     "text": [
      "+---------+-----+--------------------+\n",
      "|mistriage|count|          percentage|\n",
      "+---------+-----+--------------------+\n",
      "|        0| 1081|  0.8531965272296764|\n",
      "|        1|   55|0.043409629044988164|\n",
      "|        2|  131| 0.10339384372533544|\n",
      "+---------+-----+--------------------+\n",
      "\n"
     ]
    }
   ],
   "source": [
    "# Response variable summary\n",
    "mistriage_df = df.groupby(\"mistriage\").count()\n",
    "mistriage_df = mistriage_df.withColumn(\"percentage\", mistriage_df[\"count\"] / num_rows)\n",
    "mistriage_df.show()"
   ]
  },
  {
   "cell_type": "code",
   "execution_count": 24,
   "metadata": {},
   "outputs": [],
   "source": [
    "# Potential predictor variables\n",
    "cat_features = [\"Group\", \"Sex\", \"Arrival mode\", \"Injury\", \"Mental\", \"Pain\", \"Disposition\"]\n",
    "num_features = [\"Age\", \"Patients number per hour\", \"NRS_pain\", \"SBP\", \"DBP\", \"HR\", \"RR\", \"BT\", \"Saturation\", \"KTAS_RN\", \"Length of stay_min\", \"KTAS duration_min\"]"
   ]
  },
  {
   "cell_type": "code",
   "execution_count": 25,
   "metadata": {},
   "outputs": [
    {
     "name": "stdout",
     "output_type": "stream",
     "text": [
      "+-----+---+------------+------+------+----+-----------+\n",
      "|Group|Sex|Arrival mode|Injury|Mental|Pain|Disposition|\n",
      "+-----+---+------------+------+------+----+-----------+\n",
      "|    2|  2|           3|     2|     1|   1|          1|\n",
      "|    1|  1|           3|     2|     1|   1|          1|\n",
      "|    2|  1|           2|     2|     1|   1|          2|\n",
      "|    1|  2|           1|     1|     1|   1|          1|\n",
      "|    1|  2|           3|     1|     1|   1|          1|\n",
      "+-----+---+------------+------+------+----+-----------+\n",
      "only showing top 5 rows\n",
      "\n"
     ]
    }
   ],
   "source": [
    "cat_df = df.select(cat_features)\n",
    "cat_df.show(5)"
   ]
  },
  {
   "cell_type": "code",
   "execution_count": 26,
   "metadata": {},
   "outputs": [
    {
     "name": "stdout",
     "output_type": "stream",
     "text": [
      "+-----+-----+------------------+\n",
      "|Group|count|        percentage|\n",
      "+-----+-----+------------------+\n",
      "|    1|  688|0.5430149960536701|\n",
      "|    2|  579|0.4569850039463299|\n",
      "+-----+-----+------------------+\n",
      "\n"
     ]
    }
   ],
   "source": [
    "group_df = df.groupby(\"Group\").count()\n",
    "group_df = group_df.withColumn(\"percentage\", group_df[\"count\"] / num_rows)\n",
    "group_df.show()"
   ]
  },
  {
   "cell_type": "code",
   "execution_count": 27,
   "metadata": {},
   "outputs": [
    {
     "name": "stdout",
     "output_type": "stream",
     "text": [
      "+-----+-----+-----------------+\n",
      "|Group|count|       percentage|\n",
      "+-----+-----+-----------------+\n",
      "|    1|  688|54.30149960536701|\n",
      "|    2|  579|45.69850039463299|\n",
      "+-----+-----+-----------------+\n",
      "\n",
      "+---+-----+------------------+\n",
      "|Sex|count|        percentage|\n",
      "+---+-----+------------------+\n",
      "|  1|  606|47.829518547750595|\n",
      "|  2|  661|52.170481452249405|\n",
      "+---+-----+------------------+\n",
      "\n",
      "+------------+-----+-------------------+\n",
      "|Arrival mode|count|         percentage|\n",
      "+------------+-----+-------------------+\n",
      "|           7|    2|0.15785319652722968|\n",
      "|           3|  753| 59.431728492501975|\n",
      "|           5|    2|0.15785319652722968|\n",
      "|           6|   10| 0.7892659826361484|\n",
      "|           1|   79|  6.235201262825572|\n",
      "|           4|  155| 12.233622730860299|\n",
      "|           2|  266| 20.994475138121548|\n",
      "+------------+-----+-------------------+\n",
      "\n",
      "+------+-----+------------------+\n",
      "|Injury|count|        percentage|\n",
      "+------+-----+------------------+\n",
      "|     1| 1023| 80.74191002367797|\n",
      "|     2|  244|19.258089976322022|\n",
      "+------+-----+------------------+\n",
      "\n",
      "+------+-----+------------------+\n",
      "|Mental|count|        percentage|\n",
      "+------+-----+------------------+\n",
      "|     3|   28| 2.209944751381215|\n",
      "|     1| 1187| 93.68587213891081|\n",
      "|     4|   13|1.0260457774269929|\n",
      "|     2|   39|3.0781373322809786|\n",
      "+------+-----+------------------+\n",
      "\n",
      "+----+-----+------------------+\n",
      "|Pain|count|        percentage|\n",
      "+----+-----+------------------+\n",
      "|   0|  553|43.646408839779006|\n",
      "|   1|  714|56.353591160220994|\n",
      "+----+-----+------------------+\n",
      "\n",
      "+-----------+-----+------------------+\n",
      "|Disposition|count|        percentage|\n",
      "+-----------+-----+------------------+\n",
      "|          7|   22|1.7363851617995265|\n",
      "|          3|    8|0.6314127861089187|\n",
      "|          5|   32| 2.525651144435675|\n",
      "|          6|    9|0.7103393843725335|\n",
      "|          1|  797|62.904498816101025|\n",
      "|          4|   26|2.0520915548539858|\n",
      "|          2|  373|29.439621152328332|\n",
      "+-----------+-----+------------------+\n",
      "\n"
     ]
    }
   ],
   "source": [
    "for i in cat_df.columns:\n",
    "    tmp = cat_df.groupby(i).count()\n",
    "    #num_rows = tmp.count()\n",
    "    tmp = tmp.withColumn(\"percentage\", (tmp[\"count\"] / num_rows)*100)\n",
    "    tmp.show()"
   ]
  },
  {
   "cell_type": "code",
   "execution_count": 28,
   "metadata": {},
   "outputs": [
    {
     "name": "stdout",
     "output_type": "stream",
     "text": [
      "+---+------------------------+--------+---+---+---+---+---+----------+-------+------------------+-----------------+\n",
      "|Age|Patients number per hour|NRS_pain|SBP|DBP| HR| RR| BT|Saturation|KTAS_RN|Length of stay_min|KTAS duration_min|\n",
      "+---+------------------------+--------+---+---+---+---+---+----------+-------+------------------+-----------------+\n",
      "| 71|                       3|       2|160|100| 84| 18|366|       100|      2|                86|              500|\n",
      "| 56|                      12|       2|137| 75| 60| 20|365|          |      4|                64|              395|\n",
      "| 68|                       8|       2|130| 80|102| 20|366|        98|      4|               862|              100|\n",
      "| 71|                       8|       3|139| 94| 88| 20|365|          |      4|               108|              983|\n",
      "| 58|                       4|       3| 91| 67| 93| 18|365|          |      4|               109|              660|\n",
      "+---+------------------------+--------+---+---+---+---+---+----------+-------+------------------+-----------------+\n",
      "only showing top 5 rows\n",
      "\n"
     ]
    }
   ],
   "source": [
    "num_df = df.select(num_features)\n",
    "num_df.show(5)"
   ]
  },
  {
   "cell_type": "code",
   "execution_count": 29,
   "metadata": {},
   "outputs": [
    {
     "name": "stdout",
     "output_type": "stream",
     "text": [
      "+-------+---------------+------------------------+---------------+---------------+---------------+---------------+---------------+---------------+---------------+---------------+------------------+-----------------+\n",
      "|summary|            Age|Patients number per hour|       NRS_pain|            SBP|            DBP|             HR|             RR|             BT|     Saturation|        KTAS_RN|Length of stay_min|KTAS duration_min|\n",
      "+-------+---------------+------------------------+---------------+---------------+---------------+---------------+---------------+---------------+---------------+---------------+------------------+-----------------+\n",
      "|  count|           1267|                    1267|           1267|           1267|           1267|           1267|           1267|           1267|           1267|           1267|              1267|             1267|\n",
      "|   mean|54.423835832...|         7.5193370165...|4.1040787623...|133.64895330...|79.780290791...|83.963111467...|19.506827309...|325.99439551...|97.024561403...|3.3354380426...|   11016.102604...|  549.74664561...|\n",
      "| stddev|19.725033215...|         3.1605632013...|1.4193324018...|27.275638769...|15.154292398...|16.644095813...|2.0166493429...|107.96911269...|4.3505562217...|0.8853908339...|   80446.092065...|  345.94700449...|\n",
      "|    min|             16|                       1|              1|               |               |               |               |               |               |              1|                 0|              100|\n",
      "|    25%|           37.0|                     5.0|            3.0|          114.0|           70.0|           72.0|           18.0|          362.0|           97.0|            3.0|             133.0|            300.0|\n",
      "|    50%|           57.0|                     7.0|            4.0|          130.0|           80.0|           82.0|           20.0|          365.0|           98.0|            3.0|             274.0|            428.0|\n",
      "|    75%|           71.0|                    10.0|            5.0|          150.0|           90.0|           96.0|           20.0|          367.0|           98.0|            4.0|             607.0|            700.0|\n",
      "|    max|             96|                       9|           null|             99|             99|             99|             30|             41|             99|              5|              9989|              995|\n",
      "+-------+---------------+------------------------+---------------+---------------+---------------+---------------+---------------+---------------+---------------+---------------+------------------+-----------------+\n",
      "\n"
     ]
    }
   ],
   "source": [
    "num_df.summary().show(truncate = 15)"
   ]
  },
  {
   "cell_type": "code",
   "execution_count": 30,
   "metadata": {},
   "outputs": [
    {
     "name": "stdout",
     "output_type": "stream",
     "text": [
      "root\n",
      " |-- Age: string (nullable = true)\n",
      " |-- Patients number per hour: string (nullable = true)\n",
      " |-- NRS_pain: string (nullable = true)\n",
      " |-- SBP: string (nullable = true)\n",
      " |-- DBP: string (nullable = true)\n",
      " |-- HR: string (nullable = true)\n",
      " |-- RR: string (nullable = true)\n",
      " |-- BT: string (nullable = true)\n",
      " |-- Saturation: string (nullable = true)\n",
      " |-- KTAS_RN: string (nullable = true)\n",
      " |-- Length of stay_min: string (nullable = true)\n",
      " |-- KTAS duration_min: string (nullable = true)\n",
      "\n"
     ]
    }
   ],
   "source": [
    "num_df.printSchema()\n",
    "# Might explain why the max values for some of the features are 99, which is less than some of the other values --> need to change schema before further analysis"
   ]
  },
  {
   "cell_type": "code",
   "execution_count": 31,
   "metadata": {},
   "outputs": [],
   "source": [
    "#pandas_df = df.toPandas()\n",
    "#pandas_df = pandas_df.astype({'Length_of_stay_min': 'float32'}).sort_values(\"mistriage\")\n",
    "#plt.bar(pandas_df['mistriage'], pandas_df['Length_of_stay_min'])\n",
    "#plt.xlabel(\"Mistriage Type\")\n",
    "#plt.ylabel(\"Length of stay (min)\")\n",
    "#plt.title(\"Relationship between Mistriage Type & Length of Stay\")"
   ]
  },
  {
   "cell_type": "markdown",
   "metadata": {},
   "source": [
    "## Model Building"
   ]
  },
  {
   "cell_type": "code",
   "execution_count": 32,
   "metadata": {},
   "outputs": [
    {
     "name": "stdout",
     "output_type": "stream",
     "text": [
      "+-----+---+---+------------------------+------------+------+--------------------+------+----+--------+---+---+---+---+---+----------+-------+--------------------+-----------+-----------+-----------+------------------+-----------------+---------+\n",
      "|Group|Sex|Age|Patients_number_per_hour|Arrival_mode|Injury|      Chief_complain|Mental|Pain|NRS_pain|SBP|DBP| HR| RR| BT|Saturation|KTAS_RN|     Diagnosis_in_ed|Disposition|KTAS_expert|Error_group|Length_of_stay_min|KTAS_duration_min|mistriage|\n",
      "+-----+---+---+------------------------+------------+------+--------------------+------+----+--------+---+---+---+---+---+----------+-------+--------------------+-----------+-----------+-----------+------------------+-----------------+---------+\n",
      "|    2|  2| 71|                       3|           3|     2|   right ocular pain|     1|   1|       2|160|100| 84| 18|366|       100|      2|    corneal abrasion|          1|          4|          2|                86|              500|        1|\n",
      "|    1|  1| 56|                      12|           3|     2|  right forearm burn|     1|   1|       2|137| 75| 60| 20|365|          |      4|burn of hand;firt...|          1|          5|          4|                64|              395|        1|\n",
      "|    2|  1| 68|                       8|           2|     2|         arm pain;lt|     1|   1|       2|130| 80|102| 20|366|        98|      4|fracture of surgi...|          2|          5|          4|               862|              100|        1|\n",
      "|    1|  2| 71|                       8|           1|     1|     ascites tapping|     1|   1|       3|139| 94| 88| 20|365|          |      4|alcoholic liver c...|          1|          5|          6|               108|              983|        1|\n",
      "|    1|  2| 58|                       4|           3|     1|      distension;abd|     1|   1|       3| 91| 67| 93| 18|365|          |      4|             ascites|          1|          5|          8|               109|              660|        1|\n",
      "|    2|  1| 54|                       6|           4|     1|               fever|     1|   1|       3|140| 90| 94| 20|381|        98|      3|   fever;unspecified|          2|          4|          1|              9246|              200|        1|\n",
      "|    2|  2| 49|                      11|           3|     1|with chest discom...|     1|   1|       3|110| 70| 70| 20|362|        98|      2|angina pectoris;u...|          1|          3|          2|               400|              300|        1|\n",
      "|    1|  2| 78|                      14|           3|     1|          pain;chest|     1|   1|       3|169| 86| 80| 20| 36|          |      2|acute coronary sy...|          1|          3|          2|               247|             1023|        1|\n",
      "|    1|  2| 32|                      10|           3|     1|   lbp-low back pain|     1|   1|       3|140| 75| 91| 20|366|          |      4|herniated disc di...|          1|          5|          4|                59|              323|        1|\n",
      "|    2|  1| 38|                       6|           3|     1|       eczema;eyelid|     1|   1|       3|130| 80| 80| 20|363|        97|      4|         ocular pain|          1|          5|          4|               185|              400|        1|\n",
      "+-----+---+---+------------------------+------------+------+--------------------+------+----+--------+---+---+---+---+---+----------+-------+--------------------+-----------+-----------+-----------+------------------+-----------------+---------+\n",
      "only showing top 10 rows\n",
      "\n"
     ]
    }
   ],
   "source": [
    "df = df.withColumnRenamed(\"Patients number per hour\", \"Patients_number_per_hour\") \\\n",
    "       .withColumnRenamed(\"Arrival mode\", \"Arrival_mode\") \\\n",
    "       .withColumnRenamed(\"Diagnosis in ED\", \"Diagnosis_in_ed\") \\\n",
    "       .withColumnRenamed(\"Length of stay_min\", \"Length_of_stay_min\") \\\n",
    "       .withColumnRenamed(\"KTAS duration_min\", \"KTAS_duration_min\")\n",
    "df.show(10)"
   ]
  },
  {
   "cell_type": "code",
   "execution_count": 33,
   "metadata": {},
   "outputs": [],
   "source": [
    "from pyspark.sql.types import IntegerType, BooleanType, DateType\n",
    "from pyspark.ml.feature import VectorAssembler\n",
    "from pyspark.sql.functions import col\n",
    "\n",
    "df_ints = df.withColumn(\"Age\", df.Age.cast(IntegerType())) \\\n",
    "            .withColumn(\"Patients_number_per_hour\", df.Patients_number_per_hour.cast(IntegerType())) \\\n",
    "            .withColumn(\"NRS_pain\", df.NRS_pain.cast(IntegerType())) \\\n",
    "            .withColumn(\"SBP\", df.SBP.cast(IntegerType())) \\\n",
    "            .withColumn(\"DBP\", df.DBP.cast(IntegerType())) \\\n",
    "            .withColumn(\"HR\", df.HR.cast(IntegerType())) \\\n",
    "            .withColumn(\"RR\", df.RR.cast(IntegerType())) \\\n",
    "            .withColumn(\"BT\", df.BT.cast(IntegerType())) \\\n",
    "            .withColumn(\"Saturation\", df.Saturation.cast(IntegerType())) \\\n",
    "            .withColumn(\"KTAS_RN\", df.KTAS_RN.cast(IntegerType())) \\\n",
    "            .withColumn(\"Length_of_stay_min\", df.Length_of_stay_min.cast(IntegerType())) \\\n",
    "            .withColumn(\"KTAS_duration_min\", df.KTAS_duration_min.cast(IntegerType())) \\\n",
    "            .withColumn(\"mistriage\", df.mistriage.cast(IntegerType()))\n",
    "            #.withColumn(\"Injury\", df.Injury.cast(IntegerType())) \\"
   ]
  },
  {
   "cell_type": "code",
   "execution_count": 34,
   "metadata": {},
   "outputs": [
    {
     "name": "stdout",
     "output_type": "stream",
     "text": [
      "+-----+---+---+------------------------+------------+------+------------------+------+----+--------+---+---+---+---+---+----------+-------+--------------------+-----------+-----------+-----------+------------------+-----------------+---------+\n",
      "|Group|Sex|Age|Patients_number_per_hour|Arrival_mode|Injury|    Chief_complain|Mental|Pain|NRS_pain|SBP|DBP| HR| RR| BT|Saturation|KTAS_RN|     Diagnosis_in_ed|Disposition|KTAS_expert|Error_group|Length_of_stay_min|KTAS_duration_min|mistriage|\n",
      "+-----+---+---+------------------------+------------+------+------------------+------+----+--------+---+---+---+---+---+----------+-------+--------------------+-----------+-----------+-----------+------------------+-----------------+---------+\n",
      "|    2|  2| 71|                       3|           3|     2| right ocular pain|     1|   1|       2|160|100| 84| 18|366|       100|      2|    corneal abrasion|          1|          4|          2|                86|              500|        1|\n",
      "|    1|  1| 56|                      12|           3|     2|right forearm burn|     1|   1|       2|137| 75| 60| 20|365|      null|      4|burn of hand;firt...|          1|          5|          4|                64|              395|        1|\n",
      "|    2|  1| 68|                       8|           2|     2|       arm pain;lt|     1|   1|       2|130| 80|102| 20|366|        98|      4|fracture of surgi...|          2|          5|          4|               862|              100|        1|\n",
      "|    1|  2| 71|                       8|           1|     1|   ascites tapping|     1|   1|       3|139| 94| 88| 20|365|      null|      4|alcoholic liver c...|          1|          5|          6|               108|              983|        1|\n",
      "|    1|  2| 58|                       4|           3|     1|    distension;abd|     1|   1|       3| 91| 67| 93| 18|365|      null|      4|             ascites|          1|          5|          8|               109|              660|        1|\n",
      "+-----+---+---+------------------------+------------+------+------------------+------+----+--------+---+---+---+---+---+----------+-------+--------------------+-----------+-----------+-----------+------------------+-----------------+---------+\n",
      "only showing top 5 rows\n",
      "\n"
     ]
    }
   ],
   "source": [
    "df_ints.show(5)"
   ]
  },
  {
   "cell_type": "code",
   "execution_count": 35,
   "metadata": {},
   "outputs": [
    {
     "name": "stdout",
     "output_type": "stream",
     "text": [
      "+-----+---+---+------------------------+------------+------+--------------+------+----+--------+---+---+---+---+---+----------+-------+---------------+-----------+-----------+-----------+------------------+-----------------+---------+\n",
      "|Group|Sex|Age|Patients_number_per_hour|Arrival_mode|Injury|Chief_complain|Mental|Pain|NRS_pain|SBP|DBP| HR| RR| BT|Saturation|KTAS_RN|Diagnosis_in_ed|Disposition|KTAS_expert|Error_group|Length_of_stay_min|KTAS_duration_min|mistriage|\n",
      "+-----+---+---+------------------------+------------+------+--------------+------+----+--------+---+---+---+---+---+----------+-------+---------------+-----------+-----------+-----------+------------------+-----------------+---------+\n",
      "|    0|  0|  0|                       0|           0|     0|             0|     0|   0|     556| 25| 29| 20| 22| 18|       697|      0|              0|          0|          0|          0|                 0|                0|        0|\n",
      "+-----+---+---+------------------------+------------+------+--------------+------+----+--------+---+---+---+---+---+----------+-------+---------------+-----------+-----------+-----------+------------------+-----------------+---------+\n",
      "\n"
     ]
    }
   ],
   "source": [
    "# drop columns where more than half the rows are Null\n",
    "from pyspark.sql.functions import isnan, when, count, col\n",
    "df_ints.select([count(when(col(c).isNull(), c)).alias(c) for c in df_ints.columns]).show()\n",
    "\n",
    "# based on these null counts, we should remove the NRS_pain & saturation columns"
   ]
  },
  {
   "cell_type": "code",
   "execution_count": 36,
   "metadata": {},
   "outputs": [
    {
     "name": "stdout",
     "output_type": "stream",
     "text": [
      "+-----+---+---+------------------------+------------+------+------------------+------+----+---+---+---+---+---+-------+--------------------+-----------+-----------+-----------+------------------+-----------------+---------+\n",
      "|Group|Sex|Age|Patients_number_per_hour|Arrival_mode|Injury|    Chief_complain|Mental|Pain|SBP|DBP| HR| RR| BT|KTAS_RN|     Diagnosis_in_ed|Disposition|KTAS_expert|Error_group|Length_of_stay_min|KTAS_duration_min|mistriage|\n",
      "+-----+---+---+------------------------+------------+------+------------------+------+----+---+---+---+---+---+-------+--------------------+-----------+-----------+-----------+------------------+-----------------+---------+\n",
      "|    2|  2| 71|                       3|           3|     2| right ocular pain|     1|   1|160|100| 84| 18|366|      2|    corneal abrasion|          1|          4|          2|                86|              500|        1|\n",
      "|    1|  1| 56|                      12|           3|     2|right forearm burn|     1|   1|137| 75| 60| 20|365|      4|burn of hand;firt...|          1|          5|          4|                64|              395|        1|\n",
      "|    2|  1| 68|                       8|           2|     2|       arm pain;lt|     1|   1|130| 80|102| 20|366|      4|fracture of surgi...|          2|          5|          4|               862|              100|        1|\n",
      "|    1|  2| 71|                       8|           1|     1|   ascites tapping|     1|   1|139| 94| 88| 20|365|      4|alcoholic liver c...|          1|          5|          6|               108|              983|        1|\n",
      "|    1|  2| 58|                       4|           3|     1|    distension;abd|     1|   1| 91| 67| 93| 18|365|      4|             ascites|          1|          5|          8|               109|              660|        1|\n",
      "+-----+---+---+------------------------+------------+------+------------------+------+----+---+---+---+---+---+-------+--------------------+-----------+-----------+-----------+------------------+-----------------+---------+\n",
      "only showing top 5 rows\n",
      "\n"
     ]
    }
   ],
   "source": [
    "df_dropped = df_ints.drop(\"NRS_pain\", \"Saturation\")\n",
    "df_dropped.show(5)"
   ]
  },
  {
   "cell_type": "code",
   "execution_count": 37,
   "metadata": {},
   "outputs": [
    {
     "name": "stdout",
     "output_type": "stream",
     "text": [
      "+-----+---+---+------------------------+------------+------+--------------+------+----+-------+---------------+-----------+-----------+-----------+------------------+-----------------+---------+----------+-----------+-----------+----------+----------+\n",
      "|Group|Sex|Age|Patients_number_per_hour|Arrival_mode|Injury|Chief_complain|Mental|Pain|KTAS_RN|Diagnosis_in_ed|Disposition|KTAS_expert|Error_group|Length_of_stay_min|KTAS_duration_min|mistriage|RR_imputed|SBP_imputed|DBP_imputed|HR_imputed|BT_imputed|\n",
      "+-----+---+---+------------------------+------------+------+--------------+------+----+-------+---------------+-----------+-----------+-----------+------------------+-----------------+---------+----------+-----------+-----------+----------+----------+\n",
      "|    0|  0|  0|                       0|           0|     0|             0|     0|   0|      0|              0|          0|          0|          0|                 0|                0|        0|         0|          0|          0|         0|         0|\n",
      "+-----+---+---+------------------------+------------+------+--------------+------+----+-------+---------------+-----------+-----------+-----------+------------------+-----------------+---------+----------+-----------+-----------+----------+----------+\n",
      "\n"
     ]
    }
   ],
   "source": [
    "# replace null values with the mean of that respective column\n",
    "from pyspark.ml.feature import Imputer\n",
    "impute_cols = [\"SBP\", \"DBP\", \"HR\", \"RR\", \"BT\"]\n",
    "\n",
    "imputer = Imputer(\n",
    "    inputCols = impute_cols, \n",
    "    outputCols = [\"{}_imputed\".format(c) for c in impute_cols],\n",
    "    strategy = \"mean\")\n",
    "df_imputed = imputer.fit(df_dropped).transform(df_dropped).drop(\"SBP\", \"DBP\", \"HR\", \"RR\", \"BT\")\n",
    "\n",
    "df_imputed.select([count(when(col(c).isNull(), c)).alias(c) for c in df_imputed.columns]).show()"
   ]
  },
  {
   "cell_type": "code",
   "execution_count": 38,
   "metadata": {},
   "outputs": [],
   "source": [
    "df_imputed = df_imputed.drop(\"KTAS_expert\", \"Error_group\")"
   ]
  },
  {
   "cell_type": "code",
   "execution_count": 39,
   "metadata": {},
   "outputs": [
    {
     "data": {
      "text/plain": [
       "['Group',\n",
       " 'Sex',\n",
       " 'Age',\n",
       " 'Patients_number_per_hour',\n",
       " 'Arrival_mode',\n",
       " 'Injury',\n",
       " 'Chief_complain',\n",
       " 'Mental',\n",
       " 'Pain',\n",
       " 'KTAS_RN',\n",
       " 'Diagnosis_in_ed',\n",
       " 'Disposition',\n",
       " 'Length_of_stay_min',\n",
       " 'KTAS_duration_min',\n",
       " 'mistriage',\n",
       " 'RR_imputed',\n",
       " 'SBP_imputed',\n",
       " 'DBP_imputed',\n",
       " 'HR_imputed',\n",
       " 'BT_imputed']"
      ]
     },
     "execution_count": 39,
     "metadata": {},
     "output_type": "execute_result"
    }
   ],
   "source": [
    "df_imputed.columns"
   ]
  },
  {
   "cell_type": "code",
   "execution_count": 40,
   "metadata": {},
   "outputs": [],
   "source": [
    "import seaborn as sns\n",
    "import matplotlib.pyplot as plt"
   ]
  },
  {
   "cell_type": "code",
   "execution_count": 41,
   "metadata": {},
   "outputs": [],
   "source": [
    "df_imputed_pandas = df_imputed.toPandas()"
   ]
  },
  {
   "cell_type": "code",
   "execution_count": 42,
   "metadata": {},
   "outputs": [
    {
     "data": {
      "image/png": "[encoded data removed]",
      "text/plain": [
       "<Figure size 640x480 with 1 Axes>"
      ]
     },
     "metadata": {},
     "output_type": "display_data"
    }
   ],
   "source": [
    "sns.set_style('whitegrid')\n",
    "ax = sns.boxplot(x = df_imputed_pandas['mistriage'], y = df_imputed_pandas['Age'])\n",
    "ax = sns.stripplot(x = df_imputed_pandas['mistriage'], y = df_imputed_pandas['Age'])\n",
    "plt.title('Mistriage by Age')\n",
    "plt.show()"
   ]
  },
  {
   "cell_type": "code",
   "execution_count": 43,
   "metadata": {},
   "outputs": [
    {
     "data": {
      "image/png": "[encoded data removed]",
      "text/plain": [
       "<Figure size 640x480 with 1 Axes>"
      ]
     },
     "metadata": {},
     "output_type": "display_data"
    }
   ],
   "source": [
    "sns.set_style('whitegrid')\n",
    "ax = sns.boxplot(x = df_imputed_pandas['mistriage'], y = df_imputed_pandas['Patients_number_per_hour'])\n",
    "ax = sns.stripplot(x = df_imputed_pandas['mistriage'], y = df_imputed_pandas['Patients_number_per_hour'])\n",
    "plt.title('Mistriage by Patients Number per Hour')\n",
    "plt.show()"
   ]
  },
  {
   "cell_type": "code",
   "execution_count": 44,
   "metadata": {},
   "outputs": [
    {
     "data": {
      "image/png": "[encoded data removed]",
      "text/plain": [
       "<Figure size 640x480 with 1 Axes>"
      ]
     },
     "metadata": {},
     "output_type": "display_data"
    }
   ],
   "source": [
    "sns.set_style('whitegrid')\n",
    "ax = sns.boxplot(x = df_imputed_pandas['mistriage'], y = df_imputed_pandas['KTAS_RN'])\n",
    "ax = sns.stripplot(x = df_imputed_pandas['mistriage'], y = df_imputed_pandas['KTAS_RN'])\n",
    "plt.title('Mistriage by KTAS RN')\n",
    "plt.show()"
   ]
  },
  {
   "cell_type": "code",
   "execution_count": 45,
   "metadata": {},
   "outputs": [
    {
     "data": {
      "image/png": "[encoded data removed]",
      "text/plain": [
       "<Figure size 640x480 with 1 Axes>"
      ]
     },
     "metadata": {},
     "output_type": "display_data"
    }
   ],
   "source": [
    "sns.set_style('whitegrid')\n",
    "ax = sns.boxplot(x = df_imputed_pandas['mistriage'], y = df_imputed_pandas['KTAS_duration_min'])\n",
    "ax = sns.stripplot(x = df_imputed_pandas['mistriage'], y = df_imputed_pandas['KTAS_duration_min'])\n",
    "plt.title('Mistriage by KTAS Duration Min.')\n",
    "plt.show()"
   ]
  },
  {
   "cell_type": "code",
   "execution_count": 46,
   "metadata": {},
   "outputs": [
    {
     "data": {
      "image/png": "[encoded data removed]",
      "text/plain": [
       "<Figure size 640x480 with 1 Axes>"
      ]
     },
     "metadata": {},
     "output_type": "display_data"
    }
   ],
   "source": [
    "sns.set_style('whitegrid')\n",
    "ax = sns.boxplot(x = df_imputed_pandas['mistriage'], y = df_imputed_pandas['RR_imputed'])\n",
    "ax = sns.stripplot(x = df_imputed_pandas['mistriage'], y = df_imputed_pandas['RR_imputed'])\n",
    "plt.title('Mistriage by RR')\n",
    "plt.show()"
   ]
  },
  {
   "cell_type": "code",
   "execution_count": 47,
   "metadata": {},
   "outputs": [
    {
     "data": {
      "image/png": "[encoded data removed]",
      "text/plain": [
       "<Figure size 640x480 with 1 Axes>"
      ]
     },
     "metadata": {},
     "output_type": "display_data"
    }
   ],
   "source": [
    "sns.set_style('whitegrid')\n",
    "ax = sns.boxplot(x = df_imputed_pandas['mistriage'], y = df_imputed_pandas['SBP_imputed'])\n",
    "ax = sns.stripplot(x = df_imputed_pandas['mistriage'], y = df_imputed_pandas['SBP_imputed'])\n",
    "plt.title('Mistriage by SBP')\n",
    "plt.show()"
   ]
  },
  {
   "cell_type": "code",
   "execution_count": 48,
   "metadata": {},
   "outputs": [
    {
     "data": {
      "image/png": "[encoded data removed]",
      "text/plain": [
       "<Figure size 640x480 with 1 Axes>"
      ]
     },
     "metadata": {},
     "output_type": "display_data"
    }
   ],
   "source": [
    "sns.set_style('whitegrid')\n",
    "ax = sns.boxplot(x = df_imputed_pandas['mistriage'], y = df_imputed_pandas['DBP_imputed'])\n",
    "ax = sns.stripplot(x = df_imputed_pandas['mistriage'], y = df_imputed_pandas['DBP_imputed'])\n",
    "plt.title('Mistriage by DBP')\n",
    "plt.show()"
   ]
  },
  {
   "cell_type": "code",
   "execution_count": 49,
   "metadata": {},
   "outputs": [
    {
     "data": {
      "image/png": "[encoded data removed]",
      "text/plain": [
       "<Figure size 640x480 with 1 Axes>"
      ]
     },
     "metadata": {},
     "output_type": "display_data"
    }
   ],
   "source": [
    "sns.set_style('whitegrid')\n",
    "ax = sns.boxplot(x = df_imputed_pandas['mistriage'], y = df_imputed_pandas['HR_imputed'])\n",
    "ax = sns.stripplot(x = df_imputed_pandas['mistriage'], y = df_imputed_pandas['HR_imputed'])\n",
    "plt.title('Mistriage by HR')\n",
    "plt.show()"
   ]
  },
  {
   "cell_type": "code",
   "execution_count": 50,
   "metadata": {},
   "outputs": [],
   "source": [
    "# df_imputed[\"Arrival_mode\"].unique()\n",
    "# df_imputed[\"Disposition\"].unique()\n",
    "# df_imputed[\"Error_group\"].unique()\n",
    "# df_imputed[\"Length_of_stay_min\"].unique()\n",
    "# df_imputed[\"BT_imputed\"].unique()"
   ]
  },
  {
   "cell_type": "code",
   "execution_count": 51,
   "metadata": {},
   "outputs": [
    {
     "name": "stdout",
     "output_type": "stream",
     "text": [
      "+---------------------------------------------------------------------------+\n",
      "|CC_Diagnosis                                                               |\n",
      "+---------------------------------------------------------------------------+\n",
      "|right ocular pain corneal abrasion                                         |\n",
      "|right forearm burn burn of hand;firts degree dorsum                        |\n",
      "|arm pain;lt fracture of surgical neck of humerus;closed                    |\n",
      "|ascites tapping alcoholic liver cirrhosis with ascites                     |\n",
      "|distension;abd ascites                                                     |\n",
      "|fever fever;unspecified                                                    |\n",
      "|with chest discomfort angina pectoris;unspecified                          |\n",
      "|pain;chest acute coronary syndrome                                         |\n",
      "|lbp-low back pain herniated disc disease of lumbar spine with radiculopathy|\n",
      "|eczema;eyelid ocular pain                                                  |\n",
      "|acute epigastric pain acute gastritis                                      |\n",
      "|pain;leg gout site unspecified                                             |\n",
      "|epigastric pain infectious or septic colitis                               |\n",
      "|abd pain acute peritonitis                                                 |\n",
      "|headache infective endocarditis                                            |\n",
      "+---------------------------------------------------------------------------+\n",
      "only showing top 15 rows\n",
      "\n"
     ]
    }
   ],
   "source": [
    "from pyspark.sql.functions import concat_ws\n",
    "df_combined = df_imputed.withColumn(\"CC_Diagnosis\", concat_ws(\" \", df.Chief_complain, df.Diagnosis_in_ed))\n",
    "df_combined.select(\"CC_Diagnosis\").show(15, truncate = False)"
   ]
  },
  {
   "cell_type": "code",
   "execution_count": 52,
   "metadata": {},
   "outputs": [
    {
     "name": "stdout",
     "output_type": "stream",
     "text": [
      "+-----+---+---+------------------------+------------+------+------------------+------+----+-------+--------------------+-----------+------------------+-----------------+---------+----------+-----------+-----------+----------+----------+--------------------+\n",
      "|Group|Sex|Age|Patients_number_per_hour|Arrival_mode|Injury|    Chief_complain|Mental|Pain|KTAS_RN|     Diagnosis_in_ed|Disposition|Length_of_stay_min|KTAS_duration_min|mistriage|RR_imputed|SBP_imputed|DBP_imputed|HR_imputed|BT_imputed|        CC_Diagnosis|\n",
      "+-----+---+---+------------------------+------------+------+------------------+------+----+-------+--------------------+-----------+------------------+-----------------+---------+----------+-----------+-----------+----------+----------+--------------------+\n",
      "|    2|  2| 71|                       3|           3|     2| right ocular pain|     1|   1|      2|    corneal abrasion|          1|                86|              500|        1|        18|        160|        100|        84|       366|right ocular pain...|\n",
      "|    1|  1| 56|                      12|           3|     2|right forearm burn|     1|   1|      4|burn of hand;firt...|          1|                64|              395|        1|        20|        137|         75|        60|       365|right forearm bur...|\n",
      "|    2|  1| 68|                       8|           2|     2|       arm pain;lt|     1|   1|      4|fracture of surgi...|          2|               862|              100|        1|        20|        130|         80|       102|       366|arm pain;lt fract...|\n",
      "|    1|  2| 71|                       8|           1|     1|   ascites tapping|     1|   1|      4|alcoholic liver c...|          1|               108|              983|        1|        20|        139|         94|        88|       365|ascites tapping a...|\n",
      "|    1|  2| 58|                       4|           3|     1|    distension;abd|     1|   1|      4|             ascites|          1|               109|              660|        1|        18|         91|         67|        93|       365|distension;abd as...|\n",
      "+-----+---+---+------------------------+------------+------+------------------+------+----+-------+--------------------+-----------+------------------+-----------------+---------+----------+-----------+-----------+----------+----------+--------------------+\n",
      "only showing top 5 rows\n",
      "\n"
     ]
    }
   ],
   "source": [
    "df_combined.show(5)"
   ]
  },
  {
   "cell_type": "code",
   "execution_count": 53,
   "metadata": {},
   "outputs": [
    {
     "name": "stdout",
     "output_type": "stream",
     "text": [
      "+---------------------------------------------------------------------------+\n",
      "|CC_Diagnosis                                                               |\n",
      "+---------------------------------------------------------------------------+\n",
      "|right ocular pain corneal abrasion                                         |\n",
      "|right forearm burn burn of hand firts degree dorsum                        |\n",
      "|arm pain lt fracture of surgical neck of humerus closed                    |\n",
      "|ascites tapping alcoholic liver cirrhosis with ascites                     |\n",
      "|distension abd ascites                                                     |\n",
      "|fever fever unspecified                                                    |\n",
      "|with chest discomfort angina pectoris unspecified                          |\n",
      "|pain chest acute coronary syndrome                                         |\n",
      "|lbp low back pain herniated disc disease of lumbar spine with radiculopathy|\n",
      "|eczema eyelid ocular pain                                                  |\n",
      "|acute epigastric pain acute gastritis                                      |\n",
      "|pain leg gout site unspecified                                             |\n",
      "|epigastric pain infectious or septic colitis                               |\n",
      "|abd pain acute peritonitis                                                 |\n",
      "|headache infective endocarditis                                            |\n",
      "|headache subarachnoid haemorrhage unspecified                              |\n",
      "|acute gastroenteritis                                                      |\n",
      "|open wound open wound of other parts of head face                          |\n",
      "|ruq pain hepatitis nos                                                     |\n",
      "|gingival swelling odontogenic infection                                    |\n",
      "|chin pain closed fracture of humerus nos                                   |\n",
      "|finger injury dislocation of finger                                        |\n",
      "|skin rash anaphylaxis                                                      |\n",
      "|rt side motor weakness intracranial haemorrhage nontraumatic unspecified   |\n",
      "|lt hip joint pain fracture of femur intertrochanter closed                 |\n",
      "+---------------------------------------------------------------------------+\n",
      "only showing top 25 rows\n",
      "\n"
     ]
    }
   ],
   "source": [
    "from pyspark.sql.functions import regexp_replace, trim\n",
    "df_combined = df_combined.withColumn(\"CC_Diagnosis\", trim(regexp_replace(\"CC_Diagnosis\", \";|-\", \" \")))\n",
    "df_combined.select(\"CC_Diagnosis\").show(25, truncate = False)"
   ]
  },
  {
   "cell_type": "code",
   "execution_count": 54,
   "metadata": {},
   "outputs": [
    {
     "name": "stdout",
     "output_type": "stream",
     "text": [
      "+----------------------------------------------------------------------------------------+\n",
      "|words                                                                                   |\n",
      "+----------------------------------------------------------------------------------------+\n",
      "|[right, ocular, pain, corneal, abrasion]                                                |\n",
      "|[right, forearm, burn, burn, of, hand, firts, degree, dorsum]                           |\n",
      "|[arm, pain, lt, fracture, of, surgical, neck, of, humerus, closed]                      |\n",
      "|[ascites, tapping, alcoholic, liver, cirrhosis, with, ascites]                          |\n",
      "|[distension, abd, ascites]                                                              |\n",
      "|[fever, fever, unspecified]                                                             |\n",
      "|[with, chest, discomfort, angina, pectoris, unspecified]                                |\n",
      "|[pain, chest, acute, coronary, syndrome]                                                |\n",
      "|[lbp, low, back, pain, herniated, disc, disease, of, lumbar, spine, with, radiculopathy]|\n",
      "|[eczema, eyelid, ocular, pain]                                                          |\n",
      "|[acute, epigastric, pain, acute, gastritis]                                             |\n",
      "|[pain, leg, gout, site, unspecified]                                                    |\n",
      "|[epigastric, pain, infectious, or, septic, colitis]                                     |\n",
      "|[abd, pain, acute, peritonitis]                                                         |\n",
      "|[headache, infective, endocarditis]                                                     |\n",
      "+----------------------------------------------------------------------------------------+\n",
      "only showing top 15 rows\n",
      "\n"
     ]
    }
   ],
   "source": [
    "from pyspark.ml.feature import Tokenizer\n",
    "tokenizer = Tokenizer(inputCol = \"CC_Diagnosis\", outputCol = \"words\")\n",
    "cc_diagnosis_features = tokenizer.transform(df_combined)\n",
    "cc_diagnosis_features.select(\"words\").show(15, truncate = False)"
   ]
  },
  {
   "cell_type": "code",
   "execution_count": 55,
   "metadata": {},
   "outputs": [
    {
     "name": "stdout",
     "output_type": "stream",
     "text": [
      "+------------------------------------------------------------------------------+\n",
      "|filtered                                                                      |\n",
      "+------------------------------------------------------------------------------+\n",
      "|[right, ocular, pain, corneal, abrasion]                                      |\n",
      "|[right, forearm, burn, burn, hand, firts, degree, dorsum]                     |\n",
      "|[arm, pain, lt, fracture, surgical, neck, humerus, closed]                    |\n",
      "|[ascites, tapping, alcoholic, liver, cirrhosis, ascites]                      |\n",
      "|[distension, abd, ascites]                                                    |\n",
      "|[fever, fever, unspecified]                                                   |\n",
      "|[chest, discomfort, angina, pectoris, unspecified]                            |\n",
      "|[pain, chest, acute, coronary, syndrome]                                      |\n",
      "|[lbp, low, back, pain, herniated, disc, disease, lumbar, spine, radiculopathy]|\n",
      "|[eczema, eyelid, ocular, pain]                                                |\n",
      "|[acute, epigastric, pain, acute, gastritis]                                   |\n",
      "|[pain, leg, gout, site, unspecified]                                          |\n",
      "|[epigastric, pain, infectious, septic, colitis]                               |\n",
      "|[abd, pain, acute, peritonitis]                                               |\n",
      "|[headache, infective, endocarditis]                                           |\n",
      "+------------------------------------------------------------------------------+\n",
      "only showing top 15 rows\n",
      "\n"
     ]
    }
   ],
   "source": [
    "from pyspark.ml.feature import StopWordsRemover\n",
    "remover = StopWordsRemover(inputCol = \"words\", outputCol = \"filtered\")\n",
    "removedData = remover.transform(cc_diagnosis_features)\n",
    "removedData.select(\"filtered\").show(15, truncate = False)"
   ]
  },
  {
   "cell_type": "code",
   "execution_count": 56,
   "metadata": {},
   "outputs": [
    {
     "name": "stdout",
     "output_type": "stream",
     "text": [
      "+-----+---+---+------------------------+------------+------+------------------------+------+----+-------+------------------------+-----------+------------------+-----------------+---------+----------+-----------+-----------+----------+----------+----------------------------------------------+-----------------------------------------------------+-------------------------------------------------+\n",
      "|Group|Sex|Age|Patients_number_per_hour|Arrival_mode|Injury|Chief_complain          |Mental|Pain|KTAS_RN|Diagnosis_in_ed         |Disposition|Length_of_stay_min|KTAS_duration_min|mistriage|RR_imputed|SBP_imputed|DBP_imputed|HR_imputed|BT_imputed|CC_Diagnosis                                  |words                                                |filtered                                         |\n",
      "+-----+---+---+------------------------+------------+------+------------------------+------+----+-------+------------------------+-----------+------------------+-----------------+---------+----------+-----------+-----------+----------+----------+----------------------------------------------+-----------------------------------------------------+-------------------------------------------------+\n",
      "|1    |1  |17 |8                       |3           |1     |abd pain                |1     |1   |3      |abdominal pain          |1          |168               |825              |0        |16        |141        |75         |84        |37        |abd pain abdominal pain                       |[abd, pain, abdominal, pain]                         |[abd, pain, abdominal, pain]                     |\n",
      "|1    |1  |18 |4                       |3           |1     |abd pain                |1     |1   |4      |abdomen pain;generalized|1          |180               |332              |0        |20        |136        |90         |98        |37        |abd pain abdomen pain generalized             |[abd, pain, abdomen, pain, generalized]              |[abd, pain, abdomen, pain, generalized]          |\n",
      "|1    |1  |18 |7                       |3           |2     |right forearm laceration|1     |1   |4      |laceration of forearm   |1          |36                |385              |0        |18        |120        |84         |88        |368       |right forearm laceration laceration of forearm|[right, forearm, laceration, laceration, of, forearm]|[right, forearm, laceration, laceration, forearm]|\n",
      "|1    |1  |19 |7                       |3           |2     |ankle injury            |1     |1   |4      |injury of ankle         |1          |73                |420              |0        |20        |154        |70         |75        |36        |ankle injury injury of ankle                  |[ankle, injury, injury, of, ankle]                   |[ankle, injury, injury, ankle]                   |\n",
      "|1    |1  |19 |11                      |2           |1     |                        |1     |0   |2      |acute gastritis         |1          |108               |1460             |1        |16        |116        |77         |64        |369       |acute gastritis                               |[acute, gastritis]                                   |[acute, gastritis]                               |\n",
      "+-----+---+---+------------------------+------------+------+------------------------+------+----+-------+------------------------+-----------+------------------+-----------------+---------+----------+-----------+-----------+----------+----------+----------------------------------------------+-----------------------------------------------------+-------------------------------------------------+\n",
      "only showing top 5 rows\n",
      "\n"
     ]
    }
   ],
   "source": [
    "trainingData, testData = removedData.randomSplit([0.8, 0.2], seed = 123)\n",
    "trainingData.show(5, truncate = False)"
   ]
  },
  {
   "cell_type": "code",
   "execution_count": 57,
   "metadata": {},
   "outputs": [],
   "source": [
    "# from pyspark.ml.feature import HashingTF, IDF\n",
    "# hashingTF = HashingTF(inputCol = \"filtered\", outputCol = \"rawFeatures\", numFeatures = 250)\n",
    "# featurizedData = hashingTF.transform(trainingData)\n",
    "\n",
    "# idf = IDF(inputCol = \"rawFeatures\", outputCol = \"wordFeatures\")\n",
    "# idfModel = idf.fit(featurizedData)\n",
    "# rescaledData = idfModel.transform(featurizedData)"
   ]
  },
  {
   "cell_type": "code",
   "execution_count": 58,
   "metadata": {},
   "outputs": [],
   "source": [
    "from pyspark.ml.feature import Word2Vec\n",
    "word2Vec = Word2Vec(vectorSize=10, minCount=0, inputCol=\"filtered\", outputCol=\"wordFeatures\")\n",
    "model = word2Vec.fit(trainingData)\n",
    "w2v_trainDF = model.transform(trainingData)"
   ]
  },
  {
   "cell_type": "code",
   "execution_count": 59,
   "metadata": {},
   "outputs": [
    {
     "name": "stdout",
     "output_type": "stream",
     "text": [
      "+---------------------------------------------------------------------------------------------------------------------------------------------------------------------------------------------------------------------+\n",
      "|wordFeatures                                                                                                                                                                                                         |\n",
      "+---------------------------------------------------------------------------------------------------------------------------------------------------------------------------------------------------------------------+\n",
      "|[0.16737454012036324,-0.26770516531541944,0.46484460681676865,0.06022113561630249,0.21910443669185042,0.48844172433018684,-0.029809657484292984,-0.31236445158720016,-0.3087444230914116,0.19461921975016594]        |\n",
      "|[0.1496880166232586,-0.21178199984133245,0.3293663249351084,0.03137339856475592,0.1815769354812801,0.3619674883782864,0.00581155177205801,-0.21206648675724865,-0.21011582016944885,0.14263151213526726]             |\n",
      "|[-0.17045714855194094,0.051070377044379715,-0.025872572511434558,-0.0549265917390585,-0.06510588563978673,-0.021793828159570695,-0.05168921183794737,0.09167710654437543,-0.20014642775058747,-0.0063133686780929565]|\n",
      "|[-0.06657243496738374,-0.01149113429710269,-0.004212687257677317,-0.020085605792701244,0.05692954361438751,0.03827643021941185,-0.022631126281339675,0.035339019261300564,-0.09964876435697079,-0.016494546085596085]|\n",
      "|[0.13125963136553764,-0.098218047991395,-0.02665561903268099,-0.024901047348976135,0.010733522474765778,0.026370154228061438,-0.013606495223939419,-0.03492138907313347,-0.03780636191368103,0.026472091674804688]   |\n",
      "+---------------------------------------------------------------------------------------------------------------------------------------------------------------------------------------------------------------------+\n",
      "only showing top 5 rows\n",
      "\n"
     ]
    }
   ],
   "source": [
    "w2v_trainDF.select(\"wordFeatures\").show(5, truncate = False)"
   ]
  },
  {
   "cell_type": "code",
   "execution_count": 60,
   "metadata": {},
   "outputs": [],
   "source": [
    "# rescaledData.show(5, truncate = False)"
   ]
  },
  {
   "cell_type": "code",
   "execution_count": 61,
   "metadata": {},
   "outputs": [],
   "source": [
    "final_cols = [c for c in w2v_trainDF.columns if c in df_imputed.columns or c == \"wordFeatures\"]"
   ]
  },
  {
   "cell_type": "code",
   "execution_count": 62,
   "metadata": {},
   "outputs": [
    {
     "name": "stdout",
     "output_type": "stream",
     "text": [
      "+-----+---+---+------------------------+------------+------+------------------------+------+----+-------+------------------------+-----------+------------------+-----------------+---------+----------+-----------+-----------+----------+----------+---------------------------------------------------------------------------------------------------------------------------------------------------------------------------------------------------------------------+\n",
      "|Group|Sex|Age|Patients_number_per_hour|Arrival_mode|Injury|Chief_complain          |Mental|Pain|KTAS_RN|Diagnosis_in_ed         |Disposition|Length_of_stay_min|KTAS_duration_min|mistriage|RR_imputed|SBP_imputed|DBP_imputed|HR_imputed|BT_imputed|wordFeatures                                                                                                                                                                                                         |\n",
      "+-----+---+---+------------------------+------------+------+------------------------+------+----+-------+------------------------+-----------+------------------+-----------------+---------+----------+-----------+-----------+----------+----------+---------------------------------------------------------------------------------------------------------------------------------------------------------------------------------------------------------------------+\n",
      "|1    |1  |17 |8                       |3           |1     |abd pain                |1     |1   |3      |abdominal pain          |1          |168               |825              |0        |16        |141        |75         |84        |37        |[0.16737454012036324,-0.26770516531541944,0.46484460681676865,0.06022113561630249,0.21910443669185042,0.48844172433018684,-0.029809657484292984,-0.31236445158720016,-0.3087444230914116,0.19461921975016594]        |\n",
      "|1    |1  |18 |4                       |3           |1     |abd pain                |1     |1   |4      |abdomen pain;generalized|1          |180               |332              |0        |20        |136        |90         |98        |37        |[0.1496880166232586,-0.21178199984133245,0.3293663249351084,0.03137339856475592,0.1815769354812801,0.3619674883782864,0.00581155177205801,-0.21206648675724865,-0.21011582016944885,0.14263151213526726]             |\n",
      "|1    |1  |18 |7                       |3           |2     |right forearm laceration|1     |1   |4      |laceration of forearm   |1          |36                |385              |0        |18        |120        |84         |88        |368       |[-0.17045714855194094,0.051070377044379715,-0.025872572511434558,-0.0549265917390585,-0.06510588563978673,-0.021793828159570695,-0.05168921183794737,0.09167710654437543,-0.20014642775058747,-0.0063133686780929565]|\n",
      "|1    |1  |19 |7                       |3           |2     |ankle injury            |1     |1   |4      |injury of ankle         |1          |73                |420              |0        |20        |154        |70         |75        |36        |[-0.06657243496738374,-0.01149113429710269,-0.004212687257677317,-0.020085605792701244,0.05692954361438751,0.03827643021941185,-0.022631126281339675,0.035339019261300564,-0.09964876435697079,-0.016494546085596085]|\n",
      "|1    |1  |19 |11                      |2           |1     |                        |1     |0   |2      |acute gastritis         |1          |108               |1460             |1        |16        |116        |77         |64        |369       |[0.13125963136553764,-0.098218047991395,-0.02665561903268099,-0.024901047348976135,0.010733522474765778,0.026370154228061438,-0.013606495223939419,-0.03492138907313347,-0.03780636191368103,0.026472091674804688]   |\n",
      "+-----+---+---+------------------------+------------+------+------------------------+------+----+-------+------------------------+-----------+------------------+-----------------+---------+----------+-----------+-----------+----------+----------+---------------------------------------------------------------------------------------------------------------------------------------------------------------------------------------------------------------------+\n",
      "only showing top 5 rows\n",
      "\n"
     ]
    }
   ],
   "source": [
    "final_train_df = w2v_trainDF.select(final_cols)\n",
    "final_train_df.cache()\n",
    "final_train_df.show(5, truncate = False)"
   ]
  },
  {
   "cell_type": "code",
   "execution_count": 63,
   "metadata": {},
   "outputs": [],
   "source": [
    "# # final_train_df.sample(withReplacement = True, fraction = ratio\n",
    "# # final_train_df.sample(#mistriage2 explode then upsample)\n",
    "    \n",
    "    \n",
    "# min_group = df.groupBy(target).count().orderBy(\"count\").first()[target]\n",
    "# min_count = df.groupBy(target).count().orderBy(\"count\").first()['count']\n",
    "# max_count = df.groupBy(target).count().orderBy(F.col(\"count\").desc()).first()['count']\n",
    "# print('Min Count: {}, Max Count: {}'.format(min_count, max_count))\n",
    "    \n",
    "# df_b = df.filter(df[target] == min_group)\n",
    "# remain_df = df.filter(df[target] != min_group)\n",
    "# down_df = remain_df.sample(withReplacement = True, fraction = min_count / max_count, seed = 314)\n",
    "# print('Number of rows in downsampled dataframe:{}'.format(down_df.count()))\n",
    "    \n",
    "# df_b = df_b.union(down_df)"
   ]
  },
  {
   "cell_type": "code",
   "execution_count": 64,
   "metadata": {},
   "outputs": [],
   "source": [
    "# hashingTF_test = HashingTF(inputCol = \"filtered\", outputCol = \"rawFeatures\", numFeatures = 250)\n",
    "# featurizedData_test = hashingTF.transform(testData)\n",
    "\n",
    "# idf_test = IDF(inputCol = \"rawFeatures\", outputCol = \"wordFeatures\")\n",
    "# idfModel_test = idf_test.fit(featurizedData_test)\n",
    "# rescaledData_test = idfModel_test.transform(featurizedData_test)"
   ]
  },
  {
   "cell_type": "code",
   "execution_count": 65,
   "metadata": {},
   "outputs": [],
   "source": [
    "word2Vec = Word2Vec(vectorSize=10, minCount=0, inputCol=\"filtered\", outputCol=\"wordFeatures\")\n",
    "model = word2Vec.fit(testData)\n",
    "w2v_testDF = model.transform(testData)"
   ]
  },
  {
   "cell_type": "code",
   "execution_count": 66,
   "metadata": {},
   "outputs": [
    {
     "name": "stdout",
     "output_type": "stream",
     "text": [
      "+-----+---+---+------------------------+------------+------+-------------------+------+----+-------+---------------------+-----------+------------------+-----------------+---------+----------+-----------+-----------+----------+----------+-------------------------------------+-------------------------------------------+------------------------------------------+-----------------------------------------------------------------------------------------------------------------------------------------------------------------------------------------------------------------------+\n",
      "|Group|Sex|Age|Patients_number_per_hour|Arrival_mode|Injury|Chief_complain     |Mental|Pain|KTAS_RN|Diagnosis_in_ed      |Disposition|Length_of_stay_min|KTAS_duration_min|mistriage|RR_imputed|SBP_imputed|DBP_imputed|HR_imputed|BT_imputed|CC_Diagnosis                         |words                                      |filtered                                  |wordFeatures                                                                                                                                                                                                           |\n",
      "+-----+---+---+------------------------+------------+------+-------------------+------+----+-------+---------------------+-----------+------------------+-----------------+---------+----------+-----------+-----------+----------+----------+-------------------------------------+-------------------------------------------+------------------------------------------+-----------------------------------------------------------------------------------------------------------------------------------------------------------------------------------------------------------------------+\n",
      "|1    |1  |18 |5                       |3           |1     |hand tingling sense|1     |1   |5      |injury of finger     |1          |112               |510              |0        |18        |194        |101        |79        |368       |hand tingling sense injury of finger |[hand, tingling, sense, injury, of, finger]|[hand, tingling, sense, injury, finger]   |[-0.0032522134482860566,0.016723195475060494,-0.004738614615052939,0.01277628280222416,0.021571893990039826,-0.01186148226261139,-0.007252531941048801,-0.01895537339150906,0.00841896589845419,0.018712143367156386]  |\n",
      "|1    |1  |20 |5                       |3           |1     |abd pain           |1     |1   |4      |acute gastroenteritis|1          |144               |800              |0        |18        |120        |70         |105       |363       |abd pain acute gastroenteritis       |[abd, pain, acute, gastroenteritis]        |[abd, pain, acute, gastroenteritis]       |[-0.003848747757729143,0.017261894419789314,-0.006408022716641426,-8.353773737326264E-4,-0.012876002583652735,0.04253143444657326,-0.010904290247708559,0.029156860895454884,-0.024660589639097452,0.04660189803689718]|\n",
      "|1    |1  |22 |10                      |1           |1     |abd pain           |1     |1   |4      |colitis              |2          |276               |1178             |0        |20        |140        |92         |109       |372       |abd pain colitis                     |[abd, pain, colitis]                       |[abd, pain, colitis]                      |[0.0036701923236250877,0.019050986506044865,-0.02375520641605059,-0.008210239311059315,0.006048164951304594,0.03285440034233034,-0.010234685925145943,0.022485706955194473,-0.004474706947803497,0.04405181358257929]  |\n",
      "|1    |1  |22 |12                      |3           |1     |vaginal bleeding   |1     |1   |3      |vaginal bleeding     |2          |370               |1243             |0        |20        |114        |79         |119       |371       |vaginal bleeding vaginal bleeding    |[vaginal, bleeding, vaginal, bleeding]     |[vaginal, bleeding, vaginal, bleeding]    |[0.009395170025527477,-0.001566359307616949,0.001714068464934826,-0.025467745028436184,-0.0233410457149148,-0.018782808911055326,0.010210391134023666,0.006620026659220457,0.037133232690393925,0.01566549437120557]   |\n",
      "|1    |1  |23 |7                       |3           |1     |epigastric pain    |1     |1   |4      |acute gastroenteritis|1          |78                |1488             |0        |18        |115        |70         |95        |367       |epigastric pain acute gastroenteritis|[epigastric, pain, acute, gastroenteritis] |[epigastric, pain, acute, gastroenteritis]|[-0.0057328808470629156,0.010658085229806602,0.011525114998221397,-0.017448289901949465,-0.004672278533689678,0.03796438919380307,-0.014580432907678187,0.015878400299698114,-0.02242429554462433,0.03789438190869987] |\n",
      "+-----+---+---+------------------------+------------+------+-------------------+------+----+-------+---------------------+-----------+------------------+-----------------+---------+----------+-----------+-----------+----------+----------+-------------------------------------+-------------------------------------------+------------------------------------------+-----------------------------------------------------------------------------------------------------------------------------------------------------------------------------------------------------------------------+\n",
      "only showing top 5 rows\n",
      "\n"
     ]
    }
   ],
   "source": [
    "w2v_testDF.show(5, truncate = False)"
   ]
  },
  {
   "cell_type": "code",
   "execution_count": 67,
   "metadata": {},
   "outputs": [],
   "source": [
    "final_cols_test = [c for c in w2v_testDF.columns if c in df_imputed.columns or c == \"wordFeatures\"]"
   ]
  },
  {
   "cell_type": "code",
   "execution_count": 68,
   "metadata": {},
   "outputs": [
    {
     "name": "stdout",
     "output_type": "stream",
     "text": [
      "+-----+---+---+------------------------+------------+------+-------------------+------+----+-------+---------------------+-----------+------------------+-----------------+---------+----------+-----------+-----------+----------+----------+-----------------------------------------------------------------------------------------------------------------------------------------------------------------------------------------------------------------------+\n",
      "|Group|Sex|Age|Patients_number_per_hour|Arrival_mode|Injury|Chief_complain     |Mental|Pain|KTAS_RN|Diagnosis_in_ed      |Disposition|Length_of_stay_min|KTAS_duration_min|mistriage|RR_imputed|SBP_imputed|DBP_imputed|HR_imputed|BT_imputed|wordFeatures                                                                                                                                                                                                           |\n",
      "+-----+---+---+------------------------+------------+------+-------------------+------+----+-------+---------------------+-----------+------------------+-----------------+---------+----------+-----------+-----------+----------+----------+-----------------------------------------------------------------------------------------------------------------------------------------------------------------------------------------------------------------------+\n",
      "|1    |1  |18 |5                       |3           |1     |hand tingling sense|1     |1   |5      |injury of finger     |1          |112               |510              |0        |18        |194        |101        |79        |368       |[-0.0032522134482860566,0.016723195475060494,-0.004738614615052939,0.01277628280222416,0.021571893990039826,-0.01186148226261139,-0.007252531941048801,-0.01895537339150906,0.00841896589845419,0.018712143367156386]  |\n",
      "|1    |1  |20 |5                       |3           |1     |abd pain           |1     |1   |4      |acute gastroenteritis|1          |144               |800              |0        |18        |120        |70         |105       |363       |[-0.003848747757729143,0.017261894419789314,-0.006408022716641426,-8.353773737326264E-4,-0.012876002583652735,0.04253143444657326,-0.010904290247708559,0.029156860895454884,-0.024660589639097452,0.04660189803689718]|\n",
      "|1    |1  |22 |10                      |1           |1     |abd pain           |1     |1   |4      |colitis              |2          |276               |1178             |0        |20        |140        |92         |109       |372       |[0.0036701923236250877,0.019050986506044865,-0.02375520641605059,-0.008210239311059315,0.006048164951304594,0.03285440034233034,-0.010234685925145943,0.022485706955194473,-0.004474706947803497,0.04405181358257929]  |\n",
      "|1    |1  |22 |12                      |3           |1     |vaginal bleeding   |1     |1   |3      |vaginal bleeding     |2          |370               |1243             |0        |20        |114        |79         |119       |371       |[0.009395170025527477,-0.001566359307616949,0.001714068464934826,-0.025467745028436184,-0.0233410457149148,-0.018782808911055326,0.010210391134023666,0.006620026659220457,0.037133232690393925,0.01566549437120557]   |\n",
      "|1    |1  |23 |7                       |3           |1     |epigastric pain    |1     |1   |4      |acute gastroenteritis|1          |78                |1488             |0        |18        |115        |70         |95        |367       |[-0.0057328808470629156,0.010658085229806602,0.011525114998221397,-0.017448289901949465,-0.004672278533689678,0.03796438919380307,-0.014580432907678187,0.015878400299698114,-0.02242429554462433,0.03789438190869987] |\n",
      "+-----+---+---+------------------------+------------+------+-------------------+------+----+-------+---------------------+-----------+------------------+-----------------+---------+----------+-----------+-----------+----------+----------+-----------------------------------------------------------------------------------------------------------------------------------------------------------------------------------------------------------------------+\n",
      "only showing top 5 rows\n",
      "\n"
     ]
    }
   ],
   "source": [
    "final_test_df = w2v_testDF.select(final_cols_test)\n",
    "final_test_df.cache()\n",
    "final_test_df.show(5, truncate = False)"
   ]
  },
  {
   "cell_type": "code",
   "execution_count": 69,
   "metadata": {},
   "outputs": [],
   "source": [
    "from pyspark.ml.feature import StringIndexer, OneHotEncoder\n",
    "\n",
    "categoricalCols = [\"Group\", \"Sex\", \"Arrival_mode\", \"Injury\", \"Mental\", \"Pain\", \"Disposition\"]\n",
    "stringIndexer = StringIndexer(inputCols = categoricalCols, outputCols = [x + \"Index\" for x in categoricalCols]) \n",
    "encoder = OneHotEncoder(inputCols = stringIndexer.getOutputCols(), outputCols = [x + \"OHE\" for x in categoricalCols])\n",
    "\n",
    "labelToIndex = StringIndexer(inputCol = \"mistriage\", outputCol = \"label\")"
   ]
  },
  {
   "cell_type": "code",
   "execution_count": 70,
   "metadata": {},
   "outputs": [
    {
     "name": "stdout",
     "output_type": "stream",
     "text": [
      "+-----+---+---+------------------------+------------+------+--------------------+------+----+-------+--------------------+-----------+------------------+-----------------+---------+----------+-----------+-----------+----------+----------+--------------------+-----------------+----------------+-----------+---------+--------+-----------+----------+\n",
      "|Group|Sex|Age|Patients_number_per_hour|Arrival_mode|Injury|      Chief_complain|Mental|Pain|KTAS_RN|     Diagnosis_in_ed|Disposition|Length_of_stay_min|KTAS_duration_min|mistriage|RR_imputed|SBP_imputed|DBP_imputed|HR_imputed|BT_imputed|        wordFeatures|Arrival_modeIndex|DispositionIndex|InjuryIndex|PainIndex|SexIndex|MentalIndex|GroupIndex|\n",
      "+-----+---+---+------------------------+------------+------+--------------------+------+----+-------+--------------------+-----------+------------------+-----------------+---------+----------+-----------+-----------+----------+----------+--------------------+-----------------+----------------+-----------+---------+--------+-----------+----------+\n",
      "|    1|  1| 17|                       8|           3|     1|            abd pain|     1|   1|      3|      abdominal pain|          1|               168|              825|        0|        16|        141|         75|        84|        37|[0.16737454012036...|              0.0|             0.0|        0.0|      0.0|     1.0|        0.0|       0.0|\n",
      "|    1|  1| 18|                       4|           3|     1|            abd pain|     1|   1|      4|abdomen pain;gene...|          1|               180|              332|        0|        20|        136|         90|        98|        37|[0.14968801662325...|              0.0|             0.0|        0.0|      0.0|     1.0|        0.0|       0.0|\n",
      "|    1|  1| 18|                       7|           3|     2|right forearm lac...|     1|   1|      4|laceration of for...|          1|                36|              385|        0|        18|        120|         84|        88|       368|[-0.1704571485519...|              0.0|             0.0|        1.0|      0.0|     1.0|        0.0|       0.0|\n",
      "|    1|  1| 19|                       7|           3|     2|        ankle injury|     1|   1|      4|     injury of ankle|          1|                73|              420|        0|        20|        154|         70|        75|        36|[-0.0665724349673...|              0.0|             0.0|        1.0|      0.0|     1.0|        0.0|       0.0|\n",
      "|    1|  1| 19|                      11|           2|     1|                    |     1|   0|      2|     acute gastritis|          1|               108|             1460|        1|        16|        116|         77|        64|       369|[0.13125963136553...|              1.0|             0.0|        0.0|      1.0|     1.0|        0.0|       0.0|\n",
      "+-----+---+---+------------------------+------------+------+--------------------+------+----+-------+--------------------+-----------+------------------+-----------------+---------+----------+-----------+-----------+----------+----------+--------------------+-----------------+----------------+-----------+---------+--------+-----------+----------+\n",
      "only showing top 5 rows\n",
      "\n"
     ]
    }
   ],
   "source": [
    "# stringIndexerModel = stringIndexer.fit(final_train_df)\n",
    "stringIndexerModel = stringIndexer.setHandleInvalid(\"keep\").fit(final_train_df)\n",
    "stringIndexerModel.transform(final_train_df).show(5)"
   ]
  },
  {
   "cell_type": "code",
   "execution_count": 71,
   "metadata": {},
   "outputs": [
    {
     "name": "stdout",
     "output_type": "stream",
     "text": [
      "+-----+---+---+------------------------+------------+------+--------------------+------+----+-------+--------------------+-----------+------------------+-----------------+---------+----------+-----------+-----------+----------+----------+--------------------+-----------------+----------------+-----------+---------+--------+-----------+----------+---------------+-------------+-------------+--------------+-------------+-------------+-------------+\n",
      "|Group|Sex|Age|Patients_number_per_hour|Arrival_mode|Injury|      Chief_complain|Mental|Pain|KTAS_RN|     Diagnosis_in_ed|Disposition|Length_of_stay_min|KTAS_duration_min|mistriage|RR_imputed|SBP_imputed|DBP_imputed|HR_imputed|BT_imputed|        wordFeatures|Arrival_modeIndex|DispositionIndex|InjuryIndex|PainIndex|SexIndex|MentalIndex|GroupIndex|Arrival_modeOHE|       SexOHE|    MentalOHE|DispositionOHE|    InjuryOHE|      PainOHE|     GroupOHE|\n",
      "+-----+---+---+------------------------+------------+------+--------------------+------+----+-------+--------------------+-----------+------------------+-----------------+---------+----------+-----------+-----------+----------+----------+--------------------+-----------------+----------------+-----------+---------+--------+-----------+----------+---------------+-------------+-------------+--------------+-------------+-------------+-------------+\n",
      "|    1|  1| 17|                       8|           3|     1|            abd pain|     1|   1|      3|      abdominal pain|          1|               168|              825|        0|        16|        141|         75|        84|        37|[0.16737454012036...|              0.0|             0.0|        0.0|      0.0|     1.0|        0.0|       0.0|  (7,[0],[1.0])|(2,[1],[1.0])|(4,[0],[1.0])| (7,[0],[1.0])|(2,[0],[1.0])|(2,[0],[1.0])|(2,[0],[1.0])|\n",
      "|    1|  1| 18|                       4|           3|     1|            abd pain|     1|   1|      4|abdomen pain;gene...|          1|               180|              332|        0|        20|        136|         90|        98|        37|[0.14968801662325...|              0.0|             0.0|        0.0|      0.0|     1.0|        0.0|       0.0|  (7,[0],[1.0])|(2,[1],[1.0])|(4,[0],[1.0])| (7,[0],[1.0])|(2,[0],[1.0])|(2,[0],[1.0])|(2,[0],[1.0])|\n",
      "|    1|  1| 18|                       7|           3|     2|right forearm lac...|     1|   1|      4|laceration of for...|          1|                36|              385|        0|        18|        120|         84|        88|       368|[-0.1704571485519...|              0.0|             0.0|        1.0|      0.0|     1.0|        0.0|       0.0|  (7,[0],[1.0])|(2,[1],[1.0])|(4,[0],[1.0])| (7,[0],[1.0])|(2,[1],[1.0])|(2,[0],[1.0])|(2,[0],[1.0])|\n",
      "|    1|  1| 19|                       7|           3|     2|        ankle injury|     1|   1|      4|     injury of ankle|          1|                73|              420|        0|        20|        154|         70|        75|        36|[-0.0665724349673...|              0.0|             0.0|        1.0|      0.0|     1.0|        0.0|       0.0|  (7,[0],[1.0])|(2,[1],[1.0])|(4,[0],[1.0])| (7,[0],[1.0])|(2,[1],[1.0])|(2,[0],[1.0])|(2,[0],[1.0])|\n",
      "|    1|  1| 19|                      11|           2|     1|                    |     1|   0|      2|     acute gastritis|          1|               108|             1460|        1|        16|        116|         77|        64|       369|[0.13125963136553...|              1.0|             0.0|        0.0|      1.0|     1.0|        0.0|       0.0|  (7,[1],[1.0])|(2,[1],[1.0])|(4,[0],[1.0])| (7,[0],[1.0])|(2,[0],[1.0])|(2,[1],[1.0])|(2,[0],[1.0])|\n",
      "+-----+---+---+------------------------+------------+------+--------------------+------+----+-------+--------------------+-----------+------------------+-----------------+---------+----------+-----------+-----------+----------+----------+--------------------+-----------------+----------------+-----------+---------+--------+-----------+----------+---------------+-------------+-------------+--------------+-------------+-------------+-------------+\n",
      "only showing top 5 rows\n",
      "\n"
     ]
    }
   ],
   "source": [
    "dfstring = stringIndexerModel.transform(final_train_df)\n",
    "\n",
    "ohe = encoder.fit(dfstring)\n",
    "dfohe = ohe.transform(dfstring)\n",
    "dfohe.show(5)"
   ]
  },
  {
   "cell_type": "markdown",
   "metadata": {},
   "source": [
    "## Downsampling & Upsampling"
   ]
  },
  {
   "cell_type": "code",
   "execution_count": 72,
   "metadata": {},
   "outputs": [
    {
     "name": "stdout",
     "output_type": "stream",
     "text": [
      "+---------+-----+\n",
      "|mistriage|count|\n",
      "+---------+-----+\n",
      "|        0|  883|\n",
      "+---------+-----+\n",
      "\n"
     ]
    }
   ],
   "source": [
    "mistriage_0 = final_train_df.filter(\"mistriage == 0\")\n",
    "mistriage_0.groupby(\"mistriage\").count().show()"
   ]
  },
  {
   "cell_type": "code",
   "execution_count": 73,
   "metadata": {},
   "outputs": [
    {
     "name": "stdout",
     "output_type": "stream",
     "text": [
      "+---------+-----+\n",
      "|mistriage|count|\n",
      "+---------+-----+\n",
      "|        1|   45|\n",
      "+---------+-----+\n",
      "\n"
     ]
    }
   ],
   "source": [
    "mistriage_1 = final_train_df.filter(\"mistriage == 1\")\n",
    "mistriage_1.groupby(\"mistriage\").count().show()"
   ]
  },
  {
   "cell_type": "code",
   "execution_count": 74,
   "metadata": {},
   "outputs": [
    {
     "name": "stdout",
     "output_type": "stream",
     "text": [
      "+---------+-----+\n",
      "|mistriage|count|\n",
      "+---------+-----+\n",
      "|        2|  103|\n",
      "+---------+-----+\n",
      "\n"
     ]
    }
   ],
   "source": [
    "mistriage_2 = final_train_df.filter(\"mistriage == 2\")\n",
    "mistriage_2.groupby(\"mistriage\").count().show()"
   ]
  },
  {
   "cell_type": "code",
   "execution_count": 107,
   "metadata": {},
   "outputs": [
    {
     "name": "stdout",
     "output_type": "stream",
     "text": [
      "+---------+-----+\n",
      "|mistriage|count|\n",
      "+---------+-----+\n",
      "|        0|  465|\n",
      "+---------+-----+\n",
      "\n"
     ]
    }
   ],
   "source": [
    "mistriage_0_sampling = mistriage_0.sample(withReplacement = False, fraction = 0.5, seed = 314)\n",
    "mistriage_0_sampling.groupby(\"mistriage\").count().show()"
   ]
  },
  {
   "cell_type": "code",
   "execution_count": 113,
   "metadata": {},
   "outputs": [
    {
     "name": "stdout",
     "output_type": "stream",
     "text": [
      "+---------+-----+\n",
      "|mistriage|count|\n",
      "+---------+-----+\n",
      "|        1|  450|\n",
      "+---------+-----+\n",
      "\n"
     ]
    }
   ],
   "source": [
    "from pyspark.sql.functions import col, explode, array, lit\n",
    "a = range(10)\n",
    "# duplicate the minority rows\n",
    "mistriage_1_sampling = mistriage_1.withColumn(\"dummy\", explode(array([lit(x) for x in a]))).drop('dummy')\n",
    "mistriage_1_sampling.groupby(\"mistriage\").count().show()"
   ]
  },
  {
   "cell_type": "code",
   "execution_count": 114,
   "metadata": {},
   "outputs": [
    {
     "name": "stdout",
     "output_type": "stream",
     "text": [
      "+---------+-----+\n",
      "|mistriage|count|\n",
      "+---------+-----+\n",
      "|        2|  412|\n",
      "+---------+-----+\n",
      "\n"
     ]
    }
   ],
   "source": [
    "a = range(4)\n",
    "# duplicate the minority rows\n",
    "mistriage_2_sampling = mistriage_2.withColumn(\"dummy\", explode(array([lit(x) for x in a]))).drop('dummy')\n",
    "mistriage_2_sampling.groupby(\"mistriage\").count().show()"
   ]
  },
  {
   "cell_type": "code",
   "execution_count": 115,
   "metadata": {},
   "outputs": [
    {
     "name": "stdout",
     "output_type": "stream",
     "text": [
      "+---------+-----+\n",
      "|mistriage|count|\n",
      "+---------+-----+\n",
      "|        1|  450|\n",
      "|        2|  412|\n",
      "|        0|  465|\n",
      "+---------+-----+\n",
      "\n"
     ]
    }
   ],
   "source": [
    "final_train_df = mistriage_0_sampling.union(mistriage_1_sampling).union(mistriage_2_sampling)\n",
    "final_train_df.groupby(\"mistriage\").count().show()"
   ]
  },
  {
   "cell_type": "markdown",
   "metadata": {},
   "source": [
    "## Model 1: Multinomial Logistic Regression"
   ]
  },
  {
   "cell_type": "code",
   "execution_count": 116,
   "metadata": {},
   "outputs": [],
   "source": [
    "from pyspark.ml.feature import VectorAssembler\n",
    "\n",
    "numericCols = [\"Age\", \"Patients_number_per_hour\", \"KTAS_RN\", \"Length_of_stay_min\", \"KTAS_duration_min\", \"RR_imputed\", \"SBP_imputed\", \"DBP_imputed\", \"HR_imputed\", \"BT_imputed\"]\n",
    "assemblerInputs = [c + \"OHE\" for c in categoricalCols] + numericCols + [\"wordFeatures\"]\n",
    "vecAssembler = VectorAssembler(inputCols = assemblerInputs, outputCol = \"features\")"
   ]
  },
  {
   "cell_type": "code",
   "execution_count": 117,
   "metadata": {},
   "outputs": [],
   "source": [
    "from pyspark.ml.classification import LogisticRegression\n",
    "lr = LogisticRegression(featuresCol=\"features\", labelCol=\"label\")"
   ]
  },
  {
   "cell_type": "code",
   "execution_count": 118,
   "metadata": {},
   "outputs": [],
   "source": [
    "# confusion matrix\n",
    "from pyspark.ml import Pipeline\n",
    "import pyspark.sql.functions as F\n",
    "from pyspark.mllib.evaluation import MulticlassMetrics\n",
    "from pyspark.sql.types import FloatType\n",
    "\n",
    "pipeline_lr = Pipeline(stages = [stringIndexer, encoder, labelToIndex, vecAssembler, lr])"
   ]
  },
  {
   "cell_type": "code",
   "execution_count": 119,
   "metadata": {},
   "outputs": [],
   "source": [
    "from pyspark.ml.tuning import ParamGridBuilder, CrossValidator\n",
    "from pyspark.ml.evaluation import MulticlassClassificationEvaluator\n",
    "\n",
    "paramGrid_lr = (ParamGridBuilder()\n",
    "               .addGrid(lr.elasticNetParam, [0, 0.5, 1])\n",
    "               .addGrid(lr.regParam, [0, 0.3, 0.6])\n",
    "               .build())\n",
    "\n",
    "mcEvaluatorAcc = MulticlassClassificationEvaluator(metricName = \"accuracy\")"
   ]
  },
  {
   "cell_type": "code",
   "execution_count": 120,
   "metadata": {},
   "outputs": [],
   "source": [
    "cv = CrossValidator(estimator = pipeline_lr, estimatorParamMaps = paramGrid_lr, evaluator = mcEvaluatorAcc, numFolds = 3, parallelism = 4, seed = 123)\n",
    "\n",
    "cvModel = cv.fit(final_train_df)\n",
    "cvPredDF = cvModel.transform(final_test_df)"
   ]
  },
  {
   "cell_type": "code",
   "execution_count": 121,
   "metadata": {},
   "outputs": [
    {
     "name": "stdout",
     "output_type": "stream",
     "text": [
      "+----------+-----+\n",
      "|prediction|count|\n",
      "+----------+-----+\n",
      "|       0.0|  131|\n",
      "|       2.0|   62|\n",
      "|       1.0|   43|\n",
      "+----------+-----+\n",
      "\n"
     ]
    }
   ],
   "source": [
    "cvPredDF.groupBy(\"prediction\") \\\n",
    "      .count() \\\n",
    "      .sort(\"count\", ascending = False) \\\n",
    "      .show()"
   ]
  },
  {
   "cell_type": "code",
   "execution_count": 122,
   "metadata": {},
   "outputs": [
    {
     "name": "stdout",
     "output_type": "stream",
     "text": [
      "0.0\n",
      "0.0\n"
     ]
    }
   ],
   "source": [
    "# Best hyperparameters used\n",
    "print(cvModel.bestModel.stages[-1]._java_obj.getRegParam())\n",
    "print(cvModel.bestModel.stages[-1]._java_obj.getElasticNetParam())"
   ]
  },
  {
   "cell_type": "code",
   "execution_count": 123,
   "metadata": {},
   "outputs": [
    {
     "name": "stdout",
     "output_type": "stream",
     "text": [
      "Accuracy: 0.5932203389830508\n",
      "Weighted Precision: 0.7896210693894847\n",
      "Log Loss: 0.9265826294256987\n"
     ]
    }
   ],
   "source": [
    "# Performance metrics (with hyperparameters tuning)\n",
    "mcEvaluatorAcc = MulticlassClassificationEvaluator(metricName = \"accuracy\")\n",
    "print(f\"Accuracy: {mcEvaluatorAcc.evaluate(cvPredDF)}\")\n",
    "mcEvaluatorWP = MulticlassClassificationEvaluator(metricName = \"weightedPrecision\")\n",
    "print(f\"Weighted Precision: {mcEvaluatorWP.evaluate(cvPredDF)}\")\n",
    "mcEvaluatorLL = MulticlassClassificationEvaluator(metricName = \"logLoss\")\n",
    "print(f\"Log Loss: {mcEvaluatorLL.evaluate(cvPredDF)}\")"
   ]
  },
  {
   "cell_type": "code",
   "execution_count": 124,
   "metadata": {},
   "outputs": [
    {
     "name": "stdout",
     "output_type": "stream",
     "text": [
      "[[117.  39.  42.]\n",
      " [  5.   4.   1.]\n",
      " [  9.   0.  19.]]\n"
     ]
    }
   ],
   "source": [
    "# cv confusion matrix\n",
    "cv_preds_and_labels = cvPredDF.select(['prediction','mistriage']).withColumn('label', F.col('mistriage').cast(FloatType())).orderBy('prediction')\n",
    "cv_preds_and_labels = cv_preds_and_labels.select(['prediction','label'])\n",
    "cv_metrics = MulticlassMetrics(cv_preds_and_labels.rdd.map(tuple))\n",
    "print(cv_metrics.confusionMatrix().toArray())"
   ]
  },
  {
   "cell_type": "markdown",
   "metadata": {},
   "source": [
    "## Model 2: Random Forest Multi-Class Classifier"
   ]
  },
  {
   "cell_type": "code",
   "execution_count": 125,
   "metadata": {},
   "outputs": [],
   "source": [
    "from pyspark.ml.feature import VectorAssembler\n",
    "\n",
    "numericCols = [\"Age\", \"Patients_number_per_hour\", \"KTAS_RN\", \"Length_of_stay_min\", \"KTAS_duration_min\", \"RR_imputed\", \"SBP_imputed\", \"DBP_imputed\", \"HR_imputed\", \"BT_imputed\"]\n",
    "assemblerInputs = [c + \"OHE\" for c in categoricalCols] + numericCols + [\"wordFeatures\"]\n",
    "vecAssembler = VectorAssembler(inputCols = assemblerInputs, outputCol = \"features\")"
   ]
  },
  {
   "cell_type": "code",
   "execution_count": 126,
   "metadata": {},
   "outputs": [],
   "source": [
    "from pyspark.ml.classification import RandomForestClassifier\n",
    "rf = RandomForestClassifier(labelCol = \"label\", featuresCol = \"features\", numTrees = 10, seed = 123)"
   ]
  },
  {
   "cell_type": "code",
   "execution_count": 127,
   "metadata": {},
   "outputs": [],
   "source": [
    "from pyspark.ml import Pipeline\n",
    "\n",
    "pipeline = Pipeline(stages = [stringIndexer, encoder, labelToIndex, vecAssembler, rf])\n",
    "pipelineModel = pipeline.fit(final_train_df)\n",
    "predDF = pipelineModel.transform(final_test_df)"
   ]
  },
  {
   "cell_type": "code",
   "execution_count": 128,
   "metadata": {},
   "outputs": [
    {
     "name": "stdout",
     "output_type": "stream",
     "text": [
      "+--------------------+-----+----------+--------------------+\n",
      "|            features|label|prediction|         probability|\n",
      "+--------------------+-----+----------+--------------------+\n",
      "|(46,[0,3,4,11,13,...|  0.0|       2.0|[0.30648801294670...|\n",
      "|(46,[0,3,4,11,13,...|  0.0|       0.0|[0.44004445361307...|\n",
      "|(46,[0,3,7,11,13,...|  0.0|       0.0|[0.41692988501748...|\n",
      "|(46,[0,3,4,11,13,...|  0.0|       1.0|[0.30947669326529...|\n",
      "|(46,[0,3,4,11,13,...|  0.0|       0.0|[0.42986309175955...|\n",
      "|(46,[0,3,4,11,13,...|  0.0|       1.0|[0.32531233229319...|\n",
      "|(46,[0,3,5,12,13,...|  0.0|       1.0|[0.35376251074652...|\n",
      "|(46,[0,3,5,12,13,...|  0.0|       2.0|[0.26822820233034...|\n",
      "|(46,[0,3,4,11,13,...|  0.0|       0.0|[0.47194053775067...|\n",
      "|(46,[0,3,4,12,13,...|  0.0|       0.0|[0.37064398963326...|\n",
      "+--------------------+-----+----------+--------------------+\n",
      "only showing top 10 rows\n",
      "\n"
     ]
    }
   ],
   "source": [
    "predDF.select(\"features\", \"label\", \"prediction\", \"probability\").show(10)"
   ]
  },
  {
   "cell_type": "code",
   "execution_count": 129,
   "metadata": {},
   "outputs": [
    {
     "name": "stdout",
     "output_type": "stream",
     "text": [
      "+---------------------------------------------------------------------------------------------------------------------------------------------------------------------------------------------------------------------------------------------------------------------------------------------------------------------------------------------------------------------------------------------+\n",
      "|features                                                                                                                                                                                                                                                                                                                                                                                     |\n",
      "+---------------------------------------------------------------------------------------------------------------------------------------------------------------------------------------------------------------------------------------------------------------------------------------------------------------------------------------------------------------------------------------------+\n",
      "|(46,[0,3,4,11,13,17,19,26,27,28,29,30,31,32,33,34,35,36,37,38,39,40,41,42,43,44,45],[1.0,1.0,1.0,1.0,1.0,1.0,1.0,18.0,5.0,5.0,112.0,510.0,18.0,194.0,101.0,79.0,368.0,-0.0032522134482860566,0.016723195475060494,-0.004738614615052939,0.01277628280222416,0.021571893990039826,-0.01186148226261139,-0.007252531941048801,-0.01895537339150906,0.00841896589845419,0.018712143367156386])  |\n",
      "|(46,[0,3,4,11,13,17,19,26,27,28,29,30,31,32,33,34,35,36,37,38,39,40,41,42,43,44,45],[1.0,1.0,1.0,1.0,1.0,1.0,1.0,20.0,5.0,4.0,144.0,800.0,18.0,120.0,70.0,105.0,363.0,-0.003848747757729143,0.017261894419789314,-0.006408022716641426,-8.353773737326264E-4,-0.012876002583652735,0.04253143444657326,-0.010904290247708559,0.029156860895454884,-0.024660589639097452,0.04660189803689718])|\n",
      "|(46,[0,3,7,11,13,17,20,26,27,28,29,30,31,32,33,34,35,36,37,38,39,40,41,42,43,44,45],[1.0,1.0,1.0,1.0,1.0,1.0,1.0,22.0,10.0,4.0,276.0,1178.0,20.0,140.0,92.0,109.0,372.0,0.0036701923236250877,0.019050986506044865,-0.02375520641605059,-0.008210239311059315,0.006048164951304594,0.03285440034233034,-0.010234685925145943,0.022485706955194473,-0.004474706947803497,0.04405181358257929])|\n",
      "|(46,[0,3,4,11,13,17,20,26,27,28,29,30,31,32,33,34,35,36,37,38,39,40,41,42,43,44,45],[1.0,1.0,1.0,1.0,1.0,1.0,1.0,22.0,12.0,3.0,370.0,1243.0,20.0,114.0,79.0,119.0,371.0,0.009395170025527477,-0.001566359307616949,0.001714068464934826,-0.025467745028436184,-0.0233410457149148,-0.018782808911055326,0.010210391134023666,0.006620026659220457,0.037133232690393925,0.01566549437120557]) |\n",
      "|(46,[0,3,4,11,13,17,19,26,27,28,29,30,31,32,33,34,35,36,37,38,39,40,41,42,43,44,45],[1.0,1.0,1.0,1.0,1.0,1.0,1.0,23.0,7.0,4.0,78.0,1488.0,18.0,115.0,70.0,95.0,367.0,-0.0057328808470629156,0.010658085229806602,0.011525114998221397,-0.017448289901949465,-0.004672278533689678,0.03796438919380307,-0.014580432907678187,0.015878400299698114,-0.02242429554462433,0.03789438190869987])  |\n",
      "|(46,[0,3,4,11,13,17,19,26,27,28,29,30,31,32,33,34,35,36,37,38,39,40,41,42,43,44,45],[1.0,1.0,1.0,1.0,1.0,1.0,1.0,24.0,12.0,3.0,178.0,658.0,20.0,118.0,64.0,71.0,367.0,0.013980221779396135,0.03061706091587742,-0.0026946721288065114,-0.00376264750957489,3.4027655298511184E-4,0.023461442828799285,-0.004329629863301912,0.008534009743016213,-0.006611484879006942,0.005762082835038503])|\n",
      "|(46,[0,3,5,12,13,17,19,26,27,28,29,30,31,32,33,34,35,36,37,38,39,40,41,42,43,44,45],[1.0,1.0,1.0,1.0,1.0,1.0,1.0,27.0,2.0,4.0,47.0,318.0,20.0,149.0,90.0,95.0,36.0,-0.00946870752211128,0.005510200480265276,-0.007148364442400634,0.008144552686384745,0.014122549577483108,0.018919756103839194,-0.008922233645405087,-0.013245108928198792,-0.012877872346767356,0.0026592893076927532])  |\n",
      "|(46,[0,3,5,12,13,17,19,26,27,28,29,30,31,32,33,34,35,36,37,38,39,40,41,42,43,44,45],[1.0,1.0,1.0,1.0,1.0,1.0,1.0,27.0,3.0,4.0,93.0,522.0,18.0,156.0,93.0,126.0,368.0,-0.02826279617979058,0.029581762318100245,0.04047007353178092,-0.004032814875245094,0.0221381772841726,0.017327153456530398,-0.012712290776627404,-3.335591671722276E-4,-0.013203171248148593,0.024856453229274066])    |\n",
      "|(46,[0,3,4,11,13,17,19,26,27,28,29,30,31,32,33,34,35,36,37,38,39,40,41,42,43,44,45],[1.0,1.0,1.0,1.0,1.0,1.0,1.0,27.0,9.0,4.0,96.0,388.0,16.0,115.0,74.0,85.0,367.0,-0.030271561816334724,0.016486531123518944,-0.03163692727684975,0.011538257822394371,0.0023848647251725197,-0.03530263528227806,-0.006720762234181166,0.04264799505472183,0.05082020163536072,-0.04145548865199089])     |\n",
      "|(46,[0,3,4,12,13,17,19,26,27,28,29,30,31,32,33,34,35,36,37,38,39,40,41,42,43,44,45],[1.0,1.0,1.0,1.0,1.0,1.0,1.0,27.0,9.0,4.0,84.0,1168.0,20.0,129.0,67.0,80.0,365.0,-0.02297194954007864,-4.984433762729168E-4,-0.01651361957192421,0.03845596546307206,0.003880668547935784,-0.001008590217679739,-0.006562224454683019,-0.007216095691546798,0.010076886741444468,0.02468756097368896])   |\n",
      "+---------------------------------------------------------------------------------------------------------------------------------------------------------------------------------------------------------------------------------------------------------------------------------------------------------------------------------------------------------------------------------------------+\n",
      "only showing top 10 rows\n",
      "\n"
     ]
    }
   ],
   "source": [
    "predDF[[\"features\"]].show(10, truncate = False)"
   ]
  },
  {
   "cell_type": "code",
   "execution_count": 130,
   "metadata": {},
   "outputs": [
    {
     "name": "stdout",
     "output_type": "stream",
     "text": [
      "+----------+-----+\n",
      "|prediction|count|\n",
      "+----------+-----+\n",
      "|       1.0|   92|\n",
      "|       0.0|   77|\n",
      "|       2.0|   67|\n",
      "+----------+-----+\n",
      "\n"
     ]
    }
   ],
   "source": [
    "predDF.groupBy(\"prediction\") \\\n",
    "      .count() \\\n",
    "      .sort(\"count\", ascending = False) \\\n",
    "      .show()"
   ]
  },
  {
   "cell_type": "code",
   "execution_count": 131,
   "metadata": {},
   "outputs": [
    {
     "name": "stdout",
     "output_type": "stream",
     "text": [
      "Accuracy: 0.3728813559322034\n",
      "Weighted Precision: 0.7580395344050356\n",
      "Log Loss: 1.0635871024974413\n"
     ]
    }
   ],
   "source": [
    "from pyspark.ml.evaluation import MulticlassClassificationEvaluator\n",
    "\n",
    "mcEvaluatorAcc = MulticlassClassificationEvaluator(metricName = \"accuracy\")\n",
    "print(f\"Accuracy: {mcEvaluatorAcc.evaluate(predDF)}\")\n",
    "mcEvaluatorWP = MulticlassClassificationEvaluator(metricName = \"weightedPrecision\")\n",
    "print(f\"Weighted Precision: {mcEvaluatorWP.evaluate(predDF)}\")\n",
    "mcEvaluatorLL = MulticlassClassificationEvaluator(metricName = \"logLoss\")\n",
    "print(f\"Log Loss: {mcEvaluatorLL.evaluate(predDF)}\")"
   ]
  },
  {
   "cell_type": "code",
   "execution_count": 132,
   "metadata": {},
   "outputs": [
    {
     "name": "stdout",
     "output_type": "stream",
     "text": [
      "[[67. 79. 52.]\n",
      " [ 2.  7.  1.]\n",
      " [ 8.  6. 14.]]\n"
     ]
    }
   ],
   "source": [
    "# confusion matrix\n",
    "import pyspark.sql.functions as F\n",
    "from pyspark.mllib.evaluation import MulticlassMetrics\n",
    "from pyspark.sql.types import FloatType\n",
    "\n",
    "preds_and_labels = predDF.select(['prediction','mistriage']).withColumn('label', F.col('mistriage').cast(FloatType())).orderBy('prediction')\n",
    "preds_and_labels = preds_and_labels.select(['prediction','label'])\n",
    "metrics = MulticlassMetrics(preds_and_labels.rdd.map(tuple))\n",
    "print(metrics.confusionMatrix().toArray())"
   ]
  },
  {
   "cell_type": "code",
   "execution_count": 133,
   "metadata": {},
   "outputs": [],
   "source": [
    "from pyspark.ml.tuning import ParamGridBuilder, CrossValidator\n",
    "\n",
    "paramGrid = (ParamGridBuilder()\n",
    "               .addGrid(rf.maxDepth, [10, 12, 15])\n",
    "               .addGrid(rf.maxBins, [5, 10, 20])\n",
    "               .addGrid(rf.numTrees, [5, 20, 50])\n",
    "             .build())"
   ]
  },
  {
   "cell_type": "code",
   "execution_count": 134,
   "metadata": {},
   "outputs": [],
   "source": [
    "cv = CrossValidator(estimator = pipeline, estimatorParamMaps = paramGrid, evaluator = mcEvaluatorAcc, numFolds = 3, parallelism = 4, seed = 123)\n",
    "\n",
    "cvModel = cv.fit(final_train_df)\n",
    "cvPredDF = cvModel.transform(final_test_df)"
   ]
  },
  {
   "cell_type": "code",
   "execution_count": 135,
   "metadata": {},
   "outputs": [
    {
     "name": "stdout",
     "output_type": "stream",
     "text": [
      "15\n",
      "5\n",
      "50\n"
     ]
    }
   ],
   "source": [
    "# Best hyperparameters used\n",
    "print(cvModel.bestModel.stages[-1]._java_obj.getMaxDepth())\n",
    "print(cvModel.bestModel.stages[-1]._java_obj.getMaxBins())\n",
    "print(cvModel.bestModel.stages[-1]._java_obj.getNumTrees())"
   ]
  },
  {
   "cell_type": "code",
   "execution_count": 136,
   "metadata": {},
   "outputs": [
    {
     "name": "stdout",
     "output_type": "stream",
     "text": [
      "Accuracy: 0.8177966101694916\n",
      "Weighted Precision: 0.7638495472486649\n",
      "Log Loss: 0.6311603367029823\n"
     ]
    }
   ],
   "source": [
    "# Performance metrics (with hyperparameters tuning)\n",
    "mcEvaluatorAcc = MulticlassClassificationEvaluator(metricName = \"accuracy\")\n",
    "print(f\"Accuracy: {mcEvaluatorAcc.evaluate(cvPredDF)}\")\n",
    "mcEvaluatorWP = MulticlassClassificationEvaluator(metricName = \"weightedPrecision\")\n",
    "print(f\"Weighted Precision: {mcEvaluatorWP.evaluate(cvPredDF)}\")\n",
    "mcEvaluatorLL = MulticlassClassificationEvaluator(metricName = \"logLoss\")\n",
    "print(f\"Log Loss: {mcEvaluatorLL.evaluate(cvPredDF)}\")"
   ]
  },
  {
   "cell_type": "code",
   "execution_count": 137,
   "metadata": {},
   "outputs": [
    {
     "name": "stdout",
     "output_type": "stream",
     "text": [
      "[[187.   2.   9.]\n",
      " [ 10.   0.   0.]\n",
      " [ 22.   0.   6.]]\n"
     ]
    }
   ],
   "source": [
    "# cv confusion matrix\n",
    "cv_preds_and_labels = cvPredDF.select(['prediction','mistriage']).withColumn('label', F.col('mistriage').cast(FloatType())).orderBy('prediction')\n",
    "cv_preds_and_labels = cv_preds_and_labels.select(['prediction','label'])\n",
    "cv_metrics = MulticlassMetrics(cv_preds_and_labels.rdd.map(tuple))\n",
    "print(cv_metrics.confusionMatrix().toArray())"
   ]
  },
  {
   "cell_type": "code",
   "execution_count": 138,
   "metadata": {},
   "outputs": [],
   "source": [
    "# feature importance\n",
    "\n",
    "def ExtractFeatureImp(featureImp, dataset, featuresCol):\n",
    "    list_extract = []\n",
    "    for i in dataset.schema[featuresCol].metadata[\"ml_attr\"][\"attrs\"]:\n",
    "        list_extract = list_extract + dataset.schema[featuresCol].metadata[\"ml_attr\"][\"attrs\"][i]\n",
    "    varlist = pd.DataFrame(list_extract)\n",
    "    varlist['score'] = varlist['idx'].apply(lambda x: featureImp[x])\n",
    "    return(varlist.sort_values('score', ascending = False))"
   ]
  },
  {
   "cell_type": "code",
   "execution_count": 139,
   "metadata": {},
   "outputs": [
    {
     "data": {
      "text/html": [
       "<div>\n",
       "<style scoped>\n",
       "    .dataframe tbody tr th:only-of-type {\n",
       "        vertical-align: middle;\n",
       "    }\n",
       "\n",
       "    .dataframe tbody tr th {\n",
       "        vertical-align: top;\n",
       "    }\n",
       "\n",
       "    .dataframe thead th {\n",
       "        text-align: right;\n",
       "    }\n",
       "</style>\n",
       "<table border=\"1\" class=\"dataframe\">\n",
       "  <thead>\n",
       "    <tr style=\"text-align: right;\">\n",
       "      <th></th>\n",
       "      <th>idx</th>\n",
       "      <th>name</th>\n",
       "      <th>score</th>\n",
       "    </tr>\n",
       "  </thead>\n",
       "  <tbody>\n",
       "    <tr>\n",
       "      <th>2</th>\n",
       "      <td>28</td>\n",
       "      <td>KTAS_RN</td>\n",
       "      <td>0.098392</td>\n",
       "    </tr>\n",
       "    <tr>\n",
       "      <th>3</th>\n",
       "      <td>29</td>\n",
       "      <td>Length_of_stay_min</td>\n",
       "      <td>0.051463</td>\n",
       "    </tr>\n",
       "    <tr>\n",
       "      <th>8</th>\n",
       "      <td>34</td>\n",
       "      <td>HR_imputed</td>\n",
       "      <td>0.050414</td>\n",
       "    </tr>\n",
       "    <tr>\n",
       "      <th>0</th>\n",
       "      <td>26</td>\n",
       "      <td>Age</td>\n",
       "      <td>0.048776</td>\n",
       "    </tr>\n",
       "    <tr>\n",
       "      <th>9</th>\n",
       "      <td>35</td>\n",
       "      <td>BT_imputed</td>\n",
       "      <td>0.041661</td>\n",
       "    </tr>\n",
       "    <tr>\n",
       "      <th>6</th>\n",
       "      <td>32</td>\n",
       "      <td>SBP_imputed</td>\n",
       "      <td>0.040612</td>\n",
       "    </tr>\n",
       "    <tr>\n",
       "      <th>19</th>\n",
       "      <td>45</td>\n",
       "      <td>wordFeatures_9</td>\n",
       "      <td>0.038838</td>\n",
       "    </tr>\n",
       "    <tr>\n",
       "      <th>4</th>\n",
       "      <td>30</td>\n",
       "      <td>KTAS_duration_min</td>\n",
       "      <td>0.038458</td>\n",
       "    </tr>\n",
       "    <tr>\n",
       "      <th>16</th>\n",
       "      <td>42</td>\n",
       "      <td>wordFeatures_6</td>\n",
       "      <td>0.037124</td>\n",
       "    </tr>\n",
       "    <tr>\n",
       "      <th>1</th>\n",
       "      <td>27</td>\n",
       "      <td>Patients_number_per_hour</td>\n",
       "      <td>0.036926</td>\n",
       "    </tr>\n",
       "    <tr>\n",
       "      <th>17</th>\n",
       "      <td>43</td>\n",
       "      <td>wordFeatures_7</td>\n",
       "      <td>0.036800</td>\n",
       "    </tr>\n",
       "    <tr>\n",
       "      <th>7</th>\n",
       "      <td>33</td>\n",
       "      <td>DBP_imputed</td>\n",
       "      <td>0.036718</td>\n",
       "    </tr>\n",
       "    <tr>\n",
       "      <th>13</th>\n",
       "      <td>39</td>\n",
       "      <td>wordFeatures_3</td>\n",
       "      <td>0.036667</td>\n",
       "    </tr>\n",
       "    <tr>\n",
       "      <th>12</th>\n",
       "      <td>38</td>\n",
       "      <td>wordFeatures_2</td>\n",
       "      <td>0.036346</td>\n",
       "    </tr>\n",
       "    <tr>\n",
       "      <th>18</th>\n",
       "      <td>44</td>\n",
       "      <td>wordFeatures_8</td>\n",
       "      <td>0.035292</td>\n",
       "    </tr>\n",
       "    <tr>\n",
       "      <th>10</th>\n",
       "      <td>36</td>\n",
       "      <td>wordFeatures_0</td>\n",
       "      <td>0.031839</td>\n",
       "    </tr>\n",
       "    <tr>\n",
       "      <th>11</th>\n",
       "      <td>37</td>\n",
       "      <td>wordFeatures_1</td>\n",
       "      <td>0.030060</td>\n",
       "    </tr>\n",
       "    <tr>\n",
       "      <th>14</th>\n",
       "      <td>40</td>\n",
       "      <td>wordFeatures_4</td>\n",
       "      <td>0.030002</td>\n",
       "    </tr>\n",
       "    <tr>\n",
       "      <th>15</th>\n",
       "      <td>41</td>\n",
       "      <td>wordFeatures_5</td>\n",
       "      <td>0.025958</td>\n",
       "    </tr>\n",
       "    <tr>\n",
       "      <th>5</th>\n",
       "      <td>31</td>\n",
       "      <td>RR_imputed</td>\n",
       "      <td>0.021358</td>\n",
       "    </tr>\n",
       "    <tr>\n",
       "      <th>24</th>\n",
       "      <td>4</td>\n",
       "      <td>Arrival_modeOHE_3</td>\n",
       "      <td>0.016781</td>\n",
       "    </tr>\n",
       "    <tr>\n",
       "      <th>39</th>\n",
       "      <td>19</td>\n",
       "      <td>DispositionOHE_1</td>\n",
       "      <td>0.015858</td>\n",
       "    </tr>\n",
       "    <tr>\n",
       "      <th>31</th>\n",
       "      <td>11</td>\n",
       "      <td>InjuryOHE_1</td>\n",
       "      <td>0.014053</td>\n",
       "    </tr>\n",
       "    <tr>\n",
       "      <th>23</th>\n",
       "      <td>3</td>\n",
       "      <td>SexOHE_1</td>\n",
       "      <td>0.013906</td>\n",
       "    </tr>\n",
       "    <tr>\n",
       "      <th>22</th>\n",
       "      <td>2</td>\n",
       "      <td>SexOHE_2</td>\n",
       "      <td>0.013314</td>\n",
       "    </tr>\n",
       "    <tr>\n",
       "      <th>32</th>\n",
       "      <td>12</td>\n",
       "      <td>InjuryOHE_2</td>\n",
       "      <td>0.012006</td>\n",
       "    </tr>\n",
       "    <tr>\n",
       "      <th>21</th>\n",
       "      <td>1</td>\n",
       "      <td>GroupOHE_2</td>\n",
       "      <td>0.011785</td>\n",
       "    </tr>\n",
       "    <tr>\n",
       "      <th>20</th>\n",
       "      <td>0</td>\n",
       "      <td>GroupOHE_1</td>\n",
       "      <td>0.011782</td>\n",
       "    </tr>\n",
       "    <tr>\n",
       "      <th>40</th>\n",
       "      <td>20</td>\n",
       "      <td>DispositionOHE_2</td>\n",
       "      <td>0.010699</td>\n",
       "    </tr>\n",
       "    <tr>\n",
       "      <th>25</th>\n",
       "      <td>5</td>\n",
       "      <td>Arrival_modeOHE_2</td>\n",
       "      <td>0.010183</td>\n",
       "    </tr>\n",
       "    <tr>\n",
       "      <th>38</th>\n",
       "      <td>18</td>\n",
       "      <td>PainOHE_0</td>\n",
       "      <td>0.009794</td>\n",
       "    </tr>\n",
       "    <tr>\n",
       "      <th>27</th>\n",
       "      <td>7</td>\n",
       "      <td>Arrival_modeOHE_1</td>\n",
       "      <td>0.009642</td>\n",
       "    </tr>\n",
       "    <tr>\n",
       "      <th>33</th>\n",
       "      <td>13</td>\n",
       "      <td>MentalOHE_1</td>\n",
       "      <td>0.008672</td>\n",
       "    </tr>\n",
       "    <tr>\n",
       "      <th>37</th>\n",
       "      <td>17</td>\n",
       "      <td>PainOHE_1</td>\n",
       "      <td>0.008415</td>\n",
       "    </tr>\n",
       "    <tr>\n",
       "      <th>35</th>\n",
       "      <td>15</td>\n",
       "      <td>MentalOHE_3</td>\n",
       "      <td>0.007717</td>\n",
       "    </tr>\n",
       "    <tr>\n",
       "      <th>26</th>\n",
       "      <td>6</td>\n",
       "      <td>Arrival_modeOHE_4</td>\n",
       "      <td>0.005677</td>\n",
       "    </tr>\n",
       "    <tr>\n",
       "      <th>41</th>\n",
       "      <td>21</td>\n",
       "      <td>DispositionOHE_5</td>\n",
       "      <td>0.003140</td>\n",
       "    </tr>\n",
       "    <tr>\n",
       "      <th>42</th>\n",
       "      <td>22</td>\n",
       "      <td>DispositionOHE_7</td>\n",
       "      <td>0.002812</td>\n",
       "    </tr>\n",
       "    <tr>\n",
       "      <th>34</th>\n",
       "      <td>14</td>\n",
       "      <td>MentalOHE_2</td>\n",
       "      <td>0.002716</td>\n",
       "    </tr>\n",
       "    <tr>\n",
       "      <th>44</th>\n",
       "      <td>24</td>\n",
       "      <td>DispositionOHE_3</td>\n",
       "      <td>0.001663</td>\n",
       "    </tr>\n",
       "    <tr>\n",
       "      <th>43</th>\n",
       "      <td>23</td>\n",
       "      <td>DispositionOHE_4</td>\n",
       "      <td>0.001446</td>\n",
       "    </tr>\n",
       "    <tr>\n",
       "      <th>29</th>\n",
       "      <td>9</td>\n",
       "      <td>Arrival_modeOHE_5</td>\n",
       "      <td>0.001287</td>\n",
       "    </tr>\n",
       "    <tr>\n",
       "      <th>36</th>\n",
       "      <td>16</td>\n",
       "      <td>MentalOHE_4</td>\n",
       "      <td>0.001105</td>\n",
       "    </tr>\n",
       "    <tr>\n",
       "      <th>28</th>\n",
       "      <td>8</td>\n",
       "      <td>Arrival_modeOHE_6</td>\n",
       "      <td>0.000961</td>\n",
       "    </tr>\n",
       "    <tr>\n",
       "      <th>45</th>\n",
       "      <td>25</td>\n",
       "      <td>DispositionOHE_6</td>\n",
       "      <td>0.000644</td>\n",
       "    </tr>\n",
       "    <tr>\n",
       "      <th>30</th>\n",
       "      <td>10</td>\n",
       "      <td>Arrival_modeOHE_7</td>\n",
       "      <td>0.000237</td>\n",
       "    </tr>\n",
       "  </tbody>\n",
       "</table>\n",
       "</div>"
      ],
      "text/plain": [
       "    idx                      name     score\n",
       "2    28                   KTAS_RN  0.098392\n",
       "3    29        Length_of_stay_min  0.051463\n",
       "8    34                HR_imputed  0.050414\n",
       "0    26                       Age  0.048776\n",
       "9    35                BT_imputed  0.041661\n",
       "6    32               SBP_imputed  0.040612\n",
       "19   45            wordFeatures_9  0.038838\n",
       "4    30         KTAS_duration_min  0.038458\n",
       "16   42            wordFeatures_6  0.037124\n",
       "1    27  Patients_number_per_hour  0.036926\n",
       "17   43            wordFeatures_7  0.036800\n",
       "7    33               DBP_imputed  0.036718\n",
       "13   39            wordFeatures_3  0.036667\n",
       "12   38            wordFeatures_2  0.036346\n",
       "18   44            wordFeatures_8  0.035292\n",
       "10   36            wordFeatures_0  0.031839\n",
       "11   37            wordFeatures_1  0.030060\n",
       "14   40            wordFeatures_4  0.030002\n",
       "15   41            wordFeatures_5  0.025958\n",
       "5    31                RR_imputed  0.021358\n",
       "24    4         Arrival_modeOHE_3  0.016781\n",
       "39   19          DispositionOHE_1  0.015858\n",
       "31   11               InjuryOHE_1  0.014053\n",
       "23    3                  SexOHE_1  0.013906\n",
       "22    2                  SexOHE_2  0.013314\n",
       "32   12               InjuryOHE_2  0.012006\n",
       "21    1                GroupOHE_2  0.011785\n",
       "20    0                GroupOHE_1  0.011782\n",
       "40   20          DispositionOHE_2  0.010699\n",
       "25    5         Arrival_modeOHE_2  0.010183\n",
       "38   18                 PainOHE_0  0.009794\n",
       "27    7         Arrival_modeOHE_1  0.009642\n",
       "33   13               MentalOHE_1  0.008672\n",
       "37   17                 PainOHE_1  0.008415\n",
       "35   15               MentalOHE_3  0.007717\n",
       "26    6         Arrival_modeOHE_4  0.005677\n",
       "41   21          DispositionOHE_5  0.003140\n",
       "42   22          DispositionOHE_7  0.002812\n",
       "34   14               MentalOHE_2  0.002716\n",
       "44   24          DispositionOHE_3  0.001663\n",
       "43   23          DispositionOHE_4  0.001446\n",
       "29    9         Arrival_modeOHE_5  0.001287\n",
       "36   16               MentalOHE_4  0.001105\n",
       "28    8         Arrival_modeOHE_6  0.000961\n",
       "45   25          DispositionOHE_6  0.000644\n",
       "30   10         Arrival_modeOHE_7  0.000237"
      ]
     },
     "execution_count": 139,
     "metadata": {},
     "output_type": "execute_result"
    }
   ],
   "source": [
    "varlist = ExtractFeatureImp(cvModel.bestModel.stages[4].featureImportances, cvPredDF, \"features\")\n",
    "varlist"
   ]
  },
  {
   "cell_type": "code",
   "execution_count": 140,
   "metadata": {},
   "outputs": [
    {
     "data": {
      "image/png": "[encoded data removed]",
      "text/plain": [
       "<Figure size 640x480 with 1 Axes>"
      ]
     },
     "metadata": {},
     "output_type": "display_data"
    }
   ],
   "source": [
    "x_values = list(varlist[\"name\"])\n",
    "\n",
    "import matplotlib.pyplot as plt\n",
    "\n",
    "plt.bar(varlist[\"name\"], varlist[\"score\"], orientation = 'vertical')\n",
    "plt.xticks(x_values, varlist[\"name\"], rotation = 90)\n",
    "plt.ylabel('Importance')\n",
    "plt.xlabel('Feature')\n",
    "plt.title('Feature Importances')\n",
    "plt.show()"
   ]
  },
  {
   "cell_type": "code",
   "execution_count": 141,
   "metadata": {},
   "outputs": [
    {
     "data": {
      "text/plain": [
       "64"
      ]
     },
     "execution_count": 141,
     "metadata": {},
     "output_type": "execute_result"
    }
   ],
   "source": [
    "# Size of the saved model\n",
    "import sys\n",
    "sys.getsizeof(cvPredDF) # number of bytes"
   ]
  },
  {
   "cell_type": "code",
   "execution_count": 142,
   "metadata": {},
   "outputs": [
    {
     "name": "stdout",
     "output_type": "stream",
     "text": [
      "<class 'pandas.core.frame.DataFrame'>\n",
      "RangeIndex: 236 entries, 0 to 235\n",
      "Data columns (total 40 columns):\n",
      " #   Column                    Non-Null Count  Dtype  \n",
      "---  ------                    --------------  -----  \n",
      " 0   Group                     236 non-null    object \n",
      " 1   Sex                       236 non-null    object \n",
      " 2   Age                       236 non-null    int32  \n",
      " 3   Patients_number_per_hour  236 non-null    int32  \n",
      " 4   Arrival_mode              236 non-null    object \n",
      " 5   Injury                    236 non-null    object \n",
      " 6   Chief_complain            236 non-null    object \n",
      " 7   Mental                    236 non-null    object \n",
      " 8   Pain                      236 non-null    object \n",
      " 9   KTAS_RN                   236 non-null    int32  \n",
      " 10  Diagnosis_in_ed           236 non-null    object \n",
      " 11  Disposition               236 non-null    object \n",
      " 12  Length_of_stay_min        236 non-null    int32  \n",
      " 13  KTAS_duration_min         236 non-null    int32  \n",
      " 14  mistriage                 236 non-null    int32  \n",
      " 15  RR_imputed                236 non-null    int32  \n",
      " 16  SBP_imputed               236 non-null    int32  \n",
      " 17  DBP_imputed               236 non-null    int32  \n",
      " 18  HR_imputed                236 non-null    int32  \n",
      " 19  BT_imputed                236 non-null    int32  \n",
      " 20  wordFeatures              236 non-null    object \n",
      " 21  Arrival_modeIndex         236 non-null    float64\n",
      " 22  DispositionIndex          236 non-null    float64\n",
      " 23  InjuryIndex               236 non-null    float64\n",
      " 24  PainIndex                 236 non-null    float64\n",
      " 25  SexIndex                  236 non-null    float64\n",
      " 26  MentalIndex               236 non-null    float64\n",
      " 27  GroupIndex                236 non-null    float64\n",
      " 28  Arrival_modeOHE           236 non-null    object \n",
      " 29  SexOHE                    236 non-null    object \n",
      " 30  MentalOHE                 236 non-null    object \n",
      " 31  DispositionOHE            236 non-null    object \n",
      " 32  InjuryOHE                 236 non-null    object \n",
      " 33  PainOHE                   236 non-null    object \n",
      " 34  GroupOHE                  236 non-null    object \n",
      " 35  label                     236 non-null    float64\n",
      " 36  features                  236 non-null    object \n",
      " 37  rawPrediction             236 non-null    object \n",
      " 38  probability               236 non-null    object \n",
      " 39  prediction                236 non-null    float64\n",
      "dtypes: float64(9), int32(11), object(20)\n",
      "memory usage: 256.4 KB\n"
     ]
    }
   ],
   "source": [
    "# Size of the saved model\n",
    "import pandas as pd\n",
    "cvPredDF = cvPredDF.toPandas()\n",
    "cvPredDF.info(memory_usage = \"deep\")"
   ]
  },
  {
   "cell_type": "markdown",
   "metadata": {},
   "source": [
    "## Model 3: One Vs. Rest"
   ]
  },
  {
   "cell_type": "code",
   "execution_count": 143,
   "metadata": {},
   "outputs": [],
   "source": [
    "from pyspark.ml.classification import GBTClassifier, OneVsRest\n",
    "lr = LogisticRegression()\n",
    "ovr = OneVsRest(labelCol=\"label\", featuresCol=\"features\", classifier = lr)"
   ]
  },
  {
   "cell_type": "code",
   "execution_count": 144,
   "metadata": {},
   "outputs": [],
   "source": [
    "pipeline_ovr = Pipeline(stages = [stringIndexer, encoder, labelToIndex, vecAssembler, ovr])"
   ]
  },
  {
   "cell_type": "code",
   "execution_count": 145,
   "metadata": {},
   "outputs": [],
   "source": [
    "pipelineModel_ovr = pipeline_ovr.fit(final_train_df)\n",
    "predDF_ovr = pipelineModel_ovr.transform(final_test_df)"
   ]
  },
  {
   "cell_type": "code",
   "execution_count": 146,
   "metadata": {},
   "outputs": [
    {
     "name": "stdout",
     "output_type": "stream",
     "text": [
      "+----------+-----+\n",
      "|prediction|count|\n",
      "+----------+-----+\n",
      "|       0.0|  116|\n",
      "|       2.0|   71|\n",
      "|       1.0|   49|\n",
      "+----------+-----+\n",
      "\n"
     ]
    }
   ],
   "source": [
    "predDF_ovr.groupBy(\"prediction\") \\\n",
    "      .count() \\\n",
    "      .sort(\"count\", ascending = False) \\\n",
    "      .show()"
   ]
  },
  {
   "cell_type": "code",
   "execution_count": 147,
   "metadata": {},
   "outputs": [
    {
     "name": "stdout",
     "output_type": "stream",
     "text": [
      "Accuracy: 0.5423728813559322\n",
      "Weighted Precision: 0.789071575650782\n",
      "Log Loss: 21.737919880752088\n"
     ]
    }
   ],
   "source": [
    "# Performance metrics (with hyperparameters tuning)\n",
    "mcEvaluatorAcc = MulticlassClassificationEvaluator(metricName = \"accuracy\")\n",
    "print(f\"Accuracy: {mcEvaluatorAcc.evaluate(predDF_ovr)}\")\n",
    "mcEvaluatorWP = MulticlassClassificationEvaluator(metricName = \"weightedPrecision\")\n",
    "print(f\"Weighted Precision: {mcEvaluatorWP.evaluate(predDF_ovr)}\")\n",
    "mcEvaluatorLL = MulticlassClassificationEvaluator(metricName = \"logLoss\", probabilityCol = \"rawPrediction\")\n",
    "print(f\"Log Loss: {mcEvaluatorLL.evaluate(predDF_ovr)}\")"
   ]
  },
  {
   "cell_type": "code",
   "execution_count": 148,
   "metadata": {},
   "outputs": [
    {
     "name": "stdout",
     "output_type": "stream",
     "text": [
      "[[104.  44.  50.]\n",
      " [  5.   4.   1.]\n",
      " [  7.   1.  20.]]\n"
     ]
    }
   ],
   "source": [
    "preds_and_labels = predDF_ovr.select(['prediction','mistriage']).withColumn('label', F.col('mistriage').cast(FloatType())).orderBy('prediction')\n",
    "preds_and_labels = preds_and_labels.select(['prediction','label'])\n",
    "metrics = MulticlassMetrics(preds_and_labels.rdd.map(tuple))\n",
    "print(metrics.confusionMatrix().toArray())"
   ]
  },
  {
   "cell_type": "code",
   "execution_count": null,
   "metadata": {},
   "outputs": [],
   "source": []
  },
  {
   "cell_type": "code",
   "execution_count": null,
   "metadata": {},
   "outputs": [],
   "source": []
  }
 ],
 "metadata": {
  "kernelspec": {
   "display_name": "DS 5110 Spark 3.1",
   "language": "python",
   "name": "ds5110_spark3.1"
  },
  "language_info": {
   "codemirror_mode": {
    "name": "ipython",
    "version": 3
   },
   "file_extension": ".py",
   "mimetype": "text/x-python",
   "name": "python",
   "nbconvert_exporter": "python",
   "pygments_lexer": "ipython3",
   "version": "3.7.10"
  }
 },
 "nbformat": 4,
 "nbformat_minor": 4
}
