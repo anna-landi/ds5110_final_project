{
 "cells": [
  {
   "cell_type": "code",
   "execution_count": 5,
   "metadata": {},
   "outputs": [],
   "source": [
    "import numpy as np\n",
    "import pandas as pd\n",
    "from pyspark.sql import SparkSession\n",
    "import re\n",
    "import os"
   ]
  },
  {
   "cell_type": "code",
   "execution_count": 2,
   "metadata": {},
   "outputs": [],
   "source": [
    "spark = SparkSession.builder.getOrCreate()\n",
    "sc = spark.sparkContext"
   ]
  },
  {
   "cell_type": "markdown",
   "metadata": {},
   "source": [
    "## Data Cleaning"
   ]
  },
  {
   "cell_type": "code",
   "execution_count": 11,
   "metadata": {},
   "outputs": [
    {
     "data": {
      "text/html": [
       "<div>\n",
       "<style scoped>\n",
       "    .dataframe tbody tr th:only-of-type {\n",
       "        vertical-align: middle;\n",
       "    }\n",
       "\n",
       "    .dataframe tbody tr th {\n",
       "        vertical-align: top;\n",
       "    }\n",
       "\n",
       "    .dataframe thead th {\n",
       "        text-align: right;\n",
       "    }\n",
       "</style>\n",
       "<table border=\"1\" class=\"dataframe\">\n",
       "  <thead>\n",
       "    <tr style=\"text-align: right;\">\n",
       "      <th></th>\n",
       "      <th>Group</th>\n",
       "      <th>1: Local ED / 2: Regional ED</th>\n",
       "    </tr>\n",
       "  </thead>\n",
       "  <tbody>\n",
       "    <tr>\n",
       "      <th>0</th>\n",
       "      <td>Sex</td>\n",
       "      <td>1: Female / 2: Male</td>\n",
       "    </tr>\n",
       "    <tr>\n",
       "      <th>1</th>\n",
       "      <td>Age</td>\n",
       "      <td>Age (Years)</td>\n",
       "    </tr>\n",
       "    <tr>\n",
       "      <th>2</th>\n",
       "      <td>Patients number per hour</td>\n",
       "      <td>Patients number/hous</td>\n",
       "    </tr>\n",
       "    <tr>\n",
       "      <th>3</th>\n",
       "      <td>Arrival mode</td>\n",
       "      <td>1: Walking / 2: 119 use / 3: Private car / 4: ...</td>\n",
       "    </tr>\n",
       "    <tr>\n",
       "      <th>4</th>\n",
       "      <td>Injury</td>\n",
       "      <td>1: Non-injury / 2: Injury</td>\n",
       "    </tr>\n",
       "    <tr>\n",
       "      <th>5</th>\n",
       "      <td>Mental</td>\n",
       "      <td>1: Alert / 2: Verval response / 3: Pain respon...</td>\n",
       "    </tr>\n",
       "    <tr>\n",
       "      <th>6</th>\n",
       "      <td>Pain</td>\n",
       "      <td>1: Pain / 2: Non-pain</td>\n",
       "    </tr>\n",
       "    <tr>\n",
       "      <th>7</th>\n",
       "      <td>NRS_pain</td>\n",
       "      <td>Numeric rating scales of pain</td>\n",
       "    </tr>\n",
       "    <tr>\n",
       "      <th>8</th>\n",
       "      <td>SBP</td>\n",
       "      <td>Systolid blood pressure</td>\n",
       "    </tr>\n",
       "    <tr>\n",
       "      <th>9</th>\n",
       "      <td>DBP</td>\n",
       "      <td>Diastolic blood pressure</td>\n",
       "    </tr>\n",
       "    <tr>\n",
       "      <th>10</th>\n",
       "      <td>HR</td>\n",
       "      <td>Heart rate</td>\n",
       "    </tr>\n",
       "    <tr>\n",
       "      <th>11</th>\n",
       "      <td>RR</td>\n",
       "      <td>Respiration rate</td>\n",
       "    </tr>\n",
       "    <tr>\n",
       "      <th>12</th>\n",
       "      <td>BT</td>\n",
       "      <td>Body temperature</td>\n",
       "    </tr>\n",
       "    <tr>\n",
       "      <th>13</th>\n",
       "      <td>Saturation</td>\n",
       "      <td>Saturation to use pulse oxmeter</td>\n",
       "    </tr>\n",
       "    <tr>\n",
       "      <th>14</th>\n",
       "      <td>KTAS_RN</td>\n",
       "      <td>KTAS result of nuses in ED</td>\n",
       "    </tr>\n",
       "    <tr>\n",
       "      <th>15</th>\n",
       "      <td>Disposition</td>\n",
       "      <td>1: Discharge / 2: Ward admission / 3: ICU admi...</td>\n",
       "    </tr>\n",
       "    <tr>\n",
       "      <th>16</th>\n",
       "      <td>KTAS_expert</td>\n",
       "      <td>KTAS result of experts</td>\n",
       "    </tr>\n",
       "    <tr>\n",
       "      <th>17</th>\n",
       "      <td>Error_group</td>\n",
       "      <td>1: Vital sign / 2: Physical exam / 3: Psychatr...</td>\n",
       "    </tr>\n",
       "    <tr>\n",
       "      <th>18</th>\n",
       "      <td>Length of stay_min</td>\n",
       "      <td>Length of stay (minutes)</td>\n",
       "    </tr>\n",
       "    <tr>\n",
       "      <th>19</th>\n",
       "      <td>KTAS duration_min</td>\n",
       "      <td>KTAS duration (minutes)</td>\n",
       "    </tr>\n",
       "    <tr>\n",
       "      <th>20</th>\n",
       "      <td>Mistriage</td>\n",
       "      <td>0: Correct / 1: Over triage / 2: Under triage</td>\n",
       "    </tr>\n",
       "  </tbody>\n",
       "</table>\n",
       "</div>"
      ],
      "text/plain": [
       "                       Group  \\\n",
       "0                        Sex   \n",
       "1                       Age    \n",
       "2   Patients number per hour   \n",
       "3               Arrival mode   \n",
       "4                     Injury   \n",
       "5                    Mental    \n",
       "6                      Pain    \n",
       "7                   NRS_pain   \n",
       "8                        SBP   \n",
       "9                        DBP   \n",
       "10                        HR   \n",
       "11                        RR   \n",
       "12                        BT   \n",
       "13                Saturation   \n",
       "14                   KTAS_RN   \n",
       "15               Disposition   \n",
       "16               KTAS_expert   \n",
       "17               Error_group   \n",
       "18        Length of stay_min   \n",
       "19         KTAS duration_min   \n",
       "20                 Mistriage   \n",
       "\n",
       "                         1: Local ED / 2: Regional ED  \n",
       "0                                 1: Female / 2: Male  \n",
       "1                                         Age (Years)  \n",
       "2                                Patients number/hous  \n",
       "3   1: Walking / 2: 119 use / 3: Private car / 4: ...  \n",
       "4                           1: Non-injury / 2: Injury  \n",
       "5   1: Alert / 2: Verval response / 3: Pain respon...  \n",
       "6                               1: Pain / 2: Non-pain  \n",
       "7                       Numeric rating scales of pain  \n",
       "8                             Systolid blood pressure  \n",
       "9                            Diastolic blood pressure  \n",
       "10                                         Heart rate  \n",
       "11                                   Respiration rate  \n",
       "12                                   Body temperature  \n",
       "13                    Saturation to use pulse oxmeter  \n",
       "14                         KTAS result of nuses in ED  \n",
       "15  1: Discharge / 2: Ward admission / 3: ICU admi...  \n",
       "16                             KTAS result of experts  \n",
       "17  1: Vital sign / 2: Physical exam / 3: Psychatr...  \n",
       "18                           Length of stay (minutes)  \n",
       "19                            KTAS duration (minutes)  \n",
       "20      0: Correct / 1: Over triage / 2: Under triage  "
      ]
     },
     "execution_count": 11,
     "metadata": {},
     "output_type": "execute_result"
    }
   ],
   "source": [
    "pd.read_csv(\"/project/ds5559/group2_triage/ds5110_final_project/data_dictionary.csv\")"
   ]
  },
  {
   "cell_type": "code",
   "execution_count": 12,
   "metadata": {},
   "outputs": [
    {
     "data": {
      "text/plain": [
       "['Group,Sex,Age,Patients number per hour,Arrival mode,Injury,Chief_complain,Mental,Pain,NRS_pain,SBP,DBP,HR,RR,BT,Saturation,KTAS_RN,Diagnosis in ED,Disposition,KTAS_expert,Error_group,Length of stay_min,KTAS duration_min,mistriage',\n",
       " '2,2,71,3,3,2,right ocular pain,1,1,2,160,100,84,18,36.6,100,2,Corneal abrasion,1,4,2,86,5.00,1',\n",
       " '1,1,56,12,3,2,right forearm burn,1,1,2,137,75,60,20,36.5,,4,\"Burn of hand, firts degree dorsum\",1,5,4,64,3.95,1',\n",
       " '2,1,68,8,2,2,\"arm pain, Lt\",1,1,2,130,80,102,20,36.6,98,4,\"Fracture of surgical neck of humerus, closed\",2,5,4,862,1.00,1',\n",
       " '1,2,71,8,1,1,ascites tapping,1,1,3,139,94,88,20,36.5,,4,Alcoholic liver cirrhosis with ascites,1,5,6,108,9.83,1']"
      ]
     },
     "execution_count": 12,
     "metadata": {},
     "output_type": "execute_result"
    }
   ],
   "source": [
    "encounters = sc.textFile(\"/project/ds5559/group2_triage/ds5110_final_project/triage_data.csv\")\n",
    "encounters.take(5)"
   ]
  },
  {
   "cell_type": "code",
   "execution_count": 14,
   "metadata": {},
   "outputs": [
    {
     "name": "stdout",
     "output_type": "stream",
     "text": [
      "+-----+---+---+------------------------+------------+------+--------------------+------+----+--------+---+---+---+---+----+----------+-------+--------------------+-----------+-----------+-----------+------------------+-----------------+---------+\n",
      "|Group|Sex|Age|Patients number per hour|Arrival mode|Injury|      Chief_complain|Mental|Pain|NRS_pain|SBP|DBP| HR| RR|  BT|Saturation|KTAS_RN|     Diagnosis in ED|Disposition|KTAS_expert|Error_group|Length of stay_min|KTAS duration_min|mistriage|\n",
      "+-----+---+---+------------------------+------------+------+--------------------+------+----+--------+---+---+---+---+----+----------+-------+--------------------+-----------+-----------+-----------+------------------+-----------------+---------+\n",
      "|    2|  2| 71|                       3|           3|     2|   right ocular pain|     1|   1|       2|160|100| 84| 18|36.6|       100|      2|    Corneal abrasion|          1|          4|          2|                86|             5.00|        1|\n",
      "|    1|  1| 56|                      12|           3|     2|  right forearm burn|     1|   1|       2|137| 75| 60| 20|36.5|      null|      4|Burn of hand, fir...|          1|          5|          4|                64|             3.95|        1|\n",
      "|    2|  1| 68|                       8|           2|     2|        arm pain, Lt|     1|   1|       2|130| 80|102| 20|36.6|        98|      4|Fracture of surgi...|          2|          5|          4|               862|             1.00|        1|\n",
      "|    1|  2| 71|                       8|           1|     1|     ascites tapping|     1|   1|       3|139| 94| 88| 20|36.5|      null|      4|Alcoholic liver c...|          1|          5|          6|               108|             9.83|        1|\n",
      "|    1|  2| 58|                       4|           3|     1|     distension, abd|     1|   1|       3| 91| 67| 93| 18|36.5|      null|      4|             Ascites|          1|          5|          8|               109|             6.60|        1|\n",
      "|    2|  1| 54|                       6|           4|     1|               fever|     1|   1|       3|140| 90| 94| 20|38.1|        98|      3|  Fever, unspecified|          2|          4|          1|              9246|             2.00|        1|\n",
      "|    2|  2| 49|                      11|           3|     1|With chest discom...|     1|   1|       3|110| 70| 70| 20|36.2|        98|      2|Angina pectoris, ...|          1|          3|          2|               400|             3.00|        1|\n",
      "|    1|  2| 78|                      14|           3|     1|         pain, chest|     1|   1|       3|169| 86| 80| 20|  36|      null|      2|Acute coronary sy...|          1|          3|          2|               247|            10.23|        1|\n",
      "|    1|  2| 32|                      10|           3|     1| LBP - Low back pain|     1|   1|       3|140| 75| 91| 20|36.6|      null|      4|Herniated disc di...|          1|          5|          4|                59|             3.23|        1|\n",
      "|    2|  1| 38|                       6|           3|     1|      Eczema, Eyelid|     1|   1|       3|130| 80| 80| 20|36.3|        97|      4|         Ocular pain|          1|          5|          4|               185|             4.00|        1|\n",
      "+-----+---+---+------------------------+------------+------+--------------------+------+----+--------+---+---+---+---+----+----------+-------+--------------------+-----------+-----------+-----------+------------------+-----------------+---------+\n",
      "only showing top 10 rows\n",
      "\n"
     ]
    }
   ],
   "source": [
    "spark.read.csv(\"/project/ds5559/group2_triage/ds5110_final_project/triage_data.csv\", header = True).show(10)"
   ]
  },
  {
   "cell_type": "code",
   "execution_count": 15,
   "metadata": {},
   "outputs": [],
   "source": [
    "header = encounters.first()\n",
    "encounters_no_header = encounters.filter(lambda x: header != x)"
   ]
  },
  {
   "cell_type": "code",
   "execution_count": 16,
   "metadata": {},
   "outputs": [
    {
     "data": {
      "text/plain": [
       "'Group,Sex,Age,Patients number per hour,Arrival mode,Injury,Chief_complain,Mental,Pain,NRS_pain,SBP,DBP,HR,RR,BT,Saturation,KTAS_RN,Diagnosis in ED,Disposition,KTAS_expert,Error_group,Length of stay_min,KTAS duration_min,mistriage'"
      ]
     },
     "execution_count": 16,
     "metadata": {},
     "output_type": "execute_result"
    }
   ],
   "source": [
    "header"
   ]
  },
  {
   "cell_type": "code",
   "execution_count": 17,
   "metadata": {},
   "outputs": [
    {
     "data": {
      "text/plain": [
       "['2,2,71,3,3,2,right ocular pain,1,1,2,160,100,84,18,36.6,100,2,Corneal abrasion,1,4,2,86,5.00,1',\n",
       " '1,1,56,12,3,2,right forearm burn,1,1,2,137,75,60,20,36.5,,4,\"Burn of hand, firts degree dorsum\",1,5,4,64,3.95,1',\n",
       " '2,1,68,8,2,2,\"arm pain, Lt\",1,1,2,130,80,102,20,36.6,98,4,\"Fracture of surgical neck of humerus, closed\",2,5,4,862,1.00,1',\n",
       " '1,2,71,8,1,1,ascites tapping,1,1,3,139,94,88,20,36.5,,4,Alcoholic liver cirrhosis with ascites,1,5,6,108,9.83,1',\n",
       " '1,2,58,4,3,1,\"distension, abd\",1,1,3,91,67,93,18,36.5,,4,Ascites,1,5,8,109,6.60,1']"
      ]
     },
     "execution_count": 17,
     "metadata": {},
     "output_type": "execute_result"
    }
   ],
   "source": [
    "encounters_no_header.take(5)"
   ]
  },
  {
   "cell_type": "code",
   "execution_count": 18,
   "metadata": {},
   "outputs": [
    {
     "data": {
      "text/plain": [
       "6"
      ]
     },
     "execution_count": 18,
     "metadata": {},
     "output_type": "execute_result"
    }
   ],
   "source": [
    "index_cc = header.split(\",\").index(\"Chief_complain\")\n",
    "index_cc"
   ]
  },
  {
   "cell_type": "code",
   "execution_count": 19,
   "metadata": {},
   "outputs": [
    {
     "data": {
      "text/plain": [
       "['2,2,71,3,3,2,right ocular pain,1,1,2,160,100,84,18,36.6,100,2,corneal abrasion,1,4,2,86,5.00,1',\n",
       " '1,1,56,12,3,2,right forearm burn,1,1,2,137,75,60,20,36.5,,4,\"burn of hand, firts degree dorsum\",1,5,4,64,3.95,1',\n",
       " '2,1,68,8,2,2,\"arm pain, lt\",1,1,2,130,80,102,20,36.6,98,4,\"fracture of surgical neck of humerus, closed\",2,5,4,862,1.00,1',\n",
       " '1,2,71,8,1,1,ascites tapping,1,1,3,139,94,88,20,36.5,,4,alcoholic liver cirrhosis with ascites,1,5,6,108,9.83,1',\n",
       " '1,2,58,4,3,1,\"distension, abd\",1,1,3,91,67,93,18,36.5,,4,ascites,1,5,8,109,6.60,1']"
      ]
     },
     "execution_count": 19,
     "metadata": {},
     "output_type": "execute_result"
    }
   ],
   "source": [
    "encounters_lower = encounters_no_header.map(lambda x: x.lower())\n",
    "encounters_lower.take(5)"
   ]
  },
  {
   "cell_type": "code",
   "execution_count": 20,
   "metadata": {},
   "outputs": [
    {
     "data": {
      "text/plain": [
       "['2,2,71,3,3,2,right ocular pain,1,1,2,160,100,84,18,36.6,100,2,corneal abrasion,1,4,2,86,5.00,1',\n",
       " '1,1,56,12,3,2,right forearm burn,1,1,2,137,75,60,20,36.5,,4,\"burn of hand, firts degree dorsum\",1,5,4,64,3.95,1',\n",
       " '2,1,68,8,2,2,\"arm pain, lt\",1,1,2,130,80,102,20,36.6,98,4,\"fracture of surgical neck of humerus, closed\",2,5,4,862,1.00,1',\n",
       " '1,2,71,8,1,1,ascites tapping,1,1,3,139,94,88,20,36.5,,4,alcoholic liver cirrhosis with ascites,1,5,6,108,9.83,1',\n",
       " '1,2,58,4,3,1,\"distension, abd\",1,1,3,91,67,93,18,36.5,,4,ascites,1,5,8,109,6.60,1',\n",
       " '2,1,54,6,4,1,fever,1,1,3,140,90,94,20,38.1,98,3,\"fever, unspecified\",2,4,1,9246,2.00,1',\n",
       " '2,2,49,11,3,1,with chest discomfort,1,1,3,110,70,70,20,36.2,98,2,\"angina pectoris, unspecified\",1,3,2,400,3.00,1',\n",
       " '1,2,78,14,3,1,\"pain, chest\",1,1,3,169,86,80,20,36,,2,acute coronary syndrome,1,3,2,247,10.23,1',\n",
       " '1,2,32,10,3,1,lbp - low back pain,1,1,3,140,75,91,20,36.6,,4,herniated disc disease of lumbar spine with radiculopathy,1,5,4,59,3.23,1',\n",
       " '2,1,38,6,3,1,\"eczema, eyelid\",1,1,3,130,80,80,20,36.3,97,4,ocular pain,1,5,4,185,4.00,1',\n",
       " '1,2,43,3,3,1,acute epigastric pain,1,1,3,148,104,72,16,36.5,,3,acute gastritis,1,4,4,176,7.53,1',\n",
       " '1,2,45,3,3,1,\"pain, leg\",1,1,3,141,81,86,18,36.6,,4,gout site unspecified,1,5,4,45,7.15,1',\n",
       " '2,1,53,10,3,1,epigastric pain,1,1,3,120,80,106,20,36.2,98,3,infectious or septic colitis,1,4,4,8067,5.00,1',\n",
       " '1,2,55,9,3,1,abd pain,1,1,3,121,78,80,20,36.4,,2,acute peritonitis,2,4,4,217,8.00,1',\n",
       " '1,2,58,4,3,1,headache,1,1,3,135,82,106,20,37.6,,3,infective endocarditis,2,4,4,1318,9.88,1',\n",
       " '2,1,65,12,4,1,headache,1,1,3,140,100,80,20,36.0,98,3,\"subarachnoid haemorrhage, unspecified\",2,4,4,153,3.00,1',\n",
       " '1,2,69,11,2,1,설사,1,1,4,121,76,85,20,37.4,,3,acute gastroenteritis,1,4,1,363,10.53,1',\n",
       " '2,2,53,12,2,2,open wound,1,1,4,130,80,100,20,36.4,97,2,\"open wound of other parts of head, face\",2,3,2,613,4.00,1',\n",
       " '2,1,20,10,3,1,ruq pain,1,1,4,100,60,90,20,36.4,98,2,hepatitis nos,1,3,4,745,4.00,1',\n",
       " '1,2,38,3,2,1,gingival swelling,1,1,4,133,93,109,16,36.5,,3,odontogenic infection,1,4,4,349,12.45,1',\n",
       " '2,1,79,3,4,2,chin pain,1,1,4,110,70,80,20,36.2,98,3,\"closed fracture of humerus, nos\",2,4,4,8199,3.00,1',\n",
       " '1,2,20,12,3,2,finger injury,1,1,5,140,62,68,20,36.5,,3,dislocation of finger,1,4,2,105,10.23,1',\n",
       " '1,1,24,4,3,1,skin rash,1,1,5,110,66,125,20,37,,2,anaphylaxis,1,3,2,118,9.48,1',\n",
       " '2,2,59,8,4,1,rt. side motor weakness,1,1,5,140,80,88,20,36.5,97,2,\"intracranial haemorrhage (nontraumatic), unspecified\",2,3,2,143,4.00,1',\n",
       " '1,2,77,6,2,1,lt. hip joint pain,1,1,5,124,72,94,16,37.1,,3,\"fracture of femur, intertrochanter closed\",5,4,2,599,5.50,1',\n",
       " '1,2,37,6,2,2,face laceration,2,1,5,118,79,76,20,36.8,,3,acute intoxication of alcohol,1,4,4,553,8.78,1',\n",
       " '2,1,62,2,3,1,throat pain,1,1,6,140,90,98,22,36.8,98,2,acute epiglottitis without obstruction,2,3,4,1242,4.00,1',\n",
       " '2,2,74,12,4,2,chest wall pain right,1,1,8,80,50,98,22,36.1,98,1,\"multiple fracture of involving three ribs,closed\",2,2,1,207,4.00,1']"
      ]
     },
     "execution_count": 20,
     "metadata": {},
     "output_type": "execute_result"
    }
   ],
   "source": [
    "encounters_lower.take(28)"
   ]
  },
  {
   "cell_type": "code",
   "execution_count": 21,
   "metadata": {},
   "outputs": [
    {
     "data": {
      "text/plain": [
       "['2,2,71,3,3,2,right ocular pain,1,1,2,160,100,84,18,36.6,100,2,corneal abrasion,1,4,2,86,5.00,1',\n",
       " '1,1,56,12,3,2,right forearm burn,1,1,2,137,75,60,20,36.5,,4,\"burn of hand;firts degree dorsum\",1,5,4,64,3.95,1',\n",
       " '2,1,68,8,2,2,\"arm pain, lt\",1,1,2,130,80,102,20,36.6,98,4,\"fracture of surgical neck of humerus;closed\",2,5,4,862,1.00,1',\n",
       " '1,2,71,8,1,1,ascites tapping,1,1,3,139,94,88,20,36.5,,4,alcoholic liver cirrhosis with ascites,1,5,6,108,9.83,1',\n",
       " '1,2,58,4,3,1,\"distension;abd\",1,1,3,91,67,93,18,36.5,,4,ascites,1,5,8,109,6.60,1',\n",
       " '2,1,54,6,4,1,fever,1,1,3,140,90,94,20,38.1,98,3,\"fever;unspecified\",2,4,1,9246,2.00,1',\n",
       " '2,2,49,11,3,1,with chest discomfort,1,1,3,110,70,70,20,36.2,98,2,\"angina pectoris;unspecified\",1,3,2,400,3.00,1',\n",
       " '1,2,78,14,3,1,\"pain;chest\",1,1,3,169,86,80,20,36,,2,acute coronary syndrome,1,3,2,247,10.23,1',\n",
       " '1,2,32,10,3,1,lbp - low back pain,1,1,3,140,75,91,20,36.6,,4,herniated disc disease of lumbar spine with radiculopathy,1,5,4,59,3.23,1',\n",
       " '2,1,38,6,3,1,\"eczema;eyelid\",1,1,3,130,80,80,20,36.3,97,4,ocular pain,1,5,4,185,4.00,1',\n",
       " '1,2,43,3,3,1,acute epigastric pain,1,1,3,148,104,72,16,36.5,,3,acute gastritis,1,4,4,176,7.53,1',\n",
       " '1,2,45,3,3,1,\"pain;leg\",1,1,3,141,81,86,18,36.6,,4,gout site unspecified,1,5,4,45,7.15,1',\n",
       " '2,1,53,10,3,1,epigastric pain,1,1,3,120,80,106,20,36.2,98,3,infectious or septic colitis,1,4,4,8067,5.00,1',\n",
       " '1,2,55,9,3,1,abd pain,1,1,3,121,78,80,20,36.4,,2,acute peritonitis,2,4,4,217,8.00,1',\n",
       " '1,2,58,4,3,1,headache,1,1,3,135,82,106,20,37.6,,3,infective endocarditis,2,4,4,1318,9.88,1',\n",
       " '2,1,65,12,4,1,headache,1,1,3,140,100,80,20,36.0,98,3,\"subarachnoid haemorrhage;unspecified\",2,4,4,153,3.00,1',\n",
       " '1,2,69,11,2,1,설사,1,1,4,121,76,85,20,37.4,,3,acute gastroenteritis,1,4,1,363,10.53,1',\n",
       " '2,2,53,12,2,2,open wound,1,1,4,130,80,100,20,36.4,97,2,\"open wound of other parts of head;face\",2,3,2,613,4.00,1',\n",
       " '2,1,20,10,3,1,ruq pain,1,1,4,100,60,90,20,36.4,98,2,hepatitis nos,1,3,4,745,4.00,1',\n",
       " '1,2,38,3,2,1,gingival swelling,1,1,4,133,93,109,16,36.5,,3,odontogenic infection,1,4,4,349,12.45,1',\n",
       " '2,1,79,3,4,2,chin pain,1,1,4,110,70,80,20,36.2,98,3,\"closed fracture of humerus;nos\",2,4,4,8199,3.00,1',\n",
       " '1,2,20,12,3,2,finger injury,1,1,5,140,62,68,20,36.5,,3,dislocation of finger,1,4,2,105,10.23,1',\n",
       " '1,1,24,4,3,1,skin rash,1,1,5,110,66,125,20,37,,2,anaphylaxis,1,3,2,118,9.48,1',\n",
       " '2,2,59,8,4,1,rt. side motor weakness,1,1,5,140,80,88,20,36.5,97,2,\"intracranial haemorrhage (nontraumatic);unspecified\",2,3,2,143,4.00,1',\n",
       " '1,2,77,6,2,1,lt. hip joint pain,1,1,5,124,72,94,16,37.1,,3,\"fracture of femur;intertrochanter closed\",5,4,2,599,5.50,1',\n",
       " '1,2,37,6,2,2,face laceration,2,1,5,118,79,76,20,36.8,,3,acute intoxication of alcohol,1,4,4,553,8.78,1',\n",
       " '2,1,62,2,3,1,throat pain,1,1,6,140,90,98,22,36.8,98,2,acute epiglottitis without obstruction,2,3,4,1242,4.00,1',\n",
       " '2,2,74,12,4,2,chest wall pain right,1,1,8,80,50,98,22,36.1,98,1,\"multiple fracture of involving three ribs;closed\",2,2,1,207,4.00,1']"
      ]
     },
     "execution_count": 21,
     "metadata": {},
     "output_type": "execute_result"
    }
   ],
   "source": [
    "encounters_comma = encounters_lower.map(lambda row: re.sub('(\".*)(,\\s*)(.*\")', r'\\1;\\3', row))\n",
    "encounters_comma.take(28)"
   ]
  },
  {
   "cell_type": "code",
   "execution_count": 22,
   "metadata": {},
   "outputs": [
    {
     "data": {
      "text/plain": [
       "['2,2,71,3,3,2,right ocular pain,1,1,2,160,100,84,18,366,100,2,corneal abrasion,1,4,2,86,500,1',\n",
       " '1,1,56,12,3,2,right forearm burn,1,1,2,137,75,60,20,365,,4,burn of hand;firts degree dorsum,1,5,4,64,395,1',\n",
       " '2,1,68,8,2,2,arm pain, lt,1,1,2,130,80,102,20,366,98,4,fracture of surgical neck of humerus;closed,2,5,4,862,100,1',\n",
       " '1,2,71,8,1,1,ascites tapping,1,1,3,139,94,88,20,365,,4,alcoholic liver cirrhosis with ascites,1,5,6,108,983,1',\n",
       " '1,2,58,4,3,1,distension;abd,1,1,3,91,67,93,18,365,,4,ascites,1,5,8,109,660,1',\n",
       " '2,1,54,6,4,1,fever,1,1,3,140,90,94,20,381,98,3,fever;unspecified,2,4,1,9246,200,1',\n",
       " '2,2,49,11,3,1,with chest discomfort,1,1,3,110,70,70,20,362,98,2,angina pectoris;unspecified,1,3,2,400,300,1',\n",
       " '1,2,78,14,3,1,pain;chest,1,1,3,169,86,80,20,36,,2,acute coronary syndrome,1,3,2,247,1023,1',\n",
       " '1,2,32,10,3,1,lbp  low back pain,1,1,3,140,75,91,20,366,,4,herniated disc disease of lumbar spine with radiculopathy,1,5,4,59,323,1',\n",
       " '2,1,38,6,3,1,eczema;eyelid,1,1,3,130,80,80,20,363,97,4,ocular pain,1,5,4,185,400,1',\n",
       " '1,2,43,3,3,1,acute epigastric pain,1,1,3,148,104,72,16,365,,3,acute gastritis,1,4,4,176,753,1',\n",
       " '1,2,45,3,3,1,pain;leg,1,1,3,141,81,86,18,366,,4,gout site unspecified,1,5,4,45,715,1',\n",
       " '2,1,53,10,3,1,epigastric pain,1,1,3,120,80,106,20,362,98,3,infectious or septic colitis,1,4,4,8067,500,1',\n",
       " '1,2,55,9,3,1,abd pain,1,1,3,121,78,80,20,364,,2,acute peritonitis,2,4,4,217,800,1',\n",
       " '1,2,58,4,3,1,headache,1,1,3,135,82,106,20,376,,3,infective endocarditis,2,4,4,1318,988,1',\n",
       " '2,1,65,12,4,1,headache,1,1,3,140,100,80,20,360,98,3,subarachnoid haemorrhage;unspecified,2,4,4,153,300,1',\n",
       " '1,2,69,11,2,1,,1,1,4,121,76,85,20,374,,3,acute gastroenteritis,1,4,1,363,1053,1',\n",
       " '2,2,53,12,2,2,open wound,1,1,4,130,80,100,20,364,97,2,open wound of other parts of head;face,2,3,2,613,400,1',\n",
       " '2,1,20,10,3,1,ruq pain,1,1,4,100,60,90,20,364,98,2,hepatitis nos,1,3,4,745,400,1',\n",
       " '1,2,38,3,2,1,gingival swelling,1,1,4,133,93,109,16,365,,3,odontogenic infection,1,4,4,349,1245,1',\n",
       " '2,1,79,3,4,2,chin pain,1,1,4,110,70,80,20,362,98,3,closed fracture of humerus;nos,2,4,4,8199,300,1',\n",
       " '1,2,20,12,3,2,finger injury,1,1,5,140,62,68,20,365,,3,dislocation of finger,1,4,2,105,1023,1',\n",
       " '1,1,24,4,3,1,skin rash,1,1,5,110,66,125,20,37,,2,anaphylaxis,1,3,2,118,948,1',\n",
       " '2,2,59,8,4,1,rt side motor weakness,1,1,5,140,80,88,20,365,97,2,intracranial haemorrhage nontraumatic;unspecified,2,3,2,143,400,1',\n",
       " '1,2,77,6,2,1,lt hip joint pain,1,1,5,124,72,94,16,371,,3,fracture of femur;intertrochanter closed,5,4,2,599,550,1']"
      ]
     },
     "execution_count": 22,
     "metadata": {},
     "output_type": "execute_result"
    }
   ],
   "source": [
    "encounters_english = encounters_comma.map(lambda row: re.sub(\"[^a-zA-Z0-9,;\\s]\", \"\", row))\n",
    "encounters_english.take(25)"
   ]
  },
  {
   "cell_type": "code",
   "execution_count": 23,
   "metadata": {},
   "outputs": [
    {
     "data": {
      "text/plain": [
       "24"
      ]
     },
     "execution_count": 23,
     "metadata": {},
     "output_type": "execute_result"
    }
   ],
   "source": [
    "len(encounters_english.first().split(\",\"))"
   ]
  },
  {
   "cell_type": "code",
   "execution_count": 24,
   "metadata": {},
   "outputs": [
    {
     "data": {
      "text/plain": [
       "[['2',\n",
       "  '2',\n",
       "  '71',\n",
       "  '3',\n",
       "  '3',\n",
       "  '2',\n",
       "  'right ocular pain',\n",
       "  '1',\n",
       "  '1',\n",
       "  '2',\n",
       "  '160',\n",
       "  '100',\n",
       "  '84',\n",
       "  '18',\n",
       "  '366',\n",
       "  '100',\n",
       "  '2',\n",
       "  'corneal abrasion',\n",
       "  '1',\n",
       "  '4',\n",
       "  '2',\n",
       "  '86',\n",
       "  '500',\n",
       "  '1'],\n",
       " ['1',\n",
       "  '1',\n",
       "  '56',\n",
       "  '12',\n",
       "  '3',\n",
       "  '2',\n",
       "  'right forearm burn',\n",
       "  '1',\n",
       "  '1',\n",
       "  '2',\n",
       "  '137',\n",
       "  '75',\n",
       "  '60',\n",
       "  '20',\n",
       "  '365',\n",
       "  '',\n",
       "  '4',\n",
       "  'burn of hand;firts degree dorsum',\n",
       "  '1',\n",
       "  '5',\n",
       "  '4',\n",
       "  '64',\n",
       "  '395',\n",
       "  '1']]"
      ]
     },
     "execution_count": 24,
     "metadata": {},
     "output_type": "execute_result"
    }
   ],
   "source": [
    "encounters_split = encounters_english.map(lambda x: re.sub(\"  \", \"-\", x)) \\\n",
    "                                     .map(lambda x: re.sub(\", ,\", \",,\", x)) \\\n",
    "                                     .map(lambda x: re.sub(\", \", \";\", x)) \\\n",
    "                                     .map(lambda x: x.rstrip()) \\\n",
    "                                     .map(lambda x: x.split(\",\"))\n",
    "encounters_split.take(2)"
   ]
  },
  {
   "cell_type": "code",
   "execution_count": 25,
   "metadata": {},
   "outputs": [
    {
     "data": {
      "text/plain": [
       "'1,1,70,10,3,1,목이 아픔,1,1,3,176,103,73,16,36.8,,5,hyperventilation,1,4,4,161,4.97,2'"
      ]
     },
     "execution_count": 25,
     "metadata": {},
     "output_type": "execute_result"
    }
   ],
   "source": [
    "encounters_comma.take(66)[65]"
   ]
  },
  {
   "cell_type": "code",
   "execution_count": 26,
   "metadata": {},
   "outputs": [
    {
     "data": {
      "text/plain": [
       "'1,1,70,10,3,1, ,1,1,3,176,103,73,16,368,,5,hyperventilation,1,4,4,161,497,2'"
      ]
     },
     "execution_count": 26,
     "metadata": {},
     "output_type": "execute_result"
    }
   ],
   "source": [
    "encounters_english.take(66)[65]"
   ]
  },
  {
   "cell_type": "code",
   "execution_count": 27,
   "metadata": {},
   "outputs": [
    {
     "data": {
      "text/plain": [
       "['1',\n",
       " '1',\n",
       " '70',\n",
       " '10',\n",
       " '3',\n",
       " '1',\n",
       " '',\n",
       " '1',\n",
       " '1',\n",
       " '3',\n",
       " '176',\n",
       " '103',\n",
       " '73',\n",
       " '16',\n",
       " '368',\n",
       " '',\n",
       " '5',\n",
       " 'hyperventilation',\n",
       " '1',\n",
       " '4',\n",
       " '4',\n",
       " '161',\n",
       " '497',\n",
       " '2']"
      ]
     },
     "execution_count": 27,
     "metadata": {},
     "output_type": "execute_result"
    }
   ],
   "source": [
    "encounters_split.take(66)[65]"
   ]
  },
  {
   "cell_type": "code",
   "execution_count": 28,
   "metadata": {},
   "outputs": [
    {
     "data": {
      "text/plain": [
       "24"
      ]
     },
     "execution_count": 28,
     "metadata": {},
     "output_type": "execute_result"
    }
   ],
   "source": [
    "len(encounters_split.take(66)[65])"
   ]
  },
  {
   "cell_type": "code",
   "execution_count": 29,
   "metadata": {},
   "outputs": [
    {
     "name": "stdout",
     "output_type": "stream",
     "text": [
      "+-----+---+---+------------------------+------------+------+------------------+------+----+--------+---+---+---+---+---+----------+-------+-------------------------------------------+-----------+-----------+-----------+------------------+-----------------+---------+\n",
      "|Group|Sex|Age|Patients number per hour|Arrival mode|Injury|Chief_complain    |Mental|Pain|NRS_pain|SBP|DBP|HR |RR |BT |Saturation|KTAS_RN|Diagnosis in ED                            |Disposition|KTAS_expert|Error_group|Length of stay_min|KTAS duration_min|mistriage|\n",
      "+-----+---+---+------------------------+------------+------+------------------+------+----+--------+---+---+---+---+---+----------+-------+-------------------------------------------+-----------+-----------+-----------+------------------+-----------------+---------+\n",
      "|2    |2  |71 |3                       |3           |2     |right ocular pain |1     |1   |2       |160|100|84 |18 |366|100       |2      |corneal abrasion                           |1          |4          |2          |86                |500              |1        |\n",
      "|1    |1  |56 |12                      |3           |2     |right forearm burn|1     |1   |2       |137|75 |60 |20 |365|          |4      |burn of hand;firts degree dorsum           |1          |5          |4          |64                |395              |1        |\n",
      "|2    |1  |68 |8                       |2           |2     |arm pain;lt       |1     |1   |2       |130|80 |102|20 |366|98        |4      |fracture of surgical neck of humerus;closed|2          |5          |4          |862               |100              |1        |\n",
      "|1    |2  |71 |8                       |1           |1     |ascites tapping   |1     |1   |3       |139|94 |88 |20 |365|          |4      |alcoholic liver cirrhosis with ascites     |1          |5          |6          |108               |983              |1        |\n",
      "|1    |2  |58 |4                       |3           |1     |distension;abd    |1     |1   |3       |91 |67 |93 |18 |365|          |4      |ascites                                    |1          |5          |8          |109               |660              |1        |\n",
      "+-----+---+---+------------------------+------------+------+------------------+------+----+--------+---+---+---+---+---+----------+-------+-------------------------------------------+-----------+-----------+-----------+------------------+-----------------+---------+\n",
      "only showing top 5 rows\n",
      "\n"
     ]
    }
   ],
   "source": [
    "df = encounters_split.toDF(header.split(\",\"))\n",
    "df.show(5, truncate = False)"
   ]
  },
  {
   "cell_type": "markdown",
   "metadata": {},
   "source": [
    "## Exploratory Data Analysis"
   ]
  },
  {
   "cell_type": "code",
   "execution_count": 41,
   "metadata": {},
   "outputs": [
    {
     "data": {
      "text/plain": [
       "1267"
      ]
     },
     "execution_count": 41,
     "metadata": {},
     "output_type": "execute_result"
    }
   ],
   "source": [
    "# Number of rows in the dataset\n",
    "num_rows = df.count()\n",
    "num_rows"
   ]
  },
  {
   "cell_type": "code",
   "execution_count": 31,
   "metadata": {},
   "outputs": [
    {
     "data": {
      "text/plain": [
       "24"
      ]
     },
     "execution_count": 31,
     "metadata": {},
     "output_type": "execute_result"
    }
   ],
   "source": [
    "# Number of columns in the dataset\n",
    "len(df.columns)"
   ]
  },
  {
   "cell_type": "code",
   "execution_count": 44,
   "metadata": {},
   "outputs": [
    {
     "name": "stdout",
     "output_type": "stream",
     "text": [
      "+---------+-----+--------------------+\n",
      "|mistriage|count|          percentage|\n",
      "+---------+-----+--------------------+\n",
      "|        0| 1081|  0.8531965272296764|\n",
      "|        1|   55|0.043409629044988164|\n",
      "|        2|  131| 0.10339384372533544|\n",
      "+---------+-----+--------------------+\n",
      "\n"
     ]
    }
   ],
   "source": [
    "mistriage_df = df.groupby(\"mistriage\").count()\n",
    "mistriage_df = mistriage_df.withColumn(\"percentage\", mistriage_df[\"count\"] / num_rows)\n",
    "mistriage_df.show()"
   ]
  },
  {
   "cell_type": "code",
   "execution_count": 65,
   "metadata": {},
   "outputs": [],
   "source": [
    "cat_features = [\"Group\", \"Sex\", \"Arrival mode\", \"Injury\", \"Mental\", \"Pain\", \"Disposition\", \"Error_group\"]\n",
    "num_features = [\"Age\", \"Patients number per hour\", \"NRS_pain\", \"SBP\", \"DBP\", \"HR\", \"RR\", \"BT\", \"Saturation\", \"KTAS_RN\", \"KTAS_expert\", \"Length of stay_min\", \"KTAS duration_min\"]"
   ]
  },
  {
   "cell_type": "code",
   "execution_count": 67,
   "metadata": {},
   "outputs": [
    {
     "name": "stdout",
     "output_type": "stream",
     "text": [
      "+-----+---+------------+------+------+----+-----------+-----------+\n",
      "|Group|Sex|Arrival mode|Injury|Mental|Pain|Disposition|Error_group|\n",
      "+-----+---+------------+------+------+----+-----------+-----------+\n",
      "|    2|  2|           3|     2|     1|   1|          1|          2|\n",
      "|    1|  1|           3|     2|     1|   1|          1|          4|\n",
      "|    2|  1|           2|     2|     1|   1|          2|          4|\n",
      "|    1|  2|           1|     1|     1|   1|          1|          6|\n",
      "|    1|  2|           3|     1|     1|   1|          1|          8|\n",
      "+-----+---+------------+------+------+----+-----------+-----------+\n",
      "only showing top 5 rows\n",
      "\n"
     ]
    }
   ],
   "source": [
    "cat_df = df.select(cat_features)\n",
    "cat_df.show(5)"
   ]
  },
  {
   "cell_type": "code",
   "execution_count": 69,
   "metadata": {},
   "outputs": [
    {
     "name": "stdout",
     "output_type": "stream",
     "text": [
      "+-----+-----+----------+\n",
      "|Group|count|percentage|\n",
      "+-----+-----+----------+\n",
      "|    1|  688|     344.0|\n",
      "|    2|  579|     289.5|\n",
      "+-----+-----+----------+\n",
      "\n",
      "+---+-----+----------+\n",
      "|Sex|count|percentage|\n",
      "+---+-----+----------+\n",
      "|  1|  606|     303.0|\n",
      "|  2|  661|     330.5|\n",
      "+---+-----+----------+\n",
      "\n",
      "+------------+-----+------------------+\n",
      "|Arrival mode|count|        percentage|\n",
      "+------------+-----+------------------+\n",
      "|           7|    2|0.2857142857142857|\n",
      "|           3|  753|107.57142857142857|\n",
      "|           5|    2|0.2857142857142857|\n",
      "|           6|   10|1.4285714285714286|\n",
      "|           1|   79|11.285714285714286|\n",
      "|           4|  155|22.142857142857142|\n",
      "|           2|  266|              38.0|\n",
      "+------------+-----+------------------+\n",
      "\n",
      "+------+-----+----------+\n",
      "|Injury|count|percentage|\n",
      "+------+-----+----------+\n",
      "|     1| 1023|     511.5|\n",
      "|     2|  244|     122.0|\n",
      "+------+-----+----------+\n",
      "\n",
      "+------+-----+----------+\n",
      "|Mental|count|percentage|\n",
      "+------+-----+----------+\n",
      "|     3|   28|       7.0|\n",
      "|     1| 1187|    296.75|\n",
      "|     4|   13|      3.25|\n",
      "|     2|   39|      9.75|\n",
      "+------+-----+----------+\n",
      "\n",
      "+----+-----+----------+\n",
      "|Pain|count|percentage|\n",
      "+----+-----+----------+\n",
      "|   0|  553|     276.5|\n",
      "|   1|  714|     357.0|\n",
      "+----+-----+----------+\n",
      "\n",
      "+-----------+-----+------------------+\n",
      "|Disposition|count|        percentage|\n",
      "+-----------+-----+------------------+\n",
      "|          7|   22| 3.142857142857143|\n",
      "|          3|    8|1.1428571428571428|\n",
      "|          5|   32| 4.571428571428571|\n",
      "|          6|    9|1.2857142857142858|\n",
      "|          1|  797|113.85714285714286|\n",
      "|          4|   26|3.7142857142857144|\n",
      "|          2|  373|53.285714285714285|\n",
      "+-----------+-----+------------------+\n",
      "\n",
      "+-----------+-----+----------+\n",
      "|Error_group|count|percentage|\n",
      "+-----------+-----+----------+\n",
      "|          7|    9|       0.9|\n",
      "|          3|    6|       0.6|\n",
      "|          8|    9|       0.9|\n",
      "|         0 | 1081|     108.1|\n",
      "|          5|   13|       1.3|\n",
      "|          6|    9|       0.9|\n",
      "|          9|    7|       0.7|\n",
      "|          1|   22|       2.2|\n",
      "|          4|   64|       6.4|\n",
      "|          2|   47|       4.7|\n",
      "+-----------+-----+----------+\n",
      "\n"
     ]
    }
   ],
   "source": [
    "for i in cat_df.columns:\n",
    "    tmp = cat_df.groupby(i).count()\n",
    "    num_rows = tmp.count()\n",
    "    tmp = tmp.withColumn(\"percentage\", tmp[\"count\"] / num_rows)\n",
    "    tmp.show()"
   ]
  },
  {
   "cell_type": "code",
   "execution_count": 70,
   "metadata": {},
   "outputs": [
    {
     "name": "stdout",
     "output_type": "stream",
     "text": [
      "+---+------------------------+--------+---+---+---+---+---+----------+-------+-----------+------------------+-----------------+\n",
      "|Age|Patients number per hour|NRS_pain|SBP|DBP| HR| RR| BT|Saturation|KTAS_RN|KTAS_expert|Length of stay_min|KTAS duration_min|\n",
      "+---+------------------------+--------+---+---+---+---+---+----------+-------+-----------+------------------+-----------------+\n",
      "| 71|                       3|       2|160|100| 84| 18|366|       100|      2|          4|                86|              500|\n",
      "| 56|                      12|       2|137| 75| 60| 20|365|          |      4|          5|                64|              395|\n",
      "| 68|                       8|       2|130| 80|102| 20|366|        98|      4|          5|               862|              100|\n",
      "| 71|                       8|       3|139| 94| 88| 20|365|          |      4|          5|               108|              983|\n",
      "| 58|                       4|       3| 91| 67| 93| 18|365|          |      4|          5|               109|              660|\n",
      "+---+------------------------+--------+---+---+---+---+---+----------+-------+-----------+------------------+-----------------+\n",
      "only showing top 5 rows\n",
      "\n"
     ]
    }
   ],
   "source": [
    "num_df = df.select(num_features)\n",
    "num_df.show(5)"
   ]
  },
  {
   "cell_type": "code",
   "execution_count": 71,
   "metadata": {},
   "outputs": [
    {
     "name": "stdout",
     "output_type": "stream",
     "text": [
      "+-------+---------------+------------------------+---------------+---------------+---------------+---------------+---------------+---------------+---------------+---------------+---------------+------------------+-----------------+\n",
      "|summary|            Age|Patients number per hour|       NRS_pain|            SBP|            DBP|             HR|             RR|             BT|     Saturation|        KTAS_RN|    KTAS_expert|Length of stay_min|KTAS duration_min|\n",
      "+-------+---------------+------------------------+---------------+---------------+---------------+---------------+---------------+---------------+---------------+---------------+---------------+------------------+-----------------+\n",
      "|  count|           1267|                    1267|           1267|           1267|           1267|           1267|           1267|           1267|           1267|           1267|           1267|              1267|             1267|\n",
      "|   mean|54.423835832...|         7.5193370165...|4.1040787623...|133.64895330...|79.780290791...|83.963111467...|19.506827309...|325.99439551...|97.024561403...|3.3354380426...|3.2659826361...|   11016.102604...|  549.74664561...|\n",
      "| stddev|19.725033215...|         3.1605632013...|1.4193324018...|27.275638769...|15.154292398...|16.644095813...|2.0166493429...|107.96911269...|4.3505562217...|0.8853908339...|0.8858033597...|   80446.092065...|  345.94700449...|\n",
      "|    min|             16|                       1|              1|               |               |               |               |               |               |              1|              1|                 0|              100|\n",
      "|    25%|           37.0|                     5.0|            3.0|          114.0|           70.0|           72.0|           18.0|          362.0|           97.0|            3.0|            3.0|             133.0|            300.0|\n",
      "|    50%|           57.0|                     7.0|            4.0|          130.0|           80.0|           82.0|           20.0|          365.0|           98.0|            3.0|            3.0|             274.0|            428.0|\n",
      "|    75%|           71.0|                    10.0|            5.0|          150.0|           90.0|           96.0|           20.0|          367.0|           98.0|            4.0|            4.0|             607.0|            700.0|\n",
      "|    max|             96|                       9|           null|             99|             99|             99|             30|             41|             99|              5|              5|              9989|              995|\n",
      "+-------+---------------+------------------------+---------------+---------------+---------------+---------------+---------------+---------------+---------------+---------------+---------------+------------------+-----------------+\n",
      "\n"
     ]
    }
   ],
   "source": [
    "num_df.summary().show(truncate = 15)"
   ]
  },
  {
   "cell_type": "code",
   "execution_count": 74,
   "metadata": {},
   "outputs": [
    {
     "name": "stdout",
     "output_type": "stream",
     "text": [
      "root\n",
      " |-- Age: string (nullable = true)\n",
      " |-- Patients number per hour: string (nullable = true)\n",
      " |-- NRS_pain: string (nullable = true)\n",
      " |-- SBP: string (nullable = true)\n",
      " |-- DBP: string (nullable = true)\n",
      " |-- HR: string (nullable = true)\n",
      " |-- RR: string (nullable = true)\n",
      " |-- BT: string (nullable = true)\n",
      " |-- Saturation: string (nullable = true)\n",
      " |-- KTAS_RN: string (nullable = true)\n",
      " |-- KTAS_expert: string (nullable = true)\n",
      " |-- Length of stay_min: string (nullable = true)\n",
      " |-- KTAS duration_min: string (nullable = true)\n",
      "\n"
     ]
    }
   ],
   "source": [
    "num_df.printSchema()\n",
    "# Might explain why the max values for some of the features are 99, which is less than some of the other values --> need to change schema before further analysis"
   ]
  },
  {
   "cell_type": "code",
   "execution_count": null,
   "metadata": {},
   "outputs": [],
   "source": []
  }
 ],
 "metadata": {
  "kernelspec": {
   "display_name": "DS 5110 Spark 3.1",
   "language": "python",
   "name": "ds5110_spark3.1"
  },
  "language_info": {
   "codemirror_mode": {
    "name": "ipython",
    "version": 3
   },
   "file_extension": ".py",
   "mimetype": "text/x-python",
   "name": "python",
   "nbconvert_exporter": "python",
   "pygments_lexer": "ipython3",
   "version": "3.7.10"
  }
 },
 "nbformat": 4,
 "nbformat_minor": 4
}
