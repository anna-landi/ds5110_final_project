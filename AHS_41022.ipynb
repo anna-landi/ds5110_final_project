{
 "cells": [
  {
   "cell_type": "markdown",
   "metadata": {},
   "source": [
    "## DS 5110\n",
    "## 5.11: Final Project Assignment\n",
    "### Anahita Sharma (ahs3zq), Anna Landi (aol4h), Zach Jacokes (zj6nw)"
   ]
  },
  {
   "cell_type": "code",
   "execution_count": 1,
   "metadata": {},
   "outputs": [],
   "source": [
    "import numpy as np\n",
    "import pandas as pd\n",
    "import re\n",
    "import os\n",
    "from pyspark.sql import SparkSession"
   ]
  },
  {
   "cell_type": "code",
   "execution_count": 2,
   "metadata": {},
   "outputs": [],
   "source": [
    "spark = SparkSession.builder.getOrCreate()\n",
    "sc = spark.sparkContext"
   ]
  },
  {
   "cell_type": "markdown",
   "metadata": {},
   "source": [
    "## Data Cleaning"
   ]
  },
  {
   "cell_type": "code",
   "execution_count": 3,
   "metadata": {},
   "outputs": [
    {
     "data": {
      "text/html": [
       "<div>\n",
       "<style scoped>\n",
       "    .dataframe tbody tr th:only-of-type {\n",
       "        vertical-align: middle;\n",
       "    }\n",
       "\n",
       "    .dataframe tbody tr th {\n",
       "        vertical-align: top;\n",
       "    }\n",
       "\n",
       "    .dataframe thead th {\n",
       "        text-align: right;\n",
       "    }\n",
       "</style>\n",
       "<table border=\"1\" class=\"dataframe\">\n",
       "  <thead>\n",
       "    <tr style=\"text-align: right;\">\n",
       "      <th></th>\n",
       "      <th>Group</th>\n",
       "      <th>1: Local ED / 2: Regional ED</th>\n",
       "    </tr>\n",
       "  </thead>\n",
       "  <tbody>\n",
       "    <tr>\n",
       "      <th>0</th>\n",
       "      <td>Sex</td>\n",
       "      <td>1: Female / 2: Male</td>\n",
       "    </tr>\n",
       "    <tr>\n",
       "      <th>1</th>\n",
       "      <td>Age</td>\n",
       "      <td>Age (Years)</td>\n",
       "    </tr>\n",
       "    <tr>\n",
       "      <th>2</th>\n",
       "      <td>Patients number per hour</td>\n",
       "      <td>Patients number/hous</td>\n",
       "    </tr>\n",
       "    <tr>\n",
       "      <th>3</th>\n",
       "      <td>Arrival mode</td>\n",
       "      <td>1: Walking / 2: 119 use / 3: Private car / 4: ...</td>\n",
       "    </tr>\n",
       "    <tr>\n",
       "      <th>4</th>\n",
       "      <td>Injury</td>\n",
       "      <td>1: Non-injury / 2: Injury</td>\n",
       "    </tr>\n",
       "    <tr>\n",
       "      <th>5</th>\n",
       "      <td>Mental</td>\n",
       "      <td>1: Alert / 2: Verval response / 3: Pain respon...</td>\n",
       "    </tr>\n",
       "    <tr>\n",
       "      <th>6</th>\n",
       "      <td>Pain</td>\n",
       "      <td>1: Pain / 2: Non-pain</td>\n",
       "    </tr>\n",
       "    <tr>\n",
       "      <th>7</th>\n",
       "      <td>NRS_pain</td>\n",
       "      <td>Numeric rating scales of pain</td>\n",
       "    </tr>\n",
       "    <tr>\n",
       "      <th>8</th>\n",
       "      <td>SBP</td>\n",
       "      <td>Systolid blood pressure</td>\n",
       "    </tr>\n",
       "    <tr>\n",
       "      <th>9</th>\n",
       "      <td>DBP</td>\n",
       "      <td>Diastolic blood pressure</td>\n",
       "    </tr>\n",
       "    <tr>\n",
       "      <th>10</th>\n",
       "      <td>HR</td>\n",
       "      <td>Heart rate</td>\n",
       "    </tr>\n",
       "    <tr>\n",
       "      <th>11</th>\n",
       "      <td>RR</td>\n",
       "      <td>Respiration rate</td>\n",
       "    </tr>\n",
       "    <tr>\n",
       "      <th>12</th>\n",
       "      <td>BT</td>\n",
       "      <td>Body temperature</td>\n",
       "    </tr>\n",
       "    <tr>\n",
       "      <th>13</th>\n",
       "      <td>Saturation</td>\n",
       "      <td>Saturation to use pulse oxmeter</td>\n",
       "    </tr>\n",
       "    <tr>\n",
       "      <th>14</th>\n",
       "      <td>KTAS_RN</td>\n",
       "      <td>KTAS result of nuses in ED</td>\n",
       "    </tr>\n",
       "    <tr>\n",
       "      <th>15</th>\n",
       "      <td>Disposition</td>\n",
       "      <td>1: Discharge / 2: Ward admission / 3: ICU admi...</td>\n",
       "    </tr>\n",
       "    <tr>\n",
       "      <th>16</th>\n",
       "      <td>KTAS_expert</td>\n",
       "      <td>KTAS result of experts</td>\n",
       "    </tr>\n",
       "    <tr>\n",
       "      <th>17</th>\n",
       "      <td>Error_group</td>\n",
       "      <td>1: Vital sign / 2: Physical exam / 3: Psychatr...</td>\n",
       "    </tr>\n",
       "    <tr>\n",
       "      <th>18</th>\n",
       "      <td>Length of stay_min</td>\n",
       "      <td>Length of stay (minutes)</td>\n",
       "    </tr>\n",
       "    <tr>\n",
       "      <th>19</th>\n",
       "      <td>KTAS duration_min</td>\n",
       "      <td>KTAS duration (minutes)</td>\n",
       "    </tr>\n",
       "    <tr>\n",
       "      <th>20</th>\n",
       "      <td>Mistriage</td>\n",
       "      <td>0: Correct / 1: Over triage / 2: Under triage</td>\n",
       "    </tr>\n",
       "  </tbody>\n",
       "</table>\n",
       "</div>"
      ],
      "text/plain": [
       "                       Group  \\\n",
       "0                        Sex   \n",
       "1                       Age    \n",
       "2   Patients number per hour   \n",
       "3               Arrival mode   \n",
       "4                     Injury   \n",
       "5                    Mental    \n",
       "6                      Pain    \n",
       "7                   NRS_pain   \n",
       "8                        SBP   \n",
       "9                        DBP   \n",
       "10                        HR   \n",
       "11                        RR   \n",
       "12                        BT   \n",
       "13                Saturation   \n",
       "14                   KTAS_RN   \n",
       "15               Disposition   \n",
       "16               KTAS_expert   \n",
       "17               Error_group   \n",
       "18        Length of stay_min   \n",
       "19         KTAS duration_min   \n",
       "20                 Mistriage   \n",
       "\n",
       "                         1: Local ED / 2: Regional ED  \n",
       "0                                 1: Female / 2: Male  \n",
       "1                                         Age (Years)  \n",
       "2                                Patients number/hous  \n",
       "3   1: Walking / 2: 119 use / 3: Private car / 4: ...  \n",
       "4                           1: Non-injury / 2: Injury  \n",
       "5   1: Alert / 2: Verval response / 3: Pain respon...  \n",
       "6                               1: Pain / 2: Non-pain  \n",
       "7                       Numeric rating scales of pain  \n",
       "8                             Systolid blood pressure  \n",
       "9                            Diastolic blood pressure  \n",
       "10                                         Heart rate  \n",
       "11                                   Respiration rate  \n",
       "12                                   Body temperature  \n",
       "13                    Saturation to use pulse oxmeter  \n",
       "14                         KTAS result of nuses in ED  \n",
       "15  1: Discharge / 2: Ward admission / 3: ICU admi...  \n",
       "16                             KTAS result of experts  \n",
       "17  1: Vital sign / 2: Physical exam / 3: Psychatr...  \n",
       "18                           Length of stay (minutes)  \n",
       "19                            KTAS duration (minutes)  \n",
       "20      0: Correct / 1: Over triage / 2: Under triage  "
      ]
     },
     "execution_count": 3,
     "metadata": {},
     "output_type": "execute_result"
    }
   ],
   "source": [
    "pd.read_csv(\"/project/ds5559/group2_triage/ds5110_final_project/data_dictionary.csv\")"
   ]
  },
  {
   "cell_type": "code",
   "execution_count": 4,
   "metadata": {},
   "outputs": [
    {
     "data": {
      "text/plain": [
       "['Group,Sex,Age,Patients number per hour,Arrival mode,Injury,Chief_complain,Mental,Pain,NRS_pain,SBP,DBP,HR,RR,BT,Saturation,KTAS_RN,Diagnosis in ED,Disposition,KTAS_expert,Error_group,Length of stay_min,KTAS duration_min,mistriage',\n",
       " '2,2,71,3,3,2,right ocular pain,1,1,2,160,100,84,18,36.6,100,2,Corneal abrasion,1,4,2,86,5.00,1',\n",
       " '1,1,56,12,3,2,right forearm burn,1,1,2,137,75,60,20,36.5,,4,\"Burn of hand, firts degree dorsum\",1,5,4,64,3.95,1',\n",
       " '2,1,68,8,2,2,\"arm pain, Lt\",1,1,2,130,80,102,20,36.6,98,4,\"Fracture of surgical neck of humerus, closed\",2,5,4,862,1.00,1',\n",
       " '1,2,71,8,1,1,ascites tapping,1,1,3,139,94,88,20,36.5,,4,Alcoholic liver cirrhosis with ascites,1,5,6,108,9.83,1']"
      ]
     },
     "execution_count": 4,
     "metadata": {},
     "output_type": "execute_result"
    }
   ],
   "source": [
    "encounters = sc.textFile(\"/project/ds5559/group2_triage/ds5110_final_project/triage_data.csv\")\n",
    "encounters.take(5)"
   ]
  },
  {
   "cell_type": "code",
   "execution_count": 5,
   "metadata": {},
   "outputs": [
    {
     "name": "stdout",
     "output_type": "stream",
     "text": [
      "+-----+---+---+------------------------+------------+------+--------------------+------+----+--------+---+---+---+---+----+----------+-------+--------------------+-----------+-----------+-----------+------------------+-----------------+---------+\n",
      "|Group|Sex|Age|Patients number per hour|Arrival mode|Injury|      Chief_complain|Mental|Pain|NRS_pain|SBP|DBP| HR| RR|  BT|Saturation|KTAS_RN|     Diagnosis in ED|Disposition|KTAS_expert|Error_group|Length of stay_min|KTAS duration_min|mistriage|\n",
      "+-----+---+---+------------------------+------------+------+--------------------+------+----+--------+---+---+---+---+----+----------+-------+--------------------+-----------+-----------+-----------+------------------+-----------------+---------+\n",
      "|    2|  2| 71|                       3|           3|     2|   right ocular pain|     1|   1|       2|160|100| 84| 18|36.6|       100|      2|    Corneal abrasion|          1|          4|          2|                86|             5.00|        1|\n",
      "|    1|  1| 56|                      12|           3|     2|  right forearm burn|     1|   1|       2|137| 75| 60| 20|36.5|      null|      4|Burn of hand, fir...|          1|          5|          4|                64|             3.95|        1|\n",
      "|    2|  1| 68|                       8|           2|     2|        arm pain, Lt|     1|   1|       2|130| 80|102| 20|36.6|        98|      4|Fracture of surgi...|          2|          5|          4|               862|             1.00|        1|\n",
      "|    1|  2| 71|                       8|           1|     1|     ascites tapping|     1|   1|       3|139| 94| 88| 20|36.5|      null|      4|Alcoholic liver c...|          1|          5|          6|               108|             9.83|        1|\n",
      "|    1|  2| 58|                       4|           3|     1|     distension, abd|     1|   1|       3| 91| 67| 93| 18|36.5|      null|      4|             Ascites|          1|          5|          8|               109|             6.60|        1|\n",
      "|    2|  1| 54|                       6|           4|     1|               fever|     1|   1|       3|140| 90| 94| 20|38.1|        98|      3|  Fever, unspecified|          2|          4|          1|              9246|             2.00|        1|\n",
      "|    2|  2| 49|                      11|           3|     1|With chest discom...|     1|   1|       3|110| 70| 70| 20|36.2|        98|      2|Angina pectoris, ...|          1|          3|          2|               400|             3.00|        1|\n",
      "|    1|  2| 78|                      14|           3|     1|         pain, chest|     1|   1|       3|169| 86| 80| 20|  36|      null|      2|Acute coronary sy...|          1|          3|          2|               247|            10.23|        1|\n",
      "|    1|  2| 32|                      10|           3|     1| LBP - Low back pain|     1|   1|       3|140| 75| 91| 20|36.6|      null|      4|Herniated disc di...|          1|          5|          4|                59|             3.23|        1|\n",
      "|    2|  1| 38|                       6|           3|     1|      Eczema, Eyelid|     1|   1|       3|130| 80| 80| 20|36.3|        97|      4|         Ocular pain|          1|          5|          4|               185|             4.00|        1|\n",
      "+-----+---+---+------------------------+------------+------+--------------------+------+----+--------+---+---+---+---+----+----------+-------+--------------------+-----------+-----------+-----------+------------------+-----------------+---------+\n",
      "only showing top 10 rows\n",
      "\n"
     ]
    }
   ],
   "source": [
    "spark.read.csv(\"/project/ds5559/group2_triage/ds5110_final_project/triage_data.csv\", header = True).show(10)"
   ]
  },
  {
   "cell_type": "code",
   "execution_count": 6,
   "metadata": {},
   "outputs": [],
   "source": [
    "header = encounters.first()\n",
    "encounters_no_header = encounters.filter(lambda x: header != x)"
   ]
  },
  {
   "cell_type": "code",
   "execution_count": 7,
   "metadata": {},
   "outputs": [
    {
     "data": {
      "text/plain": [
       "'Group,Sex,Age,Patients number per hour,Arrival mode,Injury,Chief_complain,Mental,Pain,NRS_pain,SBP,DBP,HR,RR,BT,Saturation,KTAS_RN,Diagnosis in ED,Disposition,KTAS_expert,Error_group,Length of stay_min,KTAS duration_min,mistriage'"
      ]
     },
     "execution_count": 7,
     "metadata": {},
     "output_type": "execute_result"
    }
   ],
   "source": [
    "header"
   ]
  },
  {
   "cell_type": "code",
   "execution_count": 8,
   "metadata": {},
   "outputs": [
    {
     "data": {
      "text/plain": [
       "['2,2,71,3,3,2,right ocular pain,1,1,2,160,100,84,18,36.6,100,2,Corneal abrasion,1,4,2,86,5.00,1',\n",
       " '1,1,56,12,3,2,right forearm burn,1,1,2,137,75,60,20,36.5,,4,\"Burn of hand, firts degree dorsum\",1,5,4,64,3.95,1',\n",
       " '2,1,68,8,2,2,\"arm pain, Lt\",1,1,2,130,80,102,20,36.6,98,4,\"Fracture of surgical neck of humerus, closed\",2,5,4,862,1.00,1',\n",
       " '1,2,71,8,1,1,ascites tapping,1,1,3,139,94,88,20,36.5,,4,Alcoholic liver cirrhosis with ascites,1,5,6,108,9.83,1',\n",
       " '1,2,58,4,3,1,\"distension, abd\",1,1,3,91,67,93,18,36.5,,4,Ascites,1,5,8,109,6.60,1']"
      ]
     },
     "execution_count": 8,
     "metadata": {},
     "output_type": "execute_result"
    }
   ],
   "source": [
    "encounters_no_header.take(5)"
   ]
  },
  {
   "cell_type": "code",
   "execution_count": 9,
   "metadata": {},
   "outputs": [
    {
     "data": {
      "text/plain": [
       "6"
      ]
     },
     "execution_count": 9,
     "metadata": {},
     "output_type": "execute_result"
    }
   ],
   "source": [
    "index_cc = header.split(\",\").index(\"Chief_complain\")\n",
    "index_cc"
   ]
  },
  {
   "cell_type": "code",
   "execution_count": 10,
   "metadata": {},
   "outputs": [
    {
     "data": {
      "text/plain": [
       "['2,2,71,3,3,2,right ocular pain,1,1,2,160,100,84,18,36.6,100,2,corneal abrasion,1,4,2,86,5.00,1',\n",
       " '1,1,56,12,3,2,right forearm burn,1,1,2,137,75,60,20,36.5,,4,\"burn of hand, firts degree dorsum\",1,5,4,64,3.95,1',\n",
       " '2,1,68,8,2,2,\"arm pain, lt\",1,1,2,130,80,102,20,36.6,98,4,\"fracture of surgical neck of humerus, closed\",2,5,4,862,1.00,1',\n",
       " '1,2,71,8,1,1,ascites tapping,1,1,3,139,94,88,20,36.5,,4,alcoholic liver cirrhosis with ascites,1,5,6,108,9.83,1',\n",
       " '1,2,58,4,3,1,\"distension, abd\",1,1,3,91,67,93,18,36.5,,4,ascites,1,5,8,109,6.60,1']"
      ]
     },
     "execution_count": 10,
     "metadata": {},
     "output_type": "execute_result"
    }
   ],
   "source": [
    "encounters_lower = encounters_no_header.map(lambda x: x.lower())\n",
    "encounters_lower.take(5)"
   ]
  },
  {
   "cell_type": "code",
   "execution_count": 11,
   "metadata": {},
   "outputs": [
    {
     "data": {
      "text/plain": [
       "['2,2,71,3,3,2,right ocular pain,1,1,2,160,100,84,18,36.6,100,2,corneal abrasion,1,4,2,86,5.00,1',\n",
       " '1,1,56,12,3,2,right forearm burn,1,1,2,137,75,60,20,36.5,,4,\"burn of hand, firts degree dorsum\",1,5,4,64,3.95,1',\n",
       " '2,1,68,8,2,2,\"arm pain, lt\",1,1,2,130,80,102,20,36.6,98,4,\"fracture of surgical neck of humerus, closed\",2,5,4,862,1.00,1',\n",
       " '1,2,71,8,1,1,ascites tapping,1,1,3,139,94,88,20,36.5,,4,alcoholic liver cirrhosis with ascites,1,5,6,108,9.83,1',\n",
       " '1,2,58,4,3,1,\"distension, abd\",1,1,3,91,67,93,18,36.5,,4,ascites,1,5,8,109,6.60,1',\n",
       " '2,1,54,6,4,1,fever,1,1,3,140,90,94,20,38.1,98,3,\"fever, unspecified\",2,4,1,9246,2.00,1',\n",
       " '2,2,49,11,3,1,with chest discomfort,1,1,3,110,70,70,20,36.2,98,2,\"angina pectoris, unspecified\",1,3,2,400,3.00,1',\n",
       " '1,2,78,14,3,1,\"pain, chest\",1,1,3,169,86,80,20,36,,2,acute coronary syndrome,1,3,2,247,10.23,1',\n",
       " '1,2,32,10,3,1,lbp - low back pain,1,1,3,140,75,91,20,36.6,,4,herniated disc disease of lumbar spine with radiculopathy,1,5,4,59,3.23,1',\n",
       " '2,1,38,6,3,1,\"eczema, eyelid\",1,1,3,130,80,80,20,36.3,97,4,ocular pain,1,5,4,185,4.00,1',\n",
       " '1,2,43,3,3,1,acute epigastric pain,1,1,3,148,104,72,16,36.5,,3,acute gastritis,1,4,4,176,7.53,1',\n",
       " '1,2,45,3,3,1,\"pain, leg\",1,1,3,141,81,86,18,36.6,,4,gout site unspecified,1,5,4,45,7.15,1',\n",
       " '2,1,53,10,3,1,epigastric pain,1,1,3,120,80,106,20,36.2,98,3,infectious or septic colitis,1,4,4,8067,5.00,1',\n",
       " '1,2,55,9,3,1,abd pain,1,1,3,121,78,80,20,36.4,,2,acute peritonitis,2,4,4,217,8.00,1',\n",
       " '1,2,58,4,3,1,headache,1,1,3,135,82,106,20,37.6,,3,infective endocarditis,2,4,4,1318,9.88,1',\n",
       " '2,1,65,12,4,1,headache,1,1,3,140,100,80,20,36.0,98,3,\"subarachnoid haemorrhage, unspecified\",2,4,4,153,3.00,1',\n",
       " '1,2,69,11,2,1,설사,1,1,4,121,76,85,20,37.4,,3,acute gastroenteritis,1,4,1,363,10.53,1',\n",
       " '2,2,53,12,2,2,open wound,1,1,4,130,80,100,20,36.4,97,2,\"open wound of other parts of head, face\",2,3,2,613,4.00,1',\n",
       " '2,1,20,10,3,1,ruq pain,1,1,4,100,60,90,20,36.4,98,2,hepatitis nos,1,3,4,745,4.00,1',\n",
       " '1,2,38,3,2,1,gingival swelling,1,1,4,133,93,109,16,36.5,,3,odontogenic infection,1,4,4,349,12.45,1',\n",
       " '2,1,79,3,4,2,chin pain,1,1,4,110,70,80,20,36.2,98,3,\"closed fracture of humerus, nos\",2,4,4,8199,3.00,1',\n",
       " '1,2,20,12,3,2,finger injury,1,1,5,140,62,68,20,36.5,,3,dislocation of finger,1,4,2,105,10.23,1',\n",
       " '1,1,24,4,3,1,skin rash,1,1,5,110,66,125,20,37,,2,anaphylaxis,1,3,2,118,9.48,1',\n",
       " '2,2,59,8,4,1,rt. side motor weakness,1,1,5,140,80,88,20,36.5,97,2,\"intracranial haemorrhage (nontraumatic), unspecified\",2,3,2,143,4.00,1',\n",
       " '1,2,77,6,2,1,lt. hip joint pain,1,1,5,124,72,94,16,37.1,,3,\"fracture of femur, intertrochanter closed\",5,4,2,599,5.50,1',\n",
       " '1,2,37,6,2,2,face laceration,2,1,5,118,79,76,20,36.8,,3,acute intoxication of alcohol,1,4,4,553,8.78,1',\n",
       " '2,1,62,2,3,1,throat pain,1,1,6,140,90,98,22,36.8,98,2,acute epiglottitis without obstruction,2,3,4,1242,4.00,1',\n",
       " '2,2,74,12,4,2,chest wall pain right,1,1,8,80,50,98,22,36.1,98,1,\"multiple fracture of involving three ribs,closed\",2,2,1,207,4.00,1']"
      ]
     },
     "execution_count": 11,
     "metadata": {},
     "output_type": "execute_result"
    }
   ],
   "source": [
    "encounters_lower.take(28)"
   ]
  },
  {
   "cell_type": "code",
   "execution_count": 12,
   "metadata": {},
   "outputs": [
    {
     "data": {
      "text/plain": [
       "['2,2,71,3,3,2,right ocular pain,1,1,2,160,100,84,18,36.6,100,2,corneal abrasion,1,4,2,86,5.00,1',\n",
       " '1,1,56,12,3,2,right forearm burn,1,1,2,137,75,60,20,36.5,,4,\"burn of hand;firts degree dorsum\",1,5,4,64,3.95,1',\n",
       " '2,1,68,8,2,2,\"arm pain, lt\",1,1,2,130,80,102,20,36.6,98,4,\"fracture of surgical neck of humerus;closed\",2,5,4,862,1.00,1',\n",
       " '1,2,71,8,1,1,ascites tapping,1,1,3,139,94,88,20,36.5,,4,alcoholic liver cirrhosis with ascites,1,5,6,108,9.83,1',\n",
       " '1,2,58,4,3,1,\"distension;abd\",1,1,3,91,67,93,18,36.5,,4,ascites,1,5,8,109,6.60,1',\n",
       " '2,1,54,6,4,1,fever,1,1,3,140,90,94,20,38.1,98,3,\"fever;unspecified\",2,4,1,9246,2.00,1',\n",
       " '2,2,49,11,3,1,with chest discomfort,1,1,3,110,70,70,20,36.2,98,2,\"angina pectoris;unspecified\",1,3,2,400,3.00,1',\n",
       " '1,2,78,14,3,1,\"pain;chest\",1,1,3,169,86,80,20,36,,2,acute coronary syndrome,1,3,2,247,10.23,1',\n",
       " '1,2,32,10,3,1,lbp - low back pain,1,1,3,140,75,91,20,36.6,,4,herniated disc disease of lumbar spine with radiculopathy,1,5,4,59,3.23,1',\n",
       " '2,1,38,6,3,1,\"eczema;eyelid\",1,1,3,130,80,80,20,36.3,97,4,ocular pain,1,5,4,185,4.00,1',\n",
       " '1,2,43,3,3,1,acute epigastric pain,1,1,3,148,104,72,16,36.5,,3,acute gastritis,1,4,4,176,7.53,1',\n",
       " '1,2,45,3,3,1,\"pain;leg\",1,1,3,141,81,86,18,36.6,,4,gout site unspecified,1,5,4,45,7.15,1',\n",
       " '2,1,53,10,3,1,epigastric pain,1,1,3,120,80,106,20,36.2,98,3,infectious or septic colitis,1,4,4,8067,5.00,1',\n",
       " '1,2,55,9,3,1,abd pain,1,1,3,121,78,80,20,36.4,,2,acute peritonitis,2,4,4,217,8.00,1',\n",
       " '1,2,58,4,3,1,headache,1,1,3,135,82,106,20,37.6,,3,infective endocarditis,2,4,4,1318,9.88,1',\n",
       " '2,1,65,12,4,1,headache,1,1,3,140,100,80,20,36.0,98,3,\"subarachnoid haemorrhage;unspecified\",2,4,4,153,3.00,1',\n",
       " '1,2,69,11,2,1,설사,1,1,4,121,76,85,20,37.4,,3,acute gastroenteritis,1,4,1,363,10.53,1',\n",
       " '2,2,53,12,2,2,open wound,1,1,4,130,80,100,20,36.4,97,2,\"open wound of other parts of head;face\",2,3,2,613,4.00,1',\n",
       " '2,1,20,10,3,1,ruq pain,1,1,4,100,60,90,20,36.4,98,2,hepatitis nos,1,3,4,745,4.00,1',\n",
       " '1,2,38,3,2,1,gingival swelling,1,1,4,133,93,109,16,36.5,,3,odontogenic infection,1,4,4,349,12.45,1',\n",
       " '2,1,79,3,4,2,chin pain,1,1,4,110,70,80,20,36.2,98,3,\"closed fracture of humerus;nos\",2,4,4,8199,3.00,1',\n",
       " '1,2,20,12,3,2,finger injury,1,1,5,140,62,68,20,36.5,,3,dislocation of finger,1,4,2,105,10.23,1',\n",
       " '1,1,24,4,3,1,skin rash,1,1,5,110,66,125,20,37,,2,anaphylaxis,1,3,2,118,9.48,1',\n",
       " '2,2,59,8,4,1,rt. side motor weakness,1,1,5,140,80,88,20,36.5,97,2,\"intracranial haemorrhage (nontraumatic);unspecified\",2,3,2,143,4.00,1',\n",
       " '1,2,77,6,2,1,lt. hip joint pain,1,1,5,124,72,94,16,37.1,,3,\"fracture of femur;intertrochanter closed\",5,4,2,599,5.50,1',\n",
       " '1,2,37,6,2,2,face laceration,2,1,5,118,79,76,20,36.8,,3,acute intoxication of alcohol,1,4,4,553,8.78,1',\n",
       " '2,1,62,2,3,1,throat pain,1,1,6,140,90,98,22,36.8,98,2,acute epiglottitis without obstruction,2,3,4,1242,4.00,1',\n",
       " '2,2,74,12,4,2,chest wall pain right,1,1,8,80,50,98,22,36.1,98,1,\"multiple fracture of involving three ribs;closed\",2,2,1,207,4.00,1']"
      ]
     },
     "execution_count": 12,
     "metadata": {},
     "output_type": "execute_result"
    }
   ],
   "source": [
    "encounters_comma = encounters_lower.map(lambda row: re.sub('(\".*)(,\\s*)(.*\")', r'\\1;\\3', row))\n",
    "encounters_comma.take(28)"
   ]
  },
  {
   "cell_type": "code",
   "execution_count": 13,
   "metadata": {},
   "outputs": [
    {
     "data": {
      "text/plain": [
       "['2,2,71,3,3,2,right ocular pain,1,1,2,160,100,84,18,366,100,2,corneal abrasion,1,4,2,86,500,1',\n",
       " '1,1,56,12,3,2,right forearm burn,1,1,2,137,75,60,20,365,,4,burn of hand;firts degree dorsum,1,5,4,64,395,1',\n",
       " '2,1,68,8,2,2,arm pain, lt,1,1,2,130,80,102,20,366,98,4,fracture of surgical neck of humerus;closed,2,5,4,862,100,1',\n",
       " '1,2,71,8,1,1,ascites tapping,1,1,3,139,94,88,20,365,,4,alcoholic liver cirrhosis with ascites,1,5,6,108,983,1',\n",
       " '1,2,58,4,3,1,distension;abd,1,1,3,91,67,93,18,365,,4,ascites,1,5,8,109,660,1',\n",
       " '2,1,54,6,4,1,fever,1,1,3,140,90,94,20,381,98,3,fever;unspecified,2,4,1,9246,200,1',\n",
       " '2,2,49,11,3,1,with chest discomfort,1,1,3,110,70,70,20,362,98,2,angina pectoris;unspecified,1,3,2,400,300,1',\n",
       " '1,2,78,14,3,1,pain;chest,1,1,3,169,86,80,20,36,,2,acute coronary syndrome,1,3,2,247,1023,1',\n",
       " '1,2,32,10,3,1,lbp  low back pain,1,1,3,140,75,91,20,366,,4,herniated disc disease of lumbar spine with radiculopathy,1,5,4,59,323,1',\n",
       " '2,1,38,6,3,1,eczema;eyelid,1,1,3,130,80,80,20,363,97,4,ocular pain,1,5,4,185,400,1',\n",
       " '1,2,43,3,3,1,acute epigastric pain,1,1,3,148,104,72,16,365,,3,acute gastritis,1,4,4,176,753,1',\n",
       " '1,2,45,3,3,1,pain;leg,1,1,3,141,81,86,18,366,,4,gout site unspecified,1,5,4,45,715,1',\n",
       " '2,1,53,10,3,1,epigastric pain,1,1,3,120,80,106,20,362,98,3,infectious or septic colitis,1,4,4,8067,500,1',\n",
       " '1,2,55,9,3,1,abd pain,1,1,3,121,78,80,20,364,,2,acute peritonitis,2,4,4,217,800,1',\n",
       " '1,2,58,4,3,1,headache,1,1,3,135,82,106,20,376,,3,infective endocarditis,2,4,4,1318,988,1',\n",
       " '2,1,65,12,4,1,headache,1,1,3,140,100,80,20,360,98,3,subarachnoid haemorrhage;unspecified,2,4,4,153,300,1',\n",
       " '1,2,69,11,2,1,,1,1,4,121,76,85,20,374,,3,acute gastroenteritis,1,4,1,363,1053,1',\n",
       " '2,2,53,12,2,2,open wound,1,1,4,130,80,100,20,364,97,2,open wound of other parts of head;face,2,3,2,613,400,1',\n",
       " '2,1,20,10,3,1,ruq pain,1,1,4,100,60,90,20,364,98,2,hepatitis nos,1,3,4,745,400,1',\n",
       " '1,2,38,3,2,1,gingival swelling,1,1,4,133,93,109,16,365,,3,odontogenic infection,1,4,4,349,1245,1',\n",
       " '2,1,79,3,4,2,chin pain,1,1,4,110,70,80,20,362,98,3,closed fracture of humerus;nos,2,4,4,8199,300,1',\n",
       " '1,2,20,12,3,2,finger injury,1,1,5,140,62,68,20,365,,3,dislocation of finger,1,4,2,105,1023,1',\n",
       " '1,1,24,4,3,1,skin rash,1,1,5,110,66,125,20,37,,2,anaphylaxis,1,3,2,118,948,1',\n",
       " '2,2,59,8,4,1,rt side motor weakness,1,1,5,140,80,88,20,365,97,2,intracranial haemorrhage nontraumatic;unspecified,2,3,2,143,400,1',\n",
       " '1,2,77,6,2,1,lt hip joint pain,1,1,5,124,72,94,16,371,,3,fracture of femur;intertrochanter closed,5,4,2,599,550,1']"
      ]
     },
     "execution_count": 13,
     "metadata": {},
     "output_type": "execute_result"
    }
   ],
   "source": [
    "encounters_english = encounters_comma.map(lambda row: re.sub(\"[^a-zA-Z0-9,;\\s]\", \"\", row))\n",
    "encounters_english.take(25)"
   ]
  },
  {
   "cell_type": "code",
   "execution_count": 14,
   "metadata": {},
   "outputs": [
    {
     "data": {
      "text/plain": [
       "24"
      ]
     },
     "execution_count": 14,
     "metadata": {},
     "output_type": "execute_result"
    }
   ],
   "source": [
    "len(encounters_english.first().split(\",\"))"
   ]
  },
  {
   "cell_type": "code",
   "execution_count": 15,
   "metadata": {},
   "outputs": [
    {
     "data": {
      "text/plain": [
       "[['2',\n",
       "  '2',\n",
       "  '71',\n",
       "  '3',\n",
       "  '3',\n",
       "  '2',\n",
       "  'right ocular pain',\n",
       "  '1',\n",
       "  '1',\n",
       "  '2',\n",
       "  '160',\n",
       "  '100',\n",
       "  '84',\n",
       "  '18',\n",
       "  '366',\n",
       "  '100',\n",
       "  '2',\n",
       "  'corneal abrasion',\n",
       "  '1',\n",
       "  '4',\n",
       "  '2',\n",
       "  '86',\n",
       "  '500',\n",
       "  '1'],\n",
       " ['1',\n",
       "  '1',\n",
       "  '56',\n",
       "  '12',\n",
       "  '3',\n",
       "  '2',\n",
       "  'right forearm burn',\n",
       "  '1',\n",
       "  '1',\n",
       "  '2',\n",
       "  '137',\n",
       "  '75',\n",
       "  '60',\n",
       "  '20',\n",
       "  '365',\n",
       "  '',\n",
       "  '4',\n",
       "  'burn of hand;firts degree dorsum',\n",
       "  '1',\n",
       "  '5',\n",
       "  '4',\n",
       "  '64',\n",
       "  '395',\n",
       "  '1']]"
      ]
     },
     "execution_count": 15,
     "metadata": {},
     "output_type": "execute_result"
    }
   ],
   "source": [
    "encounters_split = encounters_english.map(lambda x: re.sub(\"  \", \"-\", x)) \\\n",
    "                                     .map(lambda x: re.sub(\", ,\", \",,\", x)) \\\n",
    "                                     .map(lambda x: re.sub(\", \", \";\", x)) \\\n",
    "                                     .map(lambda x: x.rstrip()) \\\n",
    "                                     .map(lambda x: x.split(\",\"))\n",
    "encounters_split.take(2)"
   ]
  },
  {
   "cell_type": "code",
   "execution_count": 16,
   "metadata": {},
   "outputs": [
    {
     "data": {
      "text/plain": [
       "'1,1,70,10,3,1,목이 아픔,1,1,3,176,103,73,16,36.8,,5,hyperventilation,1,4,4,161,4.97,2'"
      ]
     },
     "execution_count": 16,
     "metadata": {},
     "output_type": "execute_result"
    }
   ],
   "source": [
    "encounters_comma.take(66)[65]"
   ]
  },
  {
   "cell_type": "code",
   "execution_count": 17,
   "metadata": {},
   "outputs": [
    {
     "data": {
      "text/plain": [
       "'1,1,70,10,3,1, ,1,1,3,176,103,73,16,368,,5,hyperventilation,1,4,4,161,497,2'"
      ]
     },
     "execution_count": 17,
     "metadata": {},
     "output_type": "execute_result"
    }
   ],
   "source": [
    "encounters_english.take(66)[65]"
   ]
  },
  {
   "cell_type": "code",
   "execution_count": 18,
   "metadata": {},
   "outputs": [
    {
     "data": {
      "text/plain": [
       "['1',\n",
       " '1',\n",
       " '70',\n",
       " '10',\n",
       " '3',\n",
       " '1',\n",
       " '',\n",
       " '1',\n",
       " '1',\n",
       " '3',\n",
       " '176',\n",
       " '103',\n",
       " '73',\n",
       " '16',\n",
       " '368',\n",
       " '',\n",
       " '5',\n",
       " 'hyperventilation',\n",
       " '1',\n",
       " '4',\n",
       " '4',\n",
       " '161',\n",
       " '497',\n",
       " '2']"
      ]
     },
     "execution_count": 18,
     "metadata": {},
     "output_type": "execute_result"
    }
   ],
   "source": [
    "encounters_split.take(66)[65]"
   ]
  },
  {
   "cell_type": "code",
   "execution_count": 19,
   "metadata": {},
   "outputs": [
    {
     "data": {
      "text/plain": [
       "24"
      ]
     },
     "execution_count": 19,
     "metadata": {},
     "output_type": "execute_result"
    }
   ],
   "source": [
    "len(encounters_split.take(66)[65])"
   ]
  },
  {
   "cell_type": "code",
   "execution_count": 20,
   "metadata": {},
   "outputs": [
    {
     "name": "stdout",
     "output_type": "stream",
     "text": [
      "+-----+---+---+------------------------+------------+------+------------------+------+----+--------+---+---+---+---+---+----------+-------+-------------------------------------------+-----------+-----------+-----------+------------------+-----------------+---------+\n",
      "|Group|Sex|Age|Patients number per hour|Arrival mode|Injury|Chief_complain    |Mental|Pain|NRS_pain|SBP|DBP|HR |RR |BT |Saturation|KTAS_RN|Diagnosis in ED                            |Disposition|KTAS_expert|Error_group|Length of stay_min|KTAS duration_min|mistriage|\n",
      "+-----+---+---+------------------------+------------+------+------------------+------+----+--------+---+---+---+---+---+----------+-------+-------------------------------------------+-----------+-----------+-----------+------------------+-----------------+---------+\n",
      "|2    |2  |71 |3                       |3           |2     |right ocular pain |1     |1   |2       |160|100|84 |18 |366|100       |2      |corneal abrasion                           |1          |4          |2          |86                |500              |1        |\n",
      "|1    |1  |56 |12                      |3           |2     |right forearm burn|1     |1   |2       |137|75 |60 |20 |365|          |4      |burn of hand;firts degree dorsum           |1          |5          |4          |64                |395              |1        |\n",
      "|2    |1  |68 |8                       |2           |2     |arm pain;lt       |1     |1   |2       |130|80 |102|20 |366|98        |4      |fracture of surgical neck of humerus;closed|2          |5          |4          |862               |100              |1        |\n",
      "|1    |2  |71 |8                       |1           |1     |ascites tapping   |1     |1   |3       |139|94 |88 |20 |365|          |4      |alcoholic liver cirrhosis with ascites     |1          |5          |6          |108               |983              |1        |\n",
      "|1    |2  |58 |4                       |3           |1     |distension;abd    |1     |1   |3       |91 |67 |93 |18 |365|          |4      |ascites                                    |1          |5          |8          |109               |660              |1        |\n",
      "+-----+---+---+------------------------+------------+------+------------------+------+----+--------+---+---+---+---+---+----------+-------+-------------------------------------------+-----------+-----------+-----------+------------------+-----------------+---------+\n",
      "only showing top 5 rows\n",
      "\n"
     ]
    }
   ],
   "source": [
    "df = encounters_split.toDF(header.split(\",\"))\n",
    "df.show(5, truncate = False)"
   ]
  },
  {
   "cell_type": "markdown",
   "metadata": {},
   "source": [
    "## Exploratory Data Analysis"
   ]
  },
  {
   "cell_type": "code",
   "execution_count": 21,
   "metadata": {},
   "outputs": [
    {
     "data": {
      "text/plain": [
       "1267"
      ]
     },
     "execution_count": 21,
     "metadata": {},
     "output_type": "execute_result"
    }
   ],
   "source": [
    "# Number of rows in the dataset\n",
    "num_rows = df.count()\n",
    "num_rows"
   ]
  },
  {
   "cell_type": "code",
   "execution_count": 22,
   "metadata": {},
   "outputs": [
    {
     "data": {
      "text/plain": [
       "24"
      ]
     },
     "execution_count": 22,
     "metadata": {},
     "output_type": "execute_result"
    }
   ],
   "source": [
    "# Number of columns in the dataset\n",
    "len(df.columns)"
   ]
  },
  {
   "cell_type": "code",
   "execution_count": 23,
   "metadata": {},
   "outputs": [
    {
     "name": "stdout",
     "output_type": "stream",
     "text": [
      "+---------+-----+--------------------+\n",
      "|mistriage|count|          percentage|\n",
      "+---------+-----+--------------------+\n",
      "|        0| 1081|  0.8531965272296764|\n",
      "|        1|   55|0.043409629044988164|\n",
      "|        2|  131| 0.10339384372533544|\n",
      "+---------+-----+--------------------+\n",
      "\n"
     ]
    }
   ],
   "source": [
    "# Response variable summary\n",
    "mistriage_df = df.groupby(\"mistriage\").count()\n",
    "mistriage_df = mistriage_df.withColumn(\"percentage\", mistriage_df[\"count\"] / num_rows)\n",
    "mistriage_df.show()"
   ]
  },
  {
   "cell_type": "code",
   "execution_count": 24,
   "metadata": {},
   "outputs": [],
   "source": [
    "# Potential predictor variables\n",
    "cat_features = [\"Group\", \"Sex\", \"Arrival mode\", \"Injury\", \"Mental\", \"Pain\", \"Disposition\", \"Error_group\"]\n",
    "num_features = [\"Age\", \"Patients number per hour\", \"NRS_pain\", \"SBP\", \"DBP\", \"HR\", \"RR\", \"BT\", \"Saturation\", \"KTAS_RN\", \"KTAS_expert\", \"Length of stay_min\", \"KTAS duration_min\"]"
   ]
  },
  {
   "cell_type": "code",
   "execution_count": 25,
   "metadata": {},
   "outputs": [
    {
     "name": "stdout",
     "output_type": "stream",
     "text": [
      "+-----+---+------------+------+------+----+-----------+-----------+\n",
      "|Group|Sex|Arrival mode|Injury|Mental|Pain|Disposition|Error_group|\n",
      "+-----+---+------------+------+------+----+-----------+-----------+\n",
      "|    2|  2|           3|     2|     1|   1|          1|          2|\n",
      "|    1|  1|           3|     2|     1|   1|          1|          4|\n",
      "|    2|  1|           2|     2|     1|   1|          2|          4|\n",
      "|    1|  2|           1|     1|     1|   1|          1|          6|\n",
      "|    1|  2|           3|     1|     1|   1|          1|          8|\n",
      "+-----+---+------------+------+------+----+-----------+-----------+\n",
      "only showing top 5 rows\n",
      "\n"
     ]
    }
   ],
   "source": [
    "cat_df = df.select(cat_features)\n",
    "cat_df.show(5)"
   ]
  },
  {
   "cell_type": "code",
   "execution_count": 26,
   "metadata": {},
   "outputs": [
    {
     "name": "stdout",
     "output_type": "stream",
     "text": [
      "+-----+-----+------------------+\n",
      "|Group|count|        percentage|\n",
      "+-----+-----+------------------+\n",
      "|    1|  688|0.5430149960536701|\n",
      "|    2|  579|0.4569850039463299|\n",
      "+-----+-----+------------------+\n",
      "\n"
     ]
    }
   ],
   "source": [
    "group_df = df.groupby(\"Group\").count()\n",
    "group_df = group_df.withColumn(\"percentage\", group_df[\"count\"] / num_rows)\n",
    "group_df.show()"
   ]
  },
  {
   "cell_type": "code",
   "execution_count": 27,
   "metadata": {},
   "outputs": [
    {
     "name": "stdout",
     "output_type": "stream",
     "text": [
      "+-----+-----+-----------------+\n",
      "|Group|count|       percentage|\n",
      "+-----+-----+-----------------+\n",
      "|    1|  688|54.30149960536701|\n",
      "|    2|  579|45.69850039463299|\n",
      "+-----+-----+-----------------+\n",
      "\n",
      "+---+-----+------------------+\n",
      "|Sex|count|        percentage|\n",
      "+---+-----+------------------+\n",
      "|  1|  606|47.829518547750595|\n",
      "|  2|  661|52.170481452249405|\n",
      "+---+-----+------------------+\n",
      "\n",
      "+------------+-----+-------------------+\n",
      "|Arrival mode|count|         percentage|\n",
      "+------------+-----+-------------------+\n",
      "|           7|    2|0.15785319652722968|\n",
      "|           3|  753| 59.431728492501975|\n",
      "|           5|    2|0.15785319652722968|\n",
      "|           6|   10| 0.7892659826361484|\n",
      "|           1|   79|  6.235201262825572|\n",
      "|           4|  155| 12.233622730860299|\n",
      "|           2|  266| 20.994475138121548|\n",
      "+------------+-----+-------------------+\n",
      "\n",
      "+------+-----+------------------+\n",
      "|Injury|count|        percentage|\n",
      "+------+-----+------------------+\n",
      "|     1| 1023| 80.74191002367797|\n",
      "|     2|  244|19.258089976322022|\n",
      "+------+-----+------------------+\n",
      "\n",
      "+------+-----+------------------+\n",
      "|Mental|count|        percentage|\n",
      "+------+-----+------------------+\n",
      "|     3|   28| 2.209944751381215|\n",
      "|     1| 1187| 93.68587213891081|\n",
      "|     4|   13|1.0260457774269929|\n",
      "|     2|   39|3.0781373322809786|\n",
      "+------+-----+------------------+\n",
      "\n",
      "+----+-----+------------------+\n",
      "|Pain|count|        percentage|\n",
      "+----+-----+------------------+\n",
      "|   0|  553|43.646408839779006|\n",
      "|   1|  714|56.353591160220994|\n",
      "+----+-----+------------------+\n",
      "\n",
      "+-----------+-----+------------------+\n",
      "|Disposition|count|        percentage|\n",
      "+-----------+-----+------------------+\n",
      "|          7|   22|1.7363851617995265|\n",
      "|          3|    8|0.6314127861089187|\n",
      "|          5|   32| 2.525651144435675|\n",
      "|          6|    9|0.7103393843725335|\n",
      "|          1|  797|62.904498816101025|\n",
      "|          4|   26|2.0520915548539858|\n",
      "|          2|  373|29.439621152328332|\n",
      "+-----------+-----+------------------+\n",
      "\n",
      "+-----------+-----+------------------+\n",
      "|Error_group|count|        percentage|\n",
      "+-----------+-----+------------------+\n",
      "|          7|    9|0.7103393843725335|\n",
      "|          3|    6|0.4735595895816891|\n",
      "|          8|    9|0.7103393843725335|\n",
      "|         0 | 1081| 85.31965272296765|\n",
      "|          5|   13|1.0260457774269929|\n",
      "|          6|    9|0.7103393843725335|\n",
      "|          9|    7|0.5524861878453038|\n",
      "|          1|   22|1.7363851617995265|\n",
      "|          4|   64|  5.05130228887135|\n",
      "|          2|   47|3.7095501183898976|\n",
      "+-----------+-----+------------------+\n",
      "\n"
     ]
    }
   ],
   "source": [
    "for i in cat_df.columns:\n",
    "    tmp = cat_df.groupby(i).count()\n",
    "    #num_rows = tmp.count()\n",
    "    tmp = tmp.withColumn(\"percentage\", (tmp[\"count\"] / num_rows)*100)\n",
    "    tmp.show()"
   ]
  },
  {
   "cell_type": "code",
   "execution_count": 28,
   "metadata": {},
   "outputs": [
    {
     "name": "stdout",
     "output_type": "stream",
     "text": [
      "+---+------------------------+--------+---+---+---+---+---+----------+-------+-----------+------------------+-----------------+\n",
      "|Age|Patients number per hour|NRS_pain|SBP|DBP| HR| RR| BT|Saturation|KTAS_RN|KTAS_expert|Length of stay_min|KTAS duration_min|\n",
      "+---+------------------------+--------+---+---+---+---+---+----------+-------+-----------+------------------+-----------------+\n",
      "| 71|                       3|       2|160|100| 84| 18|366|       100|      2|          4|                86|              500|\n",
      "| 56|                      12|       2|137| 75| 60| 20|365|          |      4|          5|                64|              395|\n",
      "| 68|                       8|       2|130| 80|102| 20|366|        98|      4|          5|               862|              100|\n",
      "| 71|                       8|       3|139| 94| 88| 20|365|          |      4|          5|               108|              983|\n",
      "| 58|                       4|       3| 91| 67| 93| 18|365|          |      4|          5|               109|              660|\n",
      "+---+------------------------+--------+---+---+---+---+---+----------+-------+-----------+------------------+-----------------+\n",
      "only showing top 5 rows\n",
      "\n"
     ]
    }
   ],
   "source": [
    "num_df = df.select(num_features)\n",
    "num_df.show(5)"
   ]
  },
  {
   "cell_type": "code",
   "execution_count": 29,
   "metadata": {},
   "outputs": [
    {
     "name": "stdout",
     "output_type": "stream",
     "text": [
      "+-------+---------------+------------------------+---------------+---------------+---------------+---------------+---------------+---------------+---------------+---------------+---------------+------------------+-----------------+\n",
      "|summary|            Age|Patients number per hour|       NRS_pain|            SBP|            DBP|             HR|             RR|             BT|     Saturation|        KTAS_RN|    KTAS_expert|Length of stay_min|KTAS duration_min|\n",
      "+-------+---------------+------------------------+---------------+---------------+---------------+---------------+---------------+---------------+---------------+---------------+---------------+------------------+-----------------+\n",
      "|  count|           1267|                    1267|           1267|           1267|           1267|           1267|           1267|           1267|           1267|           1267|           1267|              1267|             1267|\n",
      "|   mean|54.423835832...|         7.5193370165...|4.1040787623...|133.64895330...|79.780290791...|83.963111467...|19.506827309...|325.99439551...|97.024561403...|3.3354380426...|3.2659826361...|   11016.102604...|  549.74664561...|\n",
      "| stddev|19.725033215...|         3.1605632013...|1.4193324018...|27.275638769...|15.154292398...|16.644095813...|2.0166493429...|107.96911269...|4.3505562217...|0.8853908339...|0.8858033597...|   80446.092065...|  345.94700449...|\n",
      "|    min|             16|                       1|              1|               |               |               |               |               |               |              1|              1|                 0|              100|\n",
      "|    25%|           37.0|                     5.0|            3.0|          114.0|           70.0|           72.0|           18.0|          362.0|           97.0|            3.0|            3.0|             133.0|            300.0|\n",
      "|    50%|           57.0|                     7.0|            4.0|          130.0|           80.0|           82.0|           20.0|          365.0|           98.0|            3.0|            3.0|             274.0|            428.0|\n",
      "|    75%|           71.0|                    10.0|            5.0|          150.0|           90.0|           96.0|           20.0|          367.0|           98.0|            4.0|            4.0|             607.0|            700.0|\n",
      "|    max|             96|                       9|           null|             99|             99|             99|             30|             41|             99|              5|              5|              9989|              995|\n",
      "+-------+---------------+------------------------+---------------+---------------+---------------+---------------+---------------+---------------+---------------+---------------+---------------+------------------+-----------------+\n",
      "\n"
     ]
    }
   ],
   "source": [
    "num_df.summary().show(truncate = 15)"
   ]
  },
  {
   "cell_type": "code",
   "execution_count": 30,
   "metadata": {},
   "outputs": [
    {
     "name": "stdout",
     "output_type": "stream",
     "text": [
      "root\n",
      " |-- Age: string (nullable = true)\n",
      " |-- Patients number per hour: string (nullable = true)\n",
      " |-- NRS_pain: string (nullable = true)\n",
      " |-- SBP: string (nullable = true)\n",
      " |-- DBP: string (nullable = true)\n",
      " |-- HR: string (nullable = true)\n",
      " |-- RR: string (nullable = true)\n",
      " |-- BT: string (nullable = true)\n",
      " |-- Saturation: string (nullable = true)\n",
      " |-- KTAS_RN: string (nullable = true)\n",
      " |-- KTAS_expert: string (nullable = true)\n",
      " |-- Length of stay_min: string (nullable = true)\n",
      " |-- KTAS duration_min: string (nullable = true)\n",
      "\n"
     ]
    }
   ],
   "source": [
    "num_df.printSchema()\n",
    "# Might explain why the max values for some of the features are 99, which is less than some of the other values --> need to change schema before further analysis"
   ]
  },
  {
   "cell_type": "code",
   "execution_count": 31,
   "metadata": {},
   "outputs": [],
   "source": [
    "#pandas_df = df.toPandas()\n",
    "#pandas_df = pandas_df.astype({'Length_of_stay_min': 'float32'}).sort_values(\"mistriage\")\n",
    "#plt.bar(pandas_df['mistriage'], pandas_df['Length_of_stay_min'])\n",
    "#plt.xlabel(\"Mistriage Type\")\n",
    "#plt.ylabel(\"Length of stay (min)\")\n",
    "#plt.title(\"Relationship between Mistriage Type & Length of Stay\")"
   ]
  },
  {
   "cell_type": "markdown",
   "metadata": {},
   "source": [
    "## Model Building"
   ]
  },
  {
   "cell_type": "code",
   "execution_count": 32,
   "metadata": {},
   "outputs": [
    {
     "name": "stdout",
     "output_type": "stream",
     "text": [
      "+-----+---+---+------------------------+------------+------+--------------------+------+----+--------+---+---+---+---+---+----------+-------+--------------------+-----------+-----------+-----------+------------------+-----------------+---------+\n",
      "|Group|Sex|Age|Patients_number_per_hour|Arrival_mode|Injury|      Chief_complain|Mental|Pain|NRS_pain|SBP|DBP| HR| RR| BT|Saturation|KTAS_RN|     Diagnosis_in_ed|Disposition|KTAS_expert|Error_group|Length_of_stay_min|KTAS_duration_min|mistriage|\n",
      "+-----+---+---+------------------------+------------+------+--------------------+------+----+--------+---+---+---+---+---+----------+-------+--------------------+-----------+-----------+-----------+------------------+-----------------+---------+\n",
      "|    2|  2| 71|                       3|           3|     2|   right ocular pain|     1|   1|       2|160|100| 84| 18|366|       100|      2|    corneal abrasion|          1|          4|          2|                86|              500|        1|\n",
      "|    1|  1| 56|                      12|           3|     2|  right forearm burn|     1|   1|       2|137| 75| 60| 20|365|          |      4|burn of hand;firt...|          1|          5|          4|                64|              395|        1|\n",
      "|    2|  1| 68|                       8|           2|     2|         arm pain;lt|     1|   1|       2|130| 80|102| 20|366|        98|      4|fracture of surgi...|          2|          5|          4|               862|              100|        1|\n",
      "|    1|  2| 71|                       8|           1|     1|     ascites tapping|     1|   1|       3|139| 94| 88| 20|365|          |      4|alcoholic liver c...|          1|          5|          6|               108|              983|        1|\n",
      "|    1|  2| 58|                       4|           3|     1|      distension;abd|     1|   1|       3| 91| 67| 93| 18|365|          |      4|             ascites|          1|          5|          8|               109|              660|        1|\n",
      "|    2|  1| 54|                       6|           4|     1|               fever|     1|   1|       3|140| 90| 94| 20|381|        98|      3|   fever;unspecified|          2|          4|          1|              9246|              200|        1|\n",
      "|    2|  2| 49|                      11|           3|     1|with chest discom...|     1|   1|       3|110| 70| 70| 20|362|        98|      2|angina pectoris;u...|          1|          3|          2|               400|              300|        1|\n",
      "|    1|  2| 78|                      14|           3|     1|          pain;chest|     1|   1|       3|169| 86| 80| 20| 36|          |      2|acute coronary sy...|          1|          3|          2|               247|             1023|        1|\n",
      "|    1|  2| 32|                      10|           3|     1|   lbp-low back pain|     1|   1|       3|140| 75| 91| 20|366|          |      4|herniated disc di...|          1|          5|          4|                59|              323|        1|\n",
      "|    2|  1| 38|                       6|           3|     1|       eczema;eyelid|     1|   1|       3|130| 80| 80| 20|363|        97|      4|         ocular pain|          1|          5|          4|               185|              400|        1|\n",
      "+-----+---+---+------------------------+------------+------+--------------------+------+----+--------+---+---+---+---+---+----------+-------+--------------------+-----------+-----------+-----------+------------------+-----------------+---------+\n",
      "only showing top 10 rows\n",
      "\n"
     ]
    }
   ],
   "source": [
    "df = df.withColumnRenamed(\"Patients number per hour\", \"Patients_number_per_hour\") \\\n",
    "       .withColumnRenamed(\"Arrival mode\", \"Arrival_mode\") \\\n",
    "       .withColumnRenamed(\"Diagnosis in ED\", \"Diagnosis_in_ed\") \\\n",
    "       .withColumnRenamed(\"Length of stay_min\", \"Length_of_stay_min\") \\\n",
    "       .withColumnRenamed(\"KTAS duration_min\", \"KTAS_duration_min\")\n",
    "df.show(10)"
   ]
  },
  {
   "cell_type": "code",
   "execution_count": 33,
   "metadata": {},
   "outputs": [],
   "source": [
    "from pyspark.sql.types import IntegerType, BooleanType, DateType\n",
    "from pyspark.ml.feature import VectorAssembler\n",
    "from pyspark.sql.functions import col\n",
    "\n",
    "df_ints = df.withColumn(\"Age\", df.Age.cast(IntegerType())) \\\n",
    "            .withColumn(\"Patients_number_per_hour\", df.Patients_number_per_hour.cast(IntegerType())) \\\n",
    "            .withColumn(\"Injury\", df.Injury.cast(IntegerType())) \\\n",
    "            .withColumn(\"NRS_pain\", df.NRS_pain.cast(IntegerType())) \\\n",
    "            .withColumn(\"SBP\", df.SBP.cast(IntegerType())) \\\n",
    "            .withColumn(\"DBP\", df.DBP.cast(IntegerType())) \\\n",
    "            .withColumn(\"HR\", df.HR.cast(IntegerType())) \\\n",
    "            .withColumn(\"RR\", df.RR.cast(IntegerType())) \\\n",
    "            .withColumn(\"BT\", df.BT.cast(IntegerType())) \\\n",
    "            .withColumn(\"Saturation\", df.Saturation.cast(IntegerType())) \\\n",
    "            .withColumn(\"KTAS_RN\", df.KTAS_RN.cast(IntegerType())) \\\n",
    "            .withColumn(\"KTAS_expert\", df.KTAS_expert.cast(IntegerType())) \\\n",
    "            .withColumn(\"Length_of_stay_min\", df.Length_of_stay_min.cast(IntegerType())) \\\n",
    "            .withColumn(\"KTAS_duration_min\", df.KTAS_duration_min.cast(IntegerType())) \\\n",
    "            .withColumn(\"mistriage\", df.mistriage.cast(IntegerType()))"
   ]
  },
  {
   "cell_type": "code",
   "execution_count": 34,
   "metadata": {},
   "outputs": [
    {
     "name": "stdout",
     "output_type": "stream",
     "text": [
      "+-----+---+---+------------------------+------------+------+------------------+------+----+--------+---+---+---+---+---+----------+-------+--------------------+-----------+-----------+-----------+------------------+-----------------+---------+\n",
      "|Group|Sex|Age|Patients_number_per_hour|Arrival_mode|Injury|    Chief_complain|Mental|Pain|NRS_pain|SBP|DBP| HR| RR| BT|Saturation|KTAS_RN|     Diagnosis_in_ed|Disposition|KTAS_expert|Error_group|Length_of_stay_min|KTAS_duration_min|mistriage|\n",
      "+-----+---+---+------------------------+------------+------+------------------+------+----+--------+---+---+---+---+---+----------+-------+--------------------+-----------+-----------+-----------+------------------+-----------------+---------+\n",
      "|    2|  2| 71|                       3|           3|     2| right ocular pain|     1|   1|       2|160|100| 84| 18|366|       100|      2|    corneal abrasion|          1|          4|          2|                86|              500|        1|\n",
      "|    1|  1| 56|                      12|           3|     2|right forearm burn|     1|   1|       2|137| 75| 60| 20|365|      null|      4|burn of hand;firt...|          1|          5|          4|                64|              395|        1|\n",
      "|    2|  1| 68|                       8|           2|     2|       arm pain;lt|     1|   1|       2|130| 80|102| 20|366|        98|      4|fracture of surgi...|          2|          5|          4|               862|              100|        1|\n",
      "|    1|  2| 71|                       8|           1|     1|   ascites tapping|     1|   1|       3|139| 94| 88| 20|365|      null|      4|alcoholic liver c...|          1|          5|          6|               108|              983|        1|\n",
      "|    1|  2| 58|                       4|           3|     1|    distension;abd|     1|   1|       3| 91| 67| 93| 18|365|      null|      4|             ascites|          1|          5|          8|               109|              660|        1|\n",
      "+-----+---+---+------------------------+------------+------+------------------+------+----+--------+---+---+---+---+---+----------+-------+--------------------+-----------+-----------+-----------+------------------+-----------------+---------+\n",
      "only showing top 5 rows\n",
      "\n"
     ]
    }
   ],
   "source": [
    "df_ints.show(5)"
   ]
  },
  {
   "cell_type": "code",
   "execution_count": 35,
   "metadata": {},
   "outputs": [
    {
     "name": "stdout",
     "output_type": "stream",
     "text": [
      "+-----+---+---+------------------------+------------+------+--------------+------+----+--------+---+---+---+---+---+----------+-------+---------------+-----------+-----------+-----------+------------------+-----------------+---------+\n",
      "|Group|Sex|Age|Patients_number_per_hour|Arrival_mode|Injury|Chief_complain|Mental|Pain|NRS_pain|SBP|DBP| HR| RR| BT|Saturation|KTAS_RN|Diagnosis_in_ed|Disposition|KTAS_expert|Error_group|Length_of_stay_min|KTAS_duration_min|mistriage|\n",
      "+-----+---+---+------------------------+------------+------+--------------+------+----+--------+---+---+---+---+---+----------+-------+---------------+-----------+-----------+-----------+------------------+-----------------+---------+\n",
      "|    0|  0|  0|                       0|           0|     0|             0|     0|   0|     556| 25| 29| 20| 22| 18|       697|      0|              0|          0|          0|          0|                 0|                0|        0|\n",
      "+-----+---+---+------------------------+------------+------+--------------+------+----+--------+---+---+---+---+---+----------+-------+---------------+-----------+-----------+-----------+------------------+-----------------+---------+\n",
      "\n"
     ]
    }
   ],
   "source": [
    "# drop columns where more than half the rows are Null\n",
    "from pyspark.sql.functions import isnan, when, count, col\n",
    "df_ints.select([count(when(col(c).isNull(), c)).alias(c) for c in df_ints.columns]).show()\n",
    "\n",
    "# based on these null counts, we should remove the NRS_pain & saturation columns"
   ]
  },
  {
   "cell_type": "code",
   "execution_count": 36,
   "metadata": {},
   "outputs": [
    {
     "name": "stdout",
     "output_type": "stream",
     "text": [
      "+-----+---+---+------------------------+------------+------+------------------+------+----+---+---+---+---+---+-------+--------------------+-----------+-----------+-----------+------------------+-----------------+---------+\n",
      "|Group|Sex|Age|Patients_number_per_hour|Arrival_mode|Injury|    Chief_complain|Mental|Pain|SBP|DBP| HR| RR| BT|KTAS_RN|     Diagnosis_in_ed|Disposition|KTAS_expert|Error_group|Length_of_stay_min|KTAS_duration_min|mistriage|\n",
      "+-----+---+---+------------------------+------------+------+------------------+------+----+---+---+---+---+---+-------+--------------------+-----------+-----------+-----------+------------------+-----------------+---------+\n",
      "|    2|  2| 71|                       3|           3|     2| right ocular pain|     1|   1|160|100| 84| 18|366|      2|    corneal abrasion|          1|          4|          2|                86|              500|        1|\n",
      "|    1|  1| 56|                      12|           3|     2|right forearm burn|     1|   1|137| 75| 60| 20|365|      4|burn of hand;firt...|          1|          5|          4|                64|              395|        1|\n",
      "|    2|  1| 68|                       8|           2|     2|       arm pain;lt|     1|   1|130| 80|102| 20|366|      4|fracture of surgi...|          2|          5|          4|               862|              100|        1|\n",
      "|    1|  2| 71|                       8|           1|     1|   ascites tapping|     1|   1|139| 94| 88| 20|365|      4|alcoholic liver c...|          1|          5|          6|               108|              983|        1|\n",
      "|    1|  2| 58|                       4|           3|     1|    distension;abd|     1|   1| 91| 67| 93| 18|365|      4|             ascites|          1|          5|          8|               109|              660|        1|\n",
      "+-----+---+---+------------------------+------------+------+------------------+------+----+---+---+---+---+---+-------+--------------------+-----------+-----------+-----------+------------------+-----------------+---------+\n",
      "only showing top 5 rows\n",
      "\n"
     ]
    }
   ],
   "source": [
    "df_dropped = df_ints.drop(\"NRS_pain\", \"Saturation\")\n",
    "df_dropped.show(5)"
   ]
  },
  {
   "cell_type": "code",
   "execution_count": 37,
   "metadata": {},
   "outputs": [
    {
     "name": "stdout",
     "output_type": "stream",
     "text": [
      "+-----+---+---+------------------------+------------+------+--------------+------+----+-------+---------------+-----------+-----------+-----------+------------------+-----------------+---------+----------+-----------+-----------+----------+----------+\n",
      "|Group|Sex|Age|Patients_number_per_hour|Arrival_mode|Injury|Chief_complain|Mental|Pain|KTAS_RN|Diagnosis_in_ed|Disposition|KTAS_expert|Error_group|Length_of_stay_min|KTAS_duration_min|mistriage|RR_imputed|SBP_imputed|DBP_imputed|HR_imputed|BT_imputed|\n",
      "+-----+---+---+------------------------+------------+------+--------------+------+----+-------+---------------+-----------+-----------+-----------+------------------+-----------------+---------+----------+-----------+-----------+----------+----------+\n",
      "|    0|  0|  0|                       0|           0|     0|             0|     0|   0|      0|              0|          0|          0|          0|                 0|                0|        0|         0|          0|          0|         0|         0|\n",
      "+-----+---+---+------------------------+------------+------+--------------+------+----+-------+---------------+-----------+-----------+-----------+------------------+-----------------+---------+----------+-----------+-----------+----------+----------+\n",
      "\n"
     ]
    }
   ],
   "source": [
    "# replace null values with the mean of that respective column\n",
    "from pyspark.ml.feature import Imputer\n",
    "impute_cols = [\"SBP\", \"DBP\", \"HR\", \"RR\", \"BT\"]\n",
    "\n",
    "imputer = Imputer(\n",
    "    inputCols = impute_cols, \n",
    "    outputCols = [\"{}_imputed\".format(c) for c in impute_cols],\n",
    "    strategy = \"mean\")\n",
    "df_imputed = imputer.fit(df_dropped).transform(df_dropped).drop(\"SBP\", \"DBP\", \"HR\", \"RR\", \"BT\")\n",
    "\n",
    "df_imputed.select([count(when(col(c).isNull(), c)).alias(c) for c in df_imputed.columns]).show()"
   ]
  },
  {
   "cell_type": "code",
   "execution_count": 38,
   "metadata": {},
   "outputs": [
    {
     "name": "stdout",
     "output_type": "stream",
     "text": [
      "+---------------------------------------------------------------------------+\n",
      "|CC_Diagnosis                                                               |\n",
      "+---------------------------------------------------------------------------+\n",
      "|right ocular pain corneal abrasion                                         |\n",
      "|right forearm burn burn of hand;firts degree dorsum                        |\n",
      "|arm pain;lt fracture of surgical neck of humerus;closed                    |\n",
      "|ascites tapping alcoholic liver cirrhosis with ascites                     |\n",
      "|distension;abd ascites                                                     |\n",
      "|fever fever;unspecified                                                    |\n",
      "|with chest discomfort angina pectoris;unspecified                          |\n",
      "|pain;chest acute coronary syndrome                                         |\n",
      "|lbp-low back pain herniated disc disease of lumbar spine with radiculopathy|\n",
      "|eczema;eyelid ocular pain                                                  |\n",
      "|acute epigastric pain acute gastritis                                      |\n",
      "|pain;leg gout site unspecified                                             |\n",
      "|epigastric pain infectious or septic colitis                               |\n",
      "|abd pain acute peritonitis                                                 |\n",
      "|headache infective endocarditis                                            |\n",
      "+---------------------------------------------------------------------------+\n",
      "only showing top 15 rows\n",
      "\n"
     ]
    }
   ],
   "source": [
    "from pyspark.sql.functions import concat_ws\n",
    "df_combined = df_imputed.withColumn(\"CC_Diagnosis\", concat_ws(\" \", df.Chief_complain, df.Diagnosis_in_ed))\n",
    "df_combined.select(\"CC_Diagnosis\").show(15, truncate = False)"
   ]
  },
  {
   "cell_type": "code",
   "execution_count": 39,
   "metadata": {},
   "outputs": [
    {
     "name": "stdout",
     "output_type": "stream",
     "text": [
      "+-----+---+---+------------------------+------------+------+------------------+------+----+-------+--------------------+-----------+-----------+-----------+------------------+-----------------+---------+----------+-----------+-----------+----------+----------+--------------------+\n",
      "|Group|Sex|Age|Patients_number_per_hour|Arrival_mode|Injury|    Chief_complain|Mental|Pain|KTAS_RN|     Diagnosis_in_ed|Disposition|KTAS_expert|Error_group|Length_of_stay_min|KTAS_duration_min|mistriage|RR_imputed|SBP_imputed|DBP_imputed|HR_imputed|BT_imputed|        CC_Diagnosis|\n",
      "+-----+---+---+------------------------+------------+------+------------------+------+----+-------+--------------------+-----------+-----------+-----------+------------------+-----------------+---------+----------+-----------+-----------+----------+----------+--------------------+\n",
      "|    2|  2| 71|                       3|           3|     2| right ocular pain|     1|   1|      2|    corneal abrasion|          1|          4|          2|                86|              500|        1|        18|        160|        100|        84|       366|right ocular pain...|\n",
      "|    1|  1| 56|                      12|           3|     2|right forearm burn|     1|   1|      4|burn of hand;firt...|          1|          5|          4|                64|              395|        1|        20|        137|         75|        60|       365|right forearm bur...|\n",
      "|    2|  1| 68|                       8|           2|     2|       arm pain;lt|     1|   1|      4|fracture of surgi...|          2|          5|          4|               862|              100|        1|        20|        130|         80|       102|       366|arm pain;lt fract...|\n",
      "|    1|  2| 71|                       8|           1|     1|   ascites tapping|     1|   1|      4|alcoholic liver c...|          1|          5|          6|               108|              983|        1|        20|        139|         94|        88|       365|ascites tapping a...|\n",
      "|    1|  2| 58|                       4|           3|     1|    distension;abd|     1|   1|      4|             ascites|          1|          5|          8|               109|              660|        1|        18|         91|         67|        93|       365|distension;abd as...|\n",
      "+-----+---+---+------------------------+------------+------+------------------+------+----+-------+--------------------+-----------+-----------+-----------+------------------+-----------------+---------+----------+-----------+-----------+----------+----------+--------------------+\n",
      "only showing top 5 rows\n",
      "\n"
     ]
    }
   ],
   "source": [
    "df_combined.show(5)"
   ]
  },
  {
   "cell_type": "code",
   "execution_count": 40,
   "metadata": {},
   "outputs": [
    {
     "name": "stdout",
     "output_type": "stream",
     "text": [
      "+---------------------------------------------------------------------------+\n",
      "|CC_Diagnosis                                                               |\n",
      "+---------------------------------------------------------------------------+\n",
      "|right ocular pain corneal abrasion                                         |\n",
      "|right forearm burn burn of hand firts degree dorsum                        |\n",
      "|arm pain lt fracture of surgical neck of humerus closed                    |\n",
      "|ascites tapping alcoholic liver cirrhosis with ascites                     |\n",
      "|distension abd ascites                                                     |\n",
      "|fever fever unspecified                                                    |\n",
      "|with chest discomfort angina pectoris unspecified                          |\n",
      "|pain chest acute coronary syndrome                                         |\n",
      "|lbp low back pain herniated disc disease of lumbar spine with radiculopathy|\n",
      "|eczema eyelid ocular pain                                                  |\n",
      "|acute epigastric pain acute gastritis                                      |\n",
      "|pain leg gout site unspecified                                             |\n",
      "|epigastric pain infectious or septic colitis                               |\n",
      "|abd pain acute peritonitis                                                 |\n",
      "|headache infective endocarditis                                            |\n",
      "|headache subarachnoid haemorrhage unspecified                              |\n",
      "|acute gastroenteritis                                                      |\n",
      "|open wound open wound of other parts of head face                          |\n",
      "|ruq pain hepatitis nos                                                     |\n",
      "|gingival swelling odontogenic infection                                    |\n",
      "|chin pain closed fracture of humerus nos                                   |\n",
      "|finger injury dislocation of finger                                        |\n",
      "|skin rash anaphylaxis                                                      |\n",
      "|rt side motor weakness intracranial haemorrhage nontraumatic unspecified   |\n",
      "|lt hip joint pain fracture of femur intertrochanter closed                 |\n",
      "+---------------------------------------------------------------------------+\n",
      "only showing top 25 rows\n",
      "\n"
     ]
    }
   ],
   "source": [
    "from pyspark.sql.functions import regexp_replace, trim\n",
    "df_combined = df_combined.withColumn(\"CC_Diagnosis\", trim(regexp_replace(\"CC_Diagnosis\", \";|-\", \" \")))\n",
    "df_combined.select(\"CC_Diagnosis\").show(25, truncate = False)"
   ]
  },
  {
   "cell_type": "code",
   "execution_count": 41,
   "metadata": {},
   "outputs": [
    {
     "name": "stdout",
     "output_type": "stream",
     "text": [
      "+----------------------------------------------------------------------------------------+\n",
      "|words                                                                                   |\n",
      "+----------------------------------------------------------------------------------------+\n",
      "|[right, ocular, pain, corneal, abrasion]                                                |\n",
      "|[right, forearm, burn, burn, of, hand, firts, degree, dorsum]                           |\n",
      "|[arm, pain, lt, fracture, of, surgical, neck, of, humerus, closed]                      |\n",
      "|[ascites, tapping, alcoholic, liver, cirrhosis, with, ascites]                          |\n",
      "|[distension, abd, ascites]                                                              |\n",
      "|[fever, fever, unspecified]                                                             |\n",
      "|[with, chest, discomfort, angina, pectoris, unspecified]                                |\n",
      "|[pain, chest, acute, coronary, syndrome]                                                |\n",
      "|[lbp, low, back, pain, herniated, disc, disease, of, lumbar, spine, with, radiculopathy]|\n",
      "|[eczema, eyelid, ocular, pain]                                                          |\n",
      "|[acute, epigastric, pain, acute, gastritis]                                             |\n",
      "|[pain, leg, gout, site, unspecified]                                                    |\n",
      "|[epigastric, pain, infectious, or, septic, colitis]                                     |\n",
      "|[abd, pain, acute, peritonitis]                                                         |\n",
      "|[headache, infective, endocarditis]                                                     |\n",
      "+----------------------------------------------------------------------------------------+\n",
      "only showing top 15 rows\n",
      "\n"
     ]
    }
   ],
   "source": [
    "from pyspark.ml.feature import Tokenizer\n",
    "tokenizer = Tokenizer(inputCol = \"CC_Diagnosis\", outputCol = \"words\")\n",
    "cc_diagnosis_features = tokenizer.transform(df_combined)\n",
    "cc_diagnosis_features.select(\"words\").show(15, truncate = False)"
   ]
  },
  {
   "cell_type": "code",
   "execution_count": 42,
   "metadata": {},
   "outputs": [
    {
     "name": "stdout",
     "output_type": "stream",
     "text": [
      "+------------------------------------------------------------------------------+\n",
      "|filtered                                                                      |\n",
      "+------------------------------------------------------------------------------+\n",
      "|[right, ocular, pain, corneal, abrasion]                                      |\n",
      "|[right, forearm, burn, burn, hand, firts, degree, dorsum]                     |\n",
      "|[arm, pain, lt, fracture, surgical, neck, humerus, closed]                    |\n",
      "|[ascites, tapping, alcoholic, liver, cirrhosis, ascites]                      |\n",
      "|[distension, abd, ascites]                                                    |\n",
      "|[fever, fever, unspecified]                                                   |\n",
      "|[chest, discomfort, angina, pectoris, unspecified]                            |\n",
      "|[pain, chest, acute, coronary, syndrome]                                      |\n",
      "|[lbp, low, back, pain, herniated, disc, disease, lumbar, spine, radiculopathy]|\n",
      "|[eczema, eyelid, ocular, pain]                                                |\n",
      "|[acute, epigastric, pain, acute, gastritis]                                   |\n",
      "|[pain, leg, gout, site, unspecified]                                          |\n",
      "|[epigastric, pain, infectious, septic, colitis]                               |\n",
      "|[abd, pain, acute, peritonitis]                                               |\n",
      "|[headache, infective, endocarditis]                                           |\n",
      "+------------------------------------------------------------------------------+\n",
      "only showing top 15 rows\n",
      "\n"
     ]
    }
   ],
   "source": [
    "from pyspark.ml.feature import StopWordsRemover\n",
    "remover = StopWordsRemover(inputCol = \"words\", outputCol = \"filtered\")\n",
    "removedData = remover.transform(cc_diagnosis_features)\n",
    "removedData.select(\"filtered\").show(15, truncate = False)"
   ]
  },
  {
   "cell_type": "code",
   "execution_count": 43,
   "metadata": {},
   "outputs": [
    {
     "name": "stdout",
     "output_type": "stream",
     "text": [
      "+-----+---+---+------------------------+------------+------+------------------------+------+----+-------+------------------------+-----------+-----------+-----------+------------------+-----------------+---------+----------+-----------+-----------+----------+----------+----------------------------------------------+-----------------------------------------------------+-------------------------------------------------+\n",
      "|Group|Sex|Age|Patients_number_per_hour|Arrival_mode|Injury|Chief_complain          |Mental|Pain|KTAS_RN|Diagnosis_in_ed         |Disposition|KTAS_expert|Error_group|Length_of_stay_min|KTAS_duration_min|mistriage|RR_imputed|SBP_imputed|DBP_imputed|HR_imputed|BT_imputed|CC_Diagnosis                                  |words                                                |filtered                                         |\n",
      "+-----+---+---+------------------------+------------+------+------------------------+------+----+-------+------------------------+-----------+-----------+-----------+------------------+-----------------+---------+----------+-----------+-----------+----------+----------+----------------------------------------------+-----------------------------------------------------+-------------------------------------------------+\n",
      "|1    |1  |17 |8                       |3           |1     |abd pain                |1     |1   |3      |abdominal pain          |1          |3          |0          |168               |825              |0        |16        |141        |75         |84        |37        |abd pain abdominal pain                       |[abd, pain, abdominal, pain]                         |[abd, pain, abdominal, pain]                     |\n",
      "|1    |1  |18 |4                       |3           |1     |abd pain                |1     |1   |4      |abdomen pain;generalized|1          |4          |0          |180               |332              |0        |20        |136        |90         |98        |37        |abd pain abdomen pain generalized             |[abd, pain, abdomen, pain, generalized]              |[abd, pain, abdomen, pain, generalized]          |\n",
      "|1    |1  |18 |7                       |3           |2     |right forearm laceration|1     |1   |4      |laceration of forearm   |1          |4          |0          |36                |385              |0        |18        |120        |84         |88        |368       |right forearm laceration laceration of forearm|[right, forearm, laceration, laceration, of, forearm]|[right, forearm, laceration, laceration, forearm]|\n",
      "|1    |1  |19 |7                       |3           |2     |ankle injury            |1     |1   |4      |injury of ankle         |1          |4          |0          |73                |420              |0        |20        |154        |70         |75        |36        |ankle injury injury of ankle                  |[ankle, injury, injury, of, ankle]                   |[ankle, injury, injury, ankle]                   |\n",
      "|1    |1  |19 |11                      |2           |1     |                        |1     |0   |2      |acute gastritis         |1          |4          |2          |108               |1460             |1        |16        |116        |77         |64        |369       |acute gastritis                               |[acute, gastritis]                                   |[acute, gastritis]                               |\n",
      "+-----+---+---+------------------------+------------+------+------------------------+------+----+-------+------------------------+-----------+-----------+-----------+------------------+-----------------+---------+----------+-----------+-----------+----------+----------+----------------------------------------------+-----------------------------------------------------+-------------------------------------------------+\n",
      "only showing top 5 rows\n",
      "\n"
     ]
    }
   ],
   "source": [
    "trainingData, testData = removedData.randomSplit([0.8, 0.2], seed = 123)\n",
    "trainingData.show(5, truncate = False)"
   ]
  },
  {
   "cell_type": "code",
   "execution_count": 44,
   "metadata": {},
   "outputs": [],
   "source": [
    "# from pyspark.ml.feature import HashingTF, IDF\n",
    "# hashingTF = HashingTF(inputCol = \"filtered\", outputCol = \"rawFeatures\", numFeatures = 250)\n",
    "# featurizedData = hashingTF.transform(trainingData)\n",
    "\n",
    "# idf = IDF(inputCol = \"rawFeatures\", outputCol = \"wordFeatures\")\n",
    "# idfModel = idf.fit(featurizedData)\n",
    "# rescaledData = idfModel.transform(featurizedData)"
   ]
  },
  {
   "cell_type": "code",
   "execution_count": 45,
   "metadata": {},
   "outputs": [],
   "source": [
    "from pyspark.ml.feature import Word2Vec\n",
    "word2Vec = Word2Vec(vectorSize=10, minCount=0, inputCol=\"filtered\", outputCol=\"wordFeatures\")\n",
    "model = word2Vec.fit(trainingData)\n",
    "w2v_trainDF = model.transform(trainingData)"
   ]
  },
  {
   "cell_type": "code",
   "execution_count": 46,
   "metadata": {},
   "outputs": [
    {
     "name": "stdout",
     "output_type": "stream",
     "text": [
      "+-------------------------------------------------------------------------------------------------------------------------------------------------------------------------------------------------------------------+\n",
      "|wordFeatures                                                                                                                                                                                                       |\n",
      "+-------------------------------------------------------------------------------------------------------------------------------------------------------------------------------------------------------------------+\n",
      "|[-0.20061319135129452,-0.18230105191469193,-0.10438244044780731,0.0773753821849823,-0.4151565134525299,0.034054774325340986,0.5165721215307713,0.0816023051738739,-0.0415091123431921,0.7181192636489868]          |\n",
      "|[-0.12373896967619658,-0.13016678094863893,-0.12265184298157693,0.05409670397639275,-0.33724522925913336,0.0142889391630888,0.40396437365561727,0.04066421389579773,-0.043692764639854435,0.5335355972871184]      |\n",
      "|[0.022120924666523933,-0.054658475518226626,0.27453630566596987,0.06354180201888085,0.0035653188824653625,0.07341837659478188,0.04139604810625315,0.0383601114153862,0.04182498841546476,2.9997229576110844E-4]    |\n",
      "|[0.025600727647542953,0.016321339178830385,0.08531294949352741,-0.0020089801400899887,-0.026252662762999535,0.043814295902848244,0.04248649999499321,-0.022808937821537256,0.02560393512248993,0.07347448542714119]|\n",
      "|[0.0011727772653102875,-0.030100135132670403,-0.023098565638065338,-0.016234910464845598,0.005702059715986252,-0.04130171425640583,0.07399452663958073,0.0823329744162038,-0.048468250315636396,0.1330061750486493]|\n",
      "+-------------------------------------------------------------------------------------------------------------------------------------------------------------------------------------------------------------------+\n",
      "only showing top 5 rows\n",
      "\n"
     ]
    }
   ],
   "source": [
    "w2v_trainDF.select(\"wordFeatures\").show(5, truncate = False)"
   ]
  },
  {
   "cell_type": "code",
   "execution_count": 47,
   "metadata": {},
   "outputs": [],
   "source": [
    "# rescaledData.show(5, truncate = False)"
   ]
  },
  {
   "cell_type": "code",
   "execution_count": 48,
   "metadata": {},
   "outputs": [],
   "source": [
    "final_cols = [c for c in w2v_trainDF.columns if c in df_imputed.columns or c == \"wordFeatures\"]"
   ]
  },
  {
   "cell_type": "code",
   "execution_count": 49,
   "metadata": {},
   "outputs": [
    {
     "name": "stdout",
     "output_type": "stream",
     "text": [
      "+-----+---+---+------------------------+------------+------+------------------------+------+----+-------+------------------------+-----------+-----------+-----------+------------------+-----------------+---------+----------+-----------+-----------+----------+----------+-------------------------------------------------------------------------------------------------------------------------------------------------------------------------------------------------------------------+\n",
      "|Group|Sex|Age|Patients_number_per_hour|Arrival_mode|Injury|Chief_complain          |Mental|Pain|KTAS_RN|Diagnosis_in_ed         |Disposition|KTAS_expert|Error_group|Length_of_stay_min|KTAS_duration_min|mistriage|RR_imputed|SBP_imputed|DBP_imputed|HR_imputed|BT_imputed|wordFeatures                                                                                                                                                                                                       |\n",
      "+-----+---+---+------------------------+------------+------+------------------------+------+----+-------+------------------------+-----------+-----------+-----------+------------------+-----------------+---------+----------+-----------+-----------+----------+----------+-------------------------------------------------------------------------------------------------------------------------------------------------------------------------------------------------------------------+\n",
      "|1    |1  |17 |8                       |3           |1     |abd pain                |1     |1   |3      |abdominal pain          |1          |3          |0          |168               |825              |0        |16        |141        |75         |84        |37        |[-0.20061319135129452,-0.18230105191469193,-0.10438244044780731,0.0773753821849823,-0.4151565134525299,0.034054774325340986,0.5165721215307713,0.0816023051738739,-0.0415091123431921,0.7181192636489868]          |\n",
      "|1    |1  |18 |4                       |3           |1     |abd pain                |1     |1   |4      |abdomen pain;generalized|1          |4          |0          |180               |332              |0        |20        |136        |90         |98        |37        |[-0.12373896967619658,-0.13016678094863893,-0.12265184298157693,0.05409670397639275,-0.33724522925913336,0.0142889391630888,0.40396437365561727,0.04066421389579773,-0.043692764639854435,0.5335355972871184]      |\n",
      "|1    |1  |18 |7                       |3           |2     |right forearm laceration|1     |1   |4      |laceration of forearm   |1          |4          |0          |36                |385              |0        |18        |120        |84         |88        |368       |[0.022120924666523933,-0.054658475518226626,0.27453630566596987,0.06354180201888085,0.0035653188824653625,0.07341837659478188,0.04139604810625315,0.0383601114153862,0.04182498841546476,2.9997229576110844E-4]    |\n",
      "|1    |1  |19 |7                       |3           |2     |ankle injury            |1     |1   |4      |injury of ankle         |1          |4          |0          |73                |420              |0        |20        |154        |70         |75        |36        |[0.025600727647542953,0.016321339178830385,0.08531294949352741,-0.0020089801400899887,-0.026252662762999535,0.043814295902848244,0.04248649999499321,-0.022808937821537256,0.02560393512248993,0.07347448542714119]|\n",
      "|1    |1  |19 |11                      |2           |1     |                        |1     |0   |2      |acute gastritis         |1          |4          |2          |108               |1460             |1        |16        |116        |77         |64        |369       |[0.0011727772653102875,-0.030100135132670403,-0.023098565638065338,-0.016234910464845598,0.005702059715986252,-0.04130171425640583,0.07399452663958073,0.0823329744162038,-0.048468250315636396,0.1330061750486493]|\n",
      "+-----+---+---+------------------------+------------+------+------------------------+------+----+-------+------------------------+-----------+-----------+-----------+------------------+-----------------+---------+----------+-----------+-----------+----------+----------+-------------------------------------------------------------------------------------------------------------------------------------------------------------------------------------------------------------------+\n",
      "only showing top 5 rows\n",
      "\n"
     ]
    }
   ],
   "source": [
    "final_train_df = w2v_trainDF.select(final_cols)\n",
    "final_train_df.cache()\n",
    "final_train_df.show(5, truncate = False)"
   ]
  },
  {
   "cell_type": "code",
   "execution_count": 50,
   "metadata": {},
   "outputs": [],
   "source": [
    "# # final_train_df.sample(withReplacement = True, fraction = ratio\n",
    "# # final_train_df.sample(#mistriage2 explode then upsample)\n",
    "    \n",
    "    \n",
    "# min_group = df.groupBy(target).count().orderBy(\"count\").first()[target]\n",
    "# min_count = df.groupBy(target).count().orderBy(\"count\").first()['count']\n",
    "# max_count = df.groupBy(target).count().orderBy(F.col(\"count\").desc()).first()['count']\n",
    "# print('Min Count: {}, Max Count: {}'.format(min_count, max_count))\n",
    "    \n",
    "# df_b = df.filter(df[target] == min_group)\n",
    "# remain_df = df.filter(df[target] != min_group)\n",
    "# down_df = remain_df.sample(withReplacement = True, fraction = min_count / max_count, seed = 314)\n",
    "# print('Number of rows in downsampled dataframe:{}'.format(down_df.count()))\n",
    "    \n",
    "# df_b = df_b.union(down_df)"
   ]
  },
  {
   "cell_type": "code",
   "execution_count": 51,
   "metadata": {},
   "outputs": [],
   "source": [
    "# hashingTF_test = HashingTF(inputCol = \"filtered\", outputCol = \"rawFeatures\", numFeatures = 250)\n",
    "# featurizedData_test = hashingTF.transform(testData)\n",
    "\n",
    "# idf_test = IDF(inputCol = \"rawFeatures\", outputCol = \"wordFeatures\")\n",
    "# idfModel_test = idf_test.fit(featurizedData_test)\n",
    "# rescaledData_test = idfModel_test.transform(featurizedData_test)"
   ]
  },
  {
   "cell_type": "code",
   "execution_count": 52,
   "metadata": {},
   "outputs": [],
   "source": [
    "word2Vec = Word2Vec(vectorSize=10, minCount=0, inputCol=\"filtered\", outputCol=\"wordFeatures\")\n",
    "model = word2Vec.fit(testData)\n",
    "w2v_testDF = model.transform(testData)"
   ]
  },
  {
   "cell_type": "code",
   "execution_count": 53,
   "metadata": {},
   "outputs": [
    {
     "name": "stdout",
     "output_type": "stream",
     "text": [
      "+-----+---+---+------------------------+------------+------+-------------------+------+----+-------+---------------------+-----------+-----------+-----------+------------------+-----------------+---------+----------+-----------+-----------+----------+----------+-------------------------------------+-------------------------------------------+------------------------------------------+-------------------------------------------------------------------------------------------------------------------------------------------------------------------------------------------------------------------------+\n",
      "|Group|Sex|Age|Patients_number_per_hour|Arrival_mode|Injury|Chief_complain     |Mental|Pain|KTAS_RN|Diagnosis_in_ed      |Disposition|KTAS_expert|Error_group|Length_of_stay_min|KTAS_duration_min|mistriage|RR_imputed|SBP_imputed|DBP_imputed|HR_imputed|BT_imputed|CC_Diagnosis                         |words                                      |filtered                                  |wordFeatures                                                                                                                                                                                                             |\n",
      "+-----+---+---+------------------------+------------+------+-------------------+------+----+-------+---------------------+-----------+-----------+-----------+------------------+-----------------+---------+----------+-----------+-----------+----------+----------+-------------------------------------+-------------------------------------------+------------------------------------------+-------------------------------------------------------------------------------------------------------------------------------------------------------------------------------------------------------------------------+\n",
      "|1    |1  |18 |5                       |3           |1     |hand tingling sense|1     |1   |5      |injury of finger     |1          |5          |0          |112               |510              |0        |18        |194        |101        |79        |368       |hand tingling sense injury of finger |[hand, tingling, sense, injury, of, finger]|[hand, tingling, sense, injury, finger]   |[-0.0064028225839138034,0.01656741611659527,-0.001927927974611521,-0.004509202763438225,0.004931182600557804,-0.010956698656082155,0.006512685469351709,-0.00956940061878413,0.013536177203059198,0.035209647566080096]  |\n",
      "|1    |1  |20 |5                       |3           |1     |abd pain           |1     |1   |4      |acute gastroenteritis|1          |4          |0          |144               |800              |0        |18        |120        |70         |105       |363       |abd pain acute gastroenteritis       |[abd, pain, acute, gastroenteritis]        |[abd, pain, acute, gastroenteritis]       |[0.018588056846056134,-0.01486223959363997,-0.01571619402966462,-0.00368211732711643,-0.047203668393194675,-8.399565704166889E-4,0.0043744733557105064,-0.0022912146523594856,-0.03992125252261758,0.014451411319896579] |\n",
      "|1    |1  |22 |10                      |1           |1     |abd pain           |1     |1   |4      |colitis              |2          |4          |0          |276               |1178             |0        |20        |140        |92         |109       |372       |abd pain colitis                     |[abd, pain, colitis]                       |[abd, pain, colitis]                      |[0.028573653117443122,9.394890318314234E-4,-0.03476139095922311,-0.011025980114936829,-0.03884947688008348,-0.007859556314845879,0.022659941886862118,0.01576666844387849,-0.04679356515407562,0.009485531287888685]     |\n",
      "|1    |1  |22 |12                      |3           |1     |vaginal bleeding   |1     |1   |3      |vaginal bleeding     |2          |3          |0          |370               |1243             |0        |20        |114        |79         |119       |371       |vaginal bleeding vaginal bleeding    |[vaginal, bleeding, vaginal, bleeding]     |[vaginal, bleeding, vaginal, bleeding]    |[-0.015505287796258926,-0.017969087464734912,0.04066292755305767,-0.001021234318614006,-0.0043994218576699495,-0.037381742149591446,-0.0122673106379807,-0.03696888778358698,-0.007936874404549599,-0.009425805881619453]|\n",
      "|1    |1  |23 |7                       |3           |1     |epigastric pain    |1     |1   |4      |acute gastroenteritis|1          |4          |0          |78                |1488             |0        |18        |115        |70         |95        |367       |epigastric pain acute gastroenteritis|[epigastric, pain, acute, gastroenteritis] |[epigastric, pain, acute, gastroenteritis]|[7.13232031557709E-4,-0.007509003859013319,-0.009419549111044034,-0.014407811569981277,-0.04426171910017729,-0.007477794075384736,0.0096976722124964,-0.020735721103847027,-0.03856884362176061,0.012803858146071434]    |\n",
      "+-----+---+---+------------------------+------------+------+-------------------+------+----+-------+---------------------+-----------+-----------+-----------+------------------+-----------------+---------+----------+-----------+-----------+----------+----------+-------------------------------------+-------------------------------------------+------------------------------------------+-------------------------------------------------------------------------------------------------------------------------------------------------------------------------------------------------------------------------+\n",
      "only showing top 5 rows\n",
      "\n"
     ]
    }
   ],
   "source": [
    "w2v_testDF.show(5, truncate = False)"
   ]
  },
  {
   "cell_type": "code",
   "execution_count": 54,
   "metadata": {},
   "outputs": [],
   "source": [
    "final_cols_test = [c for c in w2v_testDF.columns if c in df_imputed.columns or c == \"wordFeatures\"]"
   ]
  },
  {
   "cell_type": "code",
   "execution_count": 55,
   "metadata": {},
   "outputs": [
    {
     "name": "stdout",
     "output_type": "stream",
     "text": [
      "+-----+---+---+------------------------+------------+------+-------------------+------+----+-------+---------------------+-----------+-----------+-----------+------------------+-----------------+---------+----------+-----------+-----------+----------+----------+-------------------------------------------------------------------------------------------------------------------------------------------------------------------------------------------------------------------------+\n",
      "|Group|Sex|Age|Patients_number_per_hour|Arrival_mode|Injury|Chief_complain     |Mental|Pain|KTAS_RN|Diagnosis_in_ed      |Disposition|KTAS_expert|Error_group|Length_of_stay_min|KTAS_duration_min|mistriage|RR_imputed|SBP_imputed|DBP_imputed|HR_imputed|BT_imputed|wordFeatures                                                                                                                                                                                                             |\n",
      "+-----+---+---+------------------------+------------+------+-------------------+------+----+-------+---------------------+-----------+-----------+-----------+------------------+-----------------+---------+----------+-----------+-----------+----------+----------+-------------------------------------------------------------------------------------------------------------------------------------------------------------------------------------------------------------------------+\n",
      "|1    |1  |18 |5                       |3           |1     |hand tingling sense|1     |1   |5      |injury of finger     |1          |5          |0          |112               |510              |0        |18        |194        |101        |79        |368       |[-0.0064028225839138034,0.01656741611659527,-0.001927927974611521,-0.004509202763438225,0.004931182600557804,-0.010956698656082155,0.006512685469351709,-0.00956940061878413,0.013536177203059198,0.035209647566080096]  |\n",
      "|1    |1  |20 |5                       |3           |1     |abd pain           |1     |1   |4      |acute gastroenteritis|1          |4          |0          |144               |800              |0        |18        |120        |70         |105       |363       |[0.018588056846056134,-0.01486223959363997,-0.01571619402966462,-0.00368211732711643,-0.047203668393194675,-8.399565704166889E-4,0.0043744733557105064,-0.0022912146523594856,-0.03992125252261758,0.014451411319896579] |\n",
      "|1    |1  |22 |10                      |1           |1     |abd pain           |1     |1   |4      |colitis              |2          |4          |0          |276               |1178             |0        |20        |140        |92         |109       |372       |[0.028573653117443122,9.394890318314234E-4,-0.03476139095922311,-0.011025980114936829,-0.03884947688008348,-0.007859556314845879,0.022659941886862118,0.01576666844387849,-0.04679356515407562,0.009485531287888685]     |\n",
      "|1    |1  |22 |12                      |3           |1     |vaginal bleeding   |1     |1   |3      |vaginal bleeding     |2          |3          |0          |370               |1243             |0        |20        |114        |79         |119       |371       |[-0.015505287796258926,-0.017969087464734912,0.04066292755305767,-0.001021234318614006,-0.0043994218576699495,-0.037381742149591446,-0.0122673106379807,-0.03696888778358698,-0.007936874404549599,-0.009425805881619453]|\n",
      "|1    |1  |23 |7                       |3           |1     |epigastric pain    |1     |1   |4      |acute gastroenteritis|1          |4          |0          |78                |1488             |0        |18        |115        |70         |95        |367       |[7.13232031557709E-4,-0.007509003859013319,-0.009419549111044034,-0.014407811569981277,-0.04426171910017729,-0.007477794075384736,0.0096976722124964,-0.020735721103847027,-0.03856884362176061,0.012803858146071434]    |\n",
      "+-----+---+---+------------------------+------------+------+-------------------+------+----+-------+---------------------+-----------+-----------+-----------+------------------+-----------------+---------+----------+-----------+-----------+----------+----------+-------------------------------------------------------------------------------------------------------------------------------------------------------------------------------------------------------------------------+\n",
      "only showing top 5 rows\n",
      "\n"
     ]
    }
   ],
   "source": [
    "final_test_df = w2v_testDF.select(final_cols_test)\n",
    "final_test_df.cache()\n",
    "final_test_df.show(5, truncate = False)"
   ]
  },
  {
   "cell_type": "code",
   "execution_count": 56,
   "metadata": {},
   "outputs": [],
   "source": [
    "from pyspark.ml.feature import StringIndexer, OneHotEncoder\n",
    "\n",
    "categoricalCols = [\"Group\", \"Sex\", \"Arrival_mode\", \"Injury\", \"Mental\", \"Pain\", \"Disposition\", \"Error_group\"]\n",
    "stringIndexer = StringIndexer(inputCols = categoricalCols, outputCols = [x + \"Index\" for x in categoricalCols]) \n",
    "encoder = OneHotEncoder(inputCols = stringIndexer.getOutputCols(), outputCols = [x + \"OHE\" for x in categoricalCols])\n",
    "\n",
    "labelToIndex = StringIndexer(inputCol = \"mistriage\", outputCol = \"label\")"
   ]
  },
  {
   "cell_type": "code",
   "execution_count": 57,
   "metadata": {},
   "outputs": [
    {
     "name": "stdout",
     "output_type": "stream",
     "text": [
      "+-----+---+---+------------------------+------------+------+--------------------+------+----+-------+--------------------+-----------+-----------+-----------+------------------+-----------------+---------+----------+-----------+-----------+----------+----------+--------------------+-----------------+----------------+-----------+----------------+---------+--------+-----------+----------+\n",
      "|Group|Sex|Age|Patients_number_per_hour|Arrival_mode|Injury|      Chief_complain|Mental|Pain|KTAS_RN|     Diagnosis_in_ed|Disposition|KTAS_expert|Error_group|Length_of_stay_min|KTAS_duration_min|mistriage|RR_imputed|SBP_imputed|DBP_imputed|HR_imputed|BT_imputed|        wordFeatures|Arrival_modeIndex|DispositionIndex|InjuryIndex|Error_groupIndex|PainIndex|SexIndex|MentalIndex|GroupIndex|\n",
      "+-----+---+---+------------------------+------------+------+--------------------+------+----+-------+--------------------+-----------+-----------+-----------+------------------+-----------------+---------+----------+-----------+-----------+----------+----------+--------------------+-----------------+----------------+-----------+----------------+---------+--------+-----------+----------+\n",
      "|    1|  1| 17|                       8|           3|     1|            abd pain|     1|   1|      3|      abdominal pain|          1|          3|         0 |               168|              825|        0|        16|        141|         75|        84|        37|[-0.2006131913512...|              0.0|             0.0|        0.0|             0.0|      0.0|     1.0|        0.0|       0.0|\n",
      "|    1|  1| 18|                       4|           3|     1|            abd pain|     1|   1|      4|abdomen pain;gene...|          1|          4|         0 |               180|              332|        0|        20|        136|         90|        98|        37|[-0.1237389696761...|              0.0|             0.0|        0.0|             0.0|      0.0|     1.0|        0.0|       0.0|\n",
      "|    1|  1| 18|                       7|           3|     2|right forearm lac...|     1|   1|      4|laceration of for...|          1|          4|         0 |                36|              385|        0|        18|        120|         84|        88|       368|[0.02212092466652...|              0.0|             0.0|        1.0|             0.0|      0.0|     1.0|        0.0|       0.0|\n",
      "|    1|  1| 19|                       7|           3|     2|        ankle injury|     1|   1|      4|     injury of ankle|          1|          4|         0 |                73|              420|        0|        20|        154|         70|        75|        36|[0.02560072764754...|              0.0|             0.0|        1.0|             0.0|      0.0|     1.0|        0.0|       0.0|\n",
      "|    1|  1| 19|                      11|           2|     1|                    |     1|   0|      2|     acute gastritis|          1|          4|          2|               108|             1460|        1|        16|        116|         77|        64|       369|[0.00117277726531...|              1.0|             0.0|        0.0|             2.0|      1.0|     1.0|        0.0|       0.0|\n",
      "+-----+---+---+------------------------+------------+------+--------------------+------+----+-------+--------------------+-----------+-----------+-----------+------------------+-----------------+---------+----------+-----------+-----------+----------+----------+--------------------+-----------------+----------------+-----------+----------------+---------+--------+-----------+----------+\n",
      "only showing top 5 rows\n",
      "\n"
     ]
    }
   ],
   "source": [
    "# stringIndexerModel = stringIndexer.fit(final_train_df)\n",
    "stringIndexerModel = stringIndexer.setHandleInvalid(\"keep\").fit(final_train_df)\n",
    "stringIndexerModel.transform(final_train_df).show(5)"
   ]
  },
  {
   "cell_type": "code",
   "execution_count": 58,
   "metadata": {},
   "outputs": [
    {
     "name": "stdout",
     "output_type": "stream",
     "text": [
      "+-----+---+---+------------------------+------------+------+--------------------+------+----+-------+--------------------+-----------+-----------+-----------+------------------+-----------------+---------+----------+-----------+-----------+----------+----------+--------------------+-----------------+----------------+-----------+----------------+---------+--------+-----------+----------+---------------+--------------+-------------+-------------+--------------+-------------+-------------+-------------+\n",
      "|Group|Sex|Age|Patients_number_per_hour|Arrival_mode|Injury|      Chief_complain|Mental|Pain|KTAS_RN|     Diagnosis_in_ed|Disposition|KTAS_expert|Error_group|Length_of_stay_min|KTAS_duration_min|mistriage|RR_imputed|SBP_imputed|DBP_imputed|HR_imputed|BT_imputed|        wordFeatures|Arrival_modeIndex|DispositionIndex|InjuryIndex|Error_groupIndex|PainIndex|SexIndex|MentalIndex|GroupIndex|Arrival_modeOHE|Error_groupOHE|       SexOHE|    MentalOHE|DispositionOHE|    InjuryOHE|      PainOHE|     GroupOHE|\n",
      "+-----+---+---+------------------------+------------+------+--------------------+------+----+-------+--------------------+-----------+-----------+-----------+------------------+-----------------+---------+----------+-----------+-----------+----------+----------+--------------------+-----------------+----------------+-----------+----------------+---------+--------+-----------+----------+---------------+--------------+-------------+-------------+--------------+-------------+-------------+-------------+\n",
      "|    1|  1| 17|                       8|           3|     1|            abd pain|     1|   1|      3|      abdominal pain|          1|          3|         0 |               168|              825|        0|        16|        141|         75|        84|        37|[-0.2006131913512...|              0.0|             0.0|        0.0|             0.0|      0.0|     1.0|        0.0|       0.0|  (7,[0],[1.0])|(10,[0],[1.0])|(2,[1],[1.0])|(4,[0],[1.0])| (7,[0],[1.0])|(2,[0],[1.0])|(2,[0],[1.0])|(2,[0],[1.0])|\n",
      "|    1|  1| 18|                       4|           3|     1|            abd pain|     1|   1|      4|abdomen pain;gene...|          1|          4|         0 |               180|              332|        0|        20|        136|         90|        98|        37|[-0.1237389696761...|              0.0|             0.0|        0.0|             0.0|      0.0|     1.0|        0.0|       0.0|  (7,[0],[1.0])|(10,[0],[1.0])|(2,[1],[1.0])|(4,[0],[1.0])| (7,[0],[1.0])|(2,[0],[1.0])|(2,[0],[1.0])|(2,[0],[1.0])|\n",
      "|    1|  1| 18|                       7|           3|     2|right forearm lac...|     1|   1|      4|laceration of for...|          1|          4|         0 |                36|              385|        0|        18|        120|         84|        88|       368|[0.02212092466652...|              0.0|             0.0|        1.0|             0.0|      0.0|     1.0|        0.0|       0.0|  (7,[0],[1.0])|(10,[0],[1.0])|(2,[1],[1.0])|(4,[0],[1.0])| (7,[0],[1.0])|(2,[1],[1.0])|(2,[0],[1.0])|(2,[0],[1.0])|\n",
      "|    1|  1| 19|                       7|           3|     2|        ankle injury|     1|   1|      4|     injury of ankle|          1|          4|         0 |                73|              420|        0|        20|        154|         70|        75|        36|[0.02560072764754...|              0.0|             0.0|        1.0|             0.0|      0.0|     1.0|        0.0|       0.0|  (7,[0],[1.0])|(10,[0],[1.0])|(2,[1],[1.0])|(4,[0],[1.0])| (7,[0],[1.0])|(2,[1],[1.0])|(2,[0],[1.0])|(2,[0],[1.0])|\n",
      "|    1|  1| 19|                      11|           2|     1|                    |     1|   0|      2|     acute gastritis|          1|          4|          2|               108|             1460|        1|        16|        116|         77|        64|       369|[0.00117277726531...|              1.0|             0.0|        0.0|             2.0|      1.0|     1.0|        0.0|       0.0|  (7,[1],[1.0])|(10,[2],[1.0])|(2,[1],[1.0])|(4,[0],[1.0])| (7,[0],[1.0])|(2,[0],[1.0])|(2,[1],[1.0])|(2,[0],[1.0])|\n",
      "+-----+---+---+------------------------+------------+------+--------------------+------+----+-------+--------------------+-----------+-----------+-----------+------------------+-----------------+---------+----------+-----------+-----------+----------+----------+--------------------+-----------------+----------------+-----------+----------------+---------+--------+-----------+----------+---------------+--------------+-------------+-------------+--------------+-------------+-------------+-------------+\n",
      "only showing top 5 rows\n",
      "\n"
     ]
    }
   ],
   "source": [
    "dfstring = stringIndexerModel.transform(final_train_df)\n",
    "\n",
    "ohe = encoder.fit(dfstring)\n",
    "dfohe = ohe.transform(dfstring)\n",
    "dfohe.show(5)"
   ]
  },
  {
   "cell_type": "markdown",
   "metadata": {},
   "source": [
    "## Model 1: Multinomial Logistic Regression"
   ]
  },
  {
   "cell_type": "code",
   "execution_count": 61,
   "metadata": {},
   "outputs": [],
   "source": [
    "from pyspark.ml.feature import VectorAssembler\n",
    "\n",
    "numericCols = [\"Age\", \"Patients_number_per_hour\", \"KTAS_RN\", \"KTAS_expert\", \"Length_of_stay_min\", \"KTAS_duration_min\", \"RR_imputed\", \"SBP_imputed\", \"DBP_imputed\", \"HR_imputed\", \"BT_imputed\"]\n",
    "assemblerInputs = [c + \"OHE\" for c in categoricalCols] + numericCols + [\"wordFeatures\"]\n",
    "vecAssembler = VectorAssembler(inputCols = assemblerInputs, outputCol = \"features\")"
   ]
  },
  {
   "cell_type": "code",
   "execution_count": 63,
   "metadata": {},
   "outputs": [],
   "source": [
    "from pyspark.ml.classification import LogisticRegression\n",
    "lr = LogisticRegression(featuresCol=\"features\", labelCol=\"label\")"
   ]
  },
  {
   "cell_type": "code",
   "execution_count": 67,
   "metadata": {},
   "outputs": [],
   "source": [
    "from pyspark.ml import Pipeline\n",
    "\n",
    "pipeline = Pipeline(stages = [stringIndexer, encoder, labelToIndex, vecAssembler, lr])\n",
    "pipelineModel = pipeline.fit(final_train_df)\n",
    "predDF_lr = pipelineModel.transform(final_test_df)"
   ]
  },
  {
   "cell_type": "code",
   "execution_count": 68,
   "metadata": {},
   "outputs": [
    {
     "name": "stdout",
     "output_type": "stream",
     "text": [
      "+--------------------+-----+----------+--------------------+\n",
      "|            features|label|prediction|         probability|\n",
      "+--------------------+-----+----------+--------------------+\n",
      "|(57,[0,3,4,11,13,...|  0.0|       0.0|[1.0,1.6367317709...|\n",
      "|(57,[0,3,4,11,13,...|  0.0|       0.0|[1.0,3.8003917125...|\n",
      "|(57,[0,3,7,11,13,...|  0.0|       0.0|[1.0,2.7725489674...|\n",
      "|(57,[0,3,4,11,13,...|  0.0|       0.0|[1.0,3.5439578861...|\n",
      "|(57,[0,3,4,11,13,...|  0.0|       0.0|[1.0,8.9628283389...|\n",
      "|(57,[0,3,4,11,13,...|  0.0|       0.0|[1.0,1.4164824692...|\n",
      "|(57,[0,3,5,12,13,...|  0.0|       0.0|[1.0,3.2920654007...|\n",
      "|(57,[0,3,5,12,13,...|  0.0|       0.0|[1.0,5.9583080356...|\n",
      "|(57,[0,3,4,11,13,...|  0.0|       0.0|[1.0,2.0783684899...|\n",
      "|(57,[0,3,4,12,13,...|  0.0|       0.0|[1.0,3.9304152300...|\n",
      "+--------------------+-----+----------+--------------------+\n",
      "only showing top 10 rows\n",
      "\n"
     ]
    }
   ],
   "source": [
    "predDF_lr.select(\"features\", \"label\", \"prediction\", \"probability\").show(10)"
   ]
  },
  {
   "cell_type": "code",
   "execution_count": 69,
   "metadata": {},
   "outputs": [
    {
     "name": "stdout",
     "output_type": "stream",
     "text": [
      "+----------+-----+\n",
      "|prediction|count|\n",
      "+----------+-----+\n",
      "|       0.0|  198|\n",
      "|       1.0|   27|\n",
      "|       2.0|   11|\n",
      "+----------+-----+\n",
      "\n"
     ]
    }
   ],
   "source": [
    "predDF_lr.groupBy(\"prediction\") \\\n",
    "      .count() \\\n",
    "      .sort(\"count\", ascending = False) \\\n",
    "      .show()"
   ]
  },
  {
   "cell_type": "code",
   "execution_count": 70,
   "metadata": {},
   "outputs": [
    {
     "name": "stdout",
     "output_type": "stream",
     "text": [
      "Accuracy: 0.9957627118644068\n",
      "Weighted Precision: 0.9961479198767335\n",
      "Log Loss: 0.012851377713094388\n"
     ]
    }
   ],
   "source": [
    "from pyspark.ml.evaluation import MulticlassClassificationEvaluator\n",
    "\n",
    "mcEvaluatorAcc = MulticlassClassificationEvaluator(metricName = \"accuracy\")\n",
    "print(f\"Accuracy: {mcEvaluatorAcc.evaluate(predDF_lr)}\")\n",
    "mcEvaluatorWP = MulticlassClassificationEvaluator(metricName = \"weightedPrecision\")\n",
    "print(f\"Weighted Precision: {mcEvaluatorWP.evaluate(predDF_lr)}\")\n",
    "mcEvaluatorLL = MulticlassClassificationEvaluator(metricName = \"logLoss\")\n",
    "print(f\"Log Loss: {mcEvaluatorLL.evaluate(predDF_lr)}\")"
   ]
  },
  {
   "cell_type": "code",
   "execution_count": 71,
   "metadata": {},
   "outputs": [
    {
     "name": "stdout",
     "output_type": "stream",
     "text": [
      "[[198.   0.   0.]\n",
      " [  0.   0.  10.]\n",
      " [  0.  27.   1.]]\n"
     ]
    }
   ],
   "source": [
    "# confusion matrix\n",
    "import pyspark.sql.functions as F\n",
    "from pyspark.mllib.evaluation import MulticlassMetrics\n",
    "from pyspark.sql.types import FloatType\n",
    "\n",
    "preds_and_labels = predDF_lr.select(['prediction','mistriage']).withColumn('label', F.col('mistriage').cast(FloatType())).orderBy('prediction')\n",
    "preds_and_labels = preds_and_labels.select(['prediction','label'])\n",
    "metrics = MulticlassMetrics(preds_and_labels.rdd.map(tuple))\n",
    "print(metrics.confusionMatrix().toArray())"
   ]
  },
  {
   "cell_type": "markdown",
   "metadata": {},
   "source": [
    "## Random Forest Multi-Class Classification"
   ]
  },
  {
   "cell_type": "code",
   "execution_count": 72,
   "metadata": {},
   "outputs": [],
   "source": [
    "from pyspark.ml.feature import VectorAssembler\n",
    "\n",
    "numericCols = [\"Age\", \"Patients_number_per_hour\", \"KTAS_RN\", \"KTAS_expert\", \"Length_of_stay_min\", \"KTAS_duration_min\", \"RR_imputed\", \"SBP_imputed\", \"DBP_imputed\", \"HR_imputed\", \"BT_imputed\"]\n",
    "assemblerInputs = [c + \"OHE\" for c in categoricalCols] + numericCols + [\"wordFeatures\"]\n",
    "vecAssembler = VectorAssembler(inputCols = assemblerInputs, outputCol = \"features\")"
   ]
  },
  {
   "cell_type": "code",
   "execution_count": 73,
   "metadata": {},
   "outputs": [],
   "source": [
    "from pyspark.ml.classification import RandomForestClassifier\n",
    "rf = RandomForestClassifier(labelCol = \"label\", featuresCol = \"features\", numTrees = 10, seed = 123)"
   ]
  },
  {
   "cell_type": "code",
   "execution_count": 74,
   "metadata": {},
   "outputs": [],
   "source": [
    "from pyspark.ml import Pipeline\n",
    "\n",
    "pipeline = Pipeline(stages = [stringIndexer, encoder, labelToIndex, vecAssembler, rf])\n",
    "pipelineModel = pipeline.fit(final_train_df)\n",
    "predDF_rf = pipelineModel.transform(final_test_df)"
   ]
  },
  {
   "cell_type": "code",
   "execution_count": 75,
   "metadata": {},
   "outputs": [
    {
     "name": "stdout",
     "output_type": "stream",
     "text": [
      "+--------------------+-----+----------+--------------------+\n",
      "|            features|label|prediction|         probability|\n",
      "+--------------------+-----+----------+--------------------+\n",
      "|(57,[0,3,4,11,13,...|  0.0|       0.0|[0.95856719038051...|\n",
      "|(57,[0,3,4,11,13,...|  0.0|       0.0|[0.92642433323765...|\n",
      "|(57,[0,3,7,11,13,...|  0.0|       0.0|[0.92171411846098...|\n",
      "|(57,[0,3,4,11,13,...|  0.0|       0.0|[0.96303802415670...|\n",
      "|(57,[0,3,4,11,13,...|  0.0|       0.0|[0.92642433323765...|\n",
      "|(57,[0,3,4,11,13,...|  0.0|       0.0|[0.96303802415670...|\n",
      "|(57,[0,3,5,12,13,...|  0.0|       0.0|[0.95385697560384...|\n",
      "|(57,[0,3,5,12,13,...|  0.0|       0.0|[0.95385697560384...|\n",
      "|(57,[0,3,4,11,13,...|  0.0|       0.0|[0.95856719038051...|\n",
      "|(57,[0,3,4,12,13,...|  0.0|       0.0|[0.95856719038051...|\n",
      "+--------------------+-----+----------+--------------------+\n",
      "only showing top 10 rows\n",
      "\n"
     ]
    }
   ],
   "source": [
    "predDF_rf.select(\"features\", \"label\", \"prediction\", \"probability\").show(10)"
   ]
  },
  {
   "cell_type": "code",
   "execution_count": 76,
   "metadata": {},
   "outputs": [
    {
     "name": "stdout",
     "output_type": "stream",
     "text": [
      "+----------+-----+\n",
      "|prediction|count|\n",
      "+----------+-----+\n",
      "|       0.0|  203|\n",
      "|       1.0|   31|\n",
      "|       2.0|    2|\n",
      "+----------+-----+\n",
      "\n"
     ]
    }
   ],
   "source": [
    "predDF_rf.groupBy(\"prediction\") \\\n",
    "      .count() \\\n",
    "      .sort(\"count\", ascending = False) \\\n",
    "      .show()"
   ]
  },
  {
   "cell_type": "code",
   "execution_count": 77,
   "metadata": {},
   "outputs": [
    {
     "name": "stdout",
     "output_type": "stream",
     "text": [
      "Accuracy: 0.9491525423728814\n",
      "Weighted Precision: 0.9525447968821962\n",
      "Log Loss: 0.16594658581868094\n"
     ]
    }
   ],
   "source": [
    "from pyspark.ml.evaluation import MulticlassClassificationEvaluator\n",
    "\n",
    "mcEvaluatorAcc = MulticlassClassificationEvaluator(metricName = \"accuracy\")\n",
    "print(f\"Accuracy: {mcEvaluatorAcc.evaluate(predDF_rf)}\")\n",
    "mcEvaluatorWP = MulticlassClassificationEvaluator(metricName = \"weightedPrecision\")\n",
    "print(f\"Weighted Precision: {mcEvaluatorWP.evaluate(predDF_rf)}\")\n",
    "mcEvaluatorLL = MulticlassClassificationEvaluator(metricName = \"logLoss\")\n",
    "print(f\"Log Loss: {mcEvaluatorLL.evaluate(predDF_rf)}\")"
   ]
  },
  {
   "cell_type": "code",
   "execution_count": 78,
   "metadata": {},
   "outputs": [
    {
     "name": "stdout",
     "output_type": "stream",
     "text": [
      "[[198.   0.   0.]\n",
      " [  1.   7.   2.]\n",
      " [  4.  24.   0.]]\n"
     ]
    }
   ],
   "source": [
    "# confusion matrix\n",
    "import pyspark.sql.functions as F\n",
    "from pyspark.mllib.evaluation import MulticlassMetrics\n",
    "from pyspark.sql.types import FloatType\n",
    "\n",
    "preds_and_labels = predDF_rf.select(['prediction','mistriage']).withColumn('label', F.col('mistriage').cast(FloatType())).orderBy('prediction')\n",
    "preds_and_labels = preds_and_labels.select(['prediction','label'])\n",
    "metrics = MulticlassMetrics(preds_and_labels.rdd.map(tuple))\n",
    "print(metrics.confusionMatrix().toArray())"
   ]
  },
  {
   "cell_type": "code",
   "execution_count": 69,
   "metadata": {},
   "outputs": [],
   "source": [
    "from pyspark.ml.tuning import ParamGridBuilder, CrossValidator\n",
    "\n",
    "paramGrid = (ParamGridBuilder()\n",
    "               .addGrid(rf.maxDepth, [2, 5, 10])\n",
    "               .addGrid(rf.maxBins, [5, 10, 20])\n",
    "               .addGrid(rf.numTrees, [5, 20, 50])\n",
    "             .build())"
   ]
  },
  {
   "cell_type": "code",
   "execution_count": 70,
   "metadata": {},
   "outputs": [],
   "source": [
    "cv = CrossValidator(estimator = pipeline, estimatorParamMaps = paramGrid, evaluator = mcEvaluatorAcc, numFolds = 3, parallelism = 4, seed = 123)\n",
    "\n",
    "cvModel = cv.fit(final_train_df)\n",
    "cvPredDF = cvModel.transform(final_test_df)"
   ]
  },
  {
   "cell_type": "code",
   "execution_count": 71,
   "metadata": {},
   "outputs": [
    {
     "name": "stdout",
     "output_type": "stream",
     "text": [
      "10\n",
      "5\n",
      "20\n"
     ]
    }
   ],
   "source": [
    "# Best hyperparameters used\n",
    "print(cvModel.bestModel.stages[-1]._java_obj.getMaxDepth())\n",
    "print(cvModel.bestModel.stages[-1]._java_obj.getMaxBins())\n",
    "print(cvModel.bestModel.stages[-1]._java_obj.getNumTrees())"
   ]
  },
  {
   "cell_type": "code",
   "execution_count": 72,
   "metadata": {},
   "outputs": [
    {
     "name": "stdout",
     "output_type": "stream",
     "text": [
      "Accuracy: 0.9745762711864406\n",
      "Weighted Precision: 0.9790628115653041\n",
      "Log Loss: 0.08408465772000252\n"
     ]
    }
   ],
   "source": [
    "# Performance metrics (with hyperparameters tuning)\n",
    "mcEvaluatorAcc = MulticlassClassificationEvaluator(metricName = \"accuracy\")\n",
    "print(f\"Accuracy: {mcEvaluatorAcc.evaluate(cvPredDF)}\")\n",
    "mcEvaluatorWP = MulticlassClassificationEvaluator(metricName = \"weightedPrecision\")\n",
    "print(f\"Weighted Precision: {mcEvaluatorWP.evaluate(cvPredDF)}\")\n",
    "mcEvaluatorLL = MulticlassClassificationEvaluator(metricName = \"logLoss\")\n",
    "print(f\"Log Loss: {mcEvaluatorLL.evaluate(cvPredDF)}\")"
   ]
  },
  {
   "cell_type": "code",
   "execution_count": 73,
   "metadata": {},
   "outputs": [
    {
     "ename": "AttributeError",
     "evalue": "'SparseVector' object has no attribute 'sort_values'",
     "output_type": "error",
     "traceback": [
      "\u001b[0;31m---------------------------------------------------------------------------\u001b[0m",
      "\u001b[0;31mAttributeError\u001b[0m                            Traceback (most recent call last)",
      "\u001b[0;32m<ipython-input-73-d20cca7baf2c>\u001b[0m in \u001b[0;36m<module>\u001b[0;34m\u001b[0m\n\u001b[1;32m      1\u001b[0m \u001b[0mimps\u001b[0m \u001b[0;34m=\u001b[0m \u001b[0mcvModel\u001b[0m\u001b[0;34m.\u001b[0m\u001b[0mbestModel\u001b[0m\u001b[0;34m.\u001b[0m\u001b[0mstages\u001b[0m\u001b[0;34m[\u001b[0m\u001b[0;36m4\u001b[0m\u001b[0;34m]\u001b[0m\u001b[0;34m.\u001b[0m\u001b[0mfeatureImportances\u001b[0m\u001b[0;34m\u001b[0m\u001b[0;34m\u001b[0m\u001b[0m\n\u001b[1;32m      2\u001b[0m \u001b[0mimps\u001b[0m\u001b[0;34m.\u001b[0m\u001b[0mindex\u001b[0m \u001b[0;34m=\u001b[0m \u001b[0mfinal_train_df\u001b[0m\u001b[0;34m.\u001b[0m\u001b[0mcolumns\u001b[0m\u001b[0;34m\u001b[0m\u001b[0;34m\u001b[0m\u001b[0m\n\u001b[0;32m----> 3\u001b[0;31m \u001b[0mimps\u001b[0m \u001b[0;34m=\u001b[0m \u001b[0mimps\u001b[0m\u001b[0;34m.\u001b[0m\u001b[0msort_values\u001b[0m\u001b[0;34m(\u001b[0m\u001b[0mascending\u001b[0m\u001b[0;34m=\u001b[0m\u001b[0;32mFalse\u001b[0m\u001b[0;34m)\u001b[0m\u001b[0;34m.\u001b[0m\u001b[0mreset_index\u001b[0m\u001b[0;34m(\u001b[0m\u001b[0;34m)\u001b[0m\u001b[0;34m\u001b[0m\u001b[0;34m\u001b[0m\u001b[0m\n\u001b[0m\u001b[1;32m      4\u001b[0m \u001b[0mimps\u001b[0m\u001b[0;34m.\u001b[0m\u001b[0mcolumns\u001b[0m \u001b[0;34m=\u001b[0m \u001b[0;34m[\u001b[0m\u001b[0;34m\"feature\"\u001b[0m\u001b[0;34m,\u001b[0m \u001b[0;34m\"importance\"\u001b[0m\u001b[0;34m]\u001b[0m\u001b[0;34m\u001b[0m\u001b[0;34m\u001b[0m\u001b[0m\n\u001b[1;32m      5\u001b[0m \u001b[0;34m\u001b[0m\u001b[0m\n",
      "\u001b[0;31mAttributeError\u001b[0m: 'SparseVector' object has no attribute 'sort_values'"
     ]
    }
   ],
   "source": [
    "imps = cvModel.bestModel.stages[4].featureImportances\n",
    "imps.index = final_train_df.columns\n",
    "imps = imps.sort_values(ascending=False).reset_index()\n",
    "imps.columns = [\"feature\", \"importance\"]\n",
    "\n",
    "\n",
    "# bestPipeline = cvModel.bestModel.stages[4]\n",
    "# importances = bestPipeline.featureImportances\n",
    "\n",
    "# importances\n",
    "# x_values = list(range(len(importances)))\n",
    "# x_values\n",
    "# df = pd.DataFrame()\n",
    "# df = pd.DataFrame(importances.toArray())\n",
    "# df[\"Features\"] = (impute_cols)\n",
    "# df[\"Feature Importance\"] = importances.toArray()\n",
    "# df_sort = df.sort_values(\"Feature Importance\", ascending = False)\n",
    "# df_sort"
   ]
  },
  {
   "cell_type": "code",
   "execution_count": 74,
   "metadata": {},
   "outputs": [
    {
     "name": "stdout",
     "output_type": "stream",
     "text": [
      "[[198.   0.   0.]\n",
      " [  0.   6.   4.]\n",
      " [  0.  28.   0.]]\n"
     ]
    }
   ],
   "source": [
    "# cv confusion matrix\n",
    "cv_preds_and_labels = cvPredDF.select(['prediction','mistriage']).withColumn('label', F.col('mistriage').cast(FloatType())).orderBy('prediction')\n",
    "cv_preds_and_labels = cv_preds_and_labels.select(['prediction','label'])\n",
    "cv_metrics = MulticlassMetrics(cv_preds_and_labels.rdd.map(tuple))\n",
    "print(cv_metrics.confusionMatrix().toArray())"
   ]
  },
  {
   "cell_type": "code",
   "execution_count": 75,
   "metadata": {},
   "outputs": [
    {
     "data": {
      "text/plain": [
       "64"
      ]
     },
     "execution_count": 75,
     "metadata": {},
     "output_type": "execute_result"
    }
   ],
   "source": [
    "# Size of the saved model\n",
    "import sys\n",
    "sys.getsizeof(cvPredDF) # number of bytes"
   ]
  },
  {
   "cell_type": "code",
   "execution_count": 76,
   "metadata": {},
   "outputs": [
    {
     "name": "stdout",
     "output_type": "stream",
     "text": [
      "<class 'pandas.core.frame.DataFrame'>\n",
      "RangeIndex: 236 entries, 0 to 235\n",
      "Data columns (total 44 columns):\n",
      " #   Column                    Non-Null Count  Dtype  \n",
      "---  ------                    --------------  -----  \n",
      " 0   Group                     236 non-null    object \n",
      " 1   Sex                       236 non-null    object \n",
      " 2   Age                       236 non-null    int32  \n",
      " 3   Patients_number_per_hour  236 non-null    int32  \n",
      " 4   Arrival_mode              236 non-null    object \n",
      " 5   Injury                    236 non-null    int32  \n",
      " 6   Chief_complain            236 non-null    object \n",
      " 7   Mental                    236 non-null    object \n",
      " 8   Pain                      236 non-null    object \n",
      " 9   KTAS_RN                   236 non-null    int32  \n",
      " 10  Diagnosis_in_ed           236 non-null    object \n",
      " 11  Disposition               236 non-null    object \n",
      " 12  KTAS_expert               236 non-null    int32  \n",
      " 13  Error_group               236 non-null    object \n",
      " 14  Length_of_stay_min        236 non-null    int32  \n",
      " 15  KTAS_duration_min         236 non-null    int32  \n",
      " 16  mistriage                 236 non-null    int32  \n",
      " 17  RR_imputed                236 non-null    int32  \n",
      " 18  SBP_imputed               236 non-null    int32  \n",
      " 19  DBP_imputed               236 non-null    int32  \n",
      " 20  HR_imputed                236 non-null    int32  \n",
      " 21  BT_imputed                236 non-null    int32  \n",
      " 22  wordFeatures              236 non-null    object \n",
      " 23  Arrival_modeIndex         236 non-null    float64\n",
      " 24  DispositionIndex          236 non-null    float64\n",
      " 25  InjuryIndex               236 non-null    float64\n",
      " 26  Error_groupIndex          236 non-null    float64\n",
      " 27  PainIndex                 236 non-null    float64\n",
      " 28  SexIndex                  236 non-null    float64\n",
      " 29  MentalIndex               236 non-null    float64\n",
      " 30  GroupIndex                236 non-null    float64\n",
      " 31  Arrival_modeOHE           236 non-null    object \n",
      " 32  Error_groupOHE            236 non-null    object \n",
      " 33  SexOHE                    236 non-null    object \n",
      " 34  MentalOHE                 236 non-null    object \n",
      " 35  DispositionOHE            236 non-null    object \n",
      " 36  InjuryOHE                 236 non-null    object \n",
      " 37  PainOHE                   236 non-null    object \n",
      " 38  GroupOHE                  236 non-null    object \n",
      " 39  label                     236 non-null    float64\n",
      " 40  features                  236 non-null    object \n",
      " 41  rawPrediction             236 non-null    object \n",
      " 42  probability               236 non-null    object \n",
      " 43  prediction                236 non-null    float64\n",
      "dtypes: float64(10), int32(13), object(21)\n",
      "memory usage: 269.5 KB\n"
     ]
    }
   ],
   "source": [
    "# Size of the saved model\n",
    "import pandas as pd\n",
    "cvPredDF = cvPredDF.toPandas()\n",
    "cvPredDF.info(memory_usage = \"deep\")"
   ]
  },
  {
   "cell_type": "markdown",
   "metadata": {},
   "source": [
    "### Model 2: XGBoost"
   ]
  }
 ],
 "metadata": {
  "kernelspec": {
   "display_name": "DS 5110 Spark 3.1",
   "language": "python",
   "name": "ds5110_spark3.1"
  },
  "language_info": {
   "codemirror_mode": {
    "name": "ipython",
    "version": 3
   },
   "file_extension": ".py",
   "mimetype": "text/x-python",
   "name": "python",
   "nbconvert_exporter": "python",
   "pygments_lexer": "ipython3",
   "version": "3.7.10"
  }
 },
 "nbformat": 4,
 "nbformat_minor": 4
}
