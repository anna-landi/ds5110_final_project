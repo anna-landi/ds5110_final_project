{
 "cells": [
  {
   "cell_type": "markdown",
   "metadata": {},
   "source": [
    "## DS 5110 Final Project Code\n",
    "### Anahita Sharma (ahs3zq), Anna Landi (aol4h), Zach Jacokes (zj6nw)"
   ]
  },
  {
   "cell_type": "code",
   "execution_count": 1,
   "metadata": {},
   "outputs": [],
   "source": [
    "import numpy as np\n",
    "import pandas as pd\n",
    "import re\n",
    "import os\n",
    "from pyspark.sql import SparkSession"
   ]
  },
  {
   "cell_type": "code",
   "execution_count": 2,
   "metadata": {},
   "outputs": [],
   "source": [
    "spark = SparkSession.builder.getOrCreate()\n",
    "sc = spark.sparkContext"
   ]
  },
  {
   "cell_type": "markdown",
   "metadata": {},
   "source": [
    "## Data Import and Initial Text Features Preprocessing"
   ]
  },
  {
   "cell_type": "code",
   "execution_count": 3,
   "metadata": {},
   "outputs": [
    {
     "data": {
      "text/html": [
       "<div>\n",
       "<style scoped>\n",
       "    .dataframe tbody tr th:only-of-type {\n",
       "        vertical-align: middle;\n",
       "    }\n",
       "\n",
       "    .dataframe tbody tr th {\n",
       "        vertical-align: top;\n",
       "    }\n",
       "\n",
       "    .dataframe thead th {\n",
       "        text-align: right;\n",
       "    }\n",
       "</style>\n",
       "<table border=\"1\" class=\"dataframe\">\n",
       "  <thead>\n",
       "    <tr style=\"text-align: right;\">\n",
       "      <th></th>\n",
       "      <th>feature</th>\n",
       "      <th>description</th>\n",
       "    </tr>\n",
       "  </thead>\n",
       "  <tbody>\n",
       "    <tr>\n",
       "      <th>0</th>\n",
       "      <td>Group</td>\n",
       "      <td>1: Local ED / 2: Regional ED</td>\n",
       "    </tr>\n",
       "    <tr>\n",
       "      <th>1</th>\n",
       "      <td>Sex</td>\n",
       "      <td>1: Female / 2: Male</td>\n",
       "    </tr>\n",
       "    <tr>\n",
       "      <th>2</th>\n",
       "      <td>Age</td>\n",
       "      <td>Age (Years)</td>\n",
       "    </tr>\n",
       "    <tr>\n",
       "      <th>3</th>\n",
       "      <td>Patients number per hour</td>\n",
       "      <td>Patients number/hous</td>\n",
       "    </tr>\n",
       "    <tr>\n",
       "      <th>4</th>\n",
       "      <td>Arrival mode</td>\n",
       "      <td>1: Walking / 2: 119 use / 3: Private car / 4: ...</td>\n",
       "    </tr>\n",
       "    <tr>\n",
       "      <th>5</th>\n",
       "      <td>Injury</td>\n",
       "      <td>1: Non-injury / 2: Injury</td>\n",
       "    </tr>\n",
       "    <tr>\n",
       "      <th>6</th>\n",
       "      <td>Mental</td>\n",
       "      <td>1: Alert / 2: Verval response / 3: Pain respon...</td>\n",
       "    </tr>\n",
       "    <tr>\n",
       "      <th>7</th>\n",
       "      <td>Pain</td>\n",
       "      <td>1: Pain / 2: Non-pain</td>\n",
       "    </tr>\n",
       "    <tr>\n",
       "      <th>8</th>\n",
       "      <td>NRS_pain</td>\n",
       "      <td>Numeric rating scales of pain</td>\n",
       "    </tr>\n",
       "    <tr>\n",
       "      <th>9</th>\n",
       "      <td>SBP</td>\n",
       "      <td>Systolid blood pressure</td>\n",
       "    </tr>\n",
       "    <tr>\n",
       "      <th>10</th>\n",
       "      <td>DBP</td>\n",
       "      <td>Diastolic blood pressure</td>\n",
       "    </tr>\n",
       "    <tr>\n",
       "      <th>11</th>\n",
       "      <td>HR</td>\n",
       "      <td>Heart rate</td>\n",
       "    </tr>\n",
       "    <tr>\n",
       "      <th>12</th>\n",
       "      <td>RR</td>\n",
       "      <td>Respiration rate</td>\n",
       "    </tr>\n",
       "    <tr>\n",
       "      <th>13</th>\n",
       "      <td>BT</td>\n",
       "      <td>Body temperature</td>\n",
       "    </tr>\n",
       "    <tr>\n",
       "      <th>14</th>\n",
       "      <td>Saturation</td>\n",
       "      <td>Saturation to use pulse oxmeter</td>\n",
       "    </tr>\n",
       "    <tr>\n",
       "      <th>15</th>\n",
       "      <td>KTAS_RN</td>\n",
       "      <td>KTAS result of nuses in ED</td>\n",
       "    </tr>\n",
       "    <tr>\n",
       "      <th>16</th>\n",
       "      <td>Disposition</td>\n",
       "      <td>1: Discharge / 2: Ward admission / 3: ICU admi...</td>\n",
       "    </tr>\n",
       "    <tr>\n",
       "      <th>17</th>\n",
       "      <td>KTAS_expert</td>\n",
       "      <td>KTAS result of experts</td>\n",
       "    </tr>\n",
       "    <tr>\n",
       "      <th>18</th>\n",
       "      <td>Error_group</td>\n",
       "      <td>1: Vital sign / 2: Physical exam / 3: Psychatr...</td>\n",
       "    </tr>\n",
       "    <tr>\n",
       "      <th>19</th>\n",
       "      <td>Length of stay_min</td>\n",
       "      <td>Length of stay (minutes)</td>\n",
       "    </tr>\n",
       "    <tr>\n",
       "      <th>20</th>\n",
       "      <td>KTAS duration_min</td>\n",
       "      <td>KTAS duration (minutes)</td>\n",
       "    </tr>\n",
       "    <tr>\n",
       "      <th>21</th>\n",
       "      <td>Mistriage</td>\n",
       "      <td>0: Correct / 1: Over triage / 2: Under triage</td>\n",
       "    </tr>\n",
       "  </tbody>\n",
       "</table>\n",
       "</div>"
      ],
      "text/plain": [
       "                     feature  \\\n",
       "0                      Group   \n",
       "1                        Sex   \n",
       "2                       Age    \n",
       "3   Patients number per hour   \n",
       "4               Arrival mode   \n",
       "5                     Injury   \n",
       "6                    Mental    \n",
       "7                      Pain    \n",
       "8                   NRS_pain   \n",
       "9                        SBP   \n",
       "10                       DBP   \n",
       "11                        HR   \n",
       "12                        RR   \n",
       "13                        BT   \n",
       "14                Saturation   \n",
       "15                   KTAS_RN   \n",
       "16               Disposition   \n",
       "17               KTAS_expert   \n",
       "18               Error_group   \n",
       "19        Length of stay_min   \n",
       "20         KTAS duration_min   \n",
       "21                 Mistriage   \n",
       "\n",
       "                                          description  \n",
       "0                        1: Local ED / 2: Regional ED  \n",
       "1                                 1: Female / 2: Male  \n",
       "2                                         Age (Years)  \n",
       "3                                Patients number/hous  \n",
       "4   1: Walking / 2: 119 use / 3: Private car / 4: ...  \n",
       "5                           1: Non-injury / 2: Injury  \n",
       "6   1: Alert / 2: Verval response / 3: Pain respon...  \n",
       "7                               1: Pain / 2: Non-pain  \n",
       "8                       Numeric rating scales of pain  \n",
       "9                             Systolid blood pressure  \n",
       "10                           Diastolic blood pressure  \n",
       "11                                         Heart rate  \n",
       "12                                   Respiration rate  \n",
       "13                                   Body temperature  \n",
       "14                    Saturation to use pulse oxmeter  \n",
       "15                         KTAS result of nuses in ED  \n",
       "16  1: Discharge / 2: Ward admission / 3: ICU admi...  \n",
       "17                             KTAS result of experts  \n",
       "18  1: Vital sign / 2: Physical exam / 3: Psychatr...  \n",
       "19                           Length of stay (minutes)  \n",
       "20                            KTAS duration (minutes)  \n",
       "21      0: Correct / 1: Over triage / 2: Under triage  "
      ]
     },
     "execution_count": 3,
     "metadata": {},
     "output_type": "execute_result"
    }
   ],
   "source": [
    "pd.read_csv(\"/project/ds5559/group2_triage/ds5110_final_project/data_dictionary.csv\", header = None, names = [\"feature\", \"description\"])"
   ]
  },
  {
   "cell_type": "code",
   "execution_count": 4,
   "metadata": {},
   "outputs": [
    {
     "data": {
      "text/plain": [
       "['Group,Sex,Age,Patients number per hour,Arrival mode,Injury,Chief_complain,Mental,Pain,NRS_pain,SBP,DBP,HR,RR,BT,Saturation,KTAS_RN,Diagnosis in ED,Disposition,KTAS_expert,Error_group,Length of stay_min,KTAS duration_min,mistriage',\n",
       " '2,2,71,3,3,2,right ocular pain,1,1,2,160,100,84,18,36.6,100,2,Corneal abrasion,1,4,2,86,5.00,1',\n",
       " '1,1,56,12,3,2,right forearm burn,1,1,2,137,75,60,20,36.5,,4,\"Burn of hand, firts degree dorsum\",1,5,4,64,3.95,1',\n",
       " '2,1,68,8,2,2,\"arm pain, Lt\",1,1,2,130,80,102,20,36.6,98,4,\"Fracture of surgical neck of humerus, closed\",2,5,4,862,1.00,1',\n",
       " '1,2,71,8,1,1,ascites tapping,1,1,3,139,94,88,20,36.5,,4,Alcoholic liver cirrhosis with ascites,1,5,6,108,9.83,1']"
      ]
     },
     "execution_count": 4,
     "metadata": {},
     "output_type": "execute_result"
    }
   ],
   "source": [
    "encounters = sc.textFile(\"/project/ds5559/group2_triage/ds5110_final_project/triage_data.csv\")\n",
    "encounters.take(5)"
   ]
  },
  {
   "cell_type": "code",
   "execution_count": 5,
   "metadata": {},
   "outputs": [
    {
     "name": "stdout",
     "output_type": "stream",
     "text": [
      "+-----+---+---+------------------------+------------+------+--------------------+------+----+--------+---+---+---+---+----+----------+-------+--------------------+-----------+-----------+-----------+------------------+-----------------+---------+\n",
      "|Group|Sex|Age|Patients number per hour|Arrival mode|Injury|      Chief_complain|Mental|Pain|NRS_pain|SBP|DBP| HR| RR|  BT|Saturation|KTAS_RN|     Diagnosis in ED|Disposition|KTAS_expert|Error_group|Length of stay_min|KTAS duration_min|mistriage|\n",
      "+-----+---+---+------------------------+------------+------+--------------------+------+----+--------+---+---+---+---+----+----------+-------+--------------------+-----------+-----------+-----------+------------------+-----------------+---------+\n",
      "|    2|  2| 71|                       3|           3|     2|   right ocular pain|     1|   1|       2|160|100| 84| 18|36.6|       100|      2|    Corneal abrasion|          1|          4|          2|                86|             5.00|        1|\n",
      "|    1|  1| 56|                      12|           3|     2|  right forearm burn|     1|   1|       2|137| 75| 60| 20|36.5|      null|      4|Burn of hand, fir...|          1|          5|          4|                64|             3.95|        1|\n",
      "|    2|  1| 68|                       8|           2|     2|        arm pain, Lt|     1|   1|       2|130| 80|102| 20|36.6|        98|      4|Fracture of surgi...|          2|          5|          4|               862|             1.00|        1|\n",
      "|    1|  2| 71|                       8|           1|     1|     ascites tapping|     1|   1|       3|139| 94| 88| 20|36.5|      null|      4|Alcoholic liver c...|          1|          5|          6|               108|             9.83|        1|\n",
      "|    1|  2| 58|                       4|           3|     1|     distension, abd|     1|   1|       3| 91| 67| 93| 18|36.5|      null|      4|             Ascites|          1|          5|          8|               109|             6.60|        1|\n",
      "|    2|  1| 54|                       6|           4|     1|               fever|     1|   1|       3|140| 90| 94| 20|38.1|        98|      3|  Fever, unspecified|          2|          4|          1|              9246|             2.00|        1|\n",
      "|    2|  2| 49|                      11|           3|     1|With chest discom...|     1|   1|       3|110| 70| 70| 20|36.2|        98|      2|Angina pectoris, ...|          1|          3|          2|               400|             3.00|        1|\n",
      "|    1|  2| 78|                      14|           3|     1|         pain, chest|     1|   1|       3|169| 86| 80| 20|  36|      null|      2|Acute coronary sy...|          1|          3|          2|               247|            10.23|        1|\n",
      "|    1|  2| 32|                      10|           3|     1| LBP - Low back pain|     1|   1|       3|140| 75| 91| 20|36.6|      null|      4|Herniated disc di...|          1|          5|          4|                59|             3.23|        1|\n",
      "|    2|  1| 38|                       6|           3|     1|      Eczema, Eyelid|     1|   1|       3|130| 80| 80| 20|36.3|        97|      4|         Ocular pain|          1|          5|          4|               185|             4.00|        1|\n",
      "+-----+---+---+------------------------+------------+------+--------------------+------+----+--------+---+---+---+---+----+----------+-------+--------------------+-----------+-----------+-----------+------------------+-----------------+---------+\n",
      "only showing top 10 rows\n",
      "\n"
     ]
    }
   ],
   "source": [
    "spark.read.csv(\"/project/ds5559/group2_triage/ds5110_final_project/triage_data.csv\", header = True).show(10)"
   ]
  },
  {
   "cell_type": "code",
   "execution_count": 6,
   "metadata": {},
   "outputs": [],
   "source": [
    "header = encounters.first()\n",
    "encounters_no_header = encounters.filter(lambda x: header != x)"
   ]
  },
  {
   "cell_type": "code",
   "execution_count": 7,
   "metadata": {},
   "outputs": [
    {
     "data": {
      "text/plain": [
       "'Group,Sex,Age,Patients number per hour,Arrival mode,Injury,Chief_complain,Mental,Pain,NRS_pain,SBP,DBP,HR,RR,BT,Saturation,KTAS_RN,Diagnosis in ED,Disposition,KTAS_expert,Error_group,Length of stay_min,KTAS duration_min,mistriage'"
      ]
     },
     "execution_count": 7,
     "metadata": {},
     "output_type": "execute_result"
    }
   ],
   "source": [
    "header"
   ]
  },
  {
   "cell_type": "code",
   "execution_count": 8,
   "metadata": {},
   "outputs": [
    {
     "data": {
      "text/plain": [
       "['2,2,71,3,3,2,right ocular pain,1,1,2,160,100,84,18,36.6,100,2,Corneal abrasion,1,4,2,86,5.00,1',\n",
       " '1,1,56,12,3,2,right forearm burn,1,1,2,137,75,60,20,36.5,,4,\"Burn of hand, firts degree dorsum\",1,5,4,64,3.95,1',\n",
       " '2,1,68,8,2,2,\"arm pain, Lt\",1,1,2,130,80,102,20,36.6,98,4,\"Fracture of surgical neck of humerus, closed\",2,5,4,862,1.00,1',\n",
       " '1,2,71,8,1,1,ascites tapping,1,1,3,139,94,88,20,36.5,,4,Alcoholic liver cirrhosis with ascites,1,5,6,108,9.83,1',\n",
       " '1,2,58,4,3,1,\"distension, abd\",1,1,3,91,67,93,18,36.5,,4,Ascites,1,5,8,109,6.60,1']"
      ]
     },
     "execution_count": 8,
     "metadata": {},
     "output_type": "execute_result"
    }
   ],
   "source": [
    "encounters_no_header.take(5)"
   ]
  },
  {
   "cell_type": "code",
   "execution_count": 9,
   "metadata": {},
   "outputs": [
    {
     "data": {
      "text/plain": [
       "6"
      ]
     },
     "execution_count": 9,
     "metadata": {},
     "output_type": "execute_result"
    }
   ],
   "source": [
    "index_cc = header.split(\",\").index(\"Chief_complain\")\n",
    "index_cc"
   ]
  },
  {
   "cell_type": "code",
   "execution_count": 10,
   "metadata": {},
   "outputs": [
    {
     "data": {
      "text/plain": [
       "['2,2,71,3,3,2,right ocular pain,1,1,2,160,100,84,18,36.6,100,2,corneal abrasion,1,4,2,86,5.00,1',\n",
       " '1,1,56,12,3,2,right forearm burn,1,1,2,137,75,60,20,36.5,,4,\"burn of hand, firts degree dorsum\",1,5,4,64,3.95,1',\n",
       " '2,1,68,8,2,2,\"arm pain, lt\",1,1,2,130,80,102,20,36.6,98,4,\"fracture of surgical neck of humerus, closed\",2,5,4,862,1.00,1',\n",
       " '1,2,71,8,1,1,ascites tapping,1,1,3,139,94,88,20,36.5,,4,alcoholic liver cirrhosis with ascites,1,5,6,108,9.83,1',\n",
       " '1,2,58,4,3,1,\"distension, abd\",1,1,3,91,67,93,18,36.5,,4,ascites,1,5,8,109,6.60,1']"
      ]
     },
     "execution_count": 10,
     "metadata": {},
     "output_type": "execute_result"
    }
   ],
   "source": [
    "encounters_lower = encounters_no_header.map(lambda x: x.lower())\n",
    "encounters_lower.take(5)"
   ]
  },
  {
   "cell_type": "code",
   "execution_count": 11,
   "metadata": {},
   "outputs": [
    {
     "data": {
      "text/plain": [
       "['2,2,71,3,3,2,right ocular pain,1,1,2,160,100,84,18,36.6,100,2,corneal abrasion,1,4,2,86,5.00,1',\n",
       " '1,1,56,12,3,2,right forearm burn,1,1,2,137,75,60,20,36.5,,4,\"burn of hand, firts degree dorsum\",1,5,4,64,3.95,1',\n",
       " '2,1,68,8,2,2,\"arm pain, lt\",1,1,2,130,80,102,20,36.6,98,4,\"fracture of surgical neck of humerus, closed\",2,5,4,862,1.00,1',\n",
       " '1,2,71,8,1,1,ascites tapping,1,1,3,139,94,88,20,36.5,,4,alcoholic liver cirrhosis with ascites,1,5,6,108,9.83,1',\n",
       " '1,2,58,4,3,1,\"distension, abd\",1,1,3,91,67,93,18,36.5,,4,ascites,1,5,8,109,6.60,1',\n",
       " '2,1,54,6,4,1,fever,1,1,3,140,90,94,20,38.1,98,3,\"fever, unspecified\",2,4,1,9246,2.00,1',\n",
       " '2,2,49,11,3,1,with chest discomfort,1,1,3,110,70,70,20,36.2,98,2,\"angina pectoris, unspecified\",1,3,2,400,3.00,1',\n",
       " '1,2,78,14,3,1,\"pain, chest\",1,1,3,169,86,80,20,36,,2,acute coronary syndrome,1,3,2,247,10.23,1',\n",
       " '1,2,32,10,3,1,lbp - low back pain,1,1,3,140,75,91,20,36.6,,4,herniated disc disease of lumbar spine with radiculopathy,1,5,4,59,3.23,1',\n",
       " '2,1,38,6,3,1,\"eczema, eyelid\",1,1,3,130,80,80,20,36.3,97,4,ocular pain,1,5,4,185,4.00,1',\n",
       " '1,2,43,3,3,1,acute epigastric pain,1,1,3,148,104,72,16,36.5,,3,acute gastritis,1,4,4,176,7.53,1',\n",
       " '1,2,45,3,3,1,\"pain, leg\",1,1,3,141,81,86,18,36.6,,4,gout site unspecified,1,5,4,45,7.15,1',\n",
       " '2,1,53,10,3,1,epigastric pain,1,1,3,120,80,106,20,36.2,98,3,infectious or septic colitis,1,4,4,8067,5.00,1',\n",
       " '1,2,55,9,3,1,abd pain,1,1,3,121,78,80,20,36.4,,2,acute peritonitis,2,4,4,217,8.00,1',\n",
       " '1,2,58,4,3,1,headache,1,1,3,135,82,106,20,37.6,,3,infective endocarditis,2,4,4,1318,9.88,1',\n",
       " '2,1,65,12,4,1,headache,1,1,3,140,100,80,20,36.0,98,3,\"subarachnoid haemorrhage, unspecified\",2,4,4,153,3.00,1',\n",
       " '1,2,69,11,2,1,설사,1,1,4,121,76,85,20,37.4,,3,acute gastroenteritis,1,4,1,363,10.53,1',\n",
       " '2,2,53,12,2,2,open wound,1,1,4,130,80,100,20,36.4,97,2,\"open wound of other parts of head, face\",2,3,2,613,4.00,1',\n",
       " '2,1,20,10,3,1,ruq pain,1,1,4,100,60,90,20,36.4,98,2,hepatitis nos,1,3,4,745,4.00,1',\n",
       " '1,2,38,3,2,1,gingival swelling,1,1,4,133,93,109,16,36.5,,3,odontogenic infection,1,4,4,349,12.45,1',\n",
       " '2,1,79,3,4,2,chin pain,1,1,4,110,70,80,20,36.2,98,3,\"closed fracture of humerus, nos\",2,4,4,8199,3.00,1',\n",
       " '1,2,20,12,3,2,finger injury,1,1,5,140,62,68,20,36.5,,3,dislocation of finger,1,4,2,105,10.23,1',\n",
       " '1,1,24,4,3,1,skin rash,1,1,5,110,66,125,20,37,,2,anaphylaxis,1,3,2,118,9.48,1',\n",
       " '2,2,59,8,4,1,rt. side motor weakness,1,1,5,140,80,88,20,36.5,97,2,\"intracranial haemorrhage (nontraumatic), unspecified\",2,3,2,143,4.00,1',\n",
       " '1,2,77,6,2,1,lt. hip joint pain,1,1,5,124,72,94,16,37.1,,3,\"fracture of femur, intertrochanter closed\",5,4,2,599,5.50,1',\n",
       " '1,2,37,6,2,2,face laceration,2,1,5,118,79,76,20,36.8,,3,acute intoxication of alcohol,1,4,4,553,8.78,1',\n",
       " '2,1,62,2,3,1,throat pain,1,1,6,140,90,98,22,36.8,98,2,acute epiglottitis without obstruction,2,3,4,1242,4.00,1',\n",
       " '2,2,74,12,4,2,chest wall pain right,1,1,8,80,50,98,22,36.1,98,1,\"multiple fracture of involving three ribs,closed\",2,2,1,207,4.00,1']"
      ]
     },
     "execution_count": 11,
     "metadata": {},
     "output_type": "execute_result"
    }
   ],
   "source": [
    "encounters_lower.take(28)"
   ]
  },
  {
   "cell_type": "code",
   "execution_count": 12,
   "metadata": {},
   "outputs": [
    {
     "data": {
      "text/plain": [
       "['2,2,71,3,3,2,right ocular pain,1,1,2,160,100,84,18,36.6,100,2,corneal abrasion,1,4,2,86,5.00,1',\n",
       " '1,1,56,12,3,2,right forearm burn,1,1,2,137,75,60,20,36.5,,4,\"burn of hand;firts degree dorsum\",1,5,4,64,3.95,1',\n",
       " '2,1,68,8,2,2,\"arm pain, lt\",1,1,2,130,80,102,20,36.6,98,4,\"fracture of surgical neck of humerus;closed\",2,5,4,862,1.00,1',\n",
       " '1,2,71,8,1,1,ascites tapping,1,1,3,139,94,88,20,36.5,,4,alcoholic liver cirrhosis with ascites,1,5,6,108,9.83,1',\n",
       " '1,2,58,4,3,1,\"distension;abd\",1,1,3,91,67,93,18,36.5,,4,ascites,1,5,8,109,6.60,1',\n",
       " '2,1,54,6,4,1,fever,1,1,3,140,90,94,20,38.1,98,3,\"fever;unspecified\",2,4,1,9246,2.00,1',\n",
       " '2,2,49,11,3,1,with chest discomfort,1,1,3,110,70,70,20,36.2,98,2,\"angina pectoris;unspecified\",1,3,2,400,3.00,1',\n",
       " '1,2,78,14,3,1,\"pain;chest\",1,1,3,169,86,80,20,36,,2,acute coronary syndrome,1,3,2,247,10.23,1',\n",
       " '1,2,32,10,3,1,lbp - low back pain,1,1,3,140,75,91,20,36.6,,4,herniated disc disease of lumbar spine with radiculopathy,1,5,4,59,3.23,1',\n",
       " '2,1,38,6,3,1,\"eczema;eyelid\",1,1,3,130,80,80,20,36.3,97,4,ocular pain,1,5,4,185,4.00,1',\n",
       " '1,2,43,3,3,1,acute epigastric pain,1,1,3,148,104,72,16,36.5,,3,acute gastritis,1,4,4,176,7.53,1',\n",
       " '1,2,45,3,3,1,\"pain;leg\",1,1,3,141,81,86,18,36.6,,4,gout site unspecified,1,5,4,45,7.15,1',\n",
       " '2,1,53,10,3,1,epigastric pain,1,1,3,120,80,106,20,36.2,98,3,infectious or septic colitis,1,4,4,8067,5.00,1',\n",
       " '1,2,55,9,3,1,abd pain,1,1,3,121,78,80,20,36.4,,2,acute peritonitis,2,4,4,217,8.00,1',\n",
       " '1,2,58,4,3,1,headache,1,1,3,135,82,106,20,37.6,,3,infective endocarditis,2,4,4,1318,9.88,1',\n",
       " '2,1,65,12,4,1,headache,1,1,3,140,100,80,20,36.0,98,3,\"subarachnoid haemorrhage;unspecified\",2,4,4,153,3.00,1',\n",
       " '1,2,69,11,2,1,설사,1,1,4,121,76,85,20,37.4,,3,acute gastroenteritis,1,4,1,363,10.53,1',\n",
       " '2,2,53,12,2,2,open wound,1,1,4,130,80,100,20,36.4,97,2,\"open wound of other parts of head;face\",2,3,2,613,4.00,1',\n",
       " '2,1,20,10,3,1,ruq pain,1,1,4,100,60,90,20,36.4,98,2,hepatitis nos,1,3,4,745,4.00,1',\n",
       " '1,2,38,3,2,1,gingival swelling,1,1,4,133,93,109,16,36.5,,3,odontogenic infection,1,4,4,349,12.45,1',\n",
       " '2,1,79,3,4,2,chin pain,1,1,4,110,70,80,20,36.2,98,3,\"closed fracture of humerus;nos\",2,4,4,8199,3.00,1',\n",
       " '1,2,20,12,3,2,finger injury,1,1,5,140,62,68,20,36.5,,3,dislocation of finger,1,4,2,105,10.23,1',\n",
       " '1,1,24,4,3,1,skin rash,1,1,5,110,66,125,20,37,,2,anaphylaxis,1,3,2,118,9.48,1',\n",
       " '2,2,59,8,4,1,rt. side motor weakness,1,1,5,140,80,88,20,36.5,97,2,\"intracranial haemorrhage (nontraumatic);unspecified\",2,3,2,143,4.00,1',\n",
       " '1,2,77,6,2,1,lt. hip joint pain,1,1,5,124,72,94,16,37.1,,3,\"fracture of femur;intertrochanter closed\",5,4,2,599,5.50,1',\n",
       " '1,2,37,6,2,2,face laceration,2,1,5,118,79,76,20,36.8,,3,acute intoxication of alcohol,1,4,4,553,8.78,1',\n",
       " '2,1,62,2,3,1,throat pain,1,1,6,140,90,98,22,36.8,98,2,acute epiglottitis without obstruction,2,3,4,1242,4.00,1',\n",
       " '2,2,74,12,4,2,chest wall pain right,1,1,8,80,50,98,22,36.1,98,1,\"multiple fracture of involving three ribs;closed\",2,2,1,207,4.00,1']"
      ]
     },
     "execution_count": 12,
     "metadata": {},
     "output_type": "execute_result"
    }
   ],
   "source": [
    "encounters_comma = encounters_lower.map(lambda row: re.sub('(\".*)(,\\s*)(.*\")', r'\\1;\\3', row))\n",
    "encounters_comma.take(28)"
   ]
  },
  {
   "cell_type": "code",
   "execution_count": 13,
   "metadata": {},
   "outputs": [
    {
     "data": {
      "text/plain": [
       "['2,2,71,3,3,2,right ocular pain,1,1,2,160,100,84,18,366,100,2,corneal abrasion,1,4,2,86,500,1',\n",
       " '1,1,56,12,3,2,right forearm burn,1,1,2,137,75,60,20,365,,4,burn of hand;firts degree dorsum,1,5,4,64,395,1',\n",
       " '2,1,68,8,2,2,arm pain, lt,1,1,2,130,80,102,20,366,98,4,fracture of surgical neck of humerus;closed,2,5,4,862,100,1',\n",
       " '1,2,71,8,1,1,ascites tapping,1,1,3,139,94,88,20,365,,4,alcoholic liver cirrhosis with ascites,1,5,6,108,983,1',\n",
       " '1,2,58,4,3,1,distension;abd,1,1,3,91,67,93,18,365,,4,ascites,1,5,8,109,660,1',\n",
       " '2,1,54,6,4,1,fever,1,1,3,140,90,94,20,381,98,3,fever;unspecified,2,4,1,9246,200,1',\n",
       " '2,2,49,11,3,1,with chest discomfort,1,1,3,110,70,70,20,362,98,2,angina pectoris;unspecified,1,3,2,400,300,1',\n",
       " '1,2,78,14,3,1,pain;chest,1,1,3,169,86,80,20,36,,2,acute coronary syndrome,1,3,2,247,1023,1',\n",
       " '1,2,32,10,3,1,lbp  low back pain,1,1,3,140,75,91,20,366,,4,herniated disc disease of lumbar spine with radiculopathy,1,5,4,59,323,1',\n",
       " '2,1,38,6,3,1,eczema;eyelid,1,1,3,130,80,80,20,363,97,4,ocular pain,1,5,4,185,400,1',\n",
       " '1,2,43,3,3,1,acute epigastric pain,1,1,3,148,104,72,16,365,,3,acute gastritis,1,4,4,176,753,1',\n",
       " '1,2,45,3,3,1,pain;leg,1,1,3,141,81,86,18,366,,4,gout site unspecified,1,5,4,45,715,1',\n",
       " '2,1,53,10,3,1,epigastric pain,1,1,3,120,80,106,20,362,98,3,infectious or septic colitis,1,4,4,8067,500,1',\n",
       " '1,2,55,9,3,1,abd pain,1,1,3,121,78,80,20,364,,2,acute peritonitis,2,4,4,217,800,1',\n",
       " '1,2,58,4,3,1,headache,1,1,3,135,82,106,20,376,,3,infective endocarditis,2,4,4,1318,988,1',\n",
       " '2,1,65,12,4,1,headache,1,1,3,140,100,80,20,360,98,3,subarachnoid haemorrhage;unspecified,2,4,4,153,300,1',\n",
       " '1,2,69,11,2,1,,1,1,4,121,76,85,20,374,,3,acute gastroenteritis,1,4,1,363,1053,1',\n",
       " '2,2,53,12,2,2,open wound,1,1,4,130,80,100,20,364,97,2,open wound of other parts of head;face,2,3,2,613,400,1',\n",
       " '2,1,20,10,3,1,ruq pain,1,1,4,100,60,90,20,364,98,2,hepatitis nos,1,3,4,745,400,1',\n",
       " '1,2,38,3,2,1,gingival swelling,1,1,4,133,93,109,16,365,,3,odontogenic infection,1,4,4,349,1245,1',\n",
       " '2,1,79,3,4,2,chin pain,1,1,4,110,70,80,20,362,98,3,closed fracture of humerus;nos,2,4,4,8199,300,1',\n",
       " '1,2,20,12,3,2,finger injury,1,1,5,140,62,68,20,365,,3,dislocation of finger,1,4,2,105,1023,1',\n",
       " '1,1,24,4,3,1,skin rash,1,1,5,110,66,125,20,37,,2,anaphylaxis,1,3,2,118,948,1',\n",
       " '2,2,59,8,4,1,rt side motor weakness,1,1,5,140,80,88,20,365,97,2,intracranial haemorrhage nontraumatic;unspecified,2,3,2,143,400,1',\n",
       " '1,2,77,6,2,1,lt hip joint pain,1,1,5,124,72,94,16,371,,3,fracture of femur;intertrochanter closed,5,4,2,599,550,1']"
      ]
     },
     "execution_count": 13,
     "metadata": {},
     "output_type": "execute_result"
    }
   ],
   "source": [
    "encounters_english = encounters_comma.map(lambda row: re.sub(\"[^a-zA-Z0-9,;\\s]\", \"\", row))\n",
    "encounters_english.take(25)"
   ]
  },
  {
   "cell_type": "code",
   "execution_count": 14,
   "metadata": {},
   "outputs": [
    {
     "data": {
      "text/plain": [
       "24"
      ]
     },
     "execution_count": 14,
     "metadata": {},
     "output_type": "execute_result"
    }
   ],
   "source": [
    "len(encounters_english.first().split(\",\"))"
   ]
  },
  {
   "cell_type": "code",
   "execution_count": 15,
   "metadata": {},
   "outputs": [
    {
     "data": {
      "text/plain": [
       "[['2',\n",
       "  '2',\n",
       "  '71',\n",
       "  '3',\n",
       "  '3',\n",
       "  '2',\n",
       "  'right ocular pain',\n",
       "  '1',\n",
       "  '1',\n",
       "  '2',\n",
       "  '160',\n",
       "  '100',\n",
       "  '84',\n",
       "  '18',\n",
       "  '366',\n",
       "  '100',\n",
       "  '2',\n",
       "  'corneal abrasion',\n",
       "  '1',\n",
       "  '4',\n",
       "  '2',\n",
       "  '86',\n",
       "  '500',\n",
       "  '1'],\n",
       " ['1',\n",
       "  '1',\n",
       "  '56',\n",
       "  '12',\n",
       "  '3',\n",
       "  '2',\n",
       "  'right forearm burn',\n",
       "  '1',\n",
       "  '1',\n",
       "  '2',\n",
       "  '137',\n",
       "  '75',\n",
       "  '60',\n",
       "  '20',\n",
       "  '365',\n",
       "  '',\n",
       "  '4',\n",
       "  'burn of hand;firts degree dorsum',\n",
       "  '1',\n",
       "  '5',\n",
       "  '4',\n",
       "  '64',\n",
       "  '395',\n",
       "  '1']]"
      ]
     },
     "execution_count": 15,
     "metadata": {},
     "output_type": "execute_result"
    }
   ],
   "source": [
    "encounters_split = encounters_english.map(lambda x: re.sub(\"  \", \"-\", x)) \\\n",
    "                                     .map(lambda x: re.sub(\", ,\", \",,\", x)) \\\n",
    "                                     .map(lambda x: re.sub(\", \", \";\", x)) \\\n",
    "                                     .map(lambda x: x.rstrip()) \\\n",
    "                                     .map(lambda x: x.split(\",\"))\n",
    "encounters_split.take(2)"
   ]
  },
  {
   "cell_type": "code",
   "execution_count": 16,
   "metadata": {},
   "outputs": [
    {
     "data": {
      "text/plain": [
       "'1,1,70,10,3,1,목이 아픔,1,1,3,176,103,73,16,36.8,,5,hyperventilation,1,4,4,161,4.97,2'"
      ]
     },
     "execution_count": 16,
     "metadata": {},
     "output_type": "execute_result"
    }
   ],
   "source": [
    "encounters_comma.take(66)[65]"
   ]
  },
  {
   "cell_type": "code",
   "execution_count": 17,
   "metadata": {},
   "outputs": [
    {
     "data": {
      "text/plain": [
       "'1,1,70,10,3,1, ,1,1,3,176,103,73,16,368,,5,hyperventilation,1,4,4,161,497,2'"
      ]
     },
     "execution_count": 17,
     "metadata": {},
     "output_type": "execute_result"
    }
   ],
   "source": [
    "encounters_english.take(66)[65]"
   ]
  },
  {
   "cell_type": "code",
   "execution_count": 18,
   "metadata": {},
   "outputs": [
    {
     "data": {
      "text/plain": [
       "['1',\n",
       " '1',\n",
       " '70',\n",
       " '10',\n",
       " '3',\n",
       " '1',\n",
       " '',\n",
       " '1',\n",
       " '1',\n",
       " '3',\n",
       " '176',\n",
       " '103',\n",
       " '73',\n",
       " '16',\n",
       " '368',\n",
       " '',\n",
       " '5',\n",
       " 'hyperventilation',\n",
       " '1',\n",
       " '4',\n",
       " '4',\n",
       " '161',\n",
       " '497',\n",
       " '2']"
      ]
     },
     "execution_count": 18,
     "metadata": {},
     "output_type": "execute_result"
    }
   ],
   "source": [
    "encounters_split.take(66)[65]"
   ]
  },
  {
   "cell_type": "code",
   "execution_count": 19,
   "metadata": {},
   "outputs": [
    {
     "data": {
      "text/plain": [
       "24"
      ]
     },
     "execution_count": 19,
     "metadata": {},
     "output_type": "execute_result"
    }
   ],
   "source": [
    "len(encounters_split.take(66)[65])"
   ]
  },
  {
   "cell_type": "code",
   "execution_count": 20,
   "metadata": {},
   "outputs": [
    {
     "name": "stdout",
     "output_type": "stream",
     "text": [
      "+-----+---+---+------------------------+------------+------+------------------+------+----+--------+---+---+---+---+---+----------+-------+-------------------------------------------+-----------+-----------+-----------+------------------+-----------------+---------+\n",
      "|Group|Sex|Age|Patients number per hour|Arrival mode|Injury|Chief_complain    |Mental|Pain|NRS_pain|SBP|DBP|HR |RR |BT |Saturation|KTAS_RN|Diagnosis in ED                            |Disposition|KTAS_expert|Error_group|Length of stay_min|KTAS duration_min|mistriage|\n",
      "+-----+---+---+------------------------+------------+------+------------------+------+----+--------+---+---+---+---+---+----------+-------+-------------------------------------------+-----------+-----------+-----------+------------------+-----------------+---------+\n",
      "|2    |2  |71 |3                       |3           |2     |right ocular pain |1     |1   |2       |160|100|84 |18 |366|100       |2      |corneal abrasion                           |1          |4          |2          |86                |500              |1        |\n",
      "|1    |1  |56 |12                      |3           |2     |right forearm burn|1     |1   |2       |137|75 |60 |20 |365|          |4      |burn of hand;firts degree dorsum           |1          |5          |4          |64                |395              |1        |\n",
      "|2    |1  |68 |8                       |2           |2     |arm pain;lt       |1     |1   |2       |130|80 |102|20 |366|98        |4      |fracture of surgical neck of humerus;closed|2          |5          |4          |862               |100              |1        |\n",
      "|1    |2  |71 |8                       |1           |1     |ascites tapping   |1     |1   |3       |139|94 |88 |20 |365|          |4      |alcoholic liver cirrhosis with ascites     |1          |5          |6          |108               |983              |1        |\n",
      "|1    |2  |58 |4                       |3           |1     |distension;abd    |1     |1   |3       |91 |67 |93 |18 |365|          |4      |ascites                                    |1          |5          |8          |109               |660              |1        |\n",
      "+-----+---+---+------------------------+------------+------+------------------+------+----+--------+---+---+---+---+---+----------+-------+-------------------------------------------+-----------+-----------+-----------+------------------+-----------------+---------+\n",
      "only showing top 5 rows\n",
      "\n"
     ]
    }
   ],
   "source": [
    "df = encounters_split.toDF(header.split(\",\"))\n",
    "df.show(5, truncate = False)"
   ]
  },
  {
   "cell_type": "markdown",
   "metadata": {},
   "source": [
    "## Exploratory Data Analysis"
   ]
  },
  {
   "cell_type": "code",
   "execution_count": 21,
   "metadata": {},
   "outputs": [
    {
     "data": {
      "text/plain": [
       "1267"
      ]
     },
     "execution_count": 21,
     "metadata": {},
     "output_type": "execute_result"
    }
   ],
   "source": [
    "# number of rows\n",
    "num_rows = df.count()\n",
    "num_rows"
   ]
  },
  {
   "cell_type": "code",
   "execution_count": 22,
   "metadata": {},
   "outputs": [
    {
     "data": {
      "text/plain": [
       "24"
      ]
     },
     "execution_count": 22,
     "metadata": {},
     "output_type": "execute_result"
    }
   ],
   "source": [
    "# number of columns\n",
    "len(df.columns)"
   ]
  },
  {
   "cell_type": "code",
   "execution_count": 23,
   "metadata": {},
   "outputs": [
    {
     "name": "stdout",
     "output_type": "stream",
     "text": [
      "+---------+-----+--------------------+\n",
      "|mistriage|count|          percentage|\n",
      "+---------+-----+--------------------+\n",
      "|        0| 1081|  0.8531965272296764|\n",
      "|        1|   55|0.043409629044988164|\n",
      "|        2|  131| 0.10339384372533544|\n",
      "+---------+-----+--------------------+\n",
      "\n"
     ]
    }
   ],
   "source": [
    "# target variable summary\n",
    "mistriage_df = df.groupby(\"mistriage\").count()\n",
    "mistriage_df = mistriage_df.withColumn(\"percentage\", mistriage_df[\"count\"] / num_rows)\n",
    "mistriage_df.show()"
   ]
  },
  {
   "cell_type": "code",
   "execution_count": 24,
   "metadata": {},
   "outputs": [],
   "source": [
    "# predictor variables of interest\n",
    "cat_features = [\"Group\", \"Sex\", \"Arrival mode\", \"Injury\", \"Mental\", \"Pain\", \"Disposition\"]\n",
    "num_features = [\"Age\", \"Patients number per hour\", \"NRS_pain\", \"SBP\", \"DBP\", \"HR\", \"RR\", \"BT\", \"Saturation\", \"KTAS_RN\", \"Length of stay_min\", \"KTAS duration_min\"]"
   ]
  },
  {
   "cell_type": "code",
   "execution_count": 25,
   "metadata": {},
   "outputs": [
    {
     "name": "stdout",
     "output_type": "stream",
     "text": [
      "+-----+---+------------+------+------+----+-----------+\n",
      "|Group|Sex|Arrival mode|Injury|Mental|Pain|Disposition|\n",
      "+-----+---+------------+------+------+----+-----------+\n",
      "|    2|  2|           3|     2|     1|   1|          1|\n",
      "|    1|  1|           3|     2|     1|   1|          1|\n",
      "|    2|  1|           2|     2|     1|   1|          2|\n",
      "|    1|  2|           1|     1|     1|   1|          1|\n",
      "|    1|  2|           3|     1|     1|   1|          1|\n",
      "+-----+---+------------+------+------+----+-----------+\n",
      "only showing top 5 rows\n",
      "\n"
     ]
    }
   ],
   "source": [
    "cat_df = df.select(cat_features)\n",
    "cat_df.show(5)"
   ]
  },
  {
   "cell_type": "code",
   "execution_count": 26,
   "metadata": {},
   "outputs": [
    {
     "name": "stdout",
     "output_type": "stream",
     "text": [
      "+-----+-----+------------------+\n",
      "|Group|count|        Percentage|\n",
      "+-----+-----+------------------+\n",
      "|    1|  688|0.5430149960536701|\n",
      "|    2|  579|0.4569850039463299|\n",
      "+-----+-----+------------------+\n",
      "\n"
     ]
    }
   ],
   "source": [
    "group_df = df.groupby(\"Group\").count()\n",
    "group_df = group_df.withColumn(\"Percentage\", group_df[\"Count\"] / num_rows)\n",
    "group_df.show()"
   ]
  },
  {
   "cell_type": "code",
   "execution_count": 27,
   "metadata": {},
   "outputs": [
    {
     "name": "stdout",
     "output_type": "stream",
     "text": [
      "+-----+-----+-----------------+\n",
      "|Group|count|       Percentage|\n",
      "+-----+-----+-----------------+\n",
      "|    1|  688|54.30149960536701|\n",
      "|    2|  579|45.69850039463299|\n",
      "+-----+-----+-----------------+\n",
      "\n",
      "+---+-----+------------------+\n",
      "|Sex|count|        Percentage|\n",
      "+---+-----+------------------+\n",
      "|  1|  606|47.829518547750595|\n",
      "|  2|  661|52.170481452249405|\n",
      "+---+-----+------------------+\n",
      "\n",
      "+------------+-----+-------------------+\n",
      "|Arrival mode|count|         Percentage|\n",
      "+------------+-----+-------------------+\n",
      "|           7|    2|0.15785319652722968|\n",
      "|           3|  753| 59.431728492501975|\n",
      "|           5|    2|0.15785319652722968|\n",
      "|           6|   10| 0.7892659826361484|\n",
      "|           1|   79|  6.235201262825572|\n",
      "|           4|  155| 12.233622730860299|\n",
      "|           2|  266| 20.994475138121548|\n",
      "+------------+-----+-------------------+\n",
      "\n",
      "+------+-----+------------------+\n",
      "|Injury|count|        Percentage|\n",
      "+------+-----+------------------+\n",
      "|     1| 1023| 80.74191002367797|\n",
      "|     2|  244|19.258089976322022|\n",
      "+------+-----+------------------+\n",
      "\n",
      "+------+-----+------------------+\n",
      "|Mental|count|        Percentage|\n",
      "+------+-----+------------------+\n",
      "|     3|   28| 2.209944751381215|\n",
      "|     1| 1187| 93.68587213891081|\n",
      "|     4|   13|1.0260457774269929|\n",
      "|     2|   39|3.0781373322809786|\n",
      "+------+-----+------------------+\n",
      "\n",
      "+----+-----+------------------+\n",
      "|Pain|count|        Percentage|\n",
      "+----+-----+------------------+\n",
      "|   0|  553|43.646408839779006|\n",
      "|   1|  714|56.353591160220994|\n",
      "+----+-----+------------------+\n",
      "\n",
      "+-----------+-----+------------------+\n",
      "|Disposition|count|        Percentage|\n",
      "+-----------+-----+------------------+\n",
      "|          7|   22|1.7363851617995265|\n",
      "|          3|    8|0.6314127861089187|\n",
      "|          5|   32| 2.525651144435675|\n",
      "|          6|    9|0.7103393843725335|\n",
      "|          1|  797|62.904498816101025|\n",
      "|          4|   26|2.0520915548539858|\n",
      "|          2|  373|29.439621152328332|\n",
      "+-----------+-----+------------------+\n",
      "\n"
     ]
    }
   ],
   "source": [
    "for i in cat_df.columns:\n",
    "    tmp = cat_df.groupby(i).count()\n",
    "    tmp = tmp.withColumn(\"Percentage\", (tmp[\"Count\"] / num_rows)*100)\n",
    "    tmp.show()"
   ]
  },
  {
   "cell_type": "code",
   "execution_count": 28,
   "metadata": {},
   "outputs": [
    {
     "name": "stdout",
     "output_type": "stream",
     "text": [
      "+---+------------------------+--------+---+---+---+---+---+----------+-------+------------------+-----------------+\n",
      "|Age|Patients number per hour|NRS_pain|SBP|DBP| HR| RR| BT|Saturation|KTAS_RN|Length of stay_min|KTAS duration_min|\n",
      "+---+------------------------+--------+---+---+---+---+---+----------+-------+------------------+-----------------+\n",
      "| 71|                       3|       2|160|100| 84| 18|366|       100|      2|                86|              500|\n",
      "| 56|                      12|       2|137| 75| 60| 20|365|          |      4|                64|              395|\n",
      "| 68|                       8|       2|130| 80|102| 20|366|        98|      4|               862|              100|\n",
      "| 71|                       8|       3|139| 94| 88| 20|365|          |      4|               108|              983|\n",
      "| 58|                       4|       3| 91| 67| 93| 18|365|          |      4|               109|              660|\n",
      "+---+------------------------+--------+---+---+---+---+---+----------+-------+------------------+-----------------+\n",
      "only showing top 5 rows\n",
      "\n"
     ]
    }
   ],
   "source": [
    "num_df = df.select(num_features)\n",
    "num_df.show(5)"
   ]
  },
  {
   "cell_type": "code",
   "execution_count": 29,
   "metadata": {},
   "outputs": [
    {
     "name": "stdout",
     "output_type": "stream",
     "text": [
      "+-------+---------------+------------------------+---------------+---------------+---------------+---------------+---------------+---------------+---------------+---------------+------------------+-----------------+\n",
      "|summary|            Age|Patients number per hour|       NRS_pain|            SBP|            DBP|             HR|             RR|             BT|     Saturation|        KTAS_RN|Length of stay_min|KTAS duration_min|\n",
      "+-------+---------------+------------------------+---------------+---------------+---------------+---------------+---------------+---------------+---------------+---------------+------------------+-----------------+\n",
      "|  count|           1267|                    1267|           1267|           1267|           1267|           1267|           1267|           1267|           1267|           1267|              1267|             1267|\n",
      "|   mean|54.423835832...|         7.5193370165...|4.1040787623...|133.64895330...|79.780290791...|83.963111467...|19.506827309...|325.99439551...|97.024561403...|3.3354380426...|   11016.102604...|  549.74664561...|\n",
      "| stddev|19.725033215...|         3.1605632013...|1.4193324018...|27.275638769...|15.154292398...|16.644095813...|2.0166493429...|107.96911269...|4.3505562217...|0.8853908339...|   80446.092065...|  345.94700449...|\n",
      "|    min|             16|                       1|              1|               |               |               |               |               |               |              1|                 0|              100|\n",
      "|    25%|           37.0|                     5.0|            3.0|          114.0|           70.0|           72.0|           18.0|          362.0|           97.0|            3.0|             133.0|            300.0|\n",
      "|    50%|           57.0|                     7.0|            4.0|          130.0|           80.0|           82.0|           20.0|          365.0|           98.0|            3.0|             274.0|            428.0|\n",
      "|    75%|           71.0|                    10.0|            5.0|          150.0|           90.0|           96.0|           20.0|          367.0|           98.0|            4.0|             607.0|            700.0|\n",
      "|    max|             96|                       9|           null|             99|             99|             99|             30|             41|             99|              5|              9989|              995|\n",
      "+-------+---------------+------------------------+---------------+---------------+---------------+---------------+---------------+---------------+---------------+---------------+------------------+-----------------+\n",
      "\n"
     ]
    }
   ],
   "source": [
    "num_df.summary().show(truncate = 15)"
   ]
  },
  {
   "cell_type": "code",
   "execution_count": 30,
   "metadata": {},
   "outputs": [
    {
     "name": "stdout",
     "output_type": "stream",
     "text": [
      "root\n",
      " |-- Age: string (nullable = true)\n",
      " |-- Patients number per hour: string (nullable = true)\n",
      " |-- NRS_pain: string (nullable = true)\n",
      " |-- SBP: string (nullable = true)\n",
      " |-- DBP: string (nullable = true)\n",
      " |-- HR: string (nullable = true)\n",
      " |-- RR: string (nullable = true)\n",
      " |-- BT: string (nullable = true)\n",
      " |-- Saturation: string (nullable = true)\n",
      " |-- KTAS_RN: string (nullable = true)\n",
      " |-- Length of stay_min: string (nullable = true)\n",
      " |-- KTAS duration_min: string (nullable = true)\n",
      "\n"
     ]
    }
   ],
   "source": [
    "num_df.printSchema()\n",
    "# might explain why the max. values for some of the features are 99, which is less than some of the other values --> need to change schema before further analysis"
   ]
  },
  {
   "cell_type": "code",
   "execution_count": 44,
   "metadata": {},
   "outputs": [
    {
     "data": {
      "text/html": [
       "<div>\n",
       "<style scoped>\n",
       "    .dataframe tbody tr th:only-of-type {\n",
       "        vertical-align: middle;\n",
       "    }\n",
       "\n",
       "    .dataframe tbody tr th {\n",
       "        vertical-align: top;\n",
       "    }\n",
       "\n",
       "    .dataframe thead th {\n",
       "        text-align: right;\n",
       "    }\n",
       "</style>\n",
       "<table border=\"1\" class=\"dataframe\">\n",
       "  <thead>\n",
       "    <tr style=\"text-align: right;\">\n",
       "      <th></th>\n",
       "      <th>Age</th>\n",
       "      <th>Patients number per hour</th>\n",
       "      <th>NRS_pain</th>\n",
       "      <th>SBP</th>\n",
       "      <th>DBP</th>\n",
       "      <th>HR</th>\n",
       "      <th>RR</th>\n",
       "      <th>BT</th>\n",
       "      <th>Saturation</th>\n",
       "      <th>KTAS_RN</th>\n",
       "      <th>Length of stay_min</th>\n",
       "      <th>KTAS duration_min</th>\n",
       "    </tr>\n",
       "  </thead>\n",
       "  <tbody>\n",
       "    <tr>\n",
       "      <th>0</th>\n",
       "      <td>71</td>\n",
       "      <td>3</td>\n",
       "      <td>2</td>\n",
       "      <td>160</td>\n",
       "      <td>100</td>\n",
       "      <td>84</td>\n",
       "      <td>18</td>\n",
       "      <td>366</td>\n",
       "      <td>100</td>\n",
       "      <td>2</td>\n",
       "      <td>86</td>\n",
       "      <td>500</td>\n",
       "    </tr>\n",
       "    <tr>\n",
       "      <th>1</th>\n",
       "      <td>56</td>\n",
       "      <td>12</td>\n",
       "      <td>2</td>\n",
       "      <td>137</td>\n",
       "      <td>75</td>\n",
       "      <td>60</td>\n",
       "      <td>20</td>\n",
       "      <td>365</td>\n",
       "      <td></td>\n",
       "      <td>4</td>\n",
       "      <td>64</td>\n",
       "      <td>395</td>\n",
       "    </tr>\n",
       "    <tr>\n",
       "      <th>2</th>\n",
       "      <td>68</td>\n",
       "      <td>8</td>\n",
       "      <td>2</td>\n",
       "      <td>130</td>\n",
       "      <td>80</td>\n",
       "      <td>102</td>\n",
       "      <td>20</td>\n",
       "      <td>366</td>\n",
       "      <td>98</td>\n",
       "      <td>4</td>\n",
       "      <td>862</td>\n",
       "      <td>100</td>\n",
       "    </tr>\n",
       "    <tr>\n",
       "      <th>3</th>\n",
       "      <td>71</td>\n",
       "      <td>8</td>\n",
       "      <td>3</td>\n",
       "      <td>139</td>\n",
       "      <td>94</td>\n",
       "      <td>88</td>\n",
       "      <td>20</td>\n",
       "      <td>365</td>\n",
       "      <td></td>\n",
       "      <td>4</td>\n",
       "      <td>108</td>\n",
       "      <td>983</td>\n",
       "    </tr>\n",
       "    <tr>\n",
       "      <th>4</th>\n",
       "      <td>58</td>\n",
       "      <td>4</td>\n",
       "      <td>3</td>\n",
       "      <td>91</td>\n",
       "      <td>67</td>\n",
       "      <td>93</td>\n",
       "      <td>18</td>\n",
       "      <td>365</td>\n",
       "      <td></td>\n",
       "      <td>4</td>\n",
       "      <td>109</td>\n",
       "      <td>660</td>\n",
       "    </tr>\n",
       "    <tr>\n",
       "      <th>...</th>\n",
       "      <td>...</td>\n",
       "      <td>...</td>\n",
       "      <td>...</td>\n",
       "      <td>...</td>\n",
       "      <td>...</td>\n",
       "      <td>...</td>\n",
       "      <td>...</td>\n",
       "      <td>...</td>\n",
       "      <td>...</td>\n",
       "      <td>...</td>\n",
       "      <td>...</td>\n",
       "      <td>...</td>\n",
       "    </tr>\n",
       "    <tr>\n",
       "      <th>1262</th>\n",
       "      <td>79</td>\n",
       "      <td>5</td>\n",
       "      <td>null</td>\n",
       "      <td>120</td>\n",
       "      <td>80</td>\n",
       "      <td>86</td>\n",
       "      <td>22</td>\n",
       "      <td>364</td>\n",
       "      <td>95</td>\n",
       "      <td>2</td>\n",
       "      <td>1995</td>\n",
       "      <td>300</td>\n",
       "    </tr>\n",
       "    <tr>\n",
       "      <th>1263</th>\n",
       "      <td>81</td>\n",
       "      <td>2</td>\n",
       "      <td>null</td>\n",
       "      <td>120</td>\n",
       "      <td>80</td>\n",
       "      <td>94</td>\n",
       "      <td>20</td>\n",
       "      <td>364</td>\n",
       "      <td>97</td>\n",
       "      <td>4</td>\n",
       "      <td>1000</td>\n",
       "      <td>200</td>\n",
       "    </tr>\n",
       "    <tr>\n",
       "      <th>1264</th>\n",
       "      <td>81</td>\n",
       "      <td>17</td>\n",
       "      <td>null</td>\n",
       "      <td>130</td>\n",
       "      <td>90</td>\n",
       "      <td>80</td>\n",
       "      <td>20</td>\n",
       "      <td>362</td>\n",
       "      <td>99</td>\n",
       "      <td>3</td>\n",
       "      <td>310</td>\n",
       "      <td>400</td>\n",
       "    </tr>\n",
       "    <tr>\n",
       "      <th>1265</th>\n",
       "      <td>81</td>\n",
       "      <td>2</td>\n",
       "      <td>null</td>\n",
       "      <td>170</td>\n",
       "      <td>100</td>\n",
       "      <td>78</td>\n",
       "      <td>20</td>\n",
       "      <td>366</td>\n",
       "      <td>98</td>\n",
       "      <td>3</td>\n",
       "      <td>475</td>\n",
       "      <td>500</td>\n",
       "    </tr>\n",
       "    <tr>\n",
       "      <th>1266</th>\n",
       "      <td>87</td>\n",
       "      <td>8</td>\n",
       "      <td>null</td>\n",
       "      <td>150</td>\n",
       "      <td>80</td>\n",
       "      <td>62</td>\n",
       "      <td>20</td>\n",
       "      <td>362</td>\n",
       "      <td>98</td>\n",
       "      <td>3</td>\n",
       "      <td>887</td>\n",
       "      <td>200</td>\n",
       "    </tr>\n",
       "  </tbody>\n",
       "</table>\n",
       "<p>1267 rows × 12 columns</p>\n",
       "</div>"
      ],
      "text/plain": [
       "     Age Patients number per hour NRS_pain  SBP  DBP   HR  RR   BT Saturation  \\\n",
       "0     71                        3        2  160  100   84  18  366        100   \n",
       "1     56                       12        2  137   75   60  20  365              \n",
       "2     68                        8        2  130   80  102  20  366         98   \n",
       "3     71                        8        3  139   94   88  20  365              \n",
       "4     58                        4        3   91   67   93  18  365              \n",
       "...   ..                      ...      ...  ...  ...  ...  ..  ...        ...   \n",
       "1262  79                        5     null  120   80   86  22  364         95   \n",
       "1263  81                        2     null  120   80   94  20  364         97   \n",
       "1264  81                       17     null  130   90   80  20  362         99   \n",
       "1265  81                        2     null  170  100   78  20  366         98   \n",
       "1266  87                        8     null  150   80   62  20  362         98   \n",
       "\n",
       "     KTAS_RN Length of stay_min KTAS duration_min  \n",
       "0          2                 86               500  \n",
       "1          4                 64               395  \n",
       "2          4                862               100  \n",
       "3          4                108               983  \n",
       "4          4                109               660  \n",
       "...      ...                ...               ...  \n",
       "1262       2               1995               300  \n",
       "1263       4               1000               200  \n",
       "1264       3                310               400  \n",
       "1265       3                475               500  \n",
       "1266       3                887               200  \n",
       "\n",
       "[1267 rows x 12 columns]"
      ]
     },
     "execution_count": 44,
     "metadata": {},
     "output_type": "execute_result"
    }
   ],
   "source": [
    "num_pandasDF = num_df.toPandas()\n",
    "num_pandasDF"
   ]
  },
  {
   "cell_type": "code",
   "execution_count": 45,
   "metadata": {},
   "outputs": [
    {
     "data": {
      "text/plain": [
       "Age                         object\n",
       "Patients number per hour    object\n",
       "NRS_pain                    object\n",
       "SBP                         object\n",
       "DBP                         object\n",
       "HR                          object\n",
       "RR                          object\n",
       "BT                          object\n",
       "Saturation                  object\n",
       "KTAS_RN                     object\n",
       "Length of stay_min          object\n",
       "KTAS duration_min           object\n",
       "dtype: object"
      ]
     },
     "execution_count": 45,
     "metadata": {},
     "output_type": "execute_result"
    }
   ],
   "source": [
    "num_pandasDF.dtypes"
   ]
  },
  {
   "cell_type": "code",
   "execution_count": 46,
   "metadata": {},
   "outputs": [
    {
     "data": {
      "text/plain": [
       "Age                         object\n",
       "Patients number per hour     int64\n",
       "NRS_pain                    object\n",
       "SBP                         object\n",
       "DBP                         object\n",
       "HR                          object\n",
       "RR                          object\n",
       "BT                          object\n",
       "Saturation                  object\n",
       "KTAS_RN                     object\n",
       "Length of stay_min          object\n",
       "KTAS duration_min           object\n",
       "dtype: object"
      ]
     },
     "execution_count": 46,
     "metadata": {},
     "output_type": "execute_result"
    }
   ],
   "source": [
    "num_pandasDF['Patients number per hour'] = num_pandasDF['Patients number per hour'].astype('int')\n",
    "num_pandasDF.dtypes"
   ]
  },
  {
   "cell_type": "code",
   "execution_count": 48,
   "metadata": {},
   "outputs": [
    {
     "data": {
      "text/plain": [
       "Age                         object\n",
       "Patients number per hour     int64\n",
       "NRS_pain                    object\n",
       "SBP                         object\n",
       "DBP                         object\n",
       "HR                          object\n",
       "RR                          object\n",
       "BT                          object\n",
       "Saturation                  object\n",
       "KTAS_RN                      int64\n",
       "Length of stay_min          object\n",
       "KTAS duration_min           object\n",
       "dtype: object"
      ]
     },
     "execution_count": 48,
     "metadata": {},
     "output_type": "execute_result"
    }
   ],
   "source": [
    "num_pandasDF['KTAS_RN'] = num_pandasDF['KTAS_RN'].astype('int')\n",
    "num_pandasDF.dtypes"
   ]
  },
  {
   "cell_type": "code",
   "execution_count": 49,
   "metadata": {},
   "outputs": [
    {
     "data": {
      "image/png": "[encoded data removed]",
      "text/plain": [
       "<Figure size 640x480 with 1 Axes>"
      ]
     },
     "metadata": {},
     "output_type": "display_data"
    }
   ],
   "source": [
    "import matplotlib.pyplot as plt\n",
    "num_pandasDF['Patients number per hour'].value_counts().sort_index().plot.barh()\n",
    "plt.xlabel(\"Count\")\n",
    "plt.ylabel(\"Patients per hour\")\n",
    "plt.show()"
   ]
  },
  {
   "cell_type": "code",
   "execution_count": 50,
   "metadata": {},
   "outputs": [
    {
     "data": {
      "image/png": "[encoded data removed]",
      "text/plain": [
       "<Figure size 640x480 with 1 Axes>"
      ]
     },
     "metadata": {},
     "output_type": "display_data"
    }
   ],
   "source": [
    "import matplotlib.pyplot as plt\n",
    "num_pandasDF['KTAS_RN'].value_counts().sort_index().plot.bar()\n",
    "plt.xlabel(\"KTAS_RN\")\n",
    "plt.ylabel(\"Count\")\n",
    "plt.xticks(rotation = 0)\n",
    "plt.show()"
   ]
  },
  {
   "cell_type": "code",
   "execution_count": 59,
   "metadata": {},
   "outputs": [],
   "source": [
    "num_pandasDF['DBP'] = [-999 if x == \"\" else int(x) for x in num_pandasDF['DBP']]\n",
    "num_pandasDF['SBP'] = [-999 if x == \"\" else int(x) for x in num_pandasDF['SBP']]"
   ]
  },
  {
   "cell_type": "code",
   "execution_count": 69,
   "metadata": {},
   "outputs": [],
   "source": [
    "bp = num_pandasDF[['DBP', 'SBP']].astype('int')\n",
    "bp = bp[(bp.DBP != -999) & (bp.SBP != -999)]"
   ]
  },
  {
   "cell_type": "code",
   "execution_count": 70,
   "metadata": {},
   "outputs": [
    {
     "data": {
      "text/plain": [
       "<Figure size 2000x2000 with 0 Axes>"
      ]
     },
     "metadata": {},
     "output_type": "display_data"
    },
    {
     "data": {
      "image/png": "[encoded data removed]",
      "text/plain": [
       "<Figure size 640x480 with 1 Axes>"
      ]
     },
     "metadata": {},
     "output_type": "display_data"
    }
   ],
   "source": [
    "plt.figure(figsize = (20, 20))\n",
    "bp.plot(x = \"DBP\", y = \"SBP\", kind = \"scatter\")\n",
    "plt.show()"
   ]
  },
  {
   "cell_type": "code",
   "execution_count": 142,
   "metadata": {},
   "outputs": [
    {
     "data": {
      "text/html": [
       "<div>\n",
       "<style scoped>\n",
       "    .dataframe tbody tr th:only-of-type {\n",
       "        vertical-align: middle;\n",
       "    }\n",
       "\n",
       "    .dataframe tbody tr th {\n",
       "        vertical-align: top;\n",
       "    }\n",
       "\n",
       "    .dataframe thead th {\n",
       "        text-align: right;\n",
       "    }\n",
       "</style>\n",
       "<table border=\"1\" class=\"dataframe\">\n",
       "  <thead>\n",
       "    <tr style=\"text-align: right;\">\n",
       "      <th></th>\n",
       "      <th>Group</th>\n",
       "      <th>Sex</th>\n",
       "      <th>Arrival mode</th>\n",
       "      <th>Injury</th>\n",
       "      <th>Mental</th>\n",
       "      <th>Pain</th>\n",
       "      <th>Disposition</th>\n",
       "    </tr>\n",
       "  </thead>\n",
       "  <tbody>\n",
       "    <tr>\n",
       "      <th>0</th>\n",
       "      <td>2</td>\n",
       "      <td>2</td>\n",
       "      <td>3</td>\n",
       "      <td>2</td>\n",
       "      <td>1</td>\n",
       "      <td>1</td>\n",
       "      <td>1</td>\n",
       "    </tr>\n",
       "    <tr>\n",
       "      <th>1</th>\n",
       "      <td>1</td>\n",
       "      <td>1</td>\n",
       "      <td>3</td>\n",
       "      <td>2</td>\n",
       "      <td>1</td>\n",
       "      <td>1</td>\n",
       "      <td>1</td>\n",
       "    </tr>\n",
       "    <tr>\n",
       "      <th>2</th>\n",
       "      <td>2</td>\n",
       "      <td>1</td>\n",
       "      <td>2</td>\n",
       "      <td>2</td>\n",
       "      <td>1</td>\n",
       "      <td>1</td>\n",
       "      <td>2</td>\n",
       "    </tr>\n",
       "    <tr>\n",
       "      <th>3</th>\n",
       "      <td>1</td>\n",
       "      <td>2</td>\n",
       "      <td>1</td>\n",
       "      <td>1</td>\n",
       "      <td>1</td>\n",
       "      <td>1</td>\n",
       "      <td>1</td>\n",
       "    </tr>\n",
       "    <tr>\n",
       "      <th>4</th>\n",
       "      <td>1</td>\n",
       "      <td>2</td>\n",
       "      <td>3</td>\n",
       "      <td>1</td>\n",
       "      <td>1</td>\n",
       "      <td>1</td>\n",
       "      <td>1</td>\n",
       "    </tr>\n",
       "    <tr>\n",
       "      <th>...</th>\n",
       "      <td>...</td>\n",
       "      <td>...</td>\n",
       "      <td>...</td>\n",
       "      <td>...</td>\n",
       "      <td>...</td>\n",
       "      <td>...</td>\n",
       "      <td>...</td>\n",
       "    </tr>\n",
       "    <tr>\n",
       "      <th>1262</th>\n",
       "      <td>2</td>\n",
       "      <td>2</td>\n",
       "      <td>2</td>\n",
       "      <td>1</td>\n",
       "      <td>1</td>\n",
       "      <td>0</td>\n",
       "      <td>2</td>\n",
       "    </tr>\n",
       "    <tr>\n",
       "      <th>1263</th>\n",
       "      <td>2</td>\n",
       "      <td>2</td>\n",
       "      <td>3</td>\n",
       "      <td>1</td>\n",
       "      <td>1</td>\n",
       "      <td>0</td>\n",
       "      <td>1</td>\n",
       "    </tr>\n",
       "    <tr>\n",
       "      <th>1264</th>\n",
       "      <td>2</td>\n",
       "      <td>2</td>\n",
       "      <td>2</td>\n",
       "      <td>1</td>\n",
       "      <td>1</td>\n",
       "      <td>0</td>\n",
       "      <td>1</td>\n",
       "    </tr>\n",
       "    <tr>\n",
       "      <th>1265</th>\n",
       "      <td>2</td>\n",
       "      <td>1</td>\n",
       "      <td>2</td>\n",
       "      <td>2</td>\n",
       "      <td>1</td>\n",
       "      <td>0</td>\n",
       "      <td>7</td>\n",
       "    </tr>\n",
       "    <tr>\n",
       "      <th>1266</th>\n",
       "      <td>2</td>\n",
       "      <td>2</td>\n",
       "      <td>4</td>\n",
       "      <td>1</td>\n",
       "      <td>1</td>\n",
       "      <td>0</td>\n",
       "      <td>2</td>\n",
       "    </tr>\n",
       "  </tbody>\n",
       "</table>\n",
       "<p>1267 rows × 7 columns</p>\n",
       "</div>"
      ],
      "text/plain": [
       "     Group Sex Arrival mode Injury Mental Pain Disposition\n",
       "0        2   2            3      2      1    1           1\n",
       "1        1   1            3      2      1    1           1\n",
       "2        2   1            2      2      1    1           2\n",
       "3        1   2            1      1      1    1           1\n",
       "4        1   2            3      1      1    1           1\n",
       "...    ...  ..          ...    ...    ...  ...         ...\n",
       "1262     2   2            2      1      1    0           2\n",
       "1263     2   2            3      1      1    0           1\n",
       "1264     2   2            2      1      1    0           1\n",
       "1265     2   1            2      2      1    0           7\n",
       "1266     2   2            4      1      1    0           2\n",
       "\n",
       "[1267 rows x 7 columns]"
      ]
     },
     "execution_count": 142,
     "metadata": {},
     "output_type": "execute_result"
    }
   ],
   "source": [
    "cat_pandasDF = cat_df.toPandas()\n",
    "cat_pandasDF"
   ]
  },
  {
   "cell_type": "code",
   "execution_count": 143,
   "metadata": {},
   "outputs": [
    {
     "data": {
      "text/plain": [
       "Group           object\n",
       "Sex             object\n",
       "Arrival mode    object\n",
       "Injury          object\n",
       "Mental          object\n",
       "Pain            object\n",
       "Disposition     object\n",
       "dtype: object"
      ]
     },
     "execution_count": 143,
     "metadata": {},
     "output_type": "execute_result"
    }
   ],
   "source": [
    "cat_pandasDF.dtypes"
   ]
  },
  {
   "cell_type": "code",
   "execution_count": 144,
   "metadata": {},
   "outputs": [
    {
     "data": {
      "text/html": [
       "<div>\n",
       "<style scoped>\n",
       "    .dataframe tbody tr th:only-of-type {\n",
       "        vertical-align: middle;\n",
       "    }\n",
       "\n",
       "    .dataframe tbody tr th {\n",
       "        vertical-align: top;\n",
       "    }\n",
       "\n",
       "    .dataframe thead th {\n",
       "        text-align: right;\n",
       "    }\n",
       "</style>\n",
       "<table border=\"1\" class=\"dataframe\">\n",
       "  <thead>\n",
       "    <tr style=\"text-align: right;\">\n",
       "      <th></th>\n",
       "      <th>Group</th>\n",
       "      <th>Sex</th>\n",
       "      <th>Arrival mode</th>\n",
       "      <th>Injury</th>\n",
       "      <th>Mental</th>\n",
       "      <th>Pain</th>\n",
       "      <th>Disposition</th>\n",
       "    </tr>\n",
       "  </thead>\n",
       "  <tbody>\n",
       "    <tr>\n",
       "      <th>0</th>\n",
       "      <td>2</td>\n",
       "      <td>2</td>\n",
       "      <td>3</td>\n",
       "      <td>2</td>\n",
       "      <td>1</td>\n",
       "      <td>1</td>\n",
       "      <td>1</td>\n",
       "    </tr>\n",
       "    <tr>\n",
       "      <th>1</th>\n",
       "      <td>1</td>\n",
       "      <td>1</td>\n",
       "      <td>3</td>\n",
       "      <td>2</td>\n",
       "      <td>1</td>\n",
       "      <td>1</td>\n",
       "      <td>1</td>\n",
       "    </tr>\n",
       "    <tr>\n",
       "      <th>2</th>\n",
       "      <td>2</td>\n",
       "      <td>1</td>\n",
       "      <td>2</td>\n",
       "      <td>2</td>\n",
       "      <td>1</td>\n",
       "      <td>1</td>\n",
       "      <td>2</td>\n",
       "    </tr>\n",
       "    <tr>\n",
       "      <th>3</th>\n",
       "      <td>1</td>\n",
       "      <td>2</td>\n",
       "      <td>1</td>\n",
       "      <td>1</td>\n",
       "      <td>1</td>\n",
       "      <td>1</td>\n",
       "      <td>1</td>\n",
       "    </tr>\n",
       "    <tr>\n",
       "      <th>4</th>\n",
       "      <td>1</td>\n",
       "      <td>2</td>\n",
       "      <td>3</td>\n",
       "      <td>1</td>\n",
       "      <td>1</td>\n",
       "      <td>1</td>\n",
       "      <td>1</td>\n",
       "    </tr>\n",
       "    <tr>\n",
       "      <th>...</th>\n",
       "      <td>...</td>\n",
       "      <td>...</td>\n",
       "      <td>...</td>\n",
       "      <td>...</td>\n",
       "      <td>...</td>\n",
       "      <td>...</td>\n",
       "      <td>...</td>\n",
       "    </tr>\n",
       "    <tr>\n",
       "      <th>1262</th>\n",
       "      <td>2</td>\n",
       "      <td>2</td>\n",
       "      <td>2</td>\n",
       "      <td>1</td>\n",
       "      <td>1</td>\n",
       "      <td>0</td>\n",
       "      <td>2</td>\n",
       "    </tr>\n",
       "    <tr>\n",
       "      <th>1263</th>\n",
       "      <td>2</td>\n",
       "      <td>2</td>\n",
       "      <td>3</td>\n",
       "      <td>1</td>\n",
       "      <td>1</td>\n",
       "      <td>0</td>\n",
       "      <td>1</td>\n",
       "    </tr>\n",
       "    <tr>\n",
       "      <th>1264</th>\n",
       "      <td>2</td>\n",
       "      <td>2</td>\n",
       "      <td>2</td>\n",
       "      <td>1</td>\n",
       "      <td>1</td>\n",
       "      <td>0</td>\n",
       "      <td>1</td>\n",
       "    </tr>\n",
       "    <tr>\n",
       "      <th>1265</th>\n",
       "      <td>2</td>\n",
       "      <td>1</td>\n",
       "      <td>2</td>\n",
       "      <td>2</td>\n",
       "      <td>1</td>\n",
       "      <td>0</td>\n",
       "      <td>7</td>\n",
       "    </tr>\n",
       "    <tr>\n",
       "      <th>1266</th>\n",
       "      <td>2</td>\n",
       "      <td>2</td>\n",
       "      <td>4</td>\n",
       "      <td>1</td>\n",
       "      <td>1</td>\n",
       "      <td>0</td>\n",
       "      <td>2</td>\n",
       "    </tr>\n",
       "  </tbody>\n",
       "</table>\n",
       "<p>1267 rows × 7 columns</p>\n",
       "</div>"
      ],
      "text/plain": [
       "     Group Sex Arrival mode Injury Mental Pain Disposition\n",
       "0        2   2            3      2      1    1           1\n",
       "1        1   1            3      2      1    1           1\n",
       "2        2   1            2      2      1    1           2\n",
       "3        1   2            1      1      1    1           1\n",
       "4        1   2            3      1      1    1           1\n",
       "...    ...  ..          ...    ...    ...  ...         ...\n",
       "1262     2   2            2      1      1    0           2\n",
       "1263     2   2            3      1      1    0           1\n",
       "1264     2   2            2      1      1    0           1\n",
       "1265     2   1            2      2      1    0           7\n",
       "1266     2   2            4      1      1    0           2\n",
       "\n",
       "[1267 rows x 7 columns]"
      ]
     },
     "execution_count": 144,
     "metadata": {},
     "output_type": "execute_result"
    }
   ],
   "source": [
    "cat_pandasDF"
   ]
  },
  {
   "cell_type": "code",
   "execution_count": 147,
   "metadata": {},
   "outputs": [
    {
     "data": {
      "text/html": [
       "<div>\n",
       "<style scoped>\n",
       "    .dataframe tbody tr th:only-of-type {\n",
       "        vertical-align: middle;\n",
       "    }\n",
       "\n",
       "    .dataframe tbody tr th {\n",
       "        vertical-align: top;\n",
       "    }\n",
       "\n",
       "    .dataframe thead th {\n",
       "        text-align: right;\n",
       "    }\n",
       "</style>\n",
       "<table border=\"1\" class=\"dataframe\">\n",
       "  <thead>\n",
       "    <tr style=\"text-align: right;\">\n",
       "      <th>Injury</th>\n",
       "      <th>1</th>\n",
       "      <th>2</th>\n",
       "    </tr>\n",
       "    <tr>\n",
       "      <th>Arrival mode</th>\n",
       "      <th></th>\n",
       "      <th></th>\n",
       "    </tr>\n",
       "  </thead>\n",
       "  <tbody>\n",
       "    <tr>\n",
       "      <th>1</th>\n",
       "      <td>64.0</td>\n",
       "      <td>15.0</td>\n",
       "    </tr>\n",
       "    <tr>\n",
       "      <th>2</th>\n",
       "      <td>206.0</td>\n",
       "      <td>60.0</td>\n",
       "    </tr>\n",
       "    <tr>\n",
       "      <th>3</th>\n",
       "      <td>606.0</td>\n",
       "      <td>147.0</td>\n",
       "    </tr>\n",
       "    <tr>\n",
       "      <th>4</th>\n",
       "      <td>135.0</td>\n",
       "      <td>20.0</td>\n",
       "    </tr>\n",
       "    <tr>\n",
       "      <th>5</th>\n",
       "      <td>1.0</td>\n",
       "      <td>1.0</td>\n",
       "    </tr>\n",
       "    <tr>\n",
       "      <th>6</th>\n",
       "      <td>9.0</td>\n",
       "      <td>1.0</td>\n",
       "    </tr>\n",
       "    <tr>\n",
       "      <th>7</th>\n",
       "      <td>2.0</td>\n",
       "      <td>NaN</td>\n",
       "    </tr>\n",
       "  </tbody>\n",
       "</table>\n",
       "</div>"
      ],
      "text/plain": [
       "Injury            1      2\n",
       "Arrival mode              \n",
       "1              64.0   15.0\n",
       "2             206.0   60.0\n",
       "3             606.0  147.0\n",
       "4             135.0   20.0\n",
       "5               1.0    1.0\n",
       "6               9.0    1.0\n",
       "7               2.0    NaN"
      ]
     },
     "execution_count": 147,
     "metadata": {},
     "output_type": "execute_result"
    }
   ],
   "source": [
    "import seaborn as sns\n",
    "dfp = cat_pandasDF[['Arrival mode', 'Injury']].pivot_table(index='Arrival mode', columns='Injury', values='Injury', aggfunc='size')\n",
    "dfp"
   ]
  },
  {
   "cell_type": "code",
   "execution_count": 148,
   "metadata": {},
   "outputs": [],
   "source": [
    "dfp.fillna(0, inplace = True)"
   ]
  },
  {
   "cell_type": "code",
   "execution_count": 154,
   "metadata": {},
   "outputs": [
    {
     "data": {
      "image/png": "[encoded data removed]",
      "text/plain": [
       "<Figure size 640x480 with 1 Axes>"
      ]
     },
     "metadata": {},
     "output_type": "display_data"
    }
   ],
   "source": [
    "dfp.plot.bar()\n",
    "plt.xticks(rotation = 0)\n",
    "plt.ylabel(\"Count\")\n",
    "plt.show(block = False)"
   ]
  },
  {
   "cell_type": "markdown",
   "metadata": {},
   "source": [
    "## Variable Transformations and Preprocessing"
   ]
  },
  {
   "cell_type": "code",
   "execution_count": 31,
   "metadata": {},
   "outputs": [
    {
     "name": "stdout",
     "output_type": "stream",
     "text": [
      "+-----+---+---+------------------------+------------+------+--------------------+------+----+--------+---+---+---+---+---+----------+-------+--------------------+-----------+-----------+-----------+------------------+-----------------+---------+\n",
      "|Group|Sex|Age|Patients_number_per_hour|Arrival_mode|Injury|      Chief_complain|Mental|Pain|NRS_pain|SBP|DBP| HR| RR| BT|Saturation|KTAS_RN|     Diagnosis_in_ed|Disposition|KTAS_expert|Error_group|Length_of_stay_min|KTAS_duration_min|mistriage|\n",
      "+-----+---+---+------------------------+------------+------+--------------------+------+----+--------+---+---+---+---+---+----------+-------+--------------------+-----------+-----------+-----------+------------------+-----------------+---------+\n",
      "|    2|  2| 71|                       3|           3|     2|   right ocular pain|     1|   1|       2|160|100| 84| 18|366|       100|      2|    corneal abrasion|          1|          4|          2|                86|              500|        1|\n",
      "|    1|  1| 56|                      12|           3|     2|  right forearm burn|     1|   1|       2|137| 75| 60| 20|365|          |      4|burn of hand;firt...|          1|          5|          4|                64|              395|        1|\n",
      "|    2|  1| 68|                       8|           2|     2|         arm pain;lt|     1|   1|       2|130| 80|102| 20|366|        98|      4|fracture of surgi...|          2|          5|          4|               862|              100|        1|\n",
      "|    1|  2| 71|                       8|           1|     1|     ascites tapping|     1|   1|       3|139| 94| 88| 20|365|          |      4|alcoholic liver c...|          1|          5|          6|               108|              983|        1|\n",
      "|    1|  2| 58|                       4|           3|     1|      distension;abd|     1|   1|       3| 91| 67| 93| 18|365|          |      4|             ascites|          1|          5|          8|               109|              660|        1|\n",
      "|    2|  1| 54|                       6|           4|     1|               fever|     1|   1|       3|140| 90| 94| 20|381|        98|      3|   fever;unspecified|          2|          4|          1|              9246|              200|        1|\n",
      "|    2|  2| 49|                      11|           3|     1|with chest discom...|     1|   1|       3|110| 70| 70| 20|362|        98|      2|angina pectoris;u...|          1|          3|          2|               400|              300|        1|\n",
      "|    1|  2| 78|                      14|           3|     1|          pain;chest|     1|   1|       3|169| 86| 80| 20| 36|          |      2|acute coronary sy...|          1|          3|          2|               247|             1023|        1|\n",
      "|    1|  2| 32|                      10|           3|     1|   lbp-low back pain|     1|   1|       3|140| 75| 91| 20|366|          |      4|herniated disc di...|          1|          5|          4|                59|              323|        1|\n",
      "|    2|  1| 38|                       6|           3|     1|       eczema;eyelid|     1|   1|       3|130| 80| 80| 20|363|        97|      4|         ocular pain|          1|          5|          4|               185|              400|        1|\n",
      "+-----+---+---+------------------------+------------+------+--------------------+------+----+--------+---+---+---+---+---+----------+-------+--------------------+-----------+-----------+-----------+------------------+-----------------+---------+\n",
      "only showing top 10 rows\n",
      "\n"
     ]
    }
   ],
   "source": [
    "# rename some columns\n",
    "df = df.withColumnRenamed(\"Patients number per hour\", \"Patients_number_per_hour\") \\\n",
    "       .withColumnRenamed(\"Arrival mode\", \"Arrival_mode\") \\\n",
    "       .withColumnRenamed(\"Diagnosis in ED\", \"Diagnosis_in_ed\") \\\n",
    "       .withColumnRenamed(\"Length of stay_min\", \"Length_of_stay_min\") \\\n",
    "       .withColumnRenamed(\"KTAS duration_min\", \"KTAS_duration_min\")\n",
    "df.show(10)"
   ]
  },
  {
   "cell_type": "code",
   "execution_count": 32,
   "metadata": {},
   "outputs": [],
   "source": [
    "from pyspark.sql.types import IntegerType, BooleanType, DateType\n",
    "from pyspark.ml.feature import VectorAssembler\n",
    "from pyspark.sql.functions import col\n",
    "\n",
    "# change data type of some columns\n",
    "df_ints = df.withColumn(\"Age\", df.Age.cast(IntegerType())) \\\n",
    "            .withColumn(\"Patients_number_per_hour\", df.Patients_number_per_hour.cast(IntegerType())) \\\n",
    "            .withColumn(\"NRS_pain\", df.NRS_pain.cast(IntegerType())) \\\n",
    "            .withColumn(\"SBP\", df.SBP.cast(IntegerType())) \\\n",
    "            .withColumn(\"DBP\", df.DBP.cast(IntegerType())) \\\n",
    "            .withColumn(\"HR\", df.HR.cast(IntegerType())) \\\n",
    "            .withColumn(\"RR\", df.RR.cast(IntegerType())) \\\n",
    "            .withColumn(\"BT\", df.BT.cast(IntegerType())) \\\n",
    "            .withColumn(\"Saturation\", df.Saturation.cast(IntegerType())) \\\n",
    "            .withColumn(\"KTAS_RN\", df.KTAS_RN.cast(IntegerType())) \\\n",
    "            .withColumn(\"Length_of_stay_min\", df.Length_of_stay_min.cast(IntegerType())) \\\n",
    "            .withColumn(\"KTAS_duration_min\", df.KTAS_duration_min.cast(IntegerType())) \\\n",
    "            .withColumn(\"mistriage\", df.mistriage.cast(IntegerType()))\n",
    "            #.withColumn(\"Injury\", df.Injury.cast(IntegerType())) \\"
   ]
  },
  {
   "cell_type": "code",
   "execution_count": 33,
   "metadata": {},
   "outputs": [
    {
     "name": "stdout",
     "output_type": "stream",
     "text": [
      "+-----+---+---+------------------------+------------+------+------------------+------+----+--------+---+---+---+---+---+----------+-------+--------------------+-----------+-----------+-----------+------------------+-----------------+---------+\n",
      "|Group|Sex|Age|Patients_number_per_hour|Arrival_mode|Injury|    Chief_complain|Mental|Pain|NRS_pain|SBP|DBP| HR| RR| BT|Saturation|KTAS_RN|     Diagnosis_in_ed|Disposition|KTAS_expert|Error_group|Length_of_stay_min|KTAS_duration_min|mistriage|\n",
      "+-----+---+---+------------------------+------------+------+------------------+------+----+--------+---+---+---+---+---+----------+-------+--------------------+-----------+-----------+-----------+------------------+-----------------+---------+\n",
      "|    2|  2| 71|                       3|           3|     2| right ocular pain|     1|   1|       2|160|100| 84| 18|366|       100|      2|    corneal abrasion|          1|          4|          2|                86|              500|        1|\n",
      "|    1|  1| 56|                      12|           3|     2|right forearm burn|     1|   1|       2|137| 75| 60| 20|365|      null|      4|burn of hand;firt...|          1|          5|          4|                64|              395|        1|\n",
      "|    2|  1| 68|                       8|           2|     2|       arm pain;lt|     1|   1|       2|130| 80|102| 20|366|        98|      4|fracture of surgi...|          2|          5|          4|               862|              100|        1|\n",
      "|    1|  2| 71|                       8|           1|     1|   ascites tapping|     1|   1|       3|139| 94| 88| 20|365|      null|      4|alcoholic liver c...|          1|          5|          6|               108|              983|        1|\n",
      "|    1|  2| 58|                       4|           3|     1|    distension;abd|     1|   1|       3| 91| 67| 93| 18|365|      null|      4|             ascites|          1|          5|          8|               109|              660|        1|\n",
      "+-----+---+---+------------------------+------------+------+------------------+------+----+--------+---+---+---+---+---+----------+-------+--------------------+-----------+-----------+-----------+------------------+-----------------+---------+\n",
      "only showing top 5 rows\n",
      "\n"
     ]
    }
   ],
   "source": [
    "df_ints.show(5)"
   ]
  },
  {
   "cell_type": "code",
   "execution_count": 34,
   "metadata": {},
   "outputs": [
    {
     "name": "stdout",
     "output_type": "stream",
     "text": [
      "+-----+---+---+------------------------+------------+------+--------------+------+----+--------+---+---+---+---+---+----------+-------+---------------+-----------+-----------+-----------+------------------+-----------------+---------+\n",
      "|Group|Sex|Age|Patients_number_per_hour|Arrival_mode|Injury|Chief_complain|Mental|Pain|NRS_pain|SBP|DBP| HR| RR| BT|Saturation|KTAS_RN|Diagnosis_in_ed|Disposition|KTAS_expert|Error_group|Length_of_stay_min|KTAS_duration_min|mistriage|\n",
      "+-----+---+---+------------------------+------------+------+--------------+------+----+--------+---+---+---+---+---+----------+-------+---------------+-----------+-----------+-----------+------------------+-----------------+---------+\n",
      "|    0|  0|  0|                       0|           0|     0|             0|     0|   0|     556| 25| 29| 20| 22| 18|       697|      0|              0|          0|          0|          0|                 0|                0|        0|\n",
      "+-----+---+---+------------------------+------------+------+--------------+------+----+--------+---+---+---+---+---+----------+-------+---------------+-----------+-----------+-----------+------------------+-----------------+---------+\n",
      "\n"
     ]
    }
   ],
   "source": [
    "# drop columns where more than half the rows are missing\n",
    "from pyspark.sql.functions import isnan, when, count, col\n",
    "df_ints.select([count(when(col(c).isNull(), c)).alias(c) for c in df_ints.columns]).show()\n",
    "# based on these null counts, we should remove NRS_pain and Saturation"
   ]
  },
  {
   "cell_type": "code",
   "execution_count": 35,
   "metadata": {},
   "outputs": [
    {
     "name": "stdout",
     "output_type": "stream",
     "text": [
      "+-----+---+---+------------------------+------------+------+------------------+------+----+---+---+---+---+---+-------+--------------------+-----------+-----------+-----------+------------------+-----------------+---------+\n",
      "|Group|Sex|Age|Patients_number_per_hour|Arrival_mode|Injury|    Chief_complain|Mental|Pain|SBP|DBP| HR| RR| BT|KTAS_RN|     Diagnosis_in_ed|Disposition|KTAS_expert|Error_group|Length_of_stay_min|KTAS_duration_min|mistriage|\n",
      "+-----+---+---+------------------------+------------+------+------------------+------+----+---+---+---+---+---+-------+--------------------+-----------+-----------+-----------+------------------+-----------------+---------+\n",
      "|    2|  2| 71|                       3|           3|     2| right ocular pain|     1|   1|160|100| 84| 18|366|      2|    corneal abrasion|          1|          4|          2|                86|              500|        1|\n",
      "|    1|  1| 56|                      12|           3|     2|right forearm burn|     1|   1|137| 75| 60| 20|365|      4|burn of hand;firt...|          1|          5|          4|                64|              395|        1|\n",
      "|    2|  1| 68|                       8|           2|     2|       arm pain;lt|     1|   1|130| 80|102| 20|366|      4|fracture of surgi...|          2|          5|          4|               862|              100|        1|\n",
      "|    1|  2| 71|                       8|           1|     1|   ascites tapping|     1|   1|139| 94| 88| 20|365|      4|alcoholic liver c...|          1|          5|          6|               108|              983|        1|\n",
      "|    1|  2| 58|                       4|           3|     1|    distension;abd|     1|   1| 91| 67| 93| 18|365|      4|             ascites|          1|          5|          8|               109|              660|        1|\n",
      "+-----+---+---+------------------------+------------+------+------------------+------+----+---+---+---+---+---+-------+--------------------+-----------+-----------+-----------+------------------+-----------------+---------+\n",
      "only showing top 5 rows\n",
      "\n"
     ]
    }
   ],
   "source": [
    "# drop NRS_pain and Saturation columns\n",
    "df_dropped = df_ints.drop(\"NRS_pain\", \"Saturation\")\n",
    "df_dropped.show(5)"
   ]
  },
  {
   "cell_type": "code",
   "execution_count": 36,
   "metadata": {},
   "outputs": [],
   "source": [
    "import seaborn as sns\n",
    "import matplotlib.pyplot as plt\n",
    "\n",
    "df_dropped_pandas = df_dropped.toPandas()"
   ]
  },
  {
   "cell_type": "code",
   "execution_count": 37,
   "metadata": {},
   "outputs": [
    {
     "data": {
      "image/png": "[encoded data removed]",
      "text/plain": [
       "<Figure size 640x480 with 1 Axes>"
      ]
     },
     "metadata": {},
     "output_type": "display_data"
    }
   ],
   "source": [
    "# RR\n",
    "sns.set_style(\"whitegrid\")\n",
    "ax = sns.boxplot(x = df_dropped_pandas[\"mistriage\"], y = df_dropped_pandas[\"RR\"])\n",
    "ax = sns.stripplot(x = df_dropped_pandas['mistriage'], y = df_dropped_pandas['RR'])\n",
    "plt.title(\"Mistriage by RR\")\n",
    "plt.xlabel(\"Mistriage Label\")\n",
    "plt.show()"
   ]
  },
  {
   "cell_type": "code",
   "execution_count": 38,
   "metadata": {},
   "outputs": [
    {
     "data": {
      "image/png": "[encoded data removed]",
      "text/plain": [
       "<Figure size 640x480 with 1 Axes>"
      ]
     },
     "metadata": {},
     "output_type": "display_data"
    }
   ],
   "source": [
    "# SBP\n",
    "sns.set_style(\"whitegrid\")\n",
    "ax = sns.boxplot(x = df_dropped_pandas[\"mistriage\"], y = df_dropped_pandas[\"SBP\"])\n",
    "ax = sns.stripplot(x = df_dropped_pandas[\"mistriage\"], y = df_dropped_pandas[\"SBP\"])\n",
    "plt.title(\"Mistriage by SBP\")\n",
    "plt.xlabel(\"Mistriage Label\")\n",
    "plt.show()"
   ]
  },
  {
   "cell_type": "code",
   "execution_count": 39,
   "metadata": {},
   "outputs": [
    {
     "data": {
      "image/png": "[encoded data removed]",
      "text/plain": [
       "<Figure size 640x480 with 1 Axes>"
      ]
     },
     "metadata": {},
     "output_type": "display_data"
    }
   ],
   "source": [
    "# DBP\n",
    "sns.set_style(\"whitegrid\")\n",
    "ax = sns.boxplot(x = df_dropped_pandas[\"mistriage\"], y = df_dropped_pandas[\"DBP\"])\n",
    "ax = sns.stripplot(x = df_dropped_pandas[\"mistriage\"], y = df_dropped_pandas[\"DBP\"])\n",
    "plt.title(\"Mistriage by DBP\")\n",
    "plt.xlabel(\"Mistriage Label\")\n",
    "plt.show()"
   ]
  },
  {
   "cell_type": "code",
   "execution_count": 40,
   "metadata": {},
   "outputs": [
    {
     "data": {
      "image/png": "[encoded data removed]",
      "text/plain": [
       "<Figure size 640x480 with 1 Axes>"
      ]
     },
     "metadata": {},
     "output_type": "display_data"
    }
   ],
   "source": [
    "# HR\n",
    "sns.set_style(\"whitegrid\")\n",
    "ax = sns.boxplot(x = df_dropped_pandas[\"mistriage\"], y = df_dropped_pandas[\"HR\"])\n",
    "ax = sns.stripplot(x = df_dropped_pandas[\"mistriage\"], y = df_dropped_pandas[\"HR\"])\n",
    "plt.title(\"Mistriage by HR\")\n",
    "plt.xlabel(\"Mistriage Label\")\n",
    "plt.show()"
   ]
  },
  {
   "cell_type": "code",
   "execution_count": 41,
   "metadata": {},
   "outputs": [
    {
     "data": {
      "image/png": "[encoded data removed]",
      "text/plain": [
       "<Figure size 640x480 with 1 Axes>"
      ]
     },
     "metadata": {},
     "output_type": "display_data"
    }
   ],
   "source": [
    "# BT\n",
    "sns.set_style(\"whitegrid\")\n",
    "ax = sns.boxplot(x = df_dropped_pandas[\"mistriage\"], y = df_dropped_pandas[\"BT\"])\n",
    "ax = sns.stripplot(x = df_dropped_pandas[\"mistriage\"], y = df_dropped_pandas[\"BT\"])\n",
    "plt.title(\"Mistriage by BT\")\n",
    "plt.xlabel(\"Mistriage Label\")\n",
    "plt.show()"
   ]
  },
  {
   "cell_type": "code",
   "execution_count": 42,
   "metadata": {},
   "outputs": [
    {
     "name": "stdout",
     "output_type": "stream",
     "text": [
      "+-----+---+---+------------------------+------------+------+--------------+------+----+-------+---------------+-----------+-----------+-----------+------------------+-----------------+---------+----------+-----------+-----------+----------+----------+\n",
      "|Group|Sex|Age|Patients_number_per_hour|Arrival_mode|Injury|Chief_complain|Mental|Pain|KTAS_RN|Diagnosis_in_ed|Disposition|KTAS_expert|Error_group|Length_of_stay_min|KTAS_duration_min|mistriage|RR_imputed|SBP_imputed|DBP_imputed|HR_imputed|BT_imputed|\n",
      "+-----+---+---+------------------------+------------+------+--------------+------+----+-------+---------------+-----------+-----------+-----------+------------------+-----------------+---------+----------+-----------+-----------+----------+----------+\n",
      "|    0|  0|  0|                       0|           0|     0|             0|     0|   0|      0|              0|          0|          0|          0|                 0|                0|        0|         0|          0|          0|         0|         0|\n",
      "+-----+---+---+------------------------+------------+------+--------------+------+----+-------+---------------+-----------+-----------+-----------+------------------+-----------------+---------+----------+-----------+-----------+----------+----------+\n",
      "\n"
     ]
    }
   ],
   "source": [
    "# replace null values with the mean of that respective column (mean imputation)\n",
    "from pyspark.ml.feature import Imputer\n",
    "impute_cols = [\"RR\", \"SBP\", \"DBP\", \"HR\", \"BT\"]\n",
    "\n",
    "imputer = Imputer(\n",
    "    inputCols = impute_cols, \n",
    "    outputCols = [\"{}_imputed\".format(c) for c in impute_cols],\n",
    "    strategy = \"mean\")\n",
    "df_imputed = imputer.fit(df_dropped).transform(df_dropped).drop(\"RR\", \"SBP\", \"DBP\", \"HR\", \"BT\")\n",
    "\n",
    "df_imputed.select([count(when(col(c).isNull(), c)).alias(c) for c in df_imputed.columns]).show()"
   ]
  },
  {
   "cell_type": "code",
   "execution_count": 43,
   "metadata": {},
   "outputs": [],
   "source": [
    "# drop columns that would not be available at the time of triage assessment\n",
    "df_imputed = df_imputed.drop(\"KTAS_expert\", \"Error_group\")"
   ]
  },
  {
   "cell_type": "code",
   "execution_count": 99,
   "metadata": {},
   "outputs": [
    {
     "data": {
      "text/plain": [
       "['Group',\n",
       " 'Sex',\n",
       " 'Age',\n",
       " 'Patients_number_per_hour',\n",
       " 'Arrival_mode',\n",
       " 'Injury',\n",
       " 'Chief_complain',\n",
       " 'Mental',\n",
       " 'Pain',\n",
       " 'KTAS_RN',\n",
       " 'Diagnosis_in_ed',\n",
       " 'Disposition',\n",
       " 'Length_of_stay_min',\n",
       " 'KTAS_duration_min',\n",
       " 'mistriage',\n",
       " 'RR_imputed',\n",
       " 'SBP_imputed',\n",
       " 'DBP_imputed',\n",
       " 'HR_imputed',\n",
       " 'BT_imputed']"
      ]
     },
     "execution_count": 99,
     "metadata": {},
     "output_type": "execute_result"
    }
   ],
   "source": [
    "df_imputed.columns"
   ]
  },
  {
   "cell_type": "markdown",
   "metadata": {},
   "source": [
    "## Additional Text Features Preprocessing"
   ]
  },
  {
   "cell_type": "code",
   "execution_count": 44,
   "metadata": {},
   "outputs": [
    {
     "name": "stdout",
     "output_type": "stream",
     "text": [
      "+---------------------------------------------------------------------------+\n",
      "|CC_Diagnosis                                                               |\n",
      "+---------------------------------------------------------------------------+\n",
      "|right ocular pain corneal abrasion                                         |\n",
      "|right forearm burn burn of hand;firts degree dorsum                        |\n",
      "|arm pain;lt fracture of surgical neck of humerus;closed                    |\n",
      "|ascites tapping alcoholic liver cirrhosis with ascites                     |\n",
      "|distension;abd ascites                                                     |\n",
      "|fever fever;unspecified                                                    |\n",
      "|with chest discomfort angina pectoris;unspecified                          |\n",
      "|pain;chest acute coronary syndrome                                         |\n",
      "|lbp-low back pain herniated disc disease of lumbar spine with radiculopathy|\n",
      "|eczema;eyelid ocular pain                                                  |\n",
      "|acute epigastric pain acute gastritis                                      |\n",
      "|pain;leg gout site unspecified                                             |\n",
      "|epigastric pain infectious or septic colitis                               |\n",
      "|abd pain acute peritonitis                                                 |\n",
      "|headache infective endocarditis                                            |\n",
      "+---------------------------------------------------------------------------+\n",
      "only showing top 15 rows\n",
      "\n"
     ]
    }
   ],
   "source": [
    "from pyspark.sql.functions import concat_ws\n",
    "df_combined = df_imputed.withColumn(\"CC_Diagnosis\", concat_ws(\" \", df.Chief_complain, df.Diagnosis_in_ed))\n",
    "df_combined.select(\"CC_Diagnosis\").show(15, truncate = False)"
   ]
  },
  {
   "cell_type": "code",
   "execution_count": 45,
   "metadata": {},
   "outputs": [
    {
     "name": "stdout",
     "output_type": "stream",
     "text": [
      "+-----+---+---+------------------------+------------+------+------------------+------+----+-------+--------------------+-----------+------------------+-----------------+---------+----------+-----------+-----------+----------+----------+--------------------+\n",
      "|Group|Sex|Age|Patients_number_per_hour|Arrival_mode|Injury|    Chief_complain|Mental|Pain|KTAS_RN|     Diagnosis_in_ed|Disposition|Length_of_stay_min|KTAS_duration_min|mistriage|RR_imputed|SBP_imputed|DBP_imputed|HR_imputed|BT_imputed|        CC_Diagnosis|\n",
      "+-----+---+---+------------------------+------------+------+------------------+------+----+-------+--------------------+-----------+------------------+-----------------+---------+----------+-----------+-----------+----------+----------+--------------------+\n",
      "|    2|  2| 71|                       3|           3|     2| right ocular pain|     1|   1|      2|    corneal abrasion|          1|                86|              500|        1|        18|        160|        100|        84|       366|right ocular pain...|\n",
      "|    1|  1| 56|                      12|           3|     2|right forearm burn|     1|   1|      4|burn of hand;firt...|          1|                64|              395|        1|        20|        137|         75|        60|       365|right forearm bur...|\n",
      "|    2|  1| 68|                       8|           2|     2|       arm pain;lt|     1|   1|      4|fracture of surgi...|          2|               862|              100|        1|        20|        130|         80|       102|       366|arm pain;lt fract...|\n",
      "|    1|  2| 71|                       8|           1|     1|   ascites tapping|     1|   1|      4|alcoholic liver c...|          1|               108|              983|        1|        20|        139|         94|        88|       365|ascites tapping a...|\n",
      "|    1|  2| 58|                       4|           3|     1|    distension;abd|     1|   1|      4|             ascites|          1|               109|              660|        1|        18|         91|         67|        93|       365|distension;abd as...|\n",
      "+-----+---+---+------------------------+------------+------+------------------+------+----+-------+--------------------+-----------+------------------+-----------------+---------+----------+-----------+-----------+----------+----------+--------------------+\n",
      "only showing top 5 rows\n",
      "\n"
     ]
    }
   ],
   "source": [
    "df_combined.show(5)"
   ]
  },
  {
   "cell_type": "code",
   "execution_count": 46,
   "metadata": {},
   "outputs": [
    {
     "name": "stdout",
     "output_type": "stream",
     "text": [
      "+---------------------------------------------------------------------------+\n",
      "|CC_Diagnosis                                                               |\n",
      "+---------------------------------------------------------------------------+\n",
      "|right ocular pain corneal abrasion                                         |\n",
      "|right forearm burn burn of hand firts degree dorsum                        |\n",
      "|arm pain lt fracture of surgical neck of humerus closed                    |\n",
      "|ascites tapping alcoholic liver cirrhosis with ascites                     |\n",
      "|distension abd ascites                                                     |\n",
      "|fever fever unspecified                                                    |\n",
      "|with chest discomfort angina pectoris unspecified                          |\n",
      "|pain chest acute coronary syndrome                                         |\n",
      "|lbp low back pain herniated disc disease of lumbar spine with radiculopathy|\n",
      "|eczema eyelid ocular pain                                                  |\n",
      "|acute epigastric pain acute gastritis                                      |\n",
      "|pain leg gout site unspecified                                             |\n",
      "|epigastric pain infectious or septic colitis                               |\n",
      "|abd pain acute peritonitis                                                 |\n",
      "|headache infective endocarditis                                            |\n",
      "|headache subarachnoid haemorrhage unspecified                              |\n",
      "|acute gastroenteritis                                                      |\n",
      "|open wound open wound of other parts of head face                          |\n",
      "|ruq pain hepatitis nos                                                     |\n",
      "|gingival swelling odontogenic infection                                    |\n",
      "|chin pain closed fracture of humerus nos                                   |\n",
      "|finger injury dislocation of finger                                        |\n",
      "|skin rash anaphylaxis                                                      |\n",
      "|rt side motor weakness intracranial haemorrhage nontraumatic unspecified   |\n",
      "|lt hip joint pain fracture of femur intertrochanter closed                 |\n",
      "+---------------------------------------------------------------------------+\n",
      "only showing top 25 rows\n",
      "\n"
     ]
    }
   ],
   "source": [
    "from pyspark.sql.functions import regexp_replace, trim\n",
    "df_combined = df_combined.withColumn(\"CC_Diagnosis\", trim(regexp_replace(\"CC_Diagnosis\", \";|-\", \" \")))\n",
    "df_combined.select(\"CC_Diagnosis\").show(25, truncate = False)"
   ]
  },
  {
   "cell_type": "code",
   "execution_count": 47,
   "metadata": {},
   "outputs": [
    {
     "name": "stdout",
     "output_type": "stream",
     "text": [
      "+----------------------------------------------------------------------------------------+\n",
      "|words                                                                                   |\n",
      "+----------------------------------------------------------------------------------------+\n",
      "|[right, ocular, pain, corneal, abrasion]                                                |\n",
      "|[right, forearm, burn, burn, of, hand, firts, degree, dorsum]                           |\n",
      "|[arm, pain, lt, fracture, of, surgical, neck, of, humerus, closed]                      |\n",
      "|[ascites, tapping, alcoholic, liver, cirrhosis, with, ascites]                          |\n",
      "|[distension, abd, ascites]                                                              |\n",
      "|[fever, fever, unspecified]                                                             |\n",
      "|[with, chest, discomfort, angina, pectoris, unspecified]                                |\n",
      "|[pain, chest, acute, coronary, syndrome]                                                |\n",
      "|[lbp, low, back, pain, herniated, disc, disease, of, lumbar, spine, with, radiculopathy]|\n",
      "|[eczema, eyelid, ocular, pain]                                                          |\n",
      "|[acute, epigastric, pain, acute, gastritis]                                             |\n",
      "|[pain, leg, gout, site, unspecified]                                                    |\n",
      "|[epigastric, pain, infectious, or, septic, colitis]                                     |\n",
      "|[abd, pain, acute, peritonitis]                                                         |\n",
      "|[headache, infective, endocarditis]                                                     |\n",
      "+----------------------------------------------------------------------------------------+\n",
      "only showing top 15 rows\n",
      "\n"
     ]
    }
   ],
   "source": [
    "from pyspark.ml.feature import Tokenizer\n",
    "tokenizer = Tokenizer(inputCol = \"CC_Diagnosis\", outputCol = \"words\")\n",
    "cc_diagnosis_features = tokenizer.transform(df_combined)\n",
    "cc_diagnosis_features.select(\"words\").show(15, truncate = False)"
   ]
  },
  {
   "cell_type": "code",
   "execution_count": 48,
   "metadata": {},
   "outputs": [
    {
     "name": "stdout",
     "output_type": "stream",
     "text": [
      "+------------------------------------------------------------------------------+\n",
      "|filtered                                                                      |\n",
      "+------------------------------------------------------------------------------+\n",
      "|[right, ocular, pain, corneal, abrasion]                                      |\n",
      "|[right, forearm, burn, burn, hand, firts, degree, dorsum]                     |\n",
      "|[arm, pain, lt, fracture, surgical, neck, humerus, closed]                    |\n",
      "|[ascites, tapping, alcoholic, liver, cirrhosis, ascites]                      |\n",
      "|[distension, abd, ascites]                                                    |\n",
      "|[fever, fever, unspecified]                                                   |\n",
      "|[chest, discomfort, angina, pectoris, unspecified]                            |\n",
      "|[pain, chest, acute, coronary, syndrome]                                      |\n",
      "|[lbp, low, back, pain, herniated, disc, disease, lumbar, spine, radiculopathy]|\n",
      "|[eczema, eyelid, ocular, pain]                                                |\n",
      "|[acute, epigastric, pain, acute, gastritis]                                   |\n",
      "|[pain, leg, gout, site, unspecified]                                          |\n",
      "|[epigastric, pain, infectious, septic, colitis]                               |\n",
      "|[abd, pain, acute, peritonitis]                                               |\n",
      "|[headache, infective, endocarditis]                                           |\n",
      "+------------------------------------------------------------------------------+\n",
      "only showing top 15 rows\n",
      "\n"
     ]
    }
   ],
   "source": [
    "from pyspark.ml.feature import StopWordsRemover\n",
    "remover = StopWordsRemover(inputCol = \"words\", outputCol = \"filtered\")\n",
    "removedData = remover.transform(cc_diagnosis_features)\n",
    "removedData.select(\"filtered\").show(15, truncate = False)"
   ]
  },
  {
   "cell_type": "markdown",
   "metadata": {},
   "source": [
    "## Data Splitting"
   ]
  },
  {
   "cell_type": "code",
   "execution_count": 55,
   "metadata": {},
   "outputs": [
    {
     "name": "stdout",
     "output_type": "stream",
     "text": [
      "+-----+---+---+------------------------+------------+------+------------------------+------+----+-------+------------------------+-----------+------------------+-----------------+---------+----------+-----------+-----------+----------+----------+----------------------------------------------+-----------------------------------------------------+-------------------------------------------------+\n",
      "|Group|Sex|Age|Patients_number_per_hour|Arrival_mode|Injury|Chief_complain          |Mental|Pain|KTAS_RN|Diagnosis_in_ed         |Disposition|Length_of_stay_min|KTAS_duration_min|mistriage|RR_imputed|SBP_imputed|DBP_imputed|HR_imputed|BT_imputed|CC_Diagnosis                                  |words                                                |filtered                                         |\n",
      "+-----+---+---+------------------------+------------+------+------------------------+------+----+-------+------------------------+-----------+------------------+-----------------+---------+----------+-----------+-----------+----------+----------+----------------------------------------------+-----------------------------------------------------+-------------------------------------------------+\n",
      "|1    |1  |17 |8                       |3           |1     |abd pain                |1     |1   |3      |abdominal pain          |1          |168               |825              |0        |16        |141        |75         |84        |37        |abd pain abdominal pain                       |[abd, pain, abdominal, pain]                         |[abd, pain, abdominal, pain]                     |\n",
      "|1    |1  |18 |4                       |3           |1     |abd pain                |1     |1   |4      |abdomen pain;generalized|1          |180               |332              |0        |20        |136        |90         |98        |37        |abd pain abdomen pain generalized             |[abd, pain, abdomen, pain, generalized]              |[abd, pain, abdomen, pain, generalized]          |\n",
      "|1    |1  |18 |7                       |3           |2     |right forearm laceration|1     |1   |4      |laceration of forearm   |1          |36                |385              |0        |18        |120        |84         |88        |368       |right forearm laceration laceration of forearm|[right, forearm, laceration, laceration, of, forearm]|[right, forearm, laceration, laceration, forearm]|\n",
      "|1    |1  |19 |7                       |3           |2     |ankle injury            |1     |1   |4      |injury of ankle         |1          |73                |420              |0        |20        |154        |70         |75        |36        |ankle injury injury of ankle                  |[ankle, injury, injury, of, ankle]                   |[ankle, injury, injury, ankle]                   |\n",
      "|1    |1  |19 |11                      |2           |1     |                        |1     |0   |2      |acute gastritis         |1          |108               |1460             |1        |16        |116        |77         |64        |369       |acute gastritis                               |[acute, gastritis]                                   |[acute, gastritis]                               |\n",
      "+-----+---+---+------------------------+------------+------+------------------------+------+----+-------+------------------------+-----------+------------------+-----------------+---------+----------+-----------+-----------+----------+----------+----------------------------------------------+-----------------------------------------------------+-------------------------------------------------+\n",
      "only showing top 5 rows\n",
      "\n"
     ]
    }
   ],
   "source": [
    "trainingData, testData = removedData.randomSplit([0.8, 0.2], seed = 123)\n",
    "trainingData.show(5, truncate = False)"
   ]
  },
  {
   "cell_type": "code",
   "execution_count": 56,
   "metadata": {},
   "outputs": [],
   "source": [
    "from pyspark.ml.feature import Word2Vec\n",
    "word2Vec = Word2Vec(vectorSize=10, minCount=0, inputCol=\"filtered\", outputCol=\"wordFeatures\")\n",
    "model = word2Vec.fit(trainingData)\n",
    "w2v_trainDF = model.transform(trainingData)"
   ]
  },
  {
   "cell_type": "code",
   "execution_count": 57,
   "metadata": {},
   "outputs": [
    {
     "name": "stdout",
     "output_type": "stream",
     "text": [
      "+--------------------------------------------------------------------------------------------------------------------------------------------------------------------------------------------------------------------+\n",
      "|wordFeatures                                                                                                                                                                                                        |\n",
      "+--------------------------------------------------------------------------------------------------------------------------------------------------------------------------------------------------------------------+\n",
      "|[-0.27336197905242443,0.07076343055814505,-0.339903075248003,-0.3043283922597766,-0.46225789876189083,0.275985648855567,-0.14688282134011388,-0.32666217908263206,0.04025176167488098,-0.6648984253406525]          |\n",
      "|[-0.22215702012181282,0.03952406719326973,-0.2722817474976182,-0.2434883587062359,-0.3647426226176322,0.22402934208512307,-0.0849304024130106,-0.21282538957893848,0.04847550541162491,-0.5129803076386452]         |\n",
      "|[-0.0747691035270691,0.06725764125585557,0.006971150636672974,0.012829265091568232,0.14607836306095123,-0.080727156996727,-0.0998243808746338,-0.06368340700864793,-0.11328181922435761,-0.05322215557098389]       |\n",
      "|[-0.06386979180388153,0.06161251664161682,0.033937038853764534,-0.017020581290125847,0.006332185119390488,-0.04554416332393885,-0.044945680536329746,-0.10477737709879875,-0.09983203560113907,-0.08649225160479546]|\n",
      "|[0.039771489799022675,0.001969396136701107,-0.10100235510617495,-0.05922646448016167,-0.10656394623219967,-0.026467187330126762,-0.018398890271782875,-0.06759138777852058,0.04900755453854799,-0.10072152223438025]|\n",
      "+--------------------------------------------------------------------------------------------------------------------------------------------------------------------------------------------------------------------+\n",
      "only showing top 5 rows\n",
      "\n"
     ]
    }
   ],
   "source": [
    "w2v_trainDF.select(\"wordFeatures\").show(5, truncate = False)"
   ]
  },
  {
   "cell_type": "code",
   "execution_count": 58,
   "metadata": {},
   "outputs": [],
   "source": [
    "final_cols = [c for c in w2v_trainDF.columns if c in df_imputed.columns or c == \"wordFeatures\"]"
   ]
  },
  {
   "cell_type": "code",
   "execution_count": 59,
   "metadata": {},
   "outputs": [
    {
     "name": "stdout",
     "output_type": "stream",
     "text": [
      "+-----+---+---+------------------------+------------+------+------------------------+------+----+-------+------------------------+-----------+------------------+-----------------+---------+----------+-----------+-----------+----------+----------+--------------------------------------------------------------------------------------------------------------------------------------------------------------------------------------------------------------------+\n",
      "|Group|Sex|Age|Patients_number_per_hour|Arrival_mode|Injury|Chief_complain          |Mental|Pain|KTAS_RN|Diagnosis_in_ed         |Disposition|Length_of_stay_min|KTAS_duration_min|mistriage|RR_imputed|SBP_imputed|DBP_imputed|HR_imputed|BT_imputed|wordFeatures                                                                                                                                                                                                        |\n",
      "+-----+---+---+------------------------+------------+------+------------------------+------+----+-------+------------------------+-----------+------------------+-----------------+---------+----------+-----------+-----------+----------+----------+--------------------------------------------------------------------------------------------------------------------------------------------------------------------------------------------------------------------+\n",
      "|1    |1  |17 |8                       |3           |1     |abd pain                |1     |1   |3      |abdominal pain          |1          |168               |825              |0        |16        |141        |75         |84        |37        |[-0.27336197905242443,0.07076343055814505,-0.339903075248003,-0.3043283922597766,-0.46225789876189083,0.275985648855567,-0.14688282134011388,-0.32666217908263206,0.04025176167488098,-0.6648984253406525]          |\n",
      "|1    |1  |18 |4                       |3           |1     |abd pain                |1     |1   |4      |abdomen pain;generalized|1          |180               |332              |0        |20        |136        |90         |98        |37        |[-0.22215702012181282,0.03952406719326973,-0.2722817474976182,-0.2434883587062359,-0.3647426226176322,0.22402934208512307,-0.0849304024130106,-0.21282538957893848,0.04847550541162491,-0.5129803076386452]         |\n",
      "|1    |1  |18 |7                       |3           |2     |right forearm laceration|1     |1   |4      |laceration of forearm   |1          |36                |385              |0        |18        |120        |84         |88        |368       |[-0.0747691035270691,0.06725764125585557,0.006971150636672974,0.012829265091568232,0.14607836306095123,-0.080727156996727,-0.0998243808746338,-0.06368340700864793,-0.11328181922435761,-0.05322215557098389]       |\n",
      "|1    |1  |19 |7                       |3           |2     |ankle injury            |1     |1   |4      |injury of ankle         |1          |73                |420              |0        |20        |154        |70         |75        |36        |[-0.06386979180388153,0.06161251664161682,0.033937038853764534,-0.017020581290125847,0.006332185119390488,-0.04554416332393885,-0.044945680536329746,-0.10477737709879875,-0.09983203560113907,-0.08649225160479546]|\n",
      "|1    |1  |19 |11                      |2           |1     |                        |1     |0   |2      |acute gastritis         |1          |108               |1460             |1        |16        |116        |77         |64        |369       |[0.039771489799022675,0.001969396136701107,-0.10100235510617495,-0.05922646448016167,-0.10656394623219967,-0.026467187330126762,-0.018398890271782875,-0.06759138777852058,0.04900755453854799,-0.10072152223438025]|\n",
      "+-----+---+---+------------------------+------------+------+------------------------+------+----+-------+------------------------+-----------+------------------+-----------------+---------+----------+-----------+-----------+----------+----------+--------------------------------------------------------------------------------------------------------------------------------------------------------------------------------------------------------------------+\n",
      "only showing top 5 rows\n",
      "\n"
     ]
    }
   ],
   "source": [
    "final_train_df = w2v_trainDF.select(final_cols)\n",
    "final_train_df.cache()\n",
    "final_train_df.show(5, truncate = False)"
   ]
  },
  {
   "cell_type": "code",
   "execution_count": 60,
   "metadata": {},
   "outputs": [],
   "source": [
    "word2Vec = Word2Vec(vectorSize=10, minCount=0, inputCol=\"filtered\", outputCol=\"wordFeatures\")\n",
    "model = word2Vec.fit(testData)\n",
    "w2v_testDF = model.transform(testData)"
   ]
  },
  {
   "cell_type": "code",
   "execution_count": 61,
   "metadata": {},
   "outputs": [
    {
     "name": "stdout",
     "output_type": "stream",
     "text": [
      "+-----+---+---+------------------------+------------+------+-------------------+------+----+-------+---------------------+-----------+------------------+-----------------+---------+----------+-----------+-----------+----------+----------+-------------------------------------+-------------------------------------------+------------------------------------------+-----------------------------------------------------------------------------------------------------------------------------------------------------------------------------------------------------------------------+\n",
      "|Group|Sex|Age|Patients_number_per_hour|Arrival_mode|Injury|Chief_complain     |Mental|Pain|KTAS_RN|Diagnosis_in_ed      |Disposition|Length_of_stay_min|KTAS_duration_min|mistriage|RR_imputed|SBP_imputed|DBP_imputed|HR_imputed|BT_imputed|CC_Diagnosis                         |words                                      |filtered                                  |wordFeatures                                                                                                                                                                                                           |\n",
      "+-----+---+---+------------------------+------------+------+-------------------+------+----+-------+---------------------+-----------+------------------+-----------------+---------+----------+-----------+-----------+----------+----------+-------------------------------------+-------------------------------------------+------------------------------------------+-----------------------------------------------------------------------------------------------------------------------------------------------------------------------------------------------------------------------+\n",
      "|1    |1  |18 |5                       |3           |1     |hand tingling sense|1     |1   |5      |injury of finger     |1          |112               |510              |0        |18        |194        |101        |79        |368       |hand tingling sense injury of finger |[hand, tingling, sense, injury, of, finger]|[hand, tingling, sense, injury, finger]   |[-0.023322637379169467,0.02080552401021123,0.0017564866691827776,-0.018274209275841714,0.006753770844079555,-0.0081805435474962,0.006220577284693718,-0.012713627889752388,-0.02852386347949505,-0.03100003227591515]  |\n",
      "|1    |1  |20 |5                       |3           |1     |abd pain           |1     |1   |4      |acute gastroenteritis|1          |144               |800              |0        |18        |120        |70         |105       |363       |abd pain acute gastroenteritis       |[abd, pain, acute, gastroenteritis]        |[abd, pain, acute, gastroenteritis]       |[-0.022398551926016808,0.014568082289770246,-0.0231971126049757,0.03539235796779394,-0.007066603982821107,5.462421104311943E-4,0.012371613644063473,-0.02463534803246148,-0.011166617507115006,-0.02541503799147904]   |\n",
      "|1    |1  |22 |10                      |1           |1     |abd pain           |1     |1   |4      |colitis              |2          |276               |1178             |0        |20        |140        |92         |109       |372       |abd pain colitis                     |[abd, pain, colitis]                       |[abd, pain, colitis]                      |[-0.04100646389027436,0.020914136121670403,-0.026758684466282524,0.023499616732199986,-0.014026698035498459,0.03859216098984082,0.012987728463485837,-0.008249015120478967,0.01247439378251632,-0.027657163329422474]  |\n",
      "|1    |1  |22 |12                      |3           |1     |vaginal bleeding   |1     |1   |3      |vaginal bleeding     |2          |370               |1243             |0        |20        |114        |79         |119       |371       |vaginal bleeding vaginal bleeding    |[vaginal, bleeding, vaginal, bleeding]     |[vaginal, bleeding, vaginal, bleeding]    |[0.009660548530519009,-0.004800883587449789,0.009525700006633997,-0.002955188974738121,-0.03702050633728504,-0.01174292154610157,-0.0253657978028059,-0.0037770867347717285,-0.03928493522107601,0.0010187812149524689]|\n",
      "|1    |1  |23 |7                       |3           |1     |epigastric pain    |1     |1   |4      |acute gastroenteritis|1          |78                |1488             |0        |18        |115        |70         |95        |367       |epigastric pain acute gastroenteritis|[epigastric, pain, acute, gastroenteritis] |[epigastric, pain, acute, gastroenteritis]|[-0.01638114731758833,-0.0055305992718786,-0.023434460803400725,0.027215511072427034,-0.0209993754979223,-0.005129621597006917,6.742868572473526E-5,-0.031770705740200356,-0.02225674083456397,-0.018874879693612456]  |\n",
      "+-----+---+---+------------------------+------------+------+-------------------+------+----+-------+---------------------+-----------+------------------+-----------------+---------+----------+-----------+-----------+----------+----------+-------------------------------------+-------------------------------------------+------------------------------------------+-----------------------------------------------------------------------------------------------------------------------------------------------------------------------------------------------------------------------+\n",
      "only showing top 5 rows\n",
      "\n"
     ]
    }
   ],
   "source": [
    "w2v_testDF.show(5, truncate = False)"
   ]
  },
  {
   "cell_type": "code",
   "execution_count": 62,
   "metadata": {},
   "outputs": [],
   "source": [
    "final_cols_test = [c for c in w2v_testDF.columns if c in df_imputed.columns or c == \"wordFeatures\"]"
   ]
  },
  {
   "cell_type": "code",
   "execution_count": 63,
   "metadata": {},
   "outputs": [
    {
     "name": "stdout",
     "output_type": "stream",
     "text": [
      "+-----+---+---+------------------------+------------+------+-------------------+------+----+-------+---------------------+-----------+------------------+-----------------+---------+----------+-----------+-----------+----------+----------+-----------------------------------------------------------------------------------------------------------------------------------------------------------------------------------------------------------------------+\n",
      "|Group|Sex|Age|Patients_number_per_hour|Arrival_mode|Injury|Chief_complain     |Mental|Pain|KTAS_RN|Diagnosis_in_ed      |Disposition|Length_of_stay_min|KTAS_duration_min|mistriage|RR_imputed|SBP_imputed|DBP_imputed|HR_imputed|BT_imputed|wordFeatures                                                                                                                                                                                                           |\n",
      "+-----+---+---+------------------------+------------+------+-------------------+------+----+-------+---------------------+-----------+------------------+-----------------+---------+----------+-----------+-----------+----------+----------+-----------------------------------------------------------------------------------------------------------------------------------------------------------------------------------------------------------------------+\n",
      "|1    |1  |18 |5                       |3           |1     |hand tingling sense|1     |1   |5      |injury of finger     |1          |112               |510              |0        |18        |194        |101        |79        |368       |[-0.023322637379169467,0.02080552401021123,0.0017564866691827776,-0.018274209275841714,0.006753770844079555,-0.0081805435474962,0.006220577284693718,-0.012713627889752388,-0.02852386347949505,-0.03100003227591515]  |\n",
      "|1    |1  |20 |5                       |3           |1     |abd pain           |1     |1   |4      |acute gastroenteritis|1          |144               |800              |0        |18        |120        |70         |105       |363       |[-0.022398551926016808,0.014568082289770246,-0.0231971126049757,0.03539235796779394,-0.007066603982821107,5.462421104311943E-4,0.012371613644063473,-0.02463534803246148,-0.011166617507115006,-0.02541503799147904]   |\n",
      "|1    |1  |22 |10                      |1           |1     |abd pain           |1     |1   |4      |colitis              |2          |276               |1178             |0        |20        |140        |92         |109       |372       |[-0.04100646389027436,0.020914136121670403,-0.026758684466282524,0.023499616732199986,-0.014026698035498459,0.03859216098984082,0.012987728463485837,-0.008249015120478967,0.01247439378251632,-0.027657163329422474]  |\n",
      "|1    |1  |22 |12                      |3           |1     |vaginal bleeding   |1     |1   |3      |vaginal bleeding     |2          |370               |1243             |0        |20        |114        |79         |119       |371       |[0.009660548530519009,-0.004800883587449789,0.009525700006633997,-0.002955188974738121,-0.03702050633728504,-0.01174292154610157,-0.0253657978028059,-0.0037770867347717285,-0.03928493522107601,0.0010187812149524689]|\n",
      "|1    |1  |23 |7                       |3           |1     |epigastric pain    |1     |1   |4      |acute gastroenteritis|1          |78                |1488             |0        |18        |115        |70         |95        |367       |[-0.01638114731758833,-0.0055305992718786,-0.023434460803400725,0.027215511072427034,-0.0209993754979223,-0.005129621597006917,6.742868572473526E-5,-0.031770705740200356,-0.02225674083456397,-0.018874879693612456]  |\n",
      "+-----+---+---+------------------------+------------+------+-------------------+------+----+-------+---------------------+-----------+------------------+-----------------+---------+----------+-----------+-----------+----------+----------+-----------------------------------------------------------------------------------------------------------------------------------------------------------------------------------------------------------------------+\n",
      "only showing top 5 rows\n",
      "\n"
     ]
    }
   ],
   "source": [
    "final_test_df = w2v_testDF.select(final_cols_test)\n",
    "final_test_df.cache()\n",
    "final_test_df.show(5, truncate = False)"
   ]
  },
  {
   "cell_type": "code",
   "execution_count": 64,
   "metadata": {},
   "outputs": [],
   "source": [
    "from pyspark.ml.feature import StringIndexer, OneHotEncoder\n",
    "\n",
    "categoricalCols = [\"Group\", \"Sex\", \"Arrival_mode\", \"Injury\", \"Mental\", \"Pain\", \"Disposition\"]\n",
    "stringIndexer = StringIndexer(inputCols = categoricalCols, outputCols = [x + \"Index\" for x in categoricalCols]) \n",
    "encoder = OneHotEncoder(inputCols = stringIndexer.getOutputCols(), outputCols = [x + \"OHE\" for x in categoricalCols])\n",
    "\n",
    "labelToIndex = StringIndexer(inputCol = \"mistriage\", outputCol = \"label\")"
   ]
  },
  {
   "cell_type": "code",
   "execution_count": 65,
   "metadata": {},
   "outputs": [
    {
     "name": "stdout",
     "output_type": "stream",
     "text": [
      "+-----+---+---+------------------------+------------+------+--------------------+------+----+-------+--------------------+-----------+------------------+-----------------+---------+----------+-----------+-----------+----------+----------+--------------------+-----------------+----------------+-----------+---------+--------+-----------+----------+\n",
      "|Group|Sex|Age|Patients_number_per_hour|Arrival_mode|Injury|      Chief_complain|Mental|Pain|KTAS_RN|     Diagnosis_in_ed|Disposition|Length_of_stay_min|KTAS_duration_min|mistriage|RR_imputed|SBP_imputed|DBP_imputed|HR_imputed|BT_imputed|        wordFeatures|Arrival_modeIndex|DispositionIndex|InjuryIndex|PainIndex|SexIndex|MentalIndex|GroupIndex|\n",
      "+-----+---+---+------------------------+------------+------+--------------------+------+----+-------+--------------------+-----------+------------------+-----------------+---------+----------+-----------+-----------+----------+----------+--------------------+-----------------+----------------+-----------+---------+--------+-----------+----------+\n",
      "|    1|  1| 17|                       8|           3|     1|            abd pain|     1|   1|      3|      abdominal pain|          1|               168|              825|        0|        16|        141|         75|        84|        37|[-0.2733619790524...|              0.0|             0.0|        0.0|      0.0|     1.0|        0.0|       0.0|\n",
      "|    1|  1| 18|                       4|           3|     1|            abd pain|     1|   1|      4|abdomen pain;gene...|          1|               180|              332|        0|        20|        136|         90|        98|        37|[-0.2221570201218...|              0.0|             0.0|        0.0|      0.0|     1.0|        0.0|       0.0|\n",
      "|    1|  1| 18|                       7|           3|     2|right forearm lac...|     1|   1|      4|laceration of for...|          1|                36|              385|        0|        18|        120|         84|        88|       368|[-0.0747691035270...|              0.0|             0.0|        1.0|      0.0|     1.0|        0.0|       0.0|\n",
      "|    1|  1| 19|                       7|           3|     2|        ankle injury|     1|   1|      4|     injury of ankle|          1|                73|              420|        0|        20|        154|         70|        75|        36|[-0.0638697918038...|              0.0|             0.0|        1.0|      0.0|     1.0|        0.0|       0.0|\n",
      "|    1|  1| 19|                      11|           2|     1|                    |     1|   0|      2|     acute gastritis|          1|               108|             1460|        1|        16|        116|         77|        64|       369|[0.03977148979902...|              1.0|             0.0|        0.0|      1.0|     1.0|        0.0|       0.0|\n",
      "+-----+---+---+------------------------+------------+------+--------------------+------+----+-------+--------------------+-----------+------------------+-----------------+---------+----------+-----------+-----------+----------+----------+--------------------+-----------------+----------------+-----------+---------+--------+-----------+----------+\n",
      "only showing top 5 rows\n",
      "\n"
     ]
    }
   ],
   "source": [
    "# stringIndexerModel = stringIndexer.fit(final_train_df)\n",
    "stringIndexerModel = stringIndexer.setHandleInvalid(\"keep\").fit(final_train_df)\n",
    "stringIndexerModel.transform(final_train_df).show(5)"
   ]
  },
  {
   "cell_type": "code",
   "execution_count": 66,
   "metadata": {},
   "outputs": [
    {
     "name": "stdout",
     "output_type": "stream",
     "text": [
      "+-----+---+---+------------------------+------------+------+--------------------+------+----+-------+--------------------+-----------+------------------+-----------------+---------+----------+-----------+-----------+----------+----------+--------------------+-----------------+----------------+-----------+---------+--------+-----------+----------+---------------+-------------+-------------+--------------+-------------+-------------+-------------+\n",
      "|Group|Sex|Age|Patients_number_per_hour|Arrival_mode|Injury|      Chief_complain|Mental|Pain|KTAS_RN|     Diagnosis_in_ed|Disposition|Length_of_stay_min|KTAS_duration_min|mistriage|RR_imputed|SBP_imputed|DBP_imputed|HR_imputed|BT_imputed|        wordFeatures|Arrival_modeIndex|DispositionIndex|InjuryIndex|PainIndex|SexIndex|MentalIndex|GroupIndex|Arrival_modeOHE|       SexOHE|    MentalOHE|DispositionOHE|    InjuryOHE|      PainOHE|     GroupOHE|\n",
      "+-----+---+---+------------------------+------------+------+--------------------+------+----+-------+--------------------+-----------+------------------+-----------------+---------+----------+-----------+-----------+----------+----------+--------------------+-----------------+----------------+-----------+---------+--------+-----------+----------+---------------+-------------+-------------+--------------+-------------+-------------+-------------+\n",
      "|    1|  1| 17|                       8|           3|     1|            abd pain|     1|   1|      3|      abdominal pain|          1|               168|              825|        0|        16|        141|         75|        84|        37|[-0.2733619790524...|              0.0|             0.0|        0.0|      0.0|     1.0|        0.0|       0.0|  (7,[0],[1.0])|(2,[1],[1.0])|(4,[0],[1.0])| (7,[0],[1.0])|(2,[0],[1.0])|(2,[0],[1.0])|(2,[0],[1.0])|\n",
      "|    1|  1| 18|                       4|           3|     1|            abd pain|     1|   1|      4|abdomen pain;gene...|          1|               180|              332|        0|        20|        136|         90|        98|        37|[-0.2221570201218...|              0.0|             0.0|        0.0|      0.0|     1.0|        0.0|       0.0|  (7,[0],[1.0])|(2,[1],[1.0])|(4,[0],[1.0])| (7,[0],[1.0])|(2,[0],[1.0])|(2,[0],[1.0])|(2,[0],[1.0])|\n",
      "|    1|  1| 18|                       7|           3|     2|right forearm lac...|     1|   1|      4|laceration of for...|          1|                36|              385|        0|        18|        120|         84|        88|       368|[-0.0747691035270...|              0.0|             0.0|        1.0|      0.0|     1.0|        0.0|       0.0|  (7,[0],[1.0])|(2,[1],[1.0])|(4,[0],[1.0])| (7,[0],[1.0])|(2,[1],[1.0])|(2,[0],[1.0])|(2,[0],[1.0])|\n",
      "|    1|  1| 19|                       7|           3|     2|        ankle injury|     1|   1|      4|     injury of ankle|          1|                73|              420|        0|        20|        154|         70|        75|        36|[-0.0638697918038...|              0.0|             0.0|        1.0|      0.0|     1.0|        0.0|       0.0|  (7,[0],[1.0])|(2,[1],[1.0])|(4,[0],[1.0])| (7,[0],[1.0])|(2,[1],[1.0])|(2,[0],[1.0])|(2,[0],[1.0])|\n",
      "|    1|  1| 19|                      11|           2|     1|                    |     1|   0|      2|     acute gastritis|          1|               108|             1460|        1|        16|        116|         77|        64|       369|[0.03977148979902...|              1.0|             0.0|        0.0|      1.0|     1.0|        0.0|       0.0|  (7,[1],[1.0])|(2,[1],[1.0])|(4,[0],[1.0])| (7,[0],[1.0])|(2,[0],[1.0])|(2,[1],[1.0])|(2,[0],[1.0])|\n",
      "+-----+---+---+------------------------+------------+------+--------------------+------+----+-------+--------------------+-----------+------------------+-----------------+---------+----------+-----------+-----------+----------+----------+--------------------+-----------------+----------------+-----------+---------+--------+-----------+----------+---------------+-------------+-------------+--------------+-------------+-------------+-------------+\n",
      "only showing top 5 rows\n",
      "\n"
     ]
    }
   ],
   "source": [
    "dfstring = stringIndexerModel.transform(final_train_df)\n",
    "\n",
    "ohe = encoder.fit(dfstring)\n",
    "dfohe = ohe.transform(dfstring)\n",
    "dfohe.show(5)"
   ]
  },
  {
   "cell_type": "markdown",
   "metadata": {},
   "source": [
    "## Downsampling & Upsampling"
   ]
  },
  {
   "cell_type": "code",
   "execution_count": 67,
   "metadata": {},
   "outputs": [
    {
     "name": "stdout",
     "output_type": "stream",
     "text": [
      "+---------+-----+\n",
      "|mistriage|count|\n",
      "+---------+-----+\n",
      "|        0|  883|\n",
      "+---------+-----+\n",
      "\n"
     ]
    }
   ],
   "source": [
    "mistriage_0 = final_train_df.filter(\"mistriage == 0\")\n",
    "mistriage_0.groupby(\"mistriage\").count().show()"
   ]
  },
  {
   "cell_type": "code",
   "execution_count": 68,
   "metadata": {},
   "outputs": [
    {
     "name": "stdout",
     "output_type": "stream",
     "text": [
      "+---------+-----+\n",
      "|mistriage|count|\n",
      "+---------+-----+\n",
      "|        1|   45|\n",
      "+---------+-----+\n",
      "\n"
     ]
    }
   ],
   "source": [
    "mistriage_1 = final_train_df.filter(\"mistriage == 1\")\n",
    "mistriage_1.groupby(\"mistriage\").count().show()"
   ]
  },
  {
   "cell_type": "code",
   "execution_count": 69,
   "metadata": {},
   "outputs": [
    {
     "name": "stdout",
     "output_type": "stream",
     "text": [
      "+---------+-----+\n",
      "|mistriage|count|\n",
      "+---------+-----+\n",
      "|        2|  103|\n",
      "+---------+-----+\n",
      "\n"
     ]
    }
   ],
   "source": [
    "mistriage_2 = final_train_df.filter(\"mistriage == 2\")\n",
    "mistriage_2.groupby(\"mistriage\").count().show()"
   ]
  },
  {
   "cell_type": "code",
   "execution_count": 70,
   "metadata": {},
   "outputs": [
    {
     "name": "stdout",
     "output_type": "stream",
     "text": [
      "+---------+-----+\n",
      "|mistriage|count|\n",
      "+---------+-----+\n",
      "|        0|  465|\n",
      "+---------+-----+\n",
      "\n"
     ]
    }
   ],
   "source": [
    "mistriage_0_sampling = mistriage_0.sample(withReplacement = False, fraction = 0.5, seed = 314)\n",
    "mistriage_0_sampling.groupby(\"mistriage\").count().show()"
   ]
  },
  {
   "cell_type": "code",
   "execution_count": 71,
   "metadata": {},
   "outputs": [
    {
     "name": "stdout",
     "output_type": "stream",
     "text": [
      "+---------+-----+\n",
      "|mistriage|count|\n",
      "+---------+-----+\n",
      "|        1|  450|\n",
      "+---------+-----+\n",
      "\n"
     ]
    }
   ],
   "source": [
    "from pyspark.sql.functions import col, explode, array, lit\n",
    "a = range(10)\n",
    "# duplicate the minority rows\n",
    "mistriage_1_sampling = mistriage_1.withColumn(\"dummy\", explode(array([lit(x) for x in a]))).drop('dummy')\n",
    "mistriage_1_sampling.groupby(\"mistriage\").count().show()"
   ]
  },
  {
   "cell_type": "code",
   "execution_count": 72,
   "metadata": {},
   "outputs": [
    {
     "name": "stdout",
     "output_type": "stream",
     "text": [
      "+---------+-----+\n",
      "|mistriage|count|\n",
      "+---------+-----+\n",
      "|        2|  412|\n",
      "+---------+-----+\n",
      "\n"
     ]
    }
   ],
   "source": [
    "a = range(4)\n",
    "# duplicate the minority rows\n",
    "mistriage_2_sampling = mistriage_2.withColumn(\"dummy\", explode(array([lit(x) for x in a]))).drop('dummy')\n",
    "mistriage_2_sampling.groupby(\"mistriage\").count().show()"
   ]
  },
  {
   "cell_type": "code",
   "execution_count": 73,
   "metadata": {},
   "outputs": [
    {
     "name": "stdout",
     "output_type": "stream",
     "text": [
      "+---------+-----+\n",
      "|mistriage|count|\n",
      "+---------+-----+\n",
      "|        1|  450|\n",
      "|        2|  412|\n",
      "|        0|  465|\n",
      "+---------+-----+\n",
      "\n"
     ]
    }
   ],
   "source": [
    "final_train_df = mistriage_0_sampling.union(mistriage_1_sampling).union(mistriage_2_sampling)\n",
    "final_train_df.groupby(\"mistriage\").count().show()"
   ]
  },
  {
   "cell_type": "code",
   "execution_count": 74,
   "metadata": {},
   "outputs": [
    {
     "data": {
      "text/plain": [
       "236"
      ]
     },
     "execution_count": 74,
     "metadata": {},
     "output_type": "execute_result"
    }
   ],
   "source": [
    "final_test_df.count()"
   ]
  },
  {
   "cell_type": "code",
   "execution_count": 75,
   "metadata": {},
   "outputs": [
    {
     "data": {
      "text/plain": [
       "1327"
      ]
     },
     "execution_count": 75,
     "metadata": {},
     "output_type": "execute_result"
    }
   ],
   "source": [
    "final_train_df.count()"
   ]
  },
  {
   "cell_type": "markdown",
   "metadata": {},
   "source": [
    "# Model Construction"
   ]
  },
  {
   "cell_type": "code",
   "execution_count": 80,
   "metadata": {},
   "outputs": [],
   "source": [
    "from pyspark.ml.feature import VectorAssembler\n",
    "\n",
    "numericCols = [\"Age\", \"Patients_number_per_hour\", \"KTAS_RN\", \"Length_of_stay_min\", \"KTAS_duration_min\", \"RR_imputed\", \"SBP_imputed\", \"DBP_imputed\", \"HR_imputed\", \"BT_imputed\"]\n",
    "assemblerInputs = [c + \"OHE\" for c in categoricalCols] + numericCols + [\"wordFeatures\"]\n",
    "vecAssembler = VectorAssembler(inputCols = assemblerInputs, outputCol = \"features\")"
   ]
  },
  {
   "cell_type": "markdown",
   "metadata": {},
   "source": [
    "## Model 1: Multinomial Logistic Regression"
   ]
  },
  {
   "cell_type": "code",
   "execution_count": 81,
   "metadata": {},
   "outputs": [],
   "source": [
    "from pyspark.ml.classification import LogisticRegression\n",
    "lr = LogisticRegression(featuresCol=\"features\", labelCol=\"label\")"
   ]
  },
  {
   "cell_type": "code",
   "execution_count": 82,
   "metadata": {},
   "outputs": [],
   "source": [
    "# confusion matrix\n",
    "from pyspark.ml import Pipeline\n",
    "import pyspark.sql.functions as F\n",
    "from pyspark.mllib.evaluation import MulticlassMetrics\n",
    "from pyspark.sql.types import FloatType\n",
    "\n",
    "pipeline_lr = Pipeline(stages = [stringIndexer, encoder, labelToIndex, vecAssembler, lr])"
   ]
  },
  {
   "cell_type": "code",
   "execution_count": 83,
   "metadata": {},
   "outputs": [],
   "source": [
    "from pyspark.ml.tuning import ParamGridBuilder, CrossValidator\n",
    "from pyspark.ml.evaluation import MulticlassClassificationEvaluator\n",
    "\n",
    "paramGrid_lr = (ParamGridBuilder()\n",
    "               .addGrid(lr.elasticNetParam, [0, 0.5, 1])\n",
    "               .addGrid(lr.regParam, [0, 0.3, 0.6])\n",
    "               .build())\n",
    "\n",
    "mcEvaluatorAcc = MulticlassClassificationEvaluator(metricName = \"accuracy\")"
   ]
  },
  {
   "cell_type": "code",
   "execution_count": 85,
   "metadata": {},
   "outputs": [],
   "source": [
    "cv_lr = CrossValidator(estimator = pipeline_lr, estimatorParamMaps = paramGrid_lr, evaluator = mcEvaluatorAcc, numFolds = 3, parallelism = 4, seed = 123)\n",
    "\n",
    "cvModel_lr = cv_lr.fit(final_train_df)\n",
    "cvPredDF_lr = cvModel_lr.transform(final_test_df)"
   ]
  },
  {
   "cell_type": "markdown",
   "metadata": {},
   "source": [
    "## Model 2: Random Forest Multi-Class Classifier"
   ]
  },
  {
   "cell_type": "code",
   "execution_count": 91,
   "metadata": {},
   "outputs": [],
   "source": [
    "from pyspark.ml.classification import RandomForestClassifier\n",
    "rf = RandomForestClassifier(labelCol = \"label\", featuresCol = \"features\", numTrees = 10, seed = 123)"
   ]
  },
  {
   "cell_type": "code",
   "execution_count": 92,
   "metadata": {},
   "outputs": [],
   "source": [
    "pipeline_rf = Pipeline(stages = [stringIndexer, encoder, labelToIndex, vecAssembler, rf])"
   ]
  },
  {
   "cell_type": "code",
   "execution_count": 93,
   "metadata": {},
   "outputs": [],
   "source": [
    "paramGrid_rf = (ParamGridBuilder()\n",
    "               .addGrid(rf.maxDepth, [10, 15, 25])\n",
    "               .addGrid(rf.maxBins, [3, 5, 10])\n",
    "               .addGrid(rf.numTrees, [50, 100, 150])\n",
    "             .build())"
   ]
  },
  {
   "cell_type": "code",
   "execution_count": 94,
   "metadata": {},
   "outputs": [],
   "source": [
    "cv_rf = CrossValidator(estimator = pipeline_rf, estimatorParamMaps = paramGrid_rf, evaluator = mcEvaluatorAcc, numFolds = 3, parallelism = 4, seed = 123)\n",
    "\n",
    "cvModel_rf = cv_rf.fit(final_train_df)\n",
    "cvPredDF_rf = cvModel_rf.transform(final_test_df)"
   ]
  },
  {
   "cell_type": "markdown",
   "metadata": {},
   "source": [
    "## Model 3: One Vs. Rest"
   ]
  },
  {
   "cell_type": "code",
   "execution_count": 126,
   "metadata": {},
   "outputs": [],
   "source": [
    "from pyspark.ml.classification import OneVsRest"
   ]
  },
  {
   "cell_type": "markdown",
   "metadata": {},
   "source": [
    "1) Trying with a Random Forest base classifier"
   ]
  },
  {
   "cell_type": "code",
   "execution_count": 140,
   "metadata": {},
   "outputs": [],
   "source": [
    "rf = RandomForestClassifier(maxDepth = 15, maxBins = 3, numTrees = 100)\n",
    "ovr_rf = OneVsRest(labelCol=\"label\", featuresCol=\"features\", classifier = rf)\n",
    "pipeline_ovr_rf = Pipeline(stages = [stringIndexer, encoder, labelToIndex, vecAssembler, ovr_rf])"
   ]
  },
  {
   "cell_type": "code",
   "execution_count": 141,
   "metadata": {},
   "outputs": [],
   "source": [
    "pipelineModel_ovr_rf = pipeline_ovr_rf.fit(final_train_df)\n",
    "predDF_ovr_rf = pipelineModel_ovr_rf.transform(final_test_df)"
   ]
  },
  {
   "cell_type": "markdown",
   "metadata": {},
   "source": [
    "2) Trying with a logistic regression base classifier"
   ]
  },
  {
   "cell_type": "code",
   "execution_count": 132,
   "metadata": {},
   "outputs": [],
   "source": [
    "lr = LogisticRegression()\n",
    "ovr_lr = OneVsRest(labelCol=\"label\", featuresCol=\"features\", classifier = lr)\n",
    "pipeline_ovr_lr = Pipeline(stages = [stringIndexer, encoder, labelToIndex, vecAssembler, ovr_lr])"
   ]
  },
  {
   "cell_type": "code",
   "execution_count": 133,
   "metadata": {},
   "outputs": [],
   "source": [
    "pipelineModel_ovr_lr = pipeline_ovr_lr.fit(final_train_df)\n",
    "predDF_ovr_lr = pipelineModel_ovr_lr.transform(final_test_df)"
   ]
  },
  {
   "cell_type": "markdown",
   "metadata": {},
   "source": [
    "# Model Evaluation"
   ]
  },
  {
   "cell_type": "markdown",
   "metadata": {},
   "source": [
    "### Model 1: Multinomial Logistic Regression"
   ]
  },
  {
   "cell_type": "code",
   "execution_count": 86,
   "metadata": {},
   "outputs": [
    {
     "name": "stdout",
     "output_type": "stream",
     "text": [
      "+----------+-----+\n",
      "|prediction|count|\n",
      "+----------+-----+\n",
      "|       0.0|  120|\n",
      "|       1.0|   63|\n",
      "|       2.0|   53|\n",
      "+----------+-----+\n",
      "\n"
     ]
    }
   ],
   "source": [
    "cvPredDF_lr.groupBy(\"prediction\") \\\n",
    "      .count() \\\n",
    "      .sort(\"count\", ascending = False) \\\n",
    "      .show()"
   ]
  },
  {
   "cell_type": "code",
   "execution_count": 87,
   "metadata": {},
   "outputs": [
    {
     "name": "stdout",
     "output_type": "stream",
     "text": [
      "0.0\n",
      "0.0\n"
     ]
    }
   ],
   "source": [
    "# Best hyperparameters used\n",
    "print(cvModel_lr.bestModel.stages[-1]._java_obj.getRegParam())\n",
    "print(cvModel_lr.bestModel.stages[-1]._java_obj.getElasticNetParam())"
   ]
  },
  {
   "cell_type": "code",
   "execution_count": 90,
   "metadata": {},
   "outputs": [
    {
     "name": "stdout",
     "output_type": "stream",
     "text": [
      "Accuracy: 0.5169491525423728\n",
      "F1-Score: 0.5920780157827352\n",
      "Weighted Recall: 0.5169491525423728\n",
      "Weighted Precision: 0.7563959700712178\n"
     ]
    }
   ],
   "source": [
    "# Performance metrics (with hyperparameters tuning)\n",
    "mcEvaluatorAcc = MulticlassClassificationEvaluator(metricName = \"accuracy\")\n",
    "print(f\"Accuracy: {mcEvaluatorAcc.evaluate(cvPredDF_lr)}\")\n",
    "mcEvaluatorF1 = MulticlassClassificationEvaluator(metricName = \"f1\")\n",
    "print(f\"F1-Score: {mcEvaluatorF1.evaluate(cvPredDF_lr)}\")\n",
    "mcEvaluatorWR = MulticlassClassificationEvaluator(metricName = \"weightedRecall\")\n",
    "print(f\"Weighted Recall: {mcEvaluatorWR.evaluate(cvPredDF_lr)}\")\n",
    "mcEvaluatorWP = MulticlassClassificationEvaluator(metricName = \"weightedPrecision\")\n",
    "print(f\"Weighted Precision: {mcEvaluatorWP.evaluate(cvPredDF_lr)}\")"
   ]
  },
  {
   "cell_type": "code",
   "execution_count": 89,
   "metadata": {},
   "outputs": [
    {
     "name": "stdout",
     "output_type": "stream",
     "text": [
      "[[103.  57.  38.]\n",
      " [  6.   4.   0.]\n",
      " [ 11.   2.  15.]]\n"
     ]
    }
   ],
   "source": [
    "# cv confusion matrix\n",
    "cv_preds_and_labels = cvPredDF_lr.select(['prediction','mistriage']).withColumn('label', F.col('mistriage').cast(FloatType())).orderBy('prediction')\n",
    "cv_preds_and_labels = cv_preds_and_labels.select(['prediction','label'])\n",
    "cv_metrics = MulticlassMetrics(cv_preds_and_labels.rdd.map(tuple))\n",
    "print(cv_metrics.confusionMatrix().toArray())"
   ]
  },
  {
   "cell_type": "markdown",
   "metadata": {},
   "source": [
    "### Model 2: Random Forest"
   ]
  },
  {
   "cell_type": "code",
   "execution_count": 95,
   "metadata": {},
   "outputs": [
    {
     "name": "stdout",
     "output_type": "stream",
     "text": [
      "+----------+-----+\n",
      "|prediction|count|\n",
      "+----------+-----+\n",
      "|       0.0|  214|\n",
      "|       2.0|   19|\n",
      "|       1.0|    3|\n",
      "+----------+-----+\n",
      "\n"
     ]
    }
   ],
   "source": [
    "cvPredDF_rf.groupBy(\"prediction\") \\\n",
    "      .count() \\\n",
    "      .sort(\"count\", ascending = False) \\\n",
    "      .show()"
   ]
  },
  {
   "cell_type": "code",
   "execution_count": 97,
   "metadata": {},
   "outputs": [
    {
     "name": "stdout",
     "output_type": "stream",
     "text": [
      "15\n",
      "3\n",
      "100\n"
     ]
    }
   ],
   "source": [
    "# Best hyperparameters used\n",
    "print(cvModel_rf.bestModel.stages[-1]._java_obj.getMaxDepth())\n",
    "print(cvModel_rf.bestModel.stages[-1]._java_obj.getMaxBins())\n",
    "print(cvModel_rf.bestModel.stages[-1]._java_obj.getNumTrees())"
   ]
  },
  {
   "cell_type": "code",
   "execution_count": 98,
   "metadata": {},
   "outputs": [
    {
     "name": "stdout",
     "output_type": "stream",
     "text": [
      "Accuracy: 0.8050847457627118\n",
      "F1-Score: 0.7806509720991951\n",
      "Weighted Recall: 0.8050847457627119\n",
      "Weighted Precision: 0.7611590952670763\n"
     ]
    }
   ],
   "source": [
    "# Performance metrics (with hyperparameters tuning)\n",
    "mcEvaluatorAcc = MulticlassClassificationEvaluator(metricName = \"accuracy\")\n",
    "print(f\"Accuracy: {mcEvaluatorAcc.evaluate(cvPredDF_rf)}\")\n",
    "mcEvaluatorF1 = MulticlassClassificationEvaluator(metricName = \"f1\")\n",
    "print(f\"F1-Score: {mcEvaluatorF1.evaluate(cvPredDF_rf)}\")\n",
    "mcEvaluatorWR = MulticlassClassificationEvaluator(metricName = \"weightedRecall\")\n",
    "print(f\"Weighted Recall: {mcEvaluatorWR.evaluate(cvPredDF_rf)}\")\n",
    "mcEvaluatorWP = MulticlassClassificationEvaluator(metricName = \"weightedPrecision\")\n",
    "print(f\"Weighted Precision: {mcEvaluatorWP.evaluate(cvPredDF_rf)}\")"
   ]
  },
  {
   "cell_type": "code",
   "execution_count": 99,
   "metadata": {},
   "outputs": [
    {
     "name": "stdout",
     "output_type": "stream",
     "text": [
      "[[183.   3.  12.]\n",
      " [ 10.   0.   0.]\n",
      " [ 21.   0.   7.]]\n"
     ]
    }
   ],
   "source": [
    "# cv confusion matrix\n",
    "cv_preds_and_labels = cvPredDF_rf.select(['prediction','mistriage']).withColumn('label', F.col('mistriage').cast(FloatType())).orderBy('prediction')\n",
    "cv_preds_and_labels = cv_preds_and_labels.select(['prediction','label'])\n",
    "cv_metrics = MulticlassMetrics(cv_preds_and_labels.rdd.map(tuple))\n",
    "print(cv_metrics.confusionMatrix().toArray())"
   ]
  },
  {
   "cell_type": "code",
   "execution_count": 100,
   "metadata": {},
   "outputs": [],
   "source": [
    "# feature importance\n",
    "\n",
    "def ExtractFeatureImp(featureImp, dataset, featuresCol):\n",
    "    list_extract = []\n",
    "    for i in dataset.schema[featuresCol].metadata[\"ml_attr\"][\"attrs\"]:\n",
    "        list_extract = list_extract + dataset.schema[featuresCol].metadata[\"ml_attr\"][\"attrs\"][i]\n",
    "    varlist = pd.DataFrame(list_extract)\n",
    "    varlist['score'] = varlist['idx'].apply(lambda x: featureImp[x])\n",
    "    return(varlist.sort_values('score', ascending = False))"
   ]
  },
  {
   "cell_type": "code",
   "execution_count": 101,
   "metadata": {},
   "outputs": [
    {
     "data": {
      "text/html": [
       "<div>\n",
       "<style scoped>\n",
       "    .dataframe tbody tr th:only-of-type {\n",
       "        vertical-align: middle;\n",
       "    }\n",
       "\n",
       "    .dataframe tbody tr th {\n",
       "        vertical-align: top;\n",
       "    }\n",
       "\n",
       "    .dataframe thead th {\n",
       "        text-align: right;\n",
       "    }\n",
       "</style>\n",
       "<table border=\"1\" class=\"dataframe\">\n",
       "  <thead>\n",
       "    <tr style=\"text-align: right;\">\n",
       "      <th></th>\n",
       "      <th>idx</th>\n",
       "      <th>name</th>\n",
       "      <th>score</th>\n",
       "    </tr>\n",
       "  </thead>\n",
       "  <tbody>\n",
       "    <tr>\n",
       "      <th>2</th>\n",
       "      <td>28</td>\n",
       "      <td>KTAS_RN</td>\n",
       "      <td>0.102457</td>\n",
       "    </tr>\n",
       "    <tr>\n",
       "      <th>9</th>\n",
       "      <td>35</td>\n",
       "      <td>BT_imputed</td>\n",
       "      <td>0.047032</td>\n",
       "    </tr>\n",
       "    <tr>\n",
       "      <th>8</th>\n",
       "      <td>34</td>\n",
       "      <td>HR_imputed</td>\n",
       "      <td>0.045478</td>\n",
       "    </tr>\n",
       "    <tr>\n",
       "      <th>0</th>\n",
       "      <td>26</td>\n",
       "      <td>Age</td>\n",
       "      <td>0.045394</td>\n",
       "    </tr>\n",
       "    <tr>\n",
       "      <th>3</th>\n",
       "      <td>29</td>\n",
       "      <td>Length_of_stay_min</td>\n",
       "      <td>0.043666</td>\n",
       "    </tr>\n",
       "    <tr>\n",
       "      <th>1</th>\n",
       "      <td>27</td>\n",
       "      <td>Patients_number_per_hour</td>\n",
       "      <td>0.042105</td>\n",
       "    </tr>\n",
       "    <tr>\n",
       "      <th>7</th>\n",
       "      <td>33</td>\n",
       "      <td>DBP_imputed</td>\n",
       "      <td>0.039027</td>\n",
       "    </tr>\n",
       "    <tr>\n",
       "      <th>6</th>\n",
       "      <td>32</td>\n",
       "      <td>SBP_imputed</td>\n",
       "      <td>0.036991</td>\n",
       "    </tr>\n",
       "    <tr>\n",
       "      <th>16</th>\n",
       "      <td>42</td>\n",
       "      <td>wordFeatures_6</td>\n",
       "      <td>0.035826</td>\n",
       "    </tr>\n",
       "    <tr>\n",
       "      <th>4</th>\n",
       "      <td>30</td>\n",
       "      <td>KTAS_duration_min</td>\n",
       "      <td>0.035394</td>\n",
       "    </tr>\n",
       "    <tr>\n",
       "      <th>10</th>\n",
       "      <td>36</td>\n",
       "      <td>wordFeatures_0</td>\n",
       "      <td>0.034344</td>\n",
       "    </tr>\n",
       "    <tr>\n",
       "      <th>13</th>\n",
       "      <td>39</td>\n",
       "      <td>wordFeatures_3</td>\n",
       "      <td>0.029505</td>\n",
       "    </tr>\n",
       "    <tr>\n",
       "      <th>5</th>\n",
       "      <td>31</td>\n",
       "      <td>RR_imputed</td>\n",
       "      <td>0.027598</td>\n",
       "    </tr>\n",
       "    <tr>\n",
       "      <th>18</th>\n",
       "      <td>44</td>\n",
       "      <td>wordFeatures_8</td>\n",
       "      <td>0.027543</td>\n",
       "    </tr>\n",
       "    <tr>\n",
       "      <th>15</th>\n",
       "      <td>41</td>\n",
       "      <td>wordFeatures_5</td>\n",
       "      <td>0.026568</td>\n",
       "    </tr>\n",
       "    <tr>\n",
       "      <th>14</th>\n",
       "      <td>40</td>\n",
       "      <td>wordFeatures_4</td>\n",
       "      <td>0.026551</td>\n",
       "    </tr>\n",
       "    <tr>\n",
       "      <th>11</th>\n",
       "      <td>37</td>\n",
       "      <td>wordFeatures_1</td>\n",
       "      <td>0.025042</td>\n",
       "    </tr>\n",
       "    <tr>\n",
       "      <th>19</th>\n",
       "      <td>45</td>\n",
       "      <td>wordFeatures_9</td>\n",
       "      <td>0.023533</td>\n",
       "    </tr>\n",
       "    <tr>\n",
       "      <th>22</th>\n",
       "      <td>2</td>\n",
       "      <td>SexOHE_2</td>\n",
       "      <td>0.023036</td>\n",
       "    </tr>\n",
       "    <tr>\n",
       "      <th>24</th>\n",
       "      <td>4</td>\n",
       "      <td>Arrival_modeOHE_3</td>\n",
       "      <td>0.021882</td>\n",
       "    </tr>\n",
       "    <tr>\n",
       "      <th>17</th>\n",
       "      <td>43</td>\n",
       "      <td>wordFeatures_7</td>\n",
       "      <td>0.020044</td>\n",
       "    </tr>\n",
       "    <tr>\n",
       "      <th>20</th>\n",
       "      <td>0</td>\n",
       "      <td>GroupOHE_1</td>\n",
       "      <td>0.018977</td>\n",
       "    </tr>\n",
       "    <tr>\n",
       "      <th>12</th>\n",
       "      <td>38</td>\n",
       "      <td>wordFeatures_2</td>\n",
       "      <td>0.018655</td>\n",
       "    </tr>\n",
       "    <tr>\n",
       "      <th>23</th>\n",
       "      <td>3</td>\n",
       "      <td>SexOHE_1</td>\n",
       "      <td>0.018362</td>\n",
       "    </tr>\n",
       "    <tr>\n",
       "      <th>31</th>\n",
       "      <td>11</td>\n",
       "      <td>InjuryOHE_1</td>\n",
       "      <td>0.016643</td>\n",
       "    </tr>\n",
       "    <tr>\n",
       "      <th>39</th>\n",
       "      <td>19</td>\n",
       "      <td>DispositionOHE_1</td>\n",
       "      <td>0.016219</td>\n",
       "    </tr>\n",
       "    <tr>\n",
       "      <th>40</th>\n",
       "      <td>20</td>\n",
       "      <td>DispositionOHE_2</td>\n",
       "      <td>0.016181</td>\n",
       "    </tr>\n",
       "    <tr>\n",
       "      <th>25</th>\n",
       "      <td>5</td>\n",
       "      <td>Arrival_modeOHE_2</td>\n",
       "      <td>0.015795</td>\n",
       "    </tr>\n",
       "    <tr>\n",
       "      <th>21</th>\n",
       "      <td>1</td>\n",
       "      <td>GroupOHE_2</td>\n",
       "      <td>0.015663</td>\n",
       "    </tr>\n",
       "    <tr>\n",
       "      <th>38</th>\n",
       "      <td>18</td>\n",
       "      <td>PainOHE_0</td>\n",
       "      <td>0.015492</td>\n",
       "    </tr>\n",
       "    <tr>\n",
       "      <th>32</th>\n",
       "      <td>12</td>\n",
       "      <td>InjuryOHE_2</td>\n",
       "      <td>0.015090</td>\n",
       "    </tr>\n",
       "    <tr>\n",
       "      <th>37</th>\n",
       "      <td>17</td>\n",
       "      <td>PainOHE_1</td>\n",
       "      <td>0.014816</td>\n",
       "    </tr>\n",
       "    <tr>\n",
       "      <th>33</th>\n",
       "      <td>13</td>\n",
       "      <td>MentalOHE_1</td>\n",
       "      <td>0.012480</td>\n",
       "    </tr>\n",
       "    <tr>\n",
       "      <th>27</th>\n",
       "      <td>7</td>\n",
       "      <td>Arrival_modeOHE_1</td>\n",
       "      <td>0.010730</td>\n",
       "    </tr>\n",
       "    <tr>\n",
       "      <th>26</th>\n",
       "      <td>6</td>\n",
       "      <td>Arrival_modeOHE_4</td>\n",
       "      <td>0.008683</td>\n",
       "    </tr>\n",
       "    <tr>\n",
       "      <th>35</th>\n",
       "      <td>15</td>\n",
       "      <td>MentalOHE_3</td>\n",
       "      <td>0.005365</td>\n",
       "    </tr>\n",
       "    <tr>\n",
       "      <th>41</th>\n",
       "      <td>21</td>\n",
       "      <td>DispositionOHE_5</td>\n",
       "      <td>0.004757</td>\n",
       "    </tr>\n",
       "    <tr>\n",
       "      <th>42</th>\n",
       "      <td>22</td>\n",
       "      <td>DispositionOHE_7</td>\n",
       "      <td>0.004181</td>\n",
       "    </tr>\n",
       "    <tr>\n",
       "      <th>34</th>\n",
       "      <td>14</td>\n",
       "      <td>MentalOHE_2</td>\n",
       "      <td>0.003199</td>\n",
       "    </tr>\n",
       "    <tr>\n",
       "      <th>43</th>\n",
       "      <td>23</td>\n",
       "      <td>DispositionOHE_4</td>\n",
       "      <td>0.002486</td>\n",
       "    </tr>\n",
       "    <tr>\n",
       "      <th>44</th>\n",
       "      <td>24</td>\n",
       "      <td>DispositionOHE_3</td>\n",
       "      <td>0.002297</td>\n",
       "    </tr>\n",
       "    <tr>\n",
       "      <th>28</th>\n",
       "      <td>8</td>\n",
       "      <td>Arrival_modeOHE_6</td>\n",
       "      <td>0.001788</td>\n",
       "    </tr>\n",
       "    <tr>\n",
       "      <th>29</th>\n",
       "      <td>9</td>\n",
       "      <td>Arrival_modeOHE_5</td>\n",
       "      <td>0.001264</td>\n",
       "    </tr>\n",
       "    <tr>\n",
       "      <th>45</th>\n",
       "      <td>25</td>\n",
       "      <td>DispositionOHE_6</td>\n",
       "      <td>0.000914</td>\n",
       "    </tr>\n",
       "    <tr>\n",
       "      <th>36</th>\n",
       "      <td>16</td>\n",
       "      <td>MentalOHE_4</td>\n",
       "      <td>0.000754</td>\n",
       "    </tr>\n",
       "    <tr>\n",
       "      <th>30</th>\n",
       "      <td>10</td>\n",
       "      <td>Arrival_modeOHE_7</td>\n",
       "      <td>0.000194</td>\n",
       "    </tr>\n",
       "  </tbody>\n",
       "</table>\n",
       "</div>"
      ],
      "text/plain": [
       "    idx                      name     score\n",
       "2    28                   KTAS_RN  0.102457\n",
       "9    35                BT_imputed  0.047032\n",
       "8    34                HR_imputed  0.045478\n",
       "0    26                       Age  0.045394\n",
       "3    29        Length_of_stay_min  0.043666\n",
       "1    27  Patients_number_per_hour  0.042105\n",
       "7    33               DBP_imputed  0.039027\n",
       "6    32               SBP_imputed  0.036991\n",
       "16   42            wordFeatures_6  0.035826\n",
       "4    30         KTAS_duration_min  0.035394\n",
       "10   36            wordFeatures_0  0.034344\n",
       "13   39            wordFeatures_3  0.029505\n",
       "5    31                RR_imputed  0.027598\n",
       "18   44            wordFeatures_8  0.027543\n",
       "15   41            wordFeatures_5  0.026568\n",
       "14   40            wordFeatures_4  0.026551\n",
       "11   37            wordFeatures_1  0.025042\n",
       "19   45            wordFeatures_9  0.023533\n",
       "22    2                  SexOHE_2  0.023036\n",
       "24    4         Arrival_modeOHE_3  0.021882\n",
       "17   43            wordFeatures_7  0.020044\n",
       "20    0                GroupOHE_1  0.018977\n",
       "12   38            wordFeatures_2  0.018655\n",
       "23    3                  SexOHE_1  0.018362\n",
       "31   11               InjuryOHE_1  0.016643\n",
       "39   19          DispositionOHE_1  0.016219\n",
       "40   20          DispositionOHE_2  0.016181\n",
       "25    5         Arrival_modeOHE_2  0.015795\n",
       "21    1                GroupOHE_2  0.015663\n",
       "38   18                 PainOHE_0  0.015492\n",
       "32   12               InjuryOHE_2  0.015090\n",
       "37   17                 PainOHE_1  0.014816\n",
       "33   13               MentalOHE_1  0.012480\n",
       "27    7         Arrival_modeOHE_1  0.010730\n",
       "26    6         Arrival_modeOHE_4  0.008683\n",
       "35   15               MentalOHE_3  0.005365\n",
       "41   21          DispositionOHE_5  0.004757\n",
       "42   22          DispositionOHE_7  0.004181\n",
       "34   14               MentalOHE_2  0.003199\n",
       "43   23          DispositionOHE_4  0.002486\n",
       "44   24          DispositionOHE_3  0.002297\n",
       "28    8         Arrival_modeOHE_6  0.001788\n",
       "29    9         Arrival_modeOHE_5  0.001264\n",
       "45   25          DispositionOHE_6  0.000914\n",
       "36   16               MentalOHE_4  0.000754\n",
       "30   10         Arrival_modeOHE_7  0.000194"
      ]
     },
     "execution_count": 101,
     "metadata": {},
     "output_type": "execute_result"
    }
   ],
   "source": [
    "varlist = ExtractFeatureImp(cvModel_rf.bestModel.stages[4].featureImportances, cvPredDF_rf, \"features\")\n",
    "varlist"
   ]
  },
  {
   "cell_type": "code",
   "execution_count": 105,
   "metadata": {},
   "outputs": [
    {
     "data": {
      "image/png": "[encoded data removed]",
      "text/plain": [
       "<Figure size 1000x500 with 1 Axes>"
      ]
     },
     "metadata": {},
     "output_type": "display_data"
    }
   ],
   "source": [
    "x_values = list(varlist[\"name\"])\n",
    "\n",
    "import matplotlib.pyplot as plt\n",
    "\n",
    "plt.figure(figsize = (10, 5))\n",
    "plt.bar(varlist[\"name\"], varlist[\"score\"], orientation = 'vertical')\n",
    "plt.xticks(x_values, varlist[\"name\"], rotation = 90)\n",
    "plt.ylabel('Importance')\n",
    "plt.xlabel('Feature')\n",
    "plt.title('Feature Importances')\n",
    "plt.show()"
   ]
  },
  {
   "cell_type": "markdown",
   "metadata": {},
   "source": [
    "### Model 3: One-vs-Rest"
   ]
  },
  {
   "cell_type": "markdown",
   "metadata": {},
   "source": [
    "1) Random Forest base classifier"
   ]
  },
  {
   "cell_type": "code",
   "execution_count": 142,
   "metadata": {},
   "outputs": [
    {
     "name": "stdout",
     "output_type": "stream",
     "text": [
      "+----------+-----+\n",
      "|prediction|count|\n",
      "+----------+-----+\n",
      "|       0.0|  218|\n",
      "|       2.0|   17|\n",
      "|       1.0|    1|\n",
      "+----------+-----+\n",
      "\n"
     ]
    }
   ],
   "source": [
    "predDF_ovr_rf.groupBy(\"prediction\") \\\n",
    "      .count() \\\n",
    "      .sort(\"count\", ascending = False) \\\n",
    "      .show()"
   ]
  },
  {
   "cell_type": "code",
   "execution_count": 143,
   "metadata": {},
   "outputs": [
    {
     "name": "stdout",
     "output_type": "stream",
     "text": [
      "Accuracy: 0.8220338983050848\n",
      "F1-Score: 0.7911895190496885\n",
      "Weighted Recall: 0.8220338983050848\n",
      "Weighted Precision: 0.7685315612794643\n"
     ]
    }
   ],
   "source": [
    "# Performance metrics (with hyperparameters tuning)\n",
    "mcEvaluatorAcc = MulticlassClassificationEvaluator(metricName = \"accuracy\")\n",
    "print(f\"Accuracy: {mcEvaluatorAcc.evaluate(predDF_ovr_rf)}\")\n",
    "mcEvaluatorF1 = MulticlassClassificationEvaluator(metricName = \"f1\")\n",
    "print(f\"F1-Score: {mcEvaluatorF1.evaluate(predDF_ovr_rf)}\")\n",
    "mcEvaluatorWR = MulticlassClassificationEvaluator(metricName = \"weightedRecall\")\n",
    "print(f\"Weighted Recall: {mcEvaluatorWR.evaluate(predDF_ovr_rf)}\")\n",
    "mcEvaluatorWP = MulticlassClassificationEvaluator(metricName = \"weightedPrecision\")\n",
    "print(f\"Weighted Precision: {mcEvaluatorWP.evaluate(predDF_ovr_rf)}\")"
   ]
  },
  {
   "cell_type": "code",
   "execution_count": 144,
   "metadata": {},
   "outputs": [
    {
     "name": "stdout",
     "output_type": "stream",
     "text": [
      "[[187.   1.  10.]\n",
      " [ 10.   0.   0.]\n",
      " [ 21.   0.   7.]]\n"
     ]
    }
   ],
   "source": [
    "preds_and_labels = predDF_ovr_rf.select(['prediction','mistriage']).withColumn('label', F.col('mistriage').cast(FloatType())).orderBy('prediction')\n",
    "preds_and_labels = preds_and_labels.select(['prediction','label'])\n",
    "metrics = MulticlassMetrics(preds_and_labels.rdd.map(tuple))\n",
    "print(metrics.confusionMatrix().toArray())"
   ]
  },
  {
   "cell_type": "markdown",
   "metadata": {},
   "source": [
    "2) Logistic regression base classifier"
   ]
  },
  {
   "cell_type": "code",
   "execution_count": 137,
   "metadata": {},
   "outputs": [
    {
     "name": "stdout",
     "output_type": "stream",
     "text": [
      "+----------+-----+\n",
      "|prediction|count|\n",
      "+----------+-----+\n",
      "|       0.0|   90|\n",
      "|       1.0|   88|\n",
      "|       2.0|   58|\n",
      "+----------+-----+\n",
      "\n"
     ]
    }
   ],
   "source": [
    "predDF_ovr_lr.groupBy(\"prediction\") \\\n",
    "      .count() \\\n",
    "      .sort(\"count\", ascending = False) \\\n",
    "      .show()"
   ]
  },
  {
   "cell_type": "code",
   "execution_count": 138,
   "metadata": {},
   "outputs": [
    {
     "name": "stdout",
     "output_type": "stream",
     "text": [
      "Accuracy: 0.4110169491525424\n",
      "F1-Score: 0.49433411027004415\n",
      "Weighted Recall: 0.4110169491525424\n",
      "Weighted Precision: 0.7508879708835875\n"
     ]
    }
   ],
   "source": [
    "# Performance metrics (with hyperparameters tuning)\n",
    "mcEvaluatorAcc = MulticlassClassificationEvaluator(metricName = \"accuracy\")\n",
    "print(f\"Accuracy: {mcEvaluatorAcc.evaluate(predDF_ovr_lr)}\")\n",
    "mcEvaluatorF1 = MulticlassClassificationEvaluator(metricName = \"f1\")\n",
    "print(f\"F1-Score: {mcEvaluatorF1.evaluate(predDF_ovr_lr)}\")\n",
    "mcEvaluatorWR = MulticlassClassificationEvaluator(metricName = \"weightedRecall\")\n",
    "print(f\"Weighted Recall: {mcEvaluatorWR.evaluate(predDF_ovr_lr)}\")\n",
    "mcEvaluatorWP = MulticlassClassificationEvaluator(metricName = \"weightedPrecision\")\n",
    "print(f\"Weighted Precision: {mcEvaluatorWP.evaluate(predDF_ovr_lr)}\")"
   ]
  },
  {
   "cell_type": "code",
   "execution_count": 139,
   "metadata": {},
   "outputs": [
    {
     "name": "stdout",
     "output_type": "stream",
     "text": [
      "[[77. 79. 42.]\n",
      " [ 4.  5.  1.]\n",
      " [ 9.  4. 15.]]\n"
     ]
    }
   ],
   "source": [
    "preds_and_labels = predDF_ovr_lr.select(['prediction','mistriage']).withColumn('label', F.col('mistriage').cast(FloatType())).orderBy('prediction')\n",
    "preds_and_labels = preds_and_labels.select(['prediction','label'])\n",
    "metrics = MulticlassMetrics(preds_and_labels.rdd.map(tuple))\n",
    "print(metrics.confusionMatrix().toArray())"
   ]
  }
 ],
 "metadata": {
  "kernelspec": {
   "display_name": "DS 5110 Spark 3.1",
   "language": "python",
   "name": "ds5110_spark3.1"
  },
  "language_info": {
   "codemirror_mode": {
    "name": "ipython",
    "version": 3
   },
   "file_extension": ".py",
   "mimetype": "text/x-python",
   "name": "python",
   "nbconvert_exporter": "python",
   "pygments_lexer": "ipython3",
   "version": "3.7.10"
  }
 },
 "nbformat": 4,
 "nbformat_minor": 4
}
